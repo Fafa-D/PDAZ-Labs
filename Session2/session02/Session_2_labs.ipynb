{
 "cells": [
  {
   "cell_type": "markdown",
   "metadata": {},
   "source": [
    "# Session 7 Labs \n",
    "\n",
    "Section 1: Conditionals, loops, and functions \\\n",
    "Section 2: .csv files \\\n",
    "Section 3: Web scraping\n",
    "\n",
    "\n"
   ]
  },
  {
   "cell_type": "markdown",
   "metadata": {},
   "source": [
    "## Section 1: Conditionals, loops, and functions\n",
    "\n",
    "If you feel that you are already comfortable with these concepts, feel free to skip this section and move on to section 2\n",
    "\n",
    "<ins>Resources</ins>:\\\n",
    "Conditional statements: https://www.w3schools.com/python/python_conditions.asp \\\n",
    "While loops: https://www.w3schools.com/python/python_while_loops.asp \\\n",
    "For loops: https://www.w3schools.com/python/python_for_loops.asp \\\n",
    "Functions: https://www.w3schools.com/python/python_functions.asp "
   ]
  },
  {
   "cell_type": "markdown",
   "metadata": {},
   "source": [
    "### Task 1\n",
    "\n",
    "Write a program that determines whether a value is:\n",
    "1.  A multiple of 7\n",
    "2.  A multiple of 5\n",
    "3.  A multiple of both 7 and 5\n",
    "4.  None of the above\n",
    "\n",
    "Print out an appropriate response for each option.\n"
   ]
  },
  {
   "cell_type": "code",
   "execution_count": 18,
   "metadata": {},
   "outputs": [
    {
     "name": "stdout",
     "output_type": "stream",
     "text": [
      "15 is a multiple of 5\n"
     ]
    }
   ],
   "source": [
    "#Complete task 1 in this box\n",
    "\n",
    "number = 15\n",
    "\n",
    "if number % 7 == 0 and number % 5 == 0:\n",
    "    print(f\"{number} is a multiple of 7 and 5\")\n",
    "elif number % 7 == 0:\n",
    "    print(f\"{number} is a multiple of 7\")\n",
    "elif number % 5 == 0:\n",
    "    print(f\"{number} is a multiple of 5\")\n",
    "else:\n",
    "    print(f\"{number} is not a multiple of 7 or 5\")"
   ]
  },
  {
   "cell_type": "markdown",
   "metadata": {},
   "source": [
    "### Task 2\n",
    "\n",
    "Using at least one loop, write a program that will print the following pattern:\n",
    "\n",
    "\n",
    "£ \\\n",
    "££ \\\n",
    "£££ \\\n",
    "££££ \\\n",
    "£££££ \\\n",
    "££££ \\\n",
    "£££ \\\n",
    "££ \\\n",
    "£ \n",
    "\n"
   ]
  },
  {
   "cell_type": "code",
   "execution_count": 30,
   "metadata": {},
   "outputs": [
    {
     "name": "stdout",
     "output_type": "stream",
     "text": [
      "£\n",
      "££\n",
      "£££\n",
      "££££\n",
      "£££££\n",
      "££££\n",
      "£££\n",
      "££\n",
      "£\n"
     ]
    }
   ],
   "source": [
    "#Complete task 2 in this box\n",
    "\n",
    "pounds = [\"£\", \"££\", \"£££\", \"££££\", \"£££££\"]\n",
    "\n",
    "for x in pounds:\n",
    "    print(x)\n",
    "for x in pounds[3::-1]:\n",
    "    print(x)\n"
   ]
  },
  {
   "cell_type": "code",
   "execution_count": 37,
   "metadata": {},
   "outputs": [
    {
     "name": "stdout",
     "output_type": "stream",
     "text": [
      "\n",
      "£\n",
      "££\n",
      "£££\n",
      "££££\n",
      "£££££\n"
     ]
    }
   ],
   "source": [
    "i = 0\n",
    "\n",
    "while i < 6:\n",
    "    print(\"£\"*i)\n",
    "    i += 1\n"
   ]
  },
  {
   "cell_type": "markdown",
   "metadata": {},
   "source": [
    "### Task 3\n",
    "\n",
    "Write a program that determines the largest numerical value in a list. You may use the example lists given or create your own.\n",
    "\n",
    "**Extension** : Turn this into a function that takes the list as an argument and returns the largest value."
   ]
  },
  {
   "cell_type": "code",
   "execution_count": 43,
   "metadata": {},
   "outputs": [
    {
     "name": "stdout",
     "output_type": "stream",
     "text": [
      "100\n"
     ]
    }
   ],
   "source": [
    "list1 = [3,45,6,19,100]\n",
    "list2 = [12,4,120,5,11,15,42]\n",
    "\n",
    "number = list1[0]\n",
    "\n",
    "for x in list1:\n",
    "    if x > number:\n",
    "        number = x\n",
    "\n",
    "print(number)                                    #the indentation of print affects the outcome\n",
    "\n"
   ]
  },
  {
   "cell_type": "code",
   "execution_count": 45,
   "metadata": {},
   "outputs": [
    {
     "name": "stdout",
     "output_type": "stream",
     "text": [
      "120\n"
     ]
    }
   ],
   "source": [
    "def largest_number(num_list):\n",
    "    number = num_list[0]\n",
    "\n",
    "    for x in num_list:\n",
    "        if x > number:\n",
    "            number = x\n",
    "    \n",
    "    return number\n",
    "\n",
    "print(largest_number([12,4,120,5,11,15,42]))\n"
   ]
  },
  {
   "cell_type": "markdown",
   "metadata": {},
   "source": [
    "### Task 4\n",
    "\n",
    "Write a function that return the next day of a given date. "
   ]
  },
  {
   "cell_type": "code",
   "execution_count": 79,
   "metadata": {},
   "outputs": [
    {
     "name": "stdout",
     "output_type": "stream",
     "text": [
      "1 1 1998\n",
      "None\n"
     ]
    }
   ],
   "source": [
    "\n",
    "def next_day(day, month, year):\n",
    "    \n",
    "    thirty_one_days = [1, 3, 5, 7, 8, 10, 12]\n",
    "\n",
    "    if day < 31 and month in thirty_one_days and month != 12:\n",
    "        day += 1\n",
    "    elif day == 31 and month in thirty_one_days and month != 12:\n",
    "        month += 1\n",
    "        day = 1\n",
    "    elif day == 28 and month == 2:\n",
    "        month += 1\n",
    "        day = 1\n",
    "    elif day == 31 and month == 12:\n",
    "        day = 1\n",
    "        month = 1\n",
    "        year += 1\n",
    "    print(day, month, year)\n",
    "\n",
    "print(next_day(31, 12, 1997))"
   ]
  },
  {
   "cell_type": "code",
   "execution_count": 89,
   "metadata": {},
   "outputs": [
    {
     "name": "stdout",
     "output_type": "stream",
     "text": [
      "(1, 7, 1997)\n"
     ]
    }
   ],
   "source": [
    "def next_day(day, month, year):\n",
    "    \n",
    "    thirty_one_days = [1, 3, 5, 7, 8, 10, 12]\n",
    "    thirty_days = [4, 6, 9, 11]\n",
    "\n",
    "    if day == 31 and month == 12:\n",
    "        day = 1\n",
    "        month = 1\n",
    "        year += 1\n",
    "    elif day == 28 and month == 2 and year % 4 == 0:\n",
    "        day += 1\n",
    "    elif day == 29 and month == 2 and year % 4 == 0:\n",
    "        day = 1\n",
    "        month+= 1\n",
    "    elif day == 28 and month == 2:\n",
    "        month += 1\n",
    "        day = 1\n",
    "    elif day < 28 and month == 2:\n",
    "        day+= 1\n",
    "    elif day < 30 and month in thirty_days:\n",
    "        day += 1\n",
    "    elif day == 30 and month in thirty_days:\n",
    "        month+= 1\n",
    "        day = 1\n",
    "    elif day < 31 and month in thirty_one_days:\n",
    "        day += 1\n",
    "    elif day == 31 and month in thirty_one_days:\n",
    "        month += 1\n",
    "        day = 1\n",
    "    elif day == 31 and month == 12:\n",
    "        day = 1\n",
    "        month = 1\n",
    "        year += 1\n",
    "    \n",
    "    new_date = day, month, year\n",
    "    return new_date\n",
    "\n",
    "print(next_day(30, 6, 1997))"
   ]
  },
  {
   "cell_type": "code",
   "execution_count": null,
   "metadata": {},
   "outputs": [],
   "source": []
  },
  {
   "cell_type": "markdown",
   "metadata": {},
   "source": [
    "## Section 2: .csv files\n",
    "\n",
    "<ins> Resources</ins>: \n",
    "\n",
    "Pandas: https://www.w3schools.com/python/pandas/pandas_getting_started.asp\n"
   ]
  },
  {
   "cell_type": "markdown",
   "metadata": {},
   "source": [
    "1. Choose a .cvs file to work with. There are two in the repo. The demo file from W3 schools contains data around exercise stats. There is also a file containing the collection of a US art gallery.\n",
    "\n",
    "2. See what data is in the file and think how you might want to view it\n",
    "\n",
    "3. Clean the data, info here: (https://www.w3schools.com/python/pandas/pandas_cleaning.asp), then save it to a different .csv file, info here: (https://www.programiz.com/python-programming/pandas/methods/to_csv)\n",
    "   \n",
    "4. Find interesting correlations in the data. Eg. pulse to calorie burn, year to dimensions. Info on this process here: (https://www.w3schools.com/python/pandas/pandas_correlations.asp)\n",
    "\n",
    "Optional : Once you’ve done this, find a new .cvs online and repeat the steps above. Museum exhibit list, sports stats (league tables ect… ) are fun. You can find a whole range to play with here: (https://www.kaggle.com/datasets?fileType=csv)"
   ]
  },
  {
   "cell_type": "code",
   "execution_count": 91,
   "metadata": {},
   "outputs": [
    {
     "name": "stdout",
     "output_type": "stream",
     "text": [
      "     Duration  Pulse  Maxpulse  Calories\n",
      "0          60    110       130     409.1\n",
      "1          60    117       145     479.0\n",
      "2          60    103       135     340.0\n",
      "3          45    109       175     282.4\n",
      "4          45    117       148     406.0\n",
      "5          60    102       127     300.0\n",
      "6          60    110       136     374.0\n",
      "7          45    104       134     253.3\n",
      "8          30    109       133     195.1\n",
      "9          60     98       124     269.0\n",
      "10         60    103       147     329.3\n",
      "11         60    100       120     250.7\n",
      "12         60    106       128     345.3\n",
      "13         60    104       132     379.3\n",
      "14         60     98       123     275.0\n",
      "15         60     98       120     215.2\n",
      "16         60    100       120     300.0\n",
      "18         60    103       123     323.0\n",
      "19         45     97       125     243.0\n",
      "20         60    108       131     364.2\n",
      "21         45    100       119     282.0\n",
      "22         60    130       101     300.0\n",
      "23         45    105       132     246.0\n",
      "24         60    102       126     334.5\n",
      "25         60    100       120     250.0\n",
      "26         60     92       118     241.0\n",
      "28         60    100       132     280.0\n",
      "29         60    102       129     380.3\n",
      "30         60     92       115     243.0\n",
      "31         45     90       112     180.1\n",
      "32         60    101       124     299.0\n",
      "33         60     93       113     223.0\n",
      "34         60    107       136     361.0\n",
      "35         60    114       140     415.0\n",
      "36         60    102       127     300.0\n",
      "37         60    100       120     300.0\n",
      "38         60    100       120     300.0\n",
      "39         45    104       129     266.0\n",
      "40         45     90       112     180.1\n",
      "41         60     98       126     286.0\n",
      "42         60    100       122     329.4\n",
      "43         60    111       138     400.0\n",
      "44         60    111       131     397.0\n",
      "45         60     99       119     273.0\n",
      "46         60    109       153     387.6\n",
      "47         45    111       136     300.0\n",
      "48         45    108       129     298.0\n",
      "49         60    111       139     397.6\n",
      "50         60    107       136     380.2\n",
      "51         80    123       146     643.1\n",
      "52         60    106       130     263.0\n",
      "53         60    118       151     486.0\n",
      "54         30    136       175     238.0\n",
      "55         60    121       146     450.7\n",
      "56         60    118       121     413.0\n",
      "57         45    115       144     305.0\n",
      "58         20    153       172     226.4\n",
      "59         45    123       152     321.0\n",
      "60        210    108       160    1376.0\n",
      "61        160    110       137    1034.4\n",
      "62        160    109       135     853.0\n",
      "63         45    118       141     341.0\n",
      "64         20    110       130     131.4\n",
      "65        180     90       130     800.4\n",
      "66        150    105       135     873.4\n",
      "67        150    107       130     816.0\n",
      "68         20    106       136     110.4\n",
      "69        300    108       143    1500.2\n",
      "70        150     97       129    1115.0\n",
      "71         60    109       153     387.6\n",
      "72         90    100       127     700.0\n",
      "73        150     97       127     953.2\n",
      "74         45    114       146     304.0\n",
      "75         90     98       125     563.2\n",
      "76         45    105       134     251.0\n",
      "77         45    110       141     300.0\n",
      "78        120    100       130     500.4\n",
      "79        270    100       131    1729.0\n",
      "80         30    159       182     319.2\n",
      "81         45    149       169     344.0\n",
      "82         30    103       139     151.1\n",
      "83        120    100       130     500.0\n",
      "84         45    100       120     225.3\n",
      "85         30    151       170     300.0\n",
      "86         45    102       136     234.0\n",
      "87        120    100       157    1000.1\n",
      "88         45    129       103     242.0\n",
      "89         20     83       107      50.3\n",
      "90        180    101       127     600.1\n",
      "92         30     90       107     105.3\n",
      "93         15     80       100      50.5\n",
      "94         20    150       171     127.4\n",
      "95         20    151       168     229.4\n",
      "96         30     95       128     128.2\n",
      "97         25    152       168     244.2\n",
      "98         30    109       131     188.2\n",
      "99         90     93       124     604.1\n",
      "100        20     95       112      77.7\n",
      "101        90     90       110     500.0\n",
      "102        90     90       100     500.0\n",
      "103        90     90       100     500.4\n",
      "104        30     92       108      92.7\n",
      "105        30     93       128     124.0\n",
      "106       180     90       120     800.3\n",
      "107        30     90       120      86.2\n",
      "108        90     90       120     500.3\n",
      "109       210    137       184    1860.4\n",
      "110        60    102       124     325.2\n",
      "111        45    107       124     275.0\n",
      "112        15    124       139     124.2\n",
      "113        45    100       120     225.3\n",
      "114        60    108       131     367.6\n",
      "115        60    108       151     351.7\n",
      "116        60    116       141     443.0\n",
      "117        60     97       122     277.4\n",
      "119        60    103       124     332.7\n",
      "120        30    112       137     193.9\n",
      "121        45    100       120     100.7\n",
      "122        60    119       169     336.7\n",
      "123        60    107       127     344.9\n",
      "124        60    111       151     368.5\n",
      "125        60     98       122     271.0\n",
      "126        60     97       124     275.3\n",
      "127        60    109       127     382.0\n",
      "128        90     99       125     466.4\n",
      "129        60    114       151     384.0\n",
      "130        60    104       134     342.5\n",
      "131        60    107       138     357.5\n",
      "132        60    103       133     335.0\n",
      "133        60    106       132     327.5\n",
      "134        60    103       136     339.0\n",
      "135        20    136       156     189.0\n",
      "136        45    117       143     317.7\n",
      "137        45    115       137     318.0\n",
      "138        45    113       138     308.0\n",
      "139        20    141       162     222.4\n",
      "140        60    108       135     390.0\n",
      "142        45    100       120     250.4\n",
      "143        45    122       149     335.4\n",
      "144        60    136       170     470.2\n",
      "145        45    106       126     270.8\n",
      "146        60    107       136     400.0\n",
      "147        60    112       146     361.9\n",
      "148        30    103       127     185.0\n",
      "149        60    110       150     409.4\n",
      "150        60    106       134     343.0\n",
      "151        60    109       129     353.2\n",
      "152        60    109       138     374.0\n",
      "153        30    150       167     275.8\n",
      "154        60    105       128     328.0\n",
      "155        60    111       151     368.5\n",
      "156        60     97       131     270.4\n",
      "157        60    100       120     270.4\n",
      "158        60    114       150     382.8\n",
      "159        30     80       120     240.9\n",
      "160        30     85       120     250.4\n",
      "161        45     90       130     260.4\n",
      "162        45     95       130     270.0\n",
      "163        45    100       140     280.9\n",
      "164        60    105       140     290.8\n",
      "165        60    110       145     300.0\n",
      "166        60    115       145     310.2\n",
      "167        75    120       150     320.4\n",
      "168        75    125       150     330.4\n"
     ]
    }
   ],
   "source": [
    "import pandas as pd\n",
    "\n",
    "df = pd.read_csv('data.csv')               #read the data\n",
    "\n",
    "new_df = df.dropna()                       #create a new data frame without the rows that have empty cells\n",
    "\n",
    "print(new_df.to_string())                  #print this data set \n",
    "\n",
    "df.to_csv('clean_data.csv')                #save the clean DataFrame to a new file        \n",
    "\n"
   ]
  },
  {
   "cell_type": "code",
   "execution_count": 90,
   "metadata": {},
   "outputs": [
    {
     "name": "stdout",
     "output_type": "stream",
     "text": [
      "            Unnamed: 0  Duration     Pulse  Maxpulse  Calories\n",
      "Unnamed: 0    1.000000 -0.060423  0.080199  0.143536 -0.044701\n",
      "Duration     -0.060423  1.000000 -0.155408  0.009403  0.922717\n",
      "Pulse         0.080199 -0.155408  1.000000  0.786535  0.025121\n",
      "Maxpulse      0.143536  0.009403  0.786535  1.000000  0.203813\n",
      "Calories     -0.044701  0.922717  0.025121  0.203813  1.000000\n"
     ]
    }
   ],
   "source": [
    "import pandas as pd\n",
    "\n",
    "df = pd.read_csv('clean_data.csv')    #read the data\n",
    "\n",
    "print(df.corr())                      #calculate the relationship between each column in the data set and print"
   ]
  },
  {
   "cell_type": "code",
   "execution_count": null,
   "metadata": {},
   "outputs": [],
   "source": []
  },
  {
   "cell_type": "markdown",
   "metadata": {},
   "source": [
    "## Section 3: Web scraping\n",
    "\n",
    "<ins>Resources: </ins>\n",
    "\n",
    "BeautifulSoup tutorial: https://www.tutorialspoint.com/beautiful_soup/index.htm \\\n",
    "BeautifulSoup documentation: https://www.crummy.com/software/BeautifulSoup/bs4/doc/#find\n",
    "\n"
   ]
  },
  {
   "cell_type": "markdown",
   "metadata": {},
   "source": [
    "### Task 1"
   ]
  },
  {
   "cell_type": "markdown",
   "metadata": {},
   "source": [
    "1. Go through the example notebook 1, reading and running each code block. Make sure that you understand what each part is doing.\n",
    "2. Choose a new wiki page and run the code to scrape data from the tables on that page\n",
    "3.  Save as a .csv\n",
    "4.  Use pandas to clean the data (if needed) and try find some interesting correlations"
   ]
  },
  {
   "cell_type": "code",
   "execution_count": null,
   "metadata": {},
   "outputs": [],
   "source": []
  },
  {
   "cell_type": "markdown",
   "metadata": {},
   "source": [
    "### Task 2"
   ]
  },
  {
   "cell_type": "markdown",
   "metadata": {},
   "source": [
    "1. Go through the example notebook 2 for image scraping, reading and running each code block. Make sure that you understand what each part is doing.\n",
    "2. Choose a different webpage and scrape the images (NOTE: make sure that you choose a website that allows scraping)"
   ]
  },
  {
   "cell_type": "code",
   "execution_count": null,
   "metadata": {},
   "outputs": [],
   "source": []
  }
 ],
 "metadata": {
  "kernelspec": {
   "display_name": "Python 3",
   "language": "python",
   "name": "python3"
  },
  "language_info": {
   "codemirror_mode": {
    "name": "ipython",
    "version": 3
   },
   "file_extension": ".py",
   "mimetype": "text/x-python",
   "name": "python",
   "nbconvert_exporter": "python",
   "pygments_lexer": "ipython3",
   "version": "3.11.9"
  }
 },
 "nbformat": 4,
 "nbformat_minor": 2
}
