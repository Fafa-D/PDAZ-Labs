{
  "cells": [
    {
      "cell_type": "code",
      "execution_count": 1,
      "metadata": {
        "id": "Ljk5x0S8avDL"
      },
      "outputs": [],
      "source": [
        "#import required libraries\n",
        "\n",
        "# full imports go first\n",
        "import os # os is a built-in Python library for interacting with the operating system\n",
        "import requests # requests is a library for managing requests\n",
        "\n",
        "# partial imports go below\n",
        "from bs4 import BeautifulSoup # add to requirements.txt: beautifulsoup4\n",
        "from PIL import Image # add to requirements.txt: pillow"
      ]
    },
    {
      "cell_type": "code",
      "execution_count": null,
      "metadata": {
        "id": "BUIm9y1javDN"
      },
      "outputs": [],
      "source": [
        "### GETTING ALL IMAGES FROM A PAGE"
      ]
    },
    {
      "cell_type": "code",
      "execution_count": 40,
      "metadata": {
        "id": "GYdfgAx2avDN"
      },
      "outputs": [],
      "source": [
        "URL = \"https://en.wikipedia.org/wiki/Narwhal\"\n",
        "response = requests.get(URL)\n",
        "bs_html = BeautifulSoup(response.text, \"html.parser\")"
      ]
    },
    {
      "cell_type": "code",
      "execution_count": null,
      "metadata": {
        "id": "lbiyizOtavDO"
      },
      "outputs": [],
      "source": [
        "# preview the html contents\n",
        "print(bs_html.prettify())"
      ]
    },
    {
      "cell_type": "code",
      "execution_count": 5,
      "metadata": {
        "id": "oguc2q02avDO"
      },
      "outputs": [],
      "source": [
        "#finds all the\n",
        "image_tags = bs_html.find_all('img')"
      ]
    },
    {
      "cell_type": "code",
      "execution_count": 6,
      "metadata": {
        "id": "wYphcE2EavDO"
      },
      "outputs": [],
      "source": [
        "accepted_image_types = ['jpg', 'jpeg', 'png', 'bmp', 'webp', 'svg']"
      ]
    },
    {
      "cell_type": "code",
      "execution_count": 42,
      "metadata": {
        "id": "gZzeGRSeavDP"
      },
      "outputs": [],
      "source": [
        "file_types = []\n",
        "\n",
        "# get the source 'src' of the image and split it to only leave the file type\n",
        "for img_tag in image_tags:\n",
        "  file_types.append(str(img_tag.get('src').split('.')[-1]))\n",
        "\n",
        "\n",
        "present_file_types = set(file_types)\n",
        "# sets do not allow duplicates meaning we will be left with one of each file type present"
      ]
    },
    {
      "cell_type": "code",
      "execution_count": null,
      "metadata": {
        "colab": {
          "base_uri": "https://localhost:8080/"
        },
        "id": "QDDbbZL-avDP",
        "outputId": "edb29748-0cc1-4f3a-d796-b3254d2c7b4a"
      },
      "outputs": [],
      "source": [
        "# what image types can we find on this page? Please note there may be some obsolete data in here\n",
        "present_file_types"
      ]
    },
    {
      "cell_type": "code",
      "execution_count": null,
      "metadata": {
        "id": "OTFpp0mtavDP"
      },
      "outputs": [],
      "source": [
        "image_tags"
      ]
    },
    {
      "cell_type": "code",
      "execution_count": null,
      "metadata": {
        "colab": {
          "base_uri": "https://localhost:8080/"
        },
        "id": "LWvtSSjXavDP",
        "outputId": "0166ddd5-973d-48c7-9360-b97b8d7e0b5c"
      },
      "outputs": [],
      "source": [
        "# how many tags?\n",
        "len(image_tags)"
      ]
    },
    {
      "cell_type": "code",
      "execution_count": 11,
      "metadata": {
        "id": "fDVSyW8uavDQ"
      },
      "outputs": [],
      "source": [
        "# extract the image URLs from the tags\n",
        "# create an empty list\n",
        "img_urls = []\n",
        "\n",
        "for img_tag in image_tags:\n",
        "\n",
        "    # if the tag has the 'src' property\n",
        "    if img_tag.get('src'):\n",
        "\n",
        "        # extract it\n",
        "        img_src = img_tag.get('src')\n",
        "\n",
        "        # get the image type (it's the last bit of text after the '.')\n",
        "        img_type = img_src.split('.')[-1]\n",
        "\n",
        "        # skip further steps in the loop for the current image if not in the accepted types\n",
        "        if img_type.lower() in accepted_image_types and img_src.startswith('//upload'):\n",
        "            img_urls.append(f'https:{img_src}')"
      ]
    },
    {
      "cell_type": "code",
      "execution_count": null,
      "metadata": {
        "colab": {
          "base_uri": "https://localhost:8080/",
          "height": 53
        },
        "id": "GFvZq5VaavDQ",
        "outputId": "6ff50f01-90a9-4e0f-d719-5b335a50aa9c"
      },
      "outputs": [],
      "source": [
        "image_tags[5].get('src')"
      ]
    },
    {
      "cell_type": "code",
      "execution_count": null,
      "metadata": {
        "id": "hIm22YXUavDQ"
      },
      "outputs": [],
      "source": [
        "# how many URLs did we get?\n",
        "len(img_urls)"
      ]
    },
    {
      "cell_type": "code",
      "execution_count": null,
      "metadata": {
        "id": "61eM070davDQ"
      },
      "outputs": [],
      "source": [
        "# if you preview, quite a lot of them are duplicated\n",
        "img_urls"
      ]
    },
    {
      "cell_type": "code",
      "execution_count": null,
      "metadata": {
        "colab": {
          "base_uri": "https://localhost:8080/"
        },
        "id": "X9Haf5FNavDQ",
        "outputId": "c3d47064-7457-4f10-a97b-9260277a4f8f"
      },
      "outputs": [],
      "source": [
        "# how many unique?\n",
        "unique_urls = set(img_urls)\n",
        "len(unique_urls)"
      ]
    },
    {
      "cell_type": "code",
      "execution_count": null,
      "metadata": {
        "colab": {
          "base_uri": "https://localhost:8080/"
        },
        "id": "4131xZ2JavDQ",
        "outputId": "2afdc2ce-6e36-48e9-abbe-3a91705a8929"
      },
      "outputs": [],
      "source": [
        "# name of the folder where we want to sve the images. CAPITALS suggest it's a constant\n",
        "IMAGES_DIRECTORY = \"scraped_images\"\n",
        "\n",
        "current_dirs = os.listdir() # this function lists all the contents of the current folder (where the notebook is)\n",
        "current_dirs"
      ]
    },
    {
      "cell_type": "code",
      "execution_count": 18,
      "metadata": {
        "id": "krX334paavDQ"
      },
      "outputs": [],
      "source": [
        "# if the folder where we want to save the images is not already there, create it\n",
        "if IMAGES_DIRECTORY not in current_dirs:\n",
        "    os.mkdir(IMAGES_DIRECTORY)  # this directory will be created in the same location where your notebook is"
      ]
    },
    {
      "cell_type": "code",
      "execution_count": 19,
      "metadata": {
        "id": "JVzDiVrWavDQ"
      },
      "outputs": [],
      "source": [
        "errors = []\n",
        "\n",
        "requests.adapters.DEFAULT_RETRIES = 10\n",
        "\n",
        "# the \"enumerate\" function allows for iteration while also supplying an index for each item\n",
        "for img_index, img_url in enumerate(unique_urls):\n",
        "\n",
        "    # get the data from the image url\n",
        "    resp = requests.get(img_url, stream=True)\n",
        "\n",
        "    # if the request is not completed\n",
        "    if resp.status_code != 200:\n",
        "        # add the image url to the errors list\n",
        "        errors.append(img_url)\n",
        "\n",
        "    # otherwise, proceed\n",
        "    else:\n",
        "        # create a PIL.Image object\n",
        "        obj_img = Image.open(resp.raw)\n",
        "        # get the file extension from the url\n",
        "        img_type = img_url.split('.')[-1]\n",
        "        # save the image in its origial extension\n",
        "        obj_img.save(f'./{IMAGES_DIRECTORY}/img_{img_index}.{img_type}')"
      ]
    },
    {
      "cell_type": "code",
      "execution_count": null,
      "metadata": {
        "colab": {
          "base_uri": "https://localhost:8080/"
        },
        "id": "1ZGqBbJCavDR",
        "outputId": "05d2eaaa-291a-4ea5-ccfb-1d1d70c064d9"
      },
      "outputs": [],
      "source": [
        "# how many errors?\n",
        "len(errors)"
      ]
    },
    {
      "cell_type": "code",
      "execution_count": null,
      "metadata": {
        "colab": {
          "base_uri": "https://localhost:8080/",
          "height": 70
        },
        "id": "zC8LJzqtavDR",
        "outputId": "9bda443a-43a5-44f4-ab5a-9dbcedaa3528"
      },
      "outputs": [],
      "source": [
        "# let's see what's happened here!\n",
        "errors[0]"
      ]
    },
    {
      "cell_type": "code",
      "execution_count": 22,
      "metadata": {
        "id": "nhlvucrxavDR"
      },
      "outputs": [],
      "source": [
        "resp = requests.get(errors[0], stream=True)"
      ]
    },
    {
      "cell_type": "code",
      "execution_count": null,
      "metadata": {
        "colab": {
          "base_uri": "https://localhost:8080/"
        },
        "id": "lB9b9qKDavDR",
        "outputId": "bd4812ce-9c6d-4817-8dd8-2305509ae9e4"
      },
      "outputs": [],
      "source": [
        "resp.status_code # 403 is the status code for \"Permission denied\""
      ]
    }
  ],
  "metadata": {
    "colab": {
      "provenance": []
    },
    "kernelspec": {
      "display_name": "Python 3 (ipykernel)",
      "language": "python",
      "name": "python3"
    },
    "language_info": {
      "codemirror_mode": {
        "name": "ipython",
        "version": 3
      },
      "file_extension": ".py",
      "mimetype": "text/x-python",
      "name": "python",
      "nbconvert_exporter": "python",
      "pygments_lexer": "ipython3",
      "version": "3.11.9"
    }
  },
  "nbformat": 4,
  "nbformat_minor": 0
}
