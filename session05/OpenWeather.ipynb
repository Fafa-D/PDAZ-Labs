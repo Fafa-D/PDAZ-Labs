{
 "cells": [
  {
   "cell_type": "code",
   "execution_count": 1,
   "metadata": {},
   "outputs": [],
   "source": [
    "#importing required libraries\n",
    "\n",
    "import requests\n",
    "import pandas as pd\n",
    "import matplotlib.pyplot as plt"
   ]
  },
  {
   "cell_type": "code",
   "execution_count": 8,
   "metadata": {},
   "outputs": [
    {
     "name": "stdout",
     "output_type": "stream",
     "text": [
      "{'coord': {'lon': 139.6917, 'lat': 35.6895}, 'weather': [{'id': 800, 'main': 'Clear', 'description': 'clear sky', 'icon': '01n'}], 'base': 'stations', 'main': {'temp': 3.35, 'feels_like': -0.52, 'temp_min': 0.99, 'temp_max': 4.24, 'pressure': 1025, 'humidity': 43, 'sea_level': 1025, 'grnd_level': 1023}, 'visibility': 10000, 'wind': {'speed': 4.6, 'deg': 2, 'gust': 6.4}, 'clouds': {'all': 3}, 'dt': 1739285387, 'sys': {'type': 2, 'id': 268395, 'country': 'JP', 'sunrise': 1739223169, 'sunset': 1739261897}, 'timezone': 32400, 'id': 1850144, 'name': 'Tokyo', 'cod': 200}\n"
     ]
    }
   ],
   "source": [
    "\n",
    "import requests\n",
    "import pandas as pd\n",
    "import matplotlib.pyplot as plt\n",
    "\n",
    "API_KEY = \"9c87028d41c0fa671a0ad814c5e1eb20\"\n",
    "CITY_NAME = \"Tokyo\"\n",
    "\n",
    "# Construct request URL\n",
    "url = f\"https://api.openweathermap.org/data/2.5/weather?q={CITY_NAME}&appid={API_KEY}&units=metric\"\n",
    "\n",
    "# Make API request\n",
    "response = requests.get(url)\n",
    "data = response.json()\n",
    "\n",
    "# Print the response\n",
    "print(data)"
   ]
  },
  {
   "cell_type": "code",
   "execution_count": null,
   "metadata": {},
   "outputs": [
    {
     "name": "stdout",
     "output_type": "stream",
     "text": [
      "City: Tokyo\n",
      "Temperature: 3.35°C\n",
      "Humidity: 44%\n",
      "Weather: clear sky\n"
     ]
    }
   ],
   "source": [
    "import requests\n",
    "import pandas as pd\n",
    "import matplotlib.pyplot as plt\n",
    "\n",
    "API_KEY = \"9c87028d41c0fa671a0ad814c5e1eb20\"\n",
    "CITY_NAME = \"Tokyo\"\n",
    "\n",
    "# Construct request URL\n",
    "url = f\"https://api.openweathermap.org/data/2.5/weather?q={CITY_NAME}&appid={API_KEY}&units=metric\"\n",
    "\n",
    "# Make API request\n",
    "response = requests.get(url)\n",
    "data = response.json()\n",
    "\n",
    "#get and print specific data by indexing the data\n",
    "\n",
    "if \"main\" in data:                                               \n",
    "    city = data[\"name\"]                                                             #indexing dictiory keys\n",
    "    temp = data[\"main\"][\"temp\"]\n",
    "    humidity = data[\"main\"][\"humidity\"]\n",
    "    weather = data[\"weather\"][0][\"description\"]\n",
    "    \n",
    "    print(f\"City: {city}\\nTemperature: {temp}°C\\nHumidity: {humidity}%\\nWeather: {weather}\")                 #print f string with lines separating\n",
    "else:\n",
    "    print(\"Error fetching weather data.\")"
   ]
  },
  {
   "cell_type": "code",
   "execution_count": null,
   "metadata": {},
   "outputs": [
    {
     "name": "stdout",
     "output_type": "stream",
     "text": [
      "    City  Temperature (°C)  Humidity (%) Weather Description\n",
      "0  Tokyo              3.35            44           clear sky\n"
     ]
    }
   ],
   "source": [
    "import requests\n",
    "import pandas as pd\n",
    "import matplotlib.pyplot as plt\n",
    "\n",
    "API_KEY = \"9c87028d41c0fa671a0ad814c5e1eb20\"\n",
    "CITY_NAME = \"Tokyo\"\n",
    "\n",
    "# Construct request URL\n",
    "url = f\"https://api.openweathermap.org/data/2.5/weather?q={CITY_NAME}&appid={API_KEY}&units=metric\"\n",
    "\n",
    "# Make API request\n",
    "response = requests.get(url)\n",
    "data = response.json()\n",
    "\n",
    "#create a structured table of the data\n",
    "\n",
    "data_dict = {\n",
    "    \"City\": [city],\n",
    "    \"Temperature (°C)\": [temp],\n",
    "    \"Humidity (%)\": [humidity],\n",
    "    \"Weather Description\": [weather]\n",
    "}\n",
    "\n",
    "weather_df = pd.DataFrame(data_dict)\n",
    "print(weather_df)"
   ]
  },
  {
   "cell_type": "code",
   "execution_count": null,
   "metadata": {},
   "outputs": [
    {
     "name": "stdout",
     "output_type": "stream",
     "text": [
      "Data saved to weather_data.csv\n"
     ]
    }
   ],
   "source": [
    "import requests\n",
    "import pandas as pd\n",
    "import matplotlib.pyplot as plt\n",
    "\n",
    "API_KEY = \"9c87028d41c0fa671a0ad814c5e1eb20\"\n",
    "CITY_NAME = \"Tokyo\"\n",
    "\n",
    "# Construct request URL\n",
    "url = f\"https://api.openweathermap.org/data/2.5/weather?q={CITY_NAME}&appid={API_KEY}&units=metric\"\n",
    "\n",
    "# Make API request\n",
    "response = requests.get(url)\n",
    "data = response.json()\n",
    "\n",
    "#create a structured table of the data\n",
    "data_dict = {\n",
    "    \"City\": [city],\n",
    "    \"Temperature (°C)\": [temp],\n",
    "    \"Humidity (%)\": [humidity],\n",
    "    \"Weather Description\": [weather]\n",
    "}\n",
    "\n",
    "weather_df = pd.DataFrame(data_dict)\n",
    "\n",
    "#save the data table to a new file\n",
    "weather_df.to_csv(\"weather_data.csv\", index=False)\n",
    "print(\"Data saved to weather_data.csv\")"
   ]
  },
  {
   "cell_type": "code",
   "execution_count": 15,
   "metadata": {},
   "outputs": [
    {
     "data": {
      "image/png": "[encoded data removed]",
      "text/plain": [
       "<Figure size 600x400 with 1 Axes>"
      ]
     },
     "metadata": {},
     "output_type": "display_data"
    }
   ],
   "source": [
    "import requests\n",
    "import pandas as pd\n",
    "import matplotlib.pyplot as plt\n",
    "\n",
    "API_KEY = \"9c87028d41c0fa671a0ad814c5e1eb20\"\n",
    "CITY_NAME = \"Tokyo\"\n",
    "\n",
    "# Construct request URL\n",
    "url = f\"https://api.openweathermap.org/data/2.5/weather?q={CITY_NAME}&appid={API_KEY}&units=metric\"\n",
    "\n",
    "# Make API request\n",
    "response = requests.get(url)\n",
    "data = response.json()\n",
    "\n",
    "#plot a graph of the weather in Tokyo\n",
    "\n",
    "plt.figure(figsize=(6,4))\n",
    "plt.bar(weather_df[\"City\"], weather_df[\"Temperature (°C)\"], color='skyblue')\n",
    "plt.xlabel(\"City\")\n",
    "plt.ylabel(\"Temperature (°C)\")\n",
    "plt.title(\"Current Temperature\")\n",
    "plt.show()"
   ]
  },
  {
   "cell_type": "code",
   "execution_count": 20,
   "metadata": {},
   "outputs": [
    {
     "name": "stdout",
     "output_type": "stream",
     "text": [
      "       City  Temperature (°C)  Humidity (%) Weather Description\n",
      "0    London              4.27            88     overcast clouds\n",
      "1  New York             -0.24            50           clear sky\n",
      "2     Paris              6.32            73     overcast clouds\n",
      "3     Tokyo              3.04            45           clear sky\n",
      "4    Sydney             19.88            86       broken clouds\n"
     ]
    }
   ],
   "source": [
    "import requests\n",
    "import pandas as pd\n",
    "import matplotlib.pyplot as plt\n",
    "\n",
    "#Add my API key from OpenWeather\n",
    "API_KEY = \"9c87028d41c0fa671a0ad814c5e1eb20\"\n",
    "\n",
    "#Make list of cities\n",
    "cities = [\"London\", \"New York\", \"Paris\", \"Tokyo\", \"Sydney\"]\n",
    "weather_data = []\n",
    "\n",
    "#iterate through list of cities, get the data of each city using my API key\n",
    "for city in cities:\n",
    "    url = f\"https://api.openweathermap.org/data/2.5/weather?q={city}&appid={API_KEY}&units=metric\"\n",
    "    response = requests.get(url)\n",
    "    data = response.json()\n",
    "    \n",
    "    #populate the weather data list - creates a list of dictionaries with the data\n",
    "    if \"main\" in data:\n",
    "        weather_data.append({\n",
    "            \"City\": city,\n",
    "            \"Temperature (°C)\": data[\"main\"][\"temp\"],\n",
    "            \"Humidity (%)\": data[\"main\"][\"humidity\"],\n",
    "            \"Weather Description\": data[\"weather\"][0][\"description\"]\n",
    "        })\n",
    "\n",
    "# Convert to DataFrame\n",
    "multi_city_df = pd.DataFrame(weather_data)\n",
    "print(multi_city_df)"
   ]
  },
  {
   "cell_type": "code",
   "execution_count": null,
   "metadata": {},
   "outputs": [
    {
     "data": {
      "image/png": "[encoded data removed]",
      "text/plain": [
       "<Figure size 800x500 with 1 Axes>"
      ]
     },
     "metadata": {},
     "output_type": "display_data"
    }
   ],
   "source": [
    "import requests\n",
    "import pandas as pd\n",
    "import matplotlib.pyplot as plt\n",
    "\n",
    "#Add my API key from OpenWeather\n",
    "API_KEY = \"9c87028d41c0fa671a0ad814c5e1eb20\"\n",
    "\n",
    "#Make list of cities\n",
    "cities = [\"London\", \"New York\", \"Paris\", \"Tokyo\", \"Sydney\"]\n",
    "weather_data = []\n",
    "\n",
    "#iterate through list of cities, get the data of each city using my API key\n",
    "for city in cities:\n",
    "    url = f\"https://api.openweathermap.org/data/2.5/weather?q={city}&appid={API_KEY}&units=metric\"\n",
    "    response = requests.get(url)\n",
    "    data = response.json()\n",
    "    \n",
    "    #populate the weather data list - creates a list of dictionaries with the data\n",
    "    if \"main\" in data:\n",
    "        weather_data.append({\n",
    "            \"City\": city,\n",
    "            \"Temperature (°C)\": data[\"main\"][\"temp\"],\n",
    "            \"Humidity (%)\": data[\"main\"][\"humidity\"],\n",
    "            \"Weather Description\": data[\"weather\"][0][\"description\"]\n",
    "        })\n",
    "\n",
    "\n",
    "#plotting the bars\n",
    "#making list of colours to plot the bars, could also put the list directly in the variable\n",
    "colours = ['midnightblue', 'darkblue', 'mediumblue', 'blue', 'royalblue']   \n",
    "\n",
    "plt.figure(figsize=(8,5))\n",
    "plt.bar(multi_city_df[\"City\"], multi_city_df[\"Temperature (°C)\"], color=colours)\n",
    "plt.xlabel(\"City\")\n",
    "plt.ylabel(\"Temperature (°C)\")\n",
    "plt.title(\"Weather Comparison Across Cities\")\n",
    "plt.show()"
   ]
  }
 ],
 "metadata": {
  "kernelspec": {
   "display_name": "Python 3",
   "language": "python",
   "name": "python3"
  },
  "language_info": {
   "codemirror_mode": {
    "name": "ipython",
    "version": 3
   },
   "file_extension": ".py",
   "mimetype": "text/x-python",
   "name": "python",
   "nbconvert_exporter": "python",
   "pygments_lexer": "ipython3",
   "version": "3.11.9"
  }
 },
 "nbformat": 4,
 "nbformat_minor": 2
}
