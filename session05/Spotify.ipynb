{
 "cells": [
  {
   "cell_type": "code",
   "execution_count": 1,
   "metadata": {},
   "outputs": [],
   "source": [
    "#import the necessary libraries\n",
    "import spotipy\n",
    "from spotipy.oauth2 import SpotifyClientCredentials\n",
    "import pandas as pd\n",
    "import matplotlib.pyplot as plt"
   ]
  },
  {
   "cell_type": "code",
   "execution_count": 17,
   "metadata": {},
   "outputs": [],
   "source": [
    "#import the necessary libraries\n",
    "import spotipy\n",
    "from spotipy.oauth2 import SpotifyClientCredentials\n",
    "import pandas as pd\n",
    "import matplotlib.pyplot as plt\n",
    "\n",
    "SPOTIPY_CLIENT_ID = \"4989571fddd74e60ab2a52e2244b70f3\"\n",
    "SPOTIPY_CLIENT_SECRET = \"83bbadbcc14545f6a8bf1438f9d67b5a\"\n",
    "\n",
    "# Set up authentication\n",
    "#Logs into Spotify’s API using your credentials.\n",
    "#Enables API requests to fetch song data.\n",
    "\n",
    "client_credentials_manager = SpotifyClientCredentials(client_id=SPOTIPY_CLIENT_ID,\n",
    "                                                      client_secret=SPOTIPY_CLIENT_SECRET)\n",
    "sp = spotipy.Spotify(client_credentials_manager=client_credentials_manager)"
   ]
  },
  {
   "cell_type": "code",
   "execution_count": 20,
   "metadata": {},
   "outputs": [],
   "source": [
    "\n",
    "\n",
    "artist_name = []\n",
    "track_name = []\n",
    "popularity = []\n",
    "track_id = []\n",
    "images = []\n",
    "\n",
    "for i in range(0, 1000, 50):\n",
    "    track_results = sp.search(q='year:2023', type='track', limit=50, offset=i)\n",
    "    for t in track_results['tracks']['items']:\n",
    "        artist_name.append(t['artists'][0]['name'])\n",
    "        track_name.append(t['name'])\n",
    "        track_id.append(t['id'])\n",
    "        popularity.append(t['popularity'])\n",
    "        images.append(t['album']['images'][0]['url'])"
   ]
  },
  {
   "cell_type": "code",
   "execution_count": 28,
   "metadata": {},
   "outputs": [
    {
     "data": {
      "text/html": [
       "<div>\n",
       "<style scoped>\n",
       "    .dataframe tbody tr th:only-of-type {\n",
       "        vertical-align: middle;\n",
       "    }\n",
       "\n",
       "    .dataframe tbody tr th {\n",
       "        vertical-align: top;\n",
       "    }\n",
       "\n",
       "    .dataframe thead th {\n",
       "        text-align: right;\n",
       "    }\n",
       "</style>\n",
       "<table border=\"1\" class=\"dataframe\">\n",
       "  <thead>\n",
       "    <tr style=\"text-align: right;\">\n",
       "      <th></th>\n",
       "      <th>Artist</th>\n",
       "      <th>Track</th>\n",
       "      <th>Track ID</th>\n",
       "      <th>Popularity</th>\n",
       "      <th>Image URL</th>\n",
       "    </tr>\n",
       "  </thead>\n",
       "  <tbody>\n",
       "    <tr>\n",
       "      <th>0</th>\n",
       "      <td>The Weeknd</td>\n",
       "      <td>One Of The Girls (with JENNIE, Lily Rose Depp)</td>\n",
       "      <td>7CyPwkp0oE8Ro9Dd5CUDjW</td>\n",
       "      <td>90</td>\n",
       "      <td>https://i.scdn.co/image/ab67616d0000b273b0dd6a...</td>\n",
       "    </tr>\n",
       "    <tr>\n",
       "      <th>1</th>\n",
       "      <td>Teddy Swims</td>\n",
       "      <td>Lose Control</td>\n",
       "      <td>17phhZDn6oGtzMe56NuWvj</td>\n",
       "      <td>89</td>\n",
       "      <td>https://i.scdn.co/image/ab67616d0000b2731a0323...</td>\n",
       "    </tr>\n",
       "    <tr>\n",
       "      <th>2</th>\n",
       "      <td>Feid</td>\n",
       "      <td>LUNA</td>\n",
       "      <td>7bywjHOc0wSjGGbj04XbVi</td>\n",
       "      <td>87</td>\n",
       "      <td>https://i.scdn.co/image/ab67616d0000b273f1aad8...</td>\n",
       "    </tr>\n",
       "    <tr>\n",
       "      <th>3</th>\n",
       "      <td>Don Toliver</td>\n",
       "      <td>No Pole</td>\n",
       "      <td>0eaVIYo2zeOaGJeqZ5TwYz</td>\n",
       "      <td>87</td>\n",
       "      <td>https://i.scdn.co/image/ab67616d0000b273f5e27c...</td>\n",
       "    </tr>\n",
       "    <tr>\n",
       "      <th>4</th>\n",
       "      <td>Mitski</td>\n",
       "      <td>My Love Mine All Mine</td>\n",
       "      <td>3vkCueOmm7xQDoJ17W1Pm3</td>\n",
       "      <td>86</td>\n",
       "      <td>https://i.scdn.co/image/ab67616d0000b27334f21d...</td>\n",
       "    </tr>\n",
       "    <tr>\n",
       "      <th>5</th>\n",
       "      <td>Miley Cyrus</td>\n",
       "      <td>Flowers</td>\n",
       "      <td>7DSAEUvxU8FajXtRloy8M0</td>\n",
       "      <td>86</td>\n",
       "      <td>https://i.scdn.co/image/ab67616d0000b273cd2220...</td>\n",
       "    </tr>\n",
       "    <tr>\n",
       "      <th>6</th>\n",
       "      <td>Chezile</td>\n",
       "      <td>Beanie</td>\n",
       "      <td>5e0b9LgOfi3aJSKXFcOWRe</td>\n",
       "      <td>86</td>\n",
       "      <td>https://i.scdn.co/image/ab67616d0000b273c16d7b...</td>\n",
       "    </tr>\n",
       "    <tr>\n",
       "      <th>7</th>\n",
       "      <td>The Kid LAROI</td>\n",
       "      <td>NIGHTS LIKE THIS</td>\n",
       "      <td>1XBYiRV30ykHw5f4wm6qEn</td>\n",
       "      <td>86</td>\n",
       "      <td>https://i.scdn.co/image/ab67616d0000b2732abb30...</td>\n",
       "    </tr>\n",
       "    <tr>\n",
       "      <th>8</th>\n",
       "      <td>Teddy Swims</td>\n",
       "      <td>The Door</td>\n",
       "      <td>3dj4wgM3cPeuLwMNHDuBon</td>\n",
       "      <td>86</td>\n",
       "      <td>https://i.scdn.co/image/ab67616d0000b2731a0323...</td>\n",
       "    </tr>\n",
       "    <tr>\n",
       "      <th>9</th>\n",
       "      <td>Travis Scott</td>\n",
       "      <td>FE!N (feat. Playboi Carti)</td>\n",
       "      <td>42VsgItocQwOQC3XWZ8JNA</td>\n",
       "      <td>86</td>\n",
       "      <td>https://i.scdn.co/image/ab67616d0000b273881d8d...</td>\n",
       "    </tr>\n",
       "  </tbody>\n",
       "</table>\n",
       "</div>"
      ],
      "text/plain": [
       "          Artist                                           Track  \\\n",
       "0     The Weeknd  One Of The Girls (with JENNIE, Lily Rose Depp)   \n",
       "1    Teddy Swims                                    Lose Control   \n",
       "2           Feid                                            LUNA   \n",
       "3    Don Toliver                                         No Pole   \n",
       "4         Mitski                           My Love Mine All Mine   \n",
       "5    Miley Cyrus                                         Flowers   \n",
       "6        Chezile                                          Beanie   \n",
       "7  The Kid LAROI                                NIGHTS LIKE THIS   \n",
       "8    Teddy Swims                                        The Door   \n",
       "9   Travis Scott                      FE!N (feat. Playboi Carti)   \n",
       "\n",
       "                 Track ID  Popularity  \\\n",
       "0  7CyPwkp0oE8Ro9Dd5CUDjW          90   \n",
       "1  17phhZDn6oGtzMe56NuWvj          89   \n",
       "2  7bywjHOc0wSjGGbj04XbVi          87   \n",
       "3  0eaVIYo2zeOaGJeqZ5TwYz          87   \n",
       "4  3vkCueOmm7xQDoJ17W1Pm3          86   \n",
       "5  7DSAEUvxU8FajXtRloy8M0          86   \n",
       "6  5e0b9LgOfi3aJSKXFcOWRe          86   \n",
       "7  1XBYiRV30ykHw5f4wm6qEn          86   \n",
       "8  3dj4wgM3cPeuLwMNHDuBon          86   \n",
       "9  42VsgItocQwOQC3XWZ8JNA          86   \n",
       "\n",
       "                                           Image URL  \n",
       "0  https://i.scdn.co/image/ab67616d0000b273b0dd6a...  \n",
       "1  https://i.scdn.co/image/ab67616d0000b2731a0323...  \n",
       "2  https://i.scdn.co/image/ab67616d0000b273f1aad8...  \n",
       "3  https://i.scdn.co/image/ab67616d0000b273f5e27c...  \n",
       "4  https://i.scdn.co/image/ab67616d0000b27334f21d...  \n",
       "5  https://i.scdn.co/image/ab67616d0000b273cd2220...  \n",
       "6  https://i.scdn.co/image/ab67616d0000b273c16d7b...  \n",
       "7  https://i.scdn.co/image/ab67616d0000b2732abb30...  \n",
       "8  https://i.scdn.co/image/ab67616d0000b2731a0323...  \n",
       "9  https://i.scdn.co/image/ab67616d0000b273881d8d...  "
      ]
     },
     "execution_count": 28,
     "metadata": {},
     "output_type": "execute_result"
    }
   ],
   "source": [
    "track_dataframe = pd.DataFrame({\n",
    "    'Artist': artist_name,\n",
    "    'Track': track_name,\n",
    "    'Track ID': track_id,\n",
    "    'Popularity': popularity,\n",
    "    'Image URL': images\n",
    "})\n",
    "\n",
    "# Sort by popularity (descending)\n",
    "df_sorted = track_dataframe.sort_values(by='Popularity', ascending=False).reset_index(drop=True)\n",
    "\n",
    "# Display the first 10 most popular tracks\n",
    "df_sorted.head(10)"
   ]
  },
  {
   "cell_type": "code",
   "execution_count": 26,
   "metadata": {},
   "outputs": [
    {
     "data": {
      "image/png": "[encoded data removed]",
      "text/plain": [
       "<Figure size 1200x600 with 1 Axes>"
      ]
     },
     "metadata": {},
     "output_type": "display_data"
    }
   ],
   "source": [
    "artist_counts = track_dataframe['Artist'].value_counts()\n",
    "most_successful_artists = artist_counts.head(10)\n",
    "\n",
    "# Plot the results\n",
    "plt.figure(figsize=(12,6))\n",
    "plt.bar(most_successful_artists.index, most_successful_artists.values, color='purple')\n",
    "plt.xlabel(\"Artist\")\n",
    "plt.ylabel(\"Number of Songs in Top 1000\")\n",
    "plt.title(\"Top Artists with Most Songs in Spotify's 2023 Top 1000\")\n",
    "plt.xticks(rotation=45)\n",
    "plt.show()"
   ]
  },
  {
   "cell_type": "code",
   "execution_count": null,
   "metadata": {},
   "outputs": [],
   "source": [
    "client_credentials_manager = SpotifyClientCredentials(client_id=SPOTIPY_CLIENT_ID,\n",
    "                                                      client_secret=SPOTIPY_CLIENT_SECRET)\n",
    "sp = spotipy.Spotify(client_credentials_manager=client_credentials_manager)\n",
    "\n",
    "most_popular_track = df_sorted.iloc[0]\n",
    "most_popular_track_id = most_popular_track['Track ID']\n",
    "\n",
    "# Get audio features\n",
    "track_audio_features = sp.audio_features(most_popular_track_id)[0]\n",
    "\n",
    "# Print key details\n",
    "print(f\"Danceability: {track_audio_features['danceability']}\")\n",
    "print(f\"Energy: {track_audio_features['energy']}\")\n",
    "print(f\"Speechiness: {track_audio_features['speechiness']}\")\n",
    "print(f\"Valence (Mood): {track_audio_features['valence']}\")"
   ]
  },
  {
   "cell_type": "code",
   "execution_count": null,
   "metadata": {},
   "outputs": [
    {
     "name": "stdout",
     "output_type": "stream",
     "text": [
      "Portraits (+ Remixes)\n",
      "Portraits\n",
      "Young Heart\n",
      "Beautiful Lies (Deluxe)\n",
      "Beautiful Lies\n",
      "Fire Within (Deluxe)\n",
      "Fire Within\n",
      "Fire Within\n",
      "Live in London\n",
      "Birdy\n"
     ]
    }
   ],
   "source": [
    "\n",
    "#example code from spotipy to get all albums of artist birdy\n",
    "\n",
    "birdy_uri = 'spotify:artist:2WX2uTcsvV5OnS0inACecP'\n",
    "\n",
    "\n",
    "results = sp.artist_albums(birdy_uri, album_type='album')\n",
    "albums = results['items']\n",
    "while results['next']:\n",
    "    results = sp.next(results)\n",
    "    albums.extend(results['items'])\n",
    "\n",
    "for album in albums:\n",
    "    print(album['name'])"
   ]
  },
  {
   "cell_type": "code",
   "execution_count": null,
   "metadata": {},
   "outputs": [
    {
     "name": "stdout",
     "output_type": "stream",
     "text": [
      "froge.mp3\n"
     ]
    }
   ],
   "source": [
    "#example code from spotipy to get all albums of artist piri and tommy\n",
    "\n",
    "#put the end of the artist url on their spotify webpage to get their artist ID, this is for piri and tommy\n",
    "\n",
    "pt_uri = 'spotify:artist:2U6J9Q89i1TNhesKreFD65'         \n",
    "\n",
    "results = sp.artist_albums(pt_uri, album_type='album')\n",
    "albums = results['items']\n",
    "while results['next']:\n",
    "    results = sp.next(results)\n",
    "    albums.extend(results['items'])\n",
    "\n",
    "for album in albums:\n",
    "    print(album['name'])"
   ]
  },
  {
   "cell_type": "code",
   "execution_count": null,
   "metadata": {},
   "outputs": [
    {
     "name": "stdout",
     "output_type": "stream",
     "text": [
      "Return of the Dream Canteen\n",
      "Unlimited Love\n",
      "The Getaway\n",
      "I'm with You\n",
      "Stadium Arcadium\n",
      "By the Way (Deluxe Edition)\n",
      "By the Way\n",
      "Californication (Deluxe Edition)\n",
      "Californication\n",
      "One Hot Minute (Deluxe Edition)\n",
      "One Hot Minute\n",
      "Blood Sugar Sex Magik (Deluxe Edition)\n",
      "Mother's Milk\n",
      "The Uplift Mofo Party Plan\n",
      "Freaky Styley\n",
      "Red Hot Chili Peppers\n"
     ]
    }
   ],
   "source": [
    "#example code from spotipy to get all albums of Red Hot Chili Peppers\n",
    "\n",
    "\n",
    "RHCP_uri = 'spotify:artist:0L8ExT028jH3ddEcZwqJJ5'         \n",
    "\n",
    "results = sp.artist_albums(RHCP_uri, album_type='album')\n",
    "albums = results['items']\n",
    "while results['next']:\n",
    "    results = sp.next(results)\n",
    "    albums.extend(results['items'])\n",
    "\n",
    "for album in albums:\n",
    "    print(album['name'])"
   ]
  },
  {
   "cell_type": "code",
   "execution_count": null,
   "metadata": {},
   "outputs": [],
   "source": []
  }
 ],
 "metadata": {
  "kernelspec": {
   "display_name": "Python 3",
   "language": "python",
   "name": "python3"
  },
  "language_info": {
   "codemirror_mode": {
    "name": "ipython",
    "version": 3
   },
   "file_extension": ".py",
   "mimetype": "text/x-python",
   "name": "python",
   "nbconvert_exporter": "python",
   "pygments_lexer": "ipython3",
   "version": "3.11.9"
  }
 },
 "nbformat": 4,
 "nbformat_minor": 2
}
