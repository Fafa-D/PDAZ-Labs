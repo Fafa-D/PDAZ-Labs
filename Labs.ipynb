{
 "cells": [
  {
   "cell_type": "code",
   "execution_count": 6,
   "metadata": {},
   "outputs": [
    {
     "name": "stdout",
     "output_type": "stream",
     "text": [
      "My name is Fafa. I live in LondonMy hobbies are sewing, book collecting and crocheting.\n"
     ]
    }
   ],
   "source": [
    "my_name = 'Fafa'\n",
    "city = 'London'\n",
    "hobbies = ['sewing', 'book collecting', 'crocheting']\n",
    "\n",
    "my_text = \"My name is \" + my_name + \". I live in \" + city + \"My hobbies are \" + hobbies[0] + \", \" + hobbies[1] + \" and \" + hobbies[2] + \".\"\n",
    "\n",
    "print(my_text)\n",
    "\n",
    "\n"
   ]
  },
  {
   "cell_type": "code",
   "execution_count": 7,
   "metadata": {},
   "outputs": [
    {
     "name": "stdout",
     "output_type": "stream",
     "text": [
      "My name is Fafa. I live in LondonMy hobbies are sewing, book collecting, gym and crocheting.\n"
     ]
    }
   ],
   "source": [
    "my_name = 'Fafa'\n",
    "city = 'London'\n",
    "hobbies = ['sewing', 'book collecting', 'gym', 'crocheting']\n",
    "\n",
    "my_text = \"My name is \" + my_name + \". I live in \" + city + \"My hobbies are \" + ', '.join(hobbies[0:-1])  + \" and \" + hobbies[-1] + \".\"\n",
    "\n",
    "print(my_text)"
   ]
  },
  {
   "cell_type": "code",
   "execution_count": 8,
   "metadata": {},
   "outputs": [
    {
     "name": "stdout",
     "output_type": "stream",
     "text": [
      "My name is Fafa. I live in London. My hobbies are sewing, book collecting and crocheting.\n"
     ]
    }
   ],
   "source": [
    "my_name = 'Fafa'\n",
    "city = 'London'\n",
    "hobbies = ['sewing', 'book collecting', 'crocheting']\n",
    "\n",
    "my_text = f\"My name is {my_name}. I live in {city}. My hobbies are {', '.join(hobbies[0:2])} and {hobbies[2]}.\"\n",
    "\n",
    "print(my_text)"
   ]
  },
  {
   "cell_type": "code",
   "execution_count": 9,
   "metadata": {},
   "outputs": [
    {
     "name": "stdout",
     "output_type": "stream",
     "text": [
      "My name is Fafa. I live in London. My hobbies are sewing, book collecting, gym and crocheting.\n"
     ]
    }
   ],
   "source": [
    "my_name = 'Fafa'\n",
    "city = 'London'\n",
    "hobbies = ['sewing', 'book collecting', 'gym', 'crocheting']\n",
    "\n",
    "my_text = f\"My name is {my_name}. I live in {city}. My hobbies are {', '.join(hobbies[0:-1])} and {hobbies[-1]}.\"\n",
    "\n",
    "print(my_text)"
   ]
  },
  {
   "cell_type": "code",
   "execution_count": 10,
   "metadata": {},
   "outputs": [
    {
     "name": "stdout",
     "output_type": "stream",
     "text": [
      "Even\n"
     ]
    }
   ],
   "source": [
    "number = 22\n",
    "if number % 2 == 0:\n",
    " print('Even')\n",
    "else:\n",
    " print('Odd')"
   ]
  },
  {
   "cell_type": "code",
   "execution_count": 11,
   "metadata": {},
   "outputs": [
    {
     "name": "stdout",
     "output_type": "stream",
     "text": [
      "Odd\n"
     ]
    }
   ],
   "source": [
    "number = 7\n",
    "print(\"Even\") if number % 2 == 0 else print(\"Odd\")"
   ]
  },
  {
   "cell_type": "code",
   "execution_count": 12,
   "metadata": {},
   "outputs": [
    {
     "name": "stdout",
     "output_type": "stream",
     "text": [
      "even\n"
     ]
    }
   ],
   "source": [
    "\n",
    "\n",
    "def even_or_odd(number):\n",
    "    if number % 2 == 0:\n",
    "        return('even')\n",
    "    else:\n",
    "        return('odd')\n",
    "    \n",
    "print(even_or_odd(22))\n",
    "\n"
   ]
  }
 ],
 "metadata": {
  "kernelspec": {
   "display_name": "Python 3",
   "language": "python",
   "name": "python3"
  },
  "language_info": {
   "codemirror_mode": {
    "name": "ipython",
    "version": 3
   },
   "file_extension": ".py",
   "mimetype": "text/x-python",
   "name": "python",
   "nbconvert_exporter": "python",
   "pygments_lexer": "ipython3",
   "version": "3.11.9"
  }
 },
 "nbformat": 4,
 "nbformat_minor": 2
}
