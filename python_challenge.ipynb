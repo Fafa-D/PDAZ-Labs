{
 "cells": [
  {
   "cell_type": "code",
   "execution_count": 21,
   "metadata": {},
   "outputs": [
    {
     "name": "stdout",
     "output_type": "stream",
     "text": [
      "y zyzy yyy dydzz zzyzyzyzy yz zy zyzd. zzyzy yzyz dyyzyzyzy yzy dyz. \n",
      "dyyzy yz yz zy zyzd yy yzyddydyyzz yzd zzyzy yzy zzyy zyzz yy yy zyzy. \n",
      "yyyzy yzzyzy.yyyyzzyzy yy zydyyyyzdyd. zyy yzzzy yz zzy yzz.\n"
     ]
    }
   ],
   "source": [
    "\n",
    "replacements = [\n",
    "    (\"a\", \"b\"),\n",
    "    (\"b\", \"d\"),\n",
    "    (\"c\", \"e\"),\n",
    "    (\"e\", \"g\"),\n",
    "    (\"f\", \"h\"),\n",
    "    (\"g\", \"i\"),\n",
    "    (\"h\", \"j\"),\n",
    "    (\"i\", \"k\"),\n",
    "    (\"j\", \"l\"),\n",
    "    (\"k\", \"m\"),\n",
    "    (\"l\", \"n\"),\n",
    "    (\"m\", \"o\"),\n",
    "    (\"n\", \"p\"),\n",
    "    (\"o\", \"q\"),\n",
    "    (\"p\", \"r\"),\n",
    "    (\"q\", \"s\"),\n",
    "    (\"r\", \"t\"),\n",
    "    (\"s\", \"u\"),\n",
    "    (\"t\", \"v\"),\n",
    "    (\"u\", \"w\"),\n",
    "    (\"v\", \"x\"),\n",
    "    (\"w\", \"y\"),\n",
    "    (\"x\", \"z\")\n",
    "]\n",
    "\n",
    "text = \"\"\"g fmnc wms bgblr rpylqjyrc gr zw fylb. rfyrq ufyr amknsrcpq ypc dmp. \n",
    "bmgle gr gl zw fylb gq glcddgagclr ylb rfyrq ufw rfgq rcvr gq qm jmle. \n",
    "sqgle qrpgle.kyicrpylq gq pcamkkclbcb. lmu ynnjw ml rfc spj.\"\"\"\n",
    "\n",
    "for old, new in replacements:\n",
    "    text = text.replace(old, new)\n",
    "\n",
    "print(text)\n",
    "\n"
   ]
  },
  {
   "cell_type": "code",
   "execution_count": 42,
   "metadata": {},
   "outputs": [
    {
     "name": "stdout",
     "output_type": "stream",
     "text": [
      "i hope you didnt translate it by hand. thats what computers are for. \n",
      "doing it in by hand is inefficient and that's why this text is so long. \n",
      "using string.maketrans() is recommended. now apply on the url.\n"
     ]
    }
   ],
   "source": [
    "\n",
    "\n",
    "\n",
    "txt = \"\"\"g fmnc wms bgblr rpylqjyrc gr zw fylb. rfyrq ufyr amknsrcpq ypc dmp. \n",
    "bmgle gr gl zw fylb gq glcddgagclr ylb rfyr'q ufw rfgq rcvr gq qm jmle. \n",
    "sqgle qrpgle.kyicrpylq() gq pcamkkclbcb. lmu ynnjw ml rfc spj.\"\"\"\"\"\n",
    "\n",
    "x = \"abcdefghijklmnopqrstuvwxyz\"\n",
    "y = \"cdefghijklmnopqrstuvwxyzab\"\n",
    "\n",
    "mytable = str.maketrans(x, y)\n",
    "\n",
    "print(txt.translate(mytable))"
   ]
  },
  {
   "cell_type": "code",
   "execution_count": 43,
   "metadata": {},
   "outputs": [
    {
     "name": "stdout",
     "output_type": "stream",
     "text": [
      "jvvr://yyy.ravjqpejcnngpig.eqo/re/fgh/ocr.jvon\n"
     ]
    }
   ],
   "source": [
    "txt = \"\"\"http://www.pythonchallenge.com/pc/def/map.html\"\"\"\"\"\n",
    "\n",
    "x = \"abcdefghijklmnopqrstuvwxyz\"\n",
    "y = \"cdefghijklmnopqrstuvwxyzab\"\n",
    "\n",
    "mytable = str.maketrans(x, y)\n",
    "\n",
    "print(txt.translate(mytable))"
   ]
  }
 ],
 "metadata": {
  "kernelspec": {
   "display_name": "Python 3",
   "language": "python",
   "name": "python3"
  },
  "language_info": {
   "codemirror_mode": {
    "name": "ipython",
    "version": 3
   },
   "file_extension": ".py",
   "mimetype": "text/x-python",
   "name": "python",
   "nbconvert_exporter": "python",
   "pygments_lexer": "ipython3",
   "version": "3.11.9"
  }
 },
 "nbformat": 4,
 "nbformat_minor": 2
}
