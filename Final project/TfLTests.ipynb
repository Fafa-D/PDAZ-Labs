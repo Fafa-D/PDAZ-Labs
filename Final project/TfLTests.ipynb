{
 "cells": [
  {
   "cell_type": "code",
   "execution_count": 1,
   "metadata": {},
   "outputs": [],
   "source": [
    "import requests\n",
    "import pandas as pd\n",
    "import matplotlib.pyplot as plt"
   ]
  },
  {
   "cell_type": "code",
   "execution_count": 3,
   "metadata": {},
   "outputs": [
    {
     "name": "stdout",
     "output_type": "stream",
     "text": [
      "[{'$type': 'Tfl.Api.Presentation.Entities.Prediction, Tfl.Api.Presentation.Entities', 'id': '-904212671', 'operationType': 1, 'vehicleId': 'LTZ1446', 'naptanId': '490000173RF', 'stationName': 'Oxford Circus Stn  / Margaret Street', 'lineId': '12', 'lineName': '12', 'platformName': 'RF', 'direction': 'outbound', 'bearing': '152', 'tripId': '525124', 'baseVersion': '20250214', 'destinationNaptanId': '', 'destinationName': 'Dulwich Library', 'timestamp': '2025-02-19T04:05:35.8607809Z', 'timeToStation': 285, 'currentLocation': '', 'towards': 'Trafalgar Square Or Green Park', 'expectedArrival': '2025-02-19T04:10:20Z', 'timeToLive': '2025-02-19T04:10:50Z', 'modeName': 'bus', 'timing': {'$type': 'Tfl.Api.Presentation.Entities.PredictionTiming, Tfl.Api.Presentation.Entities', 'countdownServerAdjustment': '00:00:03.5016612', 'source': '2025-02-19T00:38:29.859Z', 'insert': '2025-02-19T04:06:00.373Z', 'read': '2025-02-19T04:06:03.834Z', 'sent': '2025-02-19T04:05:35Z', 'received': '0001-01-01T00:00:00Z'}}, {'$type': 'Tfl.Api.Presentation.Entities.Prediction, Tfl.Api.Presentation.Entities', 'id': '-765053973', 'operationType': 1, 'vehicleId': 'LTZ1874', 'naptanId': '490000173RF', 'stationName': 'Oxford Circus Stn  / Margaret Street', 'lineId': '453', 'lineName': '453', 'platformName': 'RF', 'direction': 'inbound', 'bearing': '152', 'tripId': '203506', 'baseVersion': '20250214', 'destinationNaptanId': '', 'destinationName': 'Deptford Bridge', 'timestamp': '2025-02-19T04:05:35.8607809Z', 'timeToStation': 536, 'currentLocation': '', 'towards': 'Trafalgar Square Or Green Park', 'expectedArrival': '2025-02-19T04:14:31Z', 'timeToLive': '2025-02-19T04:15:01Z', 'modeName': 'bus', 'timing': {'$type': 'Tfl.Api.Presentation.Entities.PredictionTiming, Tfl.Api.Presentation.Entities', 'countdownServerAdjustment': '00:00:03.4855798', 'source': '2025-02-19T00:38:29.859Z', 'insert': '2025-02-19T04:05:40.345Z', 'read': '2025-02-19T04:05:43.807Z', 'sent': '2025-02-19T04:05:35Z', 'received': '0001-01-01T00:00:00Z'}}, {'$type': 'Tfl.Api.Presentation.Entities.Prediction, Tfl.Api.Presentation.Entities', 'id': '208275155', 'operationType': 1, 'vehicleId': 'YX18KXP', 'naptanId': '490000173RF', 'stationName': 'Oxford Circus Stn  / Margaret Street', 'lineId': '88', 'lineName': '88', 'platformName': 'RF', 'direction': 'outbound', 'bearing': '152', 'tripId': '382790', 'baseVersion': '20250214', 'destinationNaptanId': '', 'destinationName': 'Clapham Common', 'timestamp': '2025-02-19T04:05:35.8607809Z', 'timeToStation': 1660, 'currentLocation': '', 'towards': 'Trafalgar Square Or Green Park', 'expectedArrival': '2025-02-19T04:33:15Z', 'timeToLive': '2025-02-19T04:33:45Z', 'modeName': 'bus', 'timing': {'$type': 'Tfl.Api.Presentation.Entities.PredictionTiming, Tfl.Api.Presentation.Entities', 'countdownServerAdjustment': '00:00:03.4781194', 'source': '2025-02-19T00:38:29.859Z', 'insert': '2025-02-19T04:05:40.345Z', 'read': '2025-02-19T04:05:43.807Z', 'sent': '2025-02-19T04:05:35Z', 'received': '0001-01-01T00:00:00Z'}}, {'$type': 'Tfl.Api.Presentation.Entities.Prediction, Tfl.Api.Presentation.Entities', 'id': '1381325323', 'operationType': 1, 'vehicleId': 'SK20AZW', 'naptanId': '490000173RF', 'stationName': 'Oxford Circus Stn  / Margaret Street', 'lineId': 'n109', 'lineName': 'N109', 'platformName': 'RF', 'direction': 'inbound', 'bearing': '152', 'tripId': '299518', 'baseVersion': '20250214', 'destinationNaptanId': '', 'destinationName': 'Croydon, Town Centre', 'timestamp': '2025-02-19T04:05:35.8607809Z', 'timeToStation': 275, 'currentLocation': '', 'towards': 'Trafalgar Square Or Green Park', 'expectedArrival': '2025-02-19T04:10:10Z', 'timeToLive': '2025-02-19T04:10:40Z', 'modeName': 'bus', 'timing': {'$type': 'Tfl.Api.Presentation.Entities.PredictionTiming, Tfl.Api.Presentation.Entities', 'countdownServerAdjustment': '00:00:03.5016612', 'source': '2025-02-19T00:38:29.859Z', 'insert': '2025-02-19T04:05:50.359Z', 'read': '2025-02-19T04:05:53.821Z', 'sent': '2025-02-19T04:05:35Z', 'received': '0001-01-01T00:00:00Z'}}, {'$type': 'Tfl.Api.Presentation.Entities.Prediction, Tfl.Api.Presentation.Entities', 'id': '949731051', 'operationType': 1, 'vehicleId': 'SN18KMM', 'naptanId': '490000173RF', 'stationName': 'Oxford Circus Stn  / Margaret Street', 'lineId': 'n136', 'lineName': 'N136', 'platformName': 'RF', 'direction': 'outbound', 'bearing': '152', 'tripId': '133603', 'baseVersion': '20250214', 'destinationNaptanId': '', 'destinationName': 'Chislehurst, War Memorial', 'timestamp': '2025-02-19T04:05:35.8607809Z', 'timeToStation': 1497, 'currentLocation': '', 'towards': 'Trafalgar Square Or Green Park', 'expectedArrival': '2025-02-19T04:30:32Z', 'timeToLive': '2025-02-19T04:31:02Z', 'modeName': 'bus', 'timing': {'$type': 'Tfl.Api.Presentation.Entities.PredictionTiming, Tfl.Api.Presentation.Entities', 'countdownServerAdjustment': '00:00:03.4785468', 'source': '2025-02-19T00:38:29.859Z', 'insert': '2025-02-19T04:05:30.306Z', 'read': '2025-02-19T04:05:33.799Z', 'sent': '2025-02-19T04:05:35Z', 'received': '0001-01-01T00:00:00Z'}}, {'$type': 'Tfl.Api.Presentation.Entities.Prediction, Tfl.Api.Presentation.Entities', 'id': '-1715809068', 'operationType': 1, 'vehicleId': 'LTZ1392', 'naptanId': '490000173RF', 'stationName': 'Oxford Circus Stn  / Margaret Street', 'lineId': 'n15', 'lineName': 'N15', 'platformName': 'RF', 'direction': 'inbound', 'bearing': '152', 'tripId': '697504', 'baseVersion': '20250214', 'destinationNaptanId': '', 'destinationName': 'Romford Market', 'timestamp': '2025-02-19T04:05:35.8607809Z', 'timeToStation': 470, 'currentLocation': '', 'towards': 'Trafalgar Square Or Green Park', 'expectedArrival': '2025-02-19T04:13:25Z', 'timeToLive': '2025-02-19T04:13:55Z', 'modeName': 'bus', 'timing': {'$type': 'Tfl.Api.Presentation.Entities.PredictionTiming, Tfl.Api.Presentation.Entities', 'countdownServerAdjustment': '00:00:03.4916017', 'source': '2025-02-19T00:38:29.859Z', 'insert': '2025-02-19T04:05:50.359Z', 'read': '2025-02-19T04:05:53.821Z', 'sent': '2025-02-19T04:05:35Z', 'received': '0001-01-01T00:00:00Z'}}, {'$type': 'Tfl.Api.Presentation.Entities.Prediction, Tfl.Api.Presentation.Entities', 'id': '858598090', 'operationType': 1, 'vehicleId': 'LTZ1398', 'naptanId': '490000173RF', 'stationName': 'Oxford Circus Stn  / Margaret Street', 'lineId': 'n15', 'lineName': 'N15', 'platformName': 'RF', 'direction': 'inbound', 'bearing': '152', 'tripId': '697511', 'baseVersion': '20250214', 'destinationNaptanId': '', 'destinationName': 'Romford Market', 'timestamp': '2025-02-19T04:05:35.8607809Z', 'timeToStation': 1071, 'currentLocation': '', 'towards': 'Trafalgar Square Or Green Park', 'expectedArrival': '2025-02-19T04:23:26Z', 'timeToLive': '2025-02-19T04:23:56Z', 'modeName': 'bus', 'timing': {'$type': 'Tfl.Api.Presentation.Entities.PredictionTiming, Tfl.Api.Presentation.Entities', 'countdownServerAdjustment': '00:00:03.4924520', 'source': '2025-02-19T00:38:29.859Z', 'insert': '2025-02-19T04:06:20.389Z', 'read': '2025-02-19T04:06:23.86Z', 'sent': '2025-02-19T04:05:35Z', 'received': '0001-01-01T00:00:00Z'}}, {'$type': 'Tfl.Api.Presentation.Entities.Prediction, Tfl.Api.Presentation.Entities', 'id': '-1700730506', 'operationType': 1, 'vehicleId': 'YW17JVG', 'naptanId': '490000173RF', 'stationName': 'Oxford Circus Stn  / Margaret Street', 'lineId': 'n15', 'lineName': 'N15', 'platformName': 'RF', 'direction': 'inbound', 'bearing': '152', 'tripId': '697518', 'baseVersion': '20250214', 'destinationNaptanId': '', 'destinationName': 'Romford Market', 'timestamp': '2025-02-19T04:05:35.8607809Z', 'timeToStation': 1667, 'currentLocation': '', 'towards': 'Trafalgar Square Or Green Park', 'expectedArrival': '2025-02-19T04:33:22Z', 'timeToLive': '2025-02-19T04:33:52Z', 'modeName': 'bus', 'timing': {'$type': 'Tfl.Api.Presentation.Entities.PredictionTiming, Tfl.Api.Presentation.Entities', 'countdownServerAdjustment': '00:00:03.4800304', 'source': '2025-02-19T00:38:29.859Z', 'insert': '2025-02-19T04:06:00.373Z', 'read': '2025-02-19T04:06:03.834Z', 'sent': '2025-02-19T04:05:35Z', 'received': '0001-01-01T00:00:00Z'}}, {'$type': 'Tfl.Api.Presentation.Entities.Prediction, Tfl.Api.Presentation.Entities', 'id': '1495658901', 'operationType': 1, 'vehicleId': 'BF67GKV', 'naptanId': '490000173RF', 'stationName': 'Oxford Circus Stn  / Margaret Street', 'lineId': 'n18', 'lineName': 'N18', 'platformName': 'RF', 'direction': 'outbound', 'bearing': '152', 'tripId': '550834', 'baseVersion': '20250214', 'destinationNaptanId': '', 'destinationName': 'Trafalgar Square', 'timestamp': '2025-02-19T04:05:35.8607809Z', 'timeToStation': 1054, 'currentLocation': '', 'towards': 'Trafalgar Square Or Green Park', 'expectedArrival': '2025-02-19T04:23:09Z', 'timeToLive': '2025-02-19T04:23:39Z', 'modeName': 'bus', 'timing': {'$type': 'Tfl.Api.Presentation.Entities.PredictionTiming, Tfl.Api.Presentation.Entities', 'countdownServerAdjustment': '00:00:03.4925138', 'source': '2025-02-19T00:38:29.859Z', 'insert': '2025-02-19T04:06:10.379Z', 'read': '2025-02-19T04:06:13.85Z', 'sent': '2025-02-19T04:05:35Z', 'received': '0001-01-01T00:00:00Z'}}, {'$type': 'Tfl.Api.Presentation.Entities.Prediction, Tfl.Api.Presentation.Entities', 'id': '-1616519754', 'operationType': 1, 'vehicleId': 'BF67GLY', 'naptanId': '490000173RF', 'stationName': 'Oxford Circus Stn  / Margaret Street', 'lineId': 'n18', 'lineName': 'N18', 'platformName': 'RF', 'direction': 'outbound', 'bearing': '152', 'tripId': '550776', 'baseVersion': '20250214', 'destinationNaptanId': '', 'destinationName': 'Trafalgar Square', 'timestamp': '2025-02-19T04:05:35.8607809Z', 'timeToStation': 1812, 'currentLocation': '', 'towards': 'Trafalgar Square Or Green Park', 'expectedArrival': '2025-02-19T04:35:47Z', 'timeToLive': '2025-02-19T04:36:17Z', 'modeName': 'bus', 'timing': {'$type': 'Tfl.Api.Presentation.Entities.PredictionTiming, Tfl.Api.Presentation.Entities', 'countdownServerAdjustment': '00:00:03.4618487', 'source': '2025-02-19T00:38:29.859Z', 'insert': '2025-02-19T04:05:53.784Z', 'read': '2025-02-19T04:05:58.861Z', 'sent': '2025-02-19T04:05:35Z', 'received': '0001-01-01T00:00:00Z'}}, {'$type': 'Tfl.Api.Presentation.Entities.Prediction, Tfl.Api.Presentation.Entities', 'id': '-922351638', 'operationType': 1, 'vehicleId': 'BT13YWP', 'naptanId': '490000173RF', 'stationName': 'Oxford Circus Stn  / Margaret Street', 'lineId': 'n18', 'lineName': 'N18', 'platformName': 'RF', 'direction': 'outbound', 'bearing': '152', 'tripId': '550846', 'baseVersion': '20250214', 'destinationNaptanId': '', 'destinationName': 'Trafalgar Square', 'timestamp': '2025-02-19T04:05:35.8607809Z', 'timeToStation': 219, 'currentLocation': '', 'towards': 'Trafalgar Square Or Green Park', 'expectedArrival': '2025-02-19T04:09:14Z', 'timeToLive': '2025-02-19T04:09:44Z', 'modeName': 'bus', 'timing': {'$type': 'Tfl.Api.Presentation.Entities.PredictionTiming, Tfl.Api.Presentation.Entities', 'countdownServerAdjustment': '00:00:03.4726888', 'source': '2025-02-19T00:38:29.859Z', 'insert': '2025-02-19T04:05:40.345Z', 'read': '2025-02-19T04:05:43.807Z', 'sent': '2025-02-19T04:05:35Z', 'received': '0001-01-01T00:00:00Z'}}, {'$type': 'Tfl.Api.Presentation.Entities.Prediction, Tfl.Api.Presentation.Entities', 'id': '430489156', 'operationType': 1, 'vehicleId': 'YY66OYX', 'naptanId': '490000173RF', 'stationName': 'Oxford Circus Stn  / Margaret Street', 'lineId': 'n22', 'lineName': 'N22', 'platformName': 'RF', 'direction': 'inbound', 'bearing': '152', 'tripId': '643426', 'baseVersion': '20250214', 'destinationNaptanId': '', 'destinationName': 'Fulwell', 'timestamp': '2025-02-19T04:05:35.8607809Z', 'timeToStation': 1197, 'currentLocation': '', 'towards': 'Trafalgar Square Or Green Park', 'expectedArrival': '2025-02-19T04:25:32Z', 'timeToLive': '2025-02-19T04:26:02Z', 'modeName': 'bus', 'timing': {'$type': 'Tfl.Api.Presentation.Entities.PredictionTiming, Tfl.Api.Presentation.Entities', 'countdownServerAdjustment': '00:00:03.4897570', 'source': '2025-02-19T00:38:29.859Z', 'insert': '2025-02-19T04:06:10.379Z', 'read': '2025-02-19T04:06:13.85Z', 'sent': '2025-02-19T04:05:35Z', 'received': '0001-01-01T00:00:00Z'}}, {'$type': 'Tfl.Api.Presentation.Entities.Prediction, Tfl.Api.Presentation.Entities', 'id': '436929391', 'operationType': 1, 'vehicleId': 'LTZ1778', 'naptanId': '490000173RF', 'stationName': 'Oxford Circus Stn  / Margaret Street', 'lineId': 'n3', 'lineName': 'N3', 'platformName': 'RF', 'direction': 'outbound', 'bearing': '152', 'tripId': '617142', 'baseVersion': '20250214', 'destinationNaptanId': '', 'destinationName': 'Bromley North', 'timestamp': '2025-02-19T04:05:35.8607809Z', 'timeToStation': 575, 'currentLocation': '', 'towards': 'Trafalgar Square Or Green Park', 'expectedArrival': '2025-02-19T04:15:10Z', 'timeToLive': '2025-02-19T04:15:40Z', 'modeName': 'bus', 'timing': {'$type': 'Tfl.Api.Presentation.Entities.PredictionTiming, Tfl.Api.Presentation.Entities', 'countdownServerAdjustment': '00:00:03.4855798', 'source': '2025-02-19T00:38:29.859Z', 'insert': '2025-02-19T04:05:40.345Z', 'read': '2025-02-19T04:05:43.807Z', 'sent': '2025-02-19T04:05:35Z', 'received': '0001-01-01T00:00:00Z'}}]\n"
     ]
    }
   ],
   "source": [
    "url = \"https://api.tfl.gov.uk/StopPoint/490000173RF/arrivals\"\n",
    "\n",
    "response = requests.get(url)\n",
    "data = response.json()\n",
    "\n",
    "# Print the response\n",
    "print(data)"
   ]
  },
  {
   "cell_type": "code",
   "execution_count": 4,
   "metadata": {},
   "outputs": [
    {
     "name": "stdout",
     "output_type": "stream",
     "text": [
      "[{'$type': 'Tfl.Api.Presentation.Entities.Prediction, Tfl.Api.Presentation.Entities', 'id': '-904212671', 'operationType': 1, 'vehicleId': 'LTZ1446', 'naptanId': '490000173RF', 'stationName': 'Oxford Circus Stn  / Margaret Street', 'lineId': '12', 'lineName': '12', 'platformName': 'RF', 'direction': 'outbound', 'bearing': '152', 'tripId': '525124', 'baseVersion': '20250214', 'destinationNaptanId': '', 'destinationName': 'Dulwich Library', 'timestamp': '2025-02-19T04:05:35.8607809Z', 'timeToStation': 285, 'currentLocation': '', 'towards': 'Trafalgar Square Or Green Park', 'expectedArrival': '2025-02-19T04:10:20Z', 'timeToLive': '2025-02-19T04:10:50Z', 'modeName': 'bus', 'timing': {'$type': 'Tfl.Api.Presentation.Entities.PredictionTiming, Tfl.Api.Presentation.Entities', 'countdownServerAdjustment': '00:00:03.5016612', 'source': '2025-02-19T00:38:29.859Z', 'insert': '2025-02-19T04:06:00.373Z', 'read': '2025-02-19T04:06:03.834Z', 'sent': '2025-02-19T04:05:35Z', 'received': '0001-01-01T00:00:00Z'}}, {'$type': 'Tfl.Api.Presentation.Entities.Prediction, Tfl.Api.Presentation.Entities', 'id': '-765053973', 'operationType': 1, 'vehicleId': 'LTZ1874', 'naptanId': '490000173RF', 'stationName': 'Oxford Circus Stn  / Margaret Street', 'lineId': '453', 'lineName': '453', 'platformName': 'RF', 'direction': 'inbound', 'bearing': '152', 'tripId': '203506', 'baseVersion': '20250214', 'destinationNaptanId': '', 'destinationName': 'Deptford Bridge', 'timestamp': '2025-02-19T04:05:35.8607809Z', 'timeToStation': 536, 'currentLocation': '', 'towards': 'Trafalgar Square Or Green Park', 'expectedArrival': '2025-02-19T04:14:31Z', 'timeToLive': '2025-02-19T04:15:01Z', 'modeName': 'bus', 'timing': {'$type': 'Tfl.Api.Presentation.Entities.PredictionTiming, Tfl.Api.Presentation.Entities', 'countdownServerAdjustment': '00:00:03.4855798', 'source': '2025-02-19T00:38:29.859Z', 'insert': '2025-02-19T04:05:40.345Z', 'read': '2025-02-19T04:05:43.807Z', 'sent': '2025-02-19T04:05:35Z', 'received': '0001-01-01T00:00:00Z'}}, {'$type': 'Tfl.Api.Presentation.Entities.Prediction, Tfl.Api.Presentation.Entities', 'id': '208275155', 'operationType': 1, 'vehicleId': 'YX18KXP', 'naptanId': '490000173RF', 'stationName': 'Oxford Circus Stn  / Margaret Street', 'lineId': '88', 'lineName': '88', 'platformName': 'RF', 'direction': 'outbound', 'bearing': '152', 'tripId': '382790', 'baseVersion': '20250214', 'destinationNaptanId': '', 'destinationName': 'Clapham Common', 'timestamp': '2025-02-19T04:05:35.8607809Z', 'timeToStation': 1660, 'currentLocation': '', 'towards': 'Trafalgar Square Or Green Park', 'expectedArrival': '2025-02-19T04:33:15Z', 'timeToLive': '2025-02-19T04:33:45Z', 'modeName': 'bus', 'timing': {'$type': 'Tfl.Api.Presentation.Entities.PredictionTiming, Tfl.Api.Presentation.Entities', 'countdownServerAdjustment': '00:00:03.4781194', 'source': '2025-02-19T00:38:29.859Z', 'insert': '2025-02-19T04:05:40.345Z', 'read': '2025-02-19T04:05:43.807Z', 'sent': '2025-02-19T04:05:35Z', 'received': '0001-01-01T00:00:00Z'}}, {'$type': 'Tfl.Api.Presentation.Entities.Prediction, Tfl.Api.Presentation.Entities', 'id': '1381325323', 'operationType': 1, 'vehicleId': 'SK20AZW', 'naptanId': '490000173RF', 'stationName': 'Oxford Circus Stn  / Margaret Street', 'lineId': 'n109', 'lineName': 'N109', 'platformName': 'RF', 'direction': 'inbound', 'bearing': '152', 'tripId': '299518', 'baseVersion': '20250214', 'destinationNaptanId': '', 'destinationName': 'Croydon, Town Centre', 'timestamp': '2025-02-19T04:05:35.8607809Z', 'timeToStation': 275, 'currentLocation': '', 'towards': 'Trafalgar Square Or Green Park', 'expectedArrival': '2025-02-19T04:10:10Z', 'timeToLive': '2025-02-19T04:10:40Z', 'modeName': 'bus', 'timing': {'$type': 'Tfl.Api.Presentation.Entities.PredictionTiming, Tfl.Api.Presentation.Entities', 'countdownServerAdjustment': '00:00:03.5016612', 'source': '2025-02-19T00:38:29.859Z', 'insert': '2025-02-19T04:05:50.359Z', 'read': '2025-02-19T04:05:53.821Z', 'sent': '2025-02-19T04:05:35Z', 'received': '0001-01-01T00:00:00Z'}}, {'$type': 'Tfl.Api.Presentation.Entities.Prediction, Tfl.Api.Presentation.Entities', 'id': '949731051', 'operationType': 1, 'vehicleId': 'SN18KMM', 'naptanId': '490000173RF', 'stationName': 'Oxford Circus Stn  / Margaret Street', 'lineId': 'n136', 'lineName': 'N136', 'platformName': 'RF', 'direction': 'outbound', 'bearing': '152', 'tripId': '133603', 'baseVersion': '20250214', 'destinationNaptanId': '', 'destinationName': 'Chislehurst, War Memorial', 'timestamp': '2025-02-19T04:05:35.8607809Z', 'timeToStation': 1497, 'currentLocation': '', 'towards': 'Trafalgar Square Or Green Park', 'expectedArrival': '2025-02-19T04:30:32Z', 'timeToLive': '2025-02-19T04:31:02Z', 'modeName': 'bus', 'timing': {'$type': 'Tfl.Api.Presentation.Entities.PredictionTiming, Tfl.Api.Presentation.Entities', 'countdownServerAdjustment': '00:00:03.4785468', 'source': '2025-02-19T00:38:29.859Z', 'insert': '2025-02-19T04:05:30.306Z', 'read': '2025-02-19T04:05:33.799Z', 'sent': '2025-02-19T04:05:35Z', 'received': '0001-01-01T00:00:00Z'}}, {'$type': 'Tfl.Api.Presentation.Entities.Prediction, Tfl.Api.Presentation.Entities', 'id': '-1715809068', 'operationType': 1, 'vehicleId': 'LTZ1392', 'naptanId': '490000173RF', 'stationName': 'Oxford Circus Stn  / Margaret Street', 'lineId': 'n15', 'lineName': 'N15', 'platformName': 'RF', 'direction': 'inbound', 'bearing': '152', 'tripId': '697504', 'baseVersion': '20250214', 'destinationNaptanId': '', 'destinationName': 'Romford Market', 'timestamp': '2025-02-19T04:05:35.8607809Z', 'timeToStation': 470, 'currentLocation': '', 'towards': 'Trafalgar Square Or Green Park', 'expectedArrival': '2025-02-19T04:13:25Z', 'timeToLive': '2025-02-19T04:13:55Z', 'modeName': 'bus', 'timing': {'$type': 'Tfl.Api.Presentation.Entities.PredictionTiming, Tfl.Api.Presentation.Entities', 'countdownServerAdjustment': '00:00:03.4916017', 'source': '2025-02-19T00:38:29.859Z', 'insert': '2025-02-19T04:05:50.359Z', 'read': '2025-02-19T04:05:53.821Z', 'sent': '2025-02-19T04:05:35Z', 'received': '0001-01-01T00:00:00Z'}}, {'$type': 'Tfl.Api.Presentation.Entities.Prediction, Tfl.Api.Presentation.Entities', 'id': '858598090', 'operationType': 1, 'vehicleId': 'LTZ1398', 'naptanId': '490000173RF', 'stationName': 'Oxford Circus Stn  / Margaret Street', 'lineId': 'n15', 'lineName': 'N15', 'platformName': 'RF', 'direction': 'inbound', 'bearing': '152', 'tripId': '697511', 'baseVersion': '20250214', 'destinationNaptanId': '', 'destinationName': 'Romford Market', 'timestamp': '2025-02-19T04:05:35.8607809Z', 'timeToStation': 1071, 'currentLocation': '', 'towards': 'Trafalgar Square Or Green Park', 'expectedArrival': '2025-02-19T04:23:26Z', 'timeToLive': '2025-02-19T04:23:56Z', 'modeName': 'bus', 'timing': {'$type': 'Tfl.Api.Presentation.Entities.PredictionTiming, Tfl.Api.Presentation.Entities', 'countdownServerAdjustment': '00:00:03.4924520', 'source': '2025-02-19T00:38:29.859Z', 'insert': '2025-02-19T04:06:20.389Z', 'read': '2025-02-19T04:06:23.86Z', 'sent': '2025-02-19T04:05:35Z', 'received': '0001-01-01T00:00:00Z'}}, {'$type': 'Tfl.Api.Presentation.Entities.Prediction, Tfl.Api.Presentation.Entities', 'id': '-1700730506', 'operationType': 1, 'vehicleId': 'YW17JVG', 'naptanId': '490000173RF', 'stationName': 'Oxford Circus Stn  / Margaret Street', 'lineId': 'n15', 'lineName': 'N15', 'platformName': 'RF', 'direction': 'inbound', 'bearing': '152', 'tripId': '697518', 'baseVersion': '20250214', 'destinationNaptanId': '', 'destinationName': 'Romford Market', 'timestamp': '2025-02-19T04:05:35.8607809Z', 'timeToStation': 1667, 'currentLocation': '', 'towards': 'Trafalgar Square Or Green Park', 'expectedArrival': '2025-02-19T04:33:22Z', 'timeToLive': '2025-02-19T04:33:52Z', 'modeName': 'bus', 'timing': {'$type': 'Tfl.Api.Presentation.Entities.PredictionTiming, Tfl.Api.Presentation.Entities', 'countdownServerAdjustment': '00:00:03.4800304', 'source': '2025-02-19T00:38:29.859Z', 'insert': '2025-02-19T04:06:00.373Z', 'read': '2025-02-19T04:06:03.834Z', 'sent': '2025-02-19T04:05:35Z', 'received': '0001-01-01T00:00:00Z'}}, {'$type': 'Tfl.Api.Presentation.Entities.Prediction, Tfl.Api.Presentation.Entities', 'id': '1495658901', 'operationType': 1, 'vehicleId': 'BF67GKV', 'naptanId': '490000173RF', 'stationName': 'Oxford Circus Stn  / Margaret Street', 'lineId': 'n18', 'lineName': 'N18', 'platformName': 'RF', 'direction': 'outbound', 'bearing': '152', 'tripId': '550834', 'baseVersion': '20250214', 'destinationNaptanId': '', 'destinationName': 'Trafalgar Square', 'timestamp': '2025-02-19T04:05:35.8607809Z', 'timeToStation': 1054, 'currentLocation': '', 'towards': 'Trafalgar Square Or Green Park', 'expectedArrival': '2025-02-19T04:23:09Z', 'timeToLive': '2025-02-19T04:23:39Z', 'modeName': 'bus', 'timing': {'$type': 'Tfl.Api.Presentation.Entities.PredictionTiming, Tfl.Api.Presentation.Entities', 'countdownServerAdjustment': '00:00:03.4925138', 'source': '2025-02-19T00:38:29.859Z', 'insert': '2025-02-19T04:06:10.379Z', 'read': '2025-02-19T04:06:13.85Z', 'sent': '2025-02-19T04:05:35Z', 'received': '0001-01-01T00:00:00Z'}}, {'$type': 'Tfl.Api.Presentation.Entities.Prediction, Tfl.Api.Presentation.Entities', 'id': '-1616519754', 'operationType': 1, 'vehicleId': 'BF67GLY', 'naptanId': '490000173RF', 'stationName': 'Oxford Circus Stn  / Margaret Street', 'lineId': 'n18', 'lineName': 'N18', 'platformName': 'RF', 'direction': 'outbound', 'bearing': '152', 'tripId': '550776', 'baseVersion': '20250214', 'destinationNaptanId': '', 'destinationName': 'Trafalgar Square', 'timestamp': '2025-02-19T04:05:35.8607809Z', 'timeToStation': 1812, 'currentLocation': '', 'towards': 'Trafalgar Square Or Green Park', 'expectedArrival': '2025-02-19T04:35:47Z', 'timeToLive': '2025-02-19T04:36:17Z', 'modeName': 'bus', 'timing': {'$type': 'Tfl.Api.Presentation.Entities.PredictionTiming, Tfl.Api.Presentation.Entities', 'countdownServerAdjustment': '00:00:03.4618487', 'source': '2025-02-19T00:38:29.859Z', 'insert': '2025-02-19T04:05:53.784Z', 'read': '2025-02-19T04:05:58.861Z', 'sent': '2025-02-19T04:05:35Z', 'received': '0001-01-01T00:00:00Z'}}, {'$type': 'Tfl.Api.Presentation.Entities.Prediction, Tfl.Api.Presentation.Entities', 'id': '-922351638', 'operationType': 1, 'vehicleId': 'BT13YWP', 'naptanId': '490000173RF', 'stationName': 'Oxford Circus Stn  / Margaret Street', 'lineId': 'n18', 'lineName': 'N18', 'platformName': 'RF', 'direction': 'outbound', 'bearing': '152', 'tripId': '550846', 'baseVersion': '20250214', 'destinationNaptanId': '', 'destinationName': 'Trafalgar Square', 'timestamp': '2025-02-19T04:05:35.8607809Z', 'timeToStation': 219, 'currentLocation': '', 'towards': 'Trafalgar Square Or Green Park', 'expectedArrival': '2025-02-19T04:09:14Z', 'timeToLive': '2025-02-19T04:09:44Z', 'modeName': 'bus', 'timing': {'$type': 'Tfl.Api.Presentation.Entities.PredictionTiming, Tfl.Api.Presentation.Entities', 'countdownServerAdjustment': '00:00:03.4726888', 'source': '2025-02-19T00:38:29.859Z', 'insert': '2025-02-19T04:05:40.345Z', 'read': '2025-02-19T04:05:43.807Z', 'sent': '2025-02-19T04:05:35Z', 'received': '0001-01-01T00:00:00Z'}}, {'$type': 'Tfl.Api.Presentation.Entities.Prediction, Tfl.Api.Presentation.Entities', 'id': '430489156', 'operationType': 1, 'vehicleId': 'YY66OYX', 'naptanId': '490000173RF', 'stationName': 'Oxford Circus Stn  / Margaret Street', 'lineId': 'n22', 'lineName': 'N22', 'platformName': 'RF', 'direction': 'inbound', 'bearing': '152', 'tripId': '643426', 'baseVersion': '20250214', 'destinationNaptanId': '', 'destinationName': 'Fulwell', 'timestamp': '2025-02-19T04:05:35.8607809Z', 'timeToStation': 1197, 'currentLocation': '', 'towards': 'Trafalgar Square Or Green Park', 'expectedArrival': '2025-02-19T04:25:32Z', 'timeToLive': '2025-02-19T04:26:02Z', 'modeName': 'bus', 'timing': {'$type': 'Tfl.Api.Presentation.Entities.PredictionTiming, Tfl.Api.Presentation.Entities', 'countdownServerAdjustment': '00:00:03.4897570', 'source': '2025-02-19T00:38:29.859Z', 'insert': '2025-02-19T04:06:10.379Z', 'read': '2025-02-19T04:06:13.85Z', 'sent': '2025-02-19T04:05:35Z', 'received': '0001-01-01T00:00:00Z'}}, {'$type': 'Tfl.Api.Presentation.Entities.Prediction, Tfl.Api.Presentation.Entities', 'id': '436929391', 'operationType': 1, 'vehicleId': 'LTZ1778', 'naptanId': '490000173RF', 'stationName': 'Oxford Circus Stn  / Margaret Street', 'lineId': 'n3', 'lineName': 'N3', 'platformName': 'RF', 'direction': 'outbound', 'bearing': '152', 'tripId': '617142', 'baseVersion': '20250214', 'destinationNaptanId': '', 'destinationName': 'Bromley North', 'timestamp': '2025-02-19T04:05:35.8607809Z', 'timeToStation': 575, 'currentLocation': '', 'towards': 'Trafalgar Square Or Green Park', 'expectedArrival': '2025-02-19T04:15:10Z', 'timeToLive': '2025-02-19T04:15:40Z', 'modeName': 'bus', 'timing': {'$type': 'Tfl.Api.Presentation.Entities.PredictionTiming, Tfl.Api.Presentation.Entities', 'countdownServerAdjustment': '00:00:03.4855798', 'source': '2025-02-19T00:38:29.859Z', 'insert': '2025-02-19T04:05:40.345Z', 'read': '2025-02-19T04:05:43.807Z', 'sent': '2025-02-19T04:05:35Z', 'received': '0001-01-01T00:00:00Z'}}]\n"
     ]
    }
   ],
   "source": [
    "#get info from link and turn it into json\n",
    "\n",
    "url_lifts = \"https://api.tfl.gov.uk/Disruptions/Lifts/\"\n",
    "\n",
    "response_lifts = requests.get(url_lifts)\n",
    "data_lifts = response_lifts.json()\n",
    "\n",
    "# Print the response\n",
    "print(data)"
   ]
  },
  {
   "cell_type": "code",
   "execution_count": 16,
   "metadata": {},
   "outputs": [
    {
     "data": {
      "text/html": [
       "<div>\n",
       "<style scoped>\n",
       "    .dataframe tbody tr th:only-of-type {\n",
       "        vertical-align: middle;\n",
       "    }\n",
       "\n",
       "    .dataframe tbody tr th {\n",
       "        vertical-align: top;\n",
       "    }\n",
       "\n",
       "    .dataframe thead th {\n",
       "        text-align: right;\n",
       "    }\n",
       "</style>\n",
       "<table border=\"1\" class=\"dataframe\">\n",
       "  <thead>\n",
       "    <tr style=\"text-align: right;\">\n",
       "      <th></th>\n",
       "      <th>icsCode</th>\n",
       "      <th>naptanCode</th>\n",
       "      <th>stopPointName</th>\n",
       "      <th>outageStartArea</th>\n",
       "      <th>outageEndArea</th>\n",
       "      <th>message</th>\n",
       "    </tr>\n",
       "  </thead>\n",
       "  <tbody>\n",
       "    <tr>\n",
       "      <th>0</th>\n",
       "      <td>1000256</td>\n",
       "      <td>910GWMBY</td>\n",
       "      <td>Wembley Central Station</td>\n",
       "      <td>RLY</td>\n",
       "      <td>RPLDS</td>\n",
       "      <td>Wembley Central: No Step Free Access - Step fr...</td>\n",
       "    </tr>\n",
       "    <tr>\n",
       "      <th>1</th>\n",
       "      <td>1000256</td>\n",
       "      <td>910GWMBY</td>\n",
       "      <td>Wembley Central Station</td>\n",
       "      <td>RLY</td>\n",
       "      <td>USB</td>\n",
       "      <td>Wembley Central: No Step Free Access - Step fr...</td>\n",
       "    </tr>\n",
       "    <tr>\n",
       "      <th>2</th>\n",
       "      <td>1000256</td>\n",
       "      <td>910GWMBY</td>\n",
       "      <td>Wembley Central Station</td>\n",
       "      <td>RLY</td>\n",
       "      <td>RPLAS</td>\n",
       "      <td>Wembley Central: No Step Free Access - Step fr...</td>\n",
       "    </tr>\n",
       "    <tr>\n",
       "      <th>3</th>\n",
       "      <td>1002066</td>\n",
       "      <td>940GZZDLPUD</td>\n",
       "      <td>Pudding Mill Lane</td>\n",
       "      <td>DLR-E</td>\n",
       "      <td>BOOK</td>\n",
       "      <td>Pudding Mill Lane: No Step Free Access - Step ...</td>\n",
       "    </tr>\n",
       "    <tr>\n",
       "      <th>4</th>\n",
       "      <td>1000093</td>\n",
       "      <td>940GZZLUGPK</td>\n",
       "      <td>Green Park Station</td>\n",
       "      <td>JUB</td>\n",
       "      <td>LoCon</td>\n",
       "      <td>GREEN PARK STATION: Until Autumn 2025, no step...</td>\n",
       "    </tr>\n",
       "    <tr>\n",
       "      <th>5</th>\n",
       "      <td>1000256</td>\n",
       "      <td>910GWMBY</td>\n",
       "      <td>Wembley Central Station</td>\n",
       "      <td>RLY</td>\n",
       "      <td>RPLDS</td>\n",
       "      <td>Wembley Central: No Step Free Access - Step fr...</td>\n",
       "    </tr>\n",
       "    <tr>\n",
       "      <th>6</th>\n",
       "      <td>1000256</td>\n",
       "      <td>910GWMBY</td>\n",
       "      <td>Wembley Central Station</td>\n",
       "      <td>RLY</td>\n",
       "      <td>USB</td>\n",
       "      <td>Wembley Central: No Step Free Access - Step fr...</td>\n",
       "    </tr>\n",
       "    <tr>\n",
       "      <th>7</th>\n",
       "      <td>1002065</td>\n",
       "      <td>940GZZDLPRE</td>\n",
       "      <td>Prince Regent</td>\n",
       "      <td>Bridg</td>\n",
       "      <td>CONNA</td>\n",
       "      <td>Prince Regent DLR: No step free access - Step ...</td>\n",
       "    </tr>\n",
       "    <tr>\n",
       "      <th>8</th>\n",
       "      <td>1002065</td>\n",
       "      <td>940GZZDLPRE</td>\n",
       "      <td>Prince Regent</td>\n",
       "      <td>Bridg</td>\n",
       "      <td>DLREB</td>\n",
       "      <td>Prince Regent DLR: No step free access - Step ...</td>\n",
       "    </tr>\n",
       "    <tr>\n",
       "      <th>9</th>\n",
       "      <td>1002065</td>\n",
       "      <td>940GZZDLPRE</td>\n",
       "      <td>Prince Regent</td>\n",
       "      <td>Bridg</td>\n",
       "      <td>DLRWB</td>\n",
       "      <td>Prince Regent DLR: No step free access - Step ...</td>\n",
       "    </tr>\n",
       "  </tbody>\n",
       "</table>\n",
       "</div>"
      ],
      "text/plain": [
       "   icsCode   naptanCode            stopPointName outageStartArea  \\\n",
       "0  1000256     910GWMBY  Wembley Central Station             RLY   \n",
       "1  1000256     910GWMBY  Wembley Central Station             RLY   \n",
       "2  1000256     910GWMBY  Wembley Central Station             RLY   \n",
       "3  1002066  940GZZDLPUD        Pudding Mill Lane           DLR-E   \n",
       "4  1000093  940GZZLUGPK       Green Park Station             JUB   \n",
       "5  1000256     910GWMBY  Wembley Central Station             RLY   \n",
       "6  1000256     910GWMBY  Wembley Central Station             RLY   \n",
       "7  1002065  940GZZDLPRE            Prince Regent           Bridg   \n",
       "8  1002065  940GZZDLPRE            Prince Regent           Bridg   \n",
       "9  1002065  940GZZDLPRE            Prince Regent           Bridg   \n",
       "\n",
       "  outageEndArea                                            message  \n",
       "0         RPLDS  Wembley Central: No Step Free Access - Step fr...  \n",
       "1           USB  Wembley Central: No Step Free Access - Step fr...  \n",
       "2         RPLAS  Wembley Central: No Step Free Access - Step fr...  \n",
       "3          BOOK  Pudding Mill Lane: No Step Free Access - Step ...  \n",
       "4         LoCon  GREEN PARK STATION: Until Autumn 2025, no step...  \n",
       "5         RPLDS  Wembley Central: No Step Free Access - Step fr...  \n",
       "6           USB  Wembley Central: No Step Free Access - Step fr...  \n",
       "7         CONNA  Prince Regent DLR: No step free access - Step ...  \n",
       "8         DLREB  Prince Regent DLR: No step free access - Step ...  \n",
       "9         DLRWB  Prince Regent DLR: No step free access - Step ...  "
      ]
     },
     "execution_count": 16,
     "metadata": {},
     "output_type": "execute_result"
    }
   ],
   "source": [
    "#create dataframe from the lift json\n",
    "\n",
    "df = pd.DataFrame(data_lifts)\n",
    "\n",
    "df.head(10)"
   ]
  },
  {
   "cell_type": "code",
   "execution_count": 13,
   "metadata": {},
   "outputs": [
    {
     "name": "stdout",
     "output_type": "stream",
     "text": [
      "    icsCode   naptanCode             stopPointName outageStartArea outageEndArea                                                                                                                                                                                                                                                                                                                                                                                         message\n",
      "0   1000256     910GWMBY   Wembley Central Station             RLY         RPLDS                                                                                                                                                Wembley Central: No Step Free Access - Step free access is not available to the southbound Bakerloo line / Lioness line platform and to the southbound Southern/London Northwestern platform. Call us on 0343 222 1234 if you need further info.\n",
      "1   1000256     910GWMBY   Wembley Central Station             RLY           USB                                                                                                                                                Wembley Central: No Step Free Access - Step free access is not available to the southbound Bakerloo line / Lioness line platform and to the southbound Southern/London Northwestern platform. Call us on 0343 222 1234 if you need further info.\n",
      "2   1000256     910GWMBY   Wembley Central Station             RLY         RPLAS                                                                                                                                                Wembley Central: No Step Free Access - Step free access is not available to the southbound Bakerloo line / Lioness line platform and to the southbound Southern/London Northwestern platform. Call us on 0343 222 1234 if you need further info.\n",
      "3   1002066  940GZZDLPUD         Pudding Mill Lane           DLR-E          BOOK                                                                                                                                                                                                  Pudding Mill Lane: No Step Free Access - Step free access is not available for trains towards Stratford due to a faulty lift. Call us on 0343 222 1234 if you need help planning your journey.\n",
      "4   1000093  940GZZLUGPK        Green Park Station             JUB         LoCon                                                                                                                                                                                                                        GREEN PARK STATION: Until Autumn 2025, no step-free access to/from Jubilee line. Please travel via Westminster and Victoria, using the Victoria line to/from Green Park.\n",
      "5   1000256     910GWMBY   Wembley Central Station             RLY         RPLDS                                                                                                                                                                                                                                                                                            Wembley Central: No Step Free Access - Step free access is not available due to planned maintenance.\n",
      "6   1000256     910GWMBY   Wembley Central Station             RLY           USB                                                                                                                                                                                                                                                                                            Wembley Central: No Step Free Access - Step free access is not available due to planned maintenance.\n",
      "7   1002065  940GZZDLPRE             Prince Regent           Bridg         CONNA                                                                                                                                                                                                                                Prince Regent DLR: No step free access - Step free access is not available due to faulty lifts. Call us on 0343 222 1234 if you need help planning your journey.\n",
      "8   1002065  940GZZDLPRE             Prince Regent           Bridg         DLREB                                                                                                                                                                                                                                Prince Regent DLR: No step free access - Step free access is not available due to faulty lifts. Call us on 0343 222 1234 if you need help planning your journey.\n",
      "9   1002065  940GZZDLPRE             Prince Regent           Bridg         DLRWB                                                                                                                                                                                                                                Prince Regent DLR: No step free access - Step free access is not available due to faulty lifts. Call us on 0343 222 1234 if you need help planning your journey.\n",
      "10  1001048     910GCNNB         Canonbury Station            Entr         RPL 1                                                                                                                                                                              Canonbury: Step free access is not available to the northbound platform (towards Highbury & Islington) due to a faulty lift. Take a train from platform 3 instead. Call us on 0343 222 1234 if you need more help.\n",
      "11  1003000  940GZZDLWLA      Woolwich Arsenal DLR            DLRI          None                                                                                                                                                                                         Woolwich Arsenal: No Step Free Access - Step free access is not available to the eastbound Southeastern platform due to a faulty lift. Call us on 0343 222 1234 if you need help planning your journey.\n",
      "12  1003006  940GZZDLABR    Abbey Road DLR Station           BOOKH          DLRS                                                                                                                                                                                                                                                      Abbey Road: Step free access is not available due to planned maintenance. Call us on 0343 222 1234 if you need help planning your journey.\n",
      "13  1003006  940GZZDLABR    Abbey Road DLR Station           BOOKH          DLRN                                                                                                                                                                                                                                                      Abbey Road: Step free access is not available due to planned maintenance. Call us on 0343 222 1234 if you need help planning your journey.\n",
      "14  1000226     910GSTFD         Stratford Station           CenWB         Sub-W  STRATFORD STATION: From Friday 17 January until Wednesday 19 February, the lifts between the western subway and Central line / Elizabeth line platforms will be closed for maintenance works. Alternative lifts are available between the central subway and these platforms, however interchange between the Jubilee line / DLR platforms and Central line / Elizabeth line will take longer.\n",
      "15  1000226     910GSTFD         Stratford Station           Sub-W         RPL-W  STRATFORD STATION: From Friday 17 January until Wednesday 19 February, the lifts between the western subway and Central line / Elizabeth line platforms will be closed for maintenance works. Alternative lifts are available between the central subway and these platforms, however interchange between the Jubilee line / DLR platforms and Central line / Elizabeth line will take longer.\n",
      "16  1000226     910GSTFD         Stratford Station           Sub-W         CenEB  STRATFORD STATION: From Friday 17 January until Wednesday 19 February, the lifts between the western subway and Central line / Elizabeth line platforms will be closed for maintenance works. Alternative lifts are available between the central subway and these platforms, however interchange between the Jubilee line / DLR platforms and Central line / Elizabeth line will take longer.\n",
      "17  1000226     910GSTFD         Stratford Station           Sub-W         RPL-E  STRATFORD STATION: From Friday 17 January until Wednesday 19 February, the lifts between the western subway and Central line / Elizabeth line platforms will be closed for maintenance works. Alternative lifts are available between the central subway and these platforms, however interchange between the Jubilee line / DLR platforms and Central line / Elizabeth line will take longer.\n",
      "18  1002099  940GZZDLPDK  Pontoon Dock Station DLR           DLR-W           NWR                                                                                                                                                                        PONTOON DOCK STATION: Until March 2025, no lift service towards Bank / Stratford International. Please travel via West Silvertown or London City Airport as necessary, changing to/from Woolwich Arsenal bound services.\n",
      "19  1001069  910GCLPHMJC  Clapham Junction Station             RLY         RPL-K                                                                                                                                                          Clapham Junction: No Step Free Access - Step free access is not available between the footbridge and platforms 1 & 2 due to a faulty lift. Use the entrance on Grant Road instead. Call 0343 222 1234 if you need further information.\n",
      "20  1000215  940GZZLUSWK         Southwark Station           BookH         Jubil                                                                                                                                                                                                                                       Southwark: No Step free Access - Step free access is not available due to a faulty lift. Call us on 0343 222 1234 if you need help planning your journey.\n",
      "21  1000215  940GZZLUSWK         Southwark Station           BookH         JubWB                                                                                                                                                                                                                                       Southwark: No Step free Access - Step free access is not available due to a faulty lift. Call us on 0343 222 1234 if you need help planning your journey.\n",
      "22  1002064  940GZZDLPOP                    Poplar           BRIDG         ASPEN                                                                                                                                                                                                                                              Poplar: Step free access is not available to/from Aspen Way due to a faulty lift. Call us on 0343 222 1234 if you need help planning your journey.\n",
      "23  1002099  940GZZDLPDK  Pontoon Dock Station DLR             NWR         DLR-W                                                                                                                                                                                                                          Pontoon Dock: Step free access is not available for trains towards Canning Town due to a faulty lift. Call us on 0343 222 1234 if you need help planning your journey.\n",
      "24  1001092  910GEDMNGRN    Edmonton Green Station           RPL-N           RLY                                                                                                                                                                                                       Edmonton Green: No Step Free Access - Step free access is not available to the northbound platform due to a faulty lift. Call us on 0343 222 1234 if you need help planning your journey.\n"
     ]
    }
   ],
   "source": [
    "#.to-string prints the entire dataframe\n",
    "print(df.to_string())"
   ]
  }
 ],
 "metadata": {
  "kernelspec": {
   "display_name": "Python 3",
   "language": "python",
   "name": "python3"
  },
  "language_info": {
   "codemirror_mode": {
    "name": "ipython",
    "version": 3
   },
   "file_extension": ".py",
   "mimetype": "text/x-python",
   "name": "python",
   "nbconvert_exporter": "python",
   "pygments_lexer": "ipython3",
   "version": "3.11.9"
  }
 },
 "nbformat": 4,
 "nbformat_minor": 2
}
