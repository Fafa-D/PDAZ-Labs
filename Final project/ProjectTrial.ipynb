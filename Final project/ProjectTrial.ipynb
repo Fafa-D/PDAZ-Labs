{
 "cells": [
  {
   "cell_type": "code",
   "execution_count": 93,
   "metadata": {},
   "outputs": [],
   "source": [
    "#Importing libraries\n",
    "#Import libraries\n",
    "import pandas as pd\n",
    "import requests\n",
    "import plotly.express as px\n",
    "from shapely.geometry import Point, Polygon\n",
    "import numpy as np"
   ]
  },
  {
   "cell_type": "code",
   "execution_count": 94,
   "metadata": {},
   "outputs": [
    {
     "name": "stdout",
     "output_type": "stream",
     "text": [
      "There are 11 tube lines in the TfL underground network.\n",
      "These lines are: Bakerloo, Central, Circle, District, Hammersmith-City, Jubilee, Metropolitan, Northern, Piccadilly, Victoria, Waterloo-City.\n"
     ]
    }
   ],
   "source": [
    "#Access API with list of all lines of a mode of transport, tube as the selected mode as specified in the url\n",
    "\n",
    "url_tube_lines = \"https://api.tfl.gov.uk/Line/Mode/tube\"\n",
    "\n",
    "response_tl = requests.get(url_tube_lines)\n",
    "data_tl = response_tl.json()\n",
    "\n",
    "\n",
    "#Create data frame of the information\n",
    "df_tl = pd.DataFrame(data_tl)\n",
    "\n",
    "#create a list of the tubelines from the dataframe\n",
    "\n",
    "TubeLines = []\n",
    "\n",
    "for i in df_tl.loc[:, \"id\"]:\n",
    "    TubeLines.append(i)\n",
    "\n",
    "print(f\"There are {len(TubeLines)} tube lines in the TfL underground network.\")\n",
    "print(f\"These lines are: {', '.join([x.title() for x in TubeLines])}.\")\n",
    "\n"
   ]
  },
  {
   "cell_type": "code",
   "execution_count": 151,
   "metadata": {},
   "outputs": [
    {
     "name": "stdout",
     "output_type": "stream",
     "text": [
      "{'bakerloo': 'rgb(137, 78, 36)', 'central': 'rgb(220, 36, 31)', 'circle': 'rgb(255, 206, 0)', 'district': 'rgb(0, 114, 41)', 'hammersmith-city': 'rgb(215, 153, 175)', 'jubilee': 'rgb(134, 143, 152)', 'metropolitan': 'rgb(117, 16, 86)', 'northern': 'rgb(0, 0, 0)', 'piccadilly': 'rgb(0, 25, 168)', 'victoria': 'rgb(0, 160, 226)', 'waterloo-city': 'rgb(118, 208, 189)'}\n"
     ]
    }
   ],
   "source": [
    "#creating a list of colours in the same order as the TubeLines list\n",
    "tfl_colours = ['rgb(137, 78, 36)', 'rgb(220, 36, 31)', 'rgb(255, 206, 0)', 'rgb(0, 114, 41)', 'rgb(215, 153, 175)', 'rgb(134, 143, 152)', 'rgb(117, 16, 86)', 'rgb(0, 0, 0)', \n",
    "'rgb(0, 25, 168)', 'rgb(0, 160, 226)', 'rgb(118, 208, 189)']\n",
    "\n",
    "#Joining the two lists together to make a dictionary using zip\n",
    "colours_dict = {line:colour for (line,colour) in zip(TubeLines, tfl_colours)}\n",
    "\n",
    "print(colours_dict)"
   ]
  },
  {
   "cell_type": "code",
   "execution_count": 158,
   "metadata": {},
   "outputs": [
    {
     "name": "stdout",
     "output_type": "stream",
     "text": [
      "rgb(137, 78, 36)\n"
     ]
    }
   ],
   "source": [
    "#reference the dictionary\n",
    "\n",
    "print(colours_dict[f\"{TubeLines[0]}\"])"
   ]
  },
  {
   "cell_type": "code",
   "execution_count": null,
   "metadata": {},
   "outputs": [],
   "source": [
    "print(colours_dict['bakerloo'])"
   ]
  },
  {
   "cell_type": "code",
   "execution_count": 95,
   "metadata": {},
   "outputs": [
    {
     "data": {
      "text/html": [
       "<div>\n",
       "<style scoped>\n",
       "    .dataframe tbody tr th:only-of-type {\n",
       "        vertical-align: middle;\n",
       "    }\n",
       "\n",
       "    .dataframe tbody tr th {\n",
       "        vertical-align: top;\n",
       "    }\n",
       "\n",
       "    .dataframe thead th {\n",
       "        text-align: right;\n",
       "    }\n",
       "</style>\n",
       "<table border=\"1\" class=\"dataframe\">\n",
       "  <thead>\n",
       "    <tr style=\"text-align: right;\">\n",
       "      <th></th>\n",
       "      <th>naptanId</th>\n",
       "      <th>commonName</th>\n",
       "      <th>lat</th>\n",
       "      <th>lon</th>\n",
       "    </tr>\n",
       "  </thead>\n",
       "  <tbody>\n",
       "    <tr>\n",
       "      <th>0</th>\n",
       "      <td>940GZZLUBLR</td>\n",
       "      <td>Blackhorse Road Underground Station</td>\n",
       "      <td>51.586919</td>\n",
       "      <td>-0.041150</td>\n",
       "    </tr>\n",
       "    <tr>\n",
       "      <th>1</th>\n",
       "      <td>940GZZLUBXN</td>\n",
       "      <td>Brixton Underground Station</td>\n",
       "      <td>51.462618</td>\n",
       "      <td>-0.114888</td>\n",
       "    </tr>\n",
       "    <tr>\n",
       "      <th>2</th>\n",
       "      <td>940GZZLUEUS</td>\n",
       "      <td>Euston Underground Station</td>\n",
       "      <td>51.527824</td>\n",
       "      <td>-0.131846</td>\n",
       "    </tr>\n",
       "    <tr>\n",
       "      <th>3</th>\n",
       "      <td>940GZZLUFPK</td>\n",
       "      <td>Finsbury Park Underground Station</td>\n",
       "      <td>51.564158</td>\n",
       "      <td>-0.106825</td>\n",
       "    </tr>\n",
       "    <tr>\n",
       "      <th>4</th>\n",
       "      <td>940GZZLUGPK</td>\n",
       "      <td>Green Park Underground Station</td>\n",
       "      <td>51.506947</td>\n",
       "      <td>-0.142787</td>\n",
       "    </tr>\n",
       "    <tr>\n",
       "      <th>5</th>\n",
       "      <td>940GZZLUHAI</td>\n",
       "      <td>Highbury &amp; Islington Underground Station</td>\n",
       "      <td>51.546350</td>\n",
       "      <td>-0.103324</td>\n",
       "    </tr>\n",
       "    <tr>\n",
       "      <th>6</th>\n",
       "      <td>940GZZLUKSX</td>\n",
       "      <td>King's Cross St. Pancras Underground Station</td>\n",
       "      <td>51.530663</td>\n",
       "      <td>-0.123194</td>\n",
       "    </tr>\n",
       "    <tr>\n",
       "      <th>7</th>\n",
       "      <td>940GZZLUOXC</td>\n",
       "      <td>Oxford Circus Underground Station</td>\n",
       "      <td>51.515224</td>\n",
       "      <td>-0.141903</td>\n",
       "    </tr>\n",
       "    <tr>\n",
       "      <th>8</th>\n",
       "      <td>940GZZLUPCO</td>\n",
       "      <td>Pimlico Underground Station</td>\n",
       "      <td>51.489097</td>\n",
       "      <td>-0.133761</td>\n",
       "    </tr>\n",
       "    <tr>\n",
       "      <th>9</th>\n",
       "      <td>940GZZLUSKW</td>\n",
       "      <td>Stockwell Underground Station</td>\n",
       "      <td>51.472184</td>\n",
       "      <td>-0.122644</td>\n",
       "    </tr>\n",
       "  </tbody>\n",
       "</table>\n",
       "</div>"
      ],
      "text/plain": [
       "      naptanId                                    commonName        lat  \\\n",
       "0  940GZZLUBLR           Blackhorse Road Underground Station  51.586919   \n",
       "1  940GZZLUBXN                   Brixton Underground Station  51.462618   \n",
       "2  940GZZLUEUS                    Euston Underground Station  51.527824   \n",
       "3  940GZZLUFPK             Finsbury Park Underground Station  51.564158   \n",
       "4  940GZZLUGPK                Green Park Underground Station  51.506947   \n",
       "5  940GZZLUHAI      Highbury & Islington Underground Station  51.546350   \n",
       "6  940GZZLUKSX  King's Cross St. Pancras Underground Station  51.530663   \n",
       "7  940GZZLUOXC             Oxford Circus Underground Station  51.515224   \n",
       "8  940GZZLUPCO                   Pimlico Underground Station  51.489097   \n",
       "9  940GZZLUSKW                 Stockwell Underground Station  51.472184   \n",
       "\n",
       "        lon  \n",
       "0 -0.041150  \n",
       "1 -0.114888  \n",
       "2 -0.131846  \n",
       "3 -0.106825  \n",
       "4 -0.142787  \n",
       "5 -0.103324  \n",
       "6 -0.123194  \n",
       "7 -0.141903  \n",
       "8 -0.133761  \n",
       "9 -0.122644  "
      ]
     },
     "execution_count": 95,
     "metadata": {},
     "output_type": "execute_result"
    }
   ],
   "source": [
    "#Collating data frames for tube analysis\n",
    "\n",
    "#Accessing the API showing tube stations on one line\n",
    "url_tube_stations = \"https://api.tfl.gov.uk/Line/Victoria/StopPoints\"\n",
    "\n",
    "\n",
    "response_ts = requests.get(url_tube_stations)\n",
    "data_ts = response_ts.json()\n",
    "\n",
    "#Create data frame from the information from the API about the tube stops\n",
    "\n",
    "df_ts = pd.DataFrame(data_ts)\n",
    "\n",
    "\n",
    "#Creating a new data frame using only the columns I need for analysis\n",
    "\n",
    "df_og = df_ts[[\"naptanId\", \"commonName\", \"lat\", \"lon\"]]\n",
    "\n",
    "\n",
    "df_og.head(10)\n"
   ]
  },
  {
   "cell_type": "code",
   "execution_count": 4,
   "metadata": {},
   "outputs": [
    {
     "data": {
      "text/html": [
       "<div>\n",
       "<style scoped>\n",
       "    .dataframe tbody tr th:only-of-type {\n",
       "        vertical-align: middle;\n",
       "    }\n",
       "\n",
       "    .dataframe tbody tr th {\n",
       "        vertical-align: top;\n",
       "    }\n",
       "\n",
       "    .dataframe thead th {\n",
       "        text-align: right;\n",
       "    }\n",
       "</style>\n",
       "<table border=\"1\" class=\"dataframe\">\n",
       "  <thead>\n",
       "    <tr style=\"text-align: right;\">\n",
       "      <th></th>\n",
       "      <th>naptanId</th>\n",
       "      <th>FareZones</th>\n",
       "      <th>Wifi</th>\n",
       "      <th>BlueBadgeCarParking</th>\n",
       "      <th>BlueBadgeCarParkSpaces</th>\n",
       "      <th>TaxiRanksOutsideStation</th>\n",
       "    </tr>\n",
       "  </thead>\n",
       "  <tbody>\n",
       "    <tr>\n",
       "      <th>0</th>\n",
       "      <td>HUBABW</td>\n",
       "      <td>4</td>\n",
       "      <td>False</td>\n",
       "      <td>False</td>\n",
       "      <td>NaN</td>\n",
       "      <td>False</td>\n",
       "    </tr>\n",
       "    <tr>\n",
       "      <th>1</th>\n",
       "      <td>910GACTNCTL</td>\n",
       "      <td>3</td>\n",
       "      <td>True</td>\n",
       "      <td>False</td>\n",
       "      <td>NaN</td>\n",
       "      <td>False</td>\n",
       "    </tr>\n",
       "    <tr>\n",
       "      <th>2</th>\n",
       "      <td>910GACTONML</td>\n",
       "      <td>3</td>\n",
       "      <td>False</td>\n",
       "      <td>False</td>\n",
       "      <td>NaN</td>\n",
       "      <td>False</td>\n",
       "    </tr>\n",
       "    <tr>\n",
       "      <th>3</th>\n",
       "      <td>910GANERLEY</td>\n",
       "      <td>4</td>\n",
       "      <td>True</td>\n",
       "      <td>False</td>\n",
       "      <td>NaN</td>\n",
       "      <td>False</td>\n",
       "    </tr>\n",
       "    <tr>\n",
       "      <th>4</th>\n",
       "      <td>910GBCKNHMH</td>\n",
       "      <td>4</td>\n",
       "      <td>False</td>\n",
       "      <td>False</td>\n",
       "      <td>NaN</td>\n",
       "      <td>False</td>\n",
       "    </tr>\n",
       "    <tr>\n",
       "      <th>5</th>\n",
       "      <td>910GBELNGHM</td>\n",
       "      <td>3</td>\n",
       "      <td>False</td>\n",
       "      <td>False</td>\n",
       "      <td>NaN</td>\n",
       "      <td>False</td>\n",
       "    </tr>\n",
       "    <tr>\n",
       "      <th>6</th>\n",
       "      <td>910GBHILLPK</td>\n",
       "      <td>5</td>\n",
       "      <td>True</td>\n",
       "      <td>True</td>\n",
       "      <td>2.0</td>\n",
       "      <td>False</td>\n",
       "    </tr>\n",
       "    <tr>\n",
       "      <th>7</th>\n",
       "      <td>910GBICKLEY</td>\n",
       "      <td>5</td>\n",
       "      <td>False</td>\n",
       "      <td>False</td>\n",
       "      <td>NaN</td>\n",
       "      <td>False</td>\n",
       "    </tr>\n",
       "    <tr>\n",
       "      <th>8</th>\n",
       "      <td>910GBNHAM</td>\n",
       "      <td>Outside</td>\n",
       "      <td>False</td>\n",
       "      <td>False</td>\n",
       "      <td>NaN</td>\n",
       "      <td>False</td>\n",
       "    </tr>\n",
       "    <tr>\n",
       "      <th>9</th>\n",
       "      <td>910GBRBY</td>\n",
       "      <td>2</td>\n",
       "      <td>True</td>\n",
       "      <td>False</td>\n",
       "      <td>NaN</td>\n",
       "      <td>False</td>\n",
       "    </tr>\n",
       "  </tbody>\n",
       "</table>\n",
       "</div>"
      ],
      "text/plain": [
       "      naptanId FareZones   Wifi  BlueBadgeCarParking  BlueBadgeCarParkSpaces  \\\n",
       "0       HUBABW         4  False                False                     NaN   \n",
       "1  910GACTNCTL         3   True                False                     NaN   \n",
       "2  910GACTONML         3  False                False                     NaN   \n",
       "3  910GANERLEY         4   True                False                     NaN   \n",
       "4  910GBCKNHMH         4  False                False                     NaN   \n",
       "5  910GBELNGHM         3  False                False                     NaN   \n",
       "6  910GBHILLPK         5   True                 True                     2.0   \n",
       "7  910GBICKLEY         5  False                False                     NaN   \n",
       "8    910GBNHAM   Outside  False                False                     NaN   \n",
       "9     910GBRBY         2   True                False                     NaN   \n",
       "\n",
       "   TaxiRanksOutsideStation  \n",
       "0                    False  \n",
       "1                    False  \n",
       "2                    False  \n",
       "3                    False  \n",
       "4                    False  \n",
       "5                    False  \n",
       "6                    False  \n",
       "7                    False  \n",
       "8                    False  \n",
       "9                    False  "
      ]
     },
     "execution_count": 4,
     "metadata": {},
     "output_type": "execute_result"
    }
   ],
   "source": [
    "#Adding data from other Stations data frame using the naptanId\n",
    "df_Station_Info = pd.read_csv(\"Stations.csv\")  \n",
    "\n",
    "#Creating a new data frame using only the columns I need for analysis\n",
    "df_si = df_Station_Info[[\"UniqueId\", \"FareZones\", \"Wifi\", \"BlueBadgeCarParking\", \"BlueBadgeCarParkSpaces\", \"TaxiRanksOutsideStation\"]]\n",
    "\n",
    "#renaming the UniqueId column to naptanId to match the above data frame for the merge\n",
    "df_si_nap = df_si.rename(columns={'UniqueId': 'naptanId'})\n",
    "\n",
    "df_si_nap.head(10)"
   ]
  },
  {
   "cell_type": "code",
   "execution_count": 5,
   "metadata": {},
   "outputs": [
    {
     "data": {
      "text/html": [
       "<div>\n",
       "<style scoped>\n",
       "    .dataframe tbody tr th:only-of-type {\n",
       "        vertical-align: middle;\n",
       "    }\n",
       "\n",
       "    .dataframe tbody tr th {\n",
       "        vertical-align: top;\n",
       "    }\n",
       "\n",
       "    .dataframe thead th {\n",
       "        text-align: right;\n",
       "    }\n",
       "</style>\n",
       "<table border=\"1\" class=\"dataframe\">\n",
       "  <thead>\n",
       "    <tr style=\"text-align: right;\">\n",
       "      <th></th>\n",
       "      <th>naptanId</th>\n",
       "      <th>commonName</th>\n",
       "      <th>lat</th>\n",
       "      <th>lon</th>\n",
       "      <th>FareZones</th>\n",
       "      <th>Wifi</th>\n",
       "      <th>BlueBadgeCarParking</th>\n",
       "      <th>BlueBadgeCarParkSpaces</th>\n",
       "      <th>TaxiRanksOutsideStation</th>\n",
       "    </tr>\n",
       "  </thead>\n",
       "  <tbody>\n",
       "    <tr>\n",
       "      <th>0</th>\n",
       "      <td>940GZZLUBLR</td>\n",
       "      <td>Blackhorse Road Underground Station</td>\n",
       "      <td>51.586919</td>\n",
       "      <td>-0.041150</td>\n",
       "      <td>NaN</td>\n",
       "      <td>NaN</td>\n",
       "      <td>NaN</td>\n",
       "      <td>NaN</td>\n",
       "      <td>NaN</td>\n",
       "    </tr>\n",
       "    <tr>\n",
       "      <th>1</th>\n",
       "      <td>940GZZLUBXN</td>\n",
       "      <td>Brixton Underground Station</td>\n",
       "      <td>51.462618</td>\n",
       "      <td>-0.114888</td>\n",
       "      <td>NaN</td>\n",
       "      <td>NaN</td>\n",
       "      <td>NaN</td>\n",
       "      <td>NaN</td>\n",
       "      <td>NaN</td>\n",
       "    </tr>\n",
       "    <tr>\n",
       "      <th>2</th>\n",
       "      <td>940GZZLUEUS</td>\n",
       "      <td>Euston Underground Station</td>\n",
       "      <td>51.527824</td>\n",
       "      <td>-0.131846</td>\n",
       "      <td>NaN</td>\n",
       "      <td>NaN</td>\n",
       "      <td>NaN</td>\n",
       "      <td>NaN</td>\n",
       "      <td>NaN</td>\n",
       "    </tr>\n",
       "    <tr>\n",
       "      <th>3</th>\n",
       "      <td>940GZZLUFPK</td>\n",
       "      <td>Finsbury Park Underground Station</td>\n",
       "      <td>51.564158</td>\n",
       "      <td>-0.106825</td>\n",
       "      <td>NaN</td>\n",
       "      <td>NaN</td>\n",
       "      <td>NaN</td>\n",
       "      <td>NaN</td>\n",
       "      <td>NaN</td>\n",
       "    </tr>\n",
       "    <tr>\n",
       "      <th>4</th>\n",
       "      <td>940GZZLUGPK</td>\n",
       "      <td>Green Park Underground Station</td>\n",
       "      <td>51.506947</td>\n",
       "      <td>-0.142787</td>\n",
       "      <td>1</td>\n",
       "      <td>True</td>\n",
       "      <td>False</td>\n",
       "      <td>NaN</td>\n",
       "      <td>False</td>\n",
       "    </tr>\n",
       "    <tr>\n",
       "      <th>5</th>\n",
       "      <td>940GZZLUHAI</td>\n",
       "      <td>Highbury &amp; Islington Underground Station</td>\n",
       "      <td>51.546350</td>\n",
       "      <td>-0.103324</td>\n",
       "      <td>NaN</td>\n",
       "      <td>NaN</td>\n",
       "      <td>NaN</td>\n",
       "      <td>NaN</td>\n",
       "      <td>NaN</td>\n",
       "    </tr>\n",
       "    <tr>\n",
       "      <th>6</th>\n",
       "      <td>940GZZLUKSX</td>\n",
       "      <td>King's Cross St. Pancras Underground Station</td>\n",
       "      <td>51.530663</td>\n",
       "      <td>-0.123194</td>\n",
       "      <td>NaN</td>\n",
       "      <td>NaN</td>\n",
       "      <td>NaN</td>\n",
       "      <td>NaN</td>\n",
       "      <td>NaN</td>\n",
       "    </tr>\n",
       "    <tr>\n",
       "      <th>7</th>\n",
       "      <td>940GZZLUOXC</td>\n",
       "      <td>Oxford Circus Underground Station</td>\n",
       "      <td>51.515224</td>\n",
       "      <td>-0.141903</td>\n",
       "      <td>1</td>\n",
       "      <td>True</td>\n",
       "      <td>False</td>\n",
       "      <td>NaN</td>\n",
       "      <td>False</td>\n",
       "    </tr>\n",
       "    <tr>\n",
       "      <th>8</th>\n",
       "      <td>940GZZLUPCO</td>\n",
       "      <td>Pimlico Underground Station</td>\n",
       "      <td>51.489097</td>\n",
       "      <td>-0.133761</td>\n",
       "      <td>1</td>\n",
       "      <td>True</td>\n",
       "      <td>False</td>\n",
       "      <td>NaN</td>\n",
       "      <td>False</td>\n",
       "    </tr>\n",
       "    <tr>\n",
       "      <th>9</th>\n",
       "      <td>940GZZLUSKW</td>\n",
       "      <td>Stockwell Underground Station</td>\n",
       "      <td>51.472184</td>\n",
       "      <td>-0.122644</td>\n",
       "      <td>2</td>\n",
       "      <td>True</td>\n",
       "      <td>False</td>\n",
       "      <td>NaN</td>\n",
       "      <td>False</td>\n",
       "    </tr>\n",
       "  </tbody>\n",
       "</table>\n",
       "</div>"
      ],
      "text/plain": [
       "      naptanId                                    commonName        lat  \\\n",
       "0  940GZZLUBLR           Blackhorse Road Underground Station  51.586919   \n",
       "1  940GZZLUBXN                   Brixton Underground Station  51.462618   \n",
       "2  940GZZLUEUS                    Euston Underground Station  51.527824   \n",
       "3  940GZZLUFPK             Finsbury Park Underground Station  51.564158   \n",
       "4  940GZZLUGPK                Green Park Underground Station  51.506947   \n",
       "5  940GZZLUHAI      Highbury & Islington Underground Station  51.546350   \n",
       "6  940GZZLUKSX  King's Cross St. Pancras Underground Station  51.530663   \n",
       "7  940GZZLUOXC             Oxford Circus Underground Station  51.515224   \n",
       "8  940GZZLUPCO                   Pimlico Underground Station  51.489097   \n",
       "9  940GZZLUSKW                 Stockwell Underground Station  51.472184   \n",
       "\n",
       "        lon FareZones  Wifi BlueBadgeCarParking  BlueBadgeCarParkSpaces  \\\n",
       "0 -0.041150       NaN   NaN                 NaN                     NaN   \n",
       "1 -0.114888       NaN   NaN                 NaN                     NaN   \n",
       "2 -0.131846       NaN   NaN                 NaN                     NaN   \n",
       "3 -0.106825       NaN   NaN                 NaN                     NaN   \n",
       "4 -0.142787         1  True               False                     NaN   \n",
       "5 -0.103324       NaN   NaN                 NaN                     NaN   \n",
       "6 -0.123194       NaN   NaN                 NaN                     NaN   \n",
       "7 -0.141903         1  True               False                     NaN   \n",
       "8 -0.133761         1  True               False                     NaN   \n",
       "9 -0.122644         2  True               False                     NaN   \n",
       "\n",
       "  TaxiRanksOutsideStation  \n",
       "0                     NaN  \n",
       "1                     NaN  \n",
       "2                     NaN  \n",
       "3                     NaN  \n",
       "4                   False  \n",
       "5                     NaN  \n",
       "6                     NaN  \n",
       "7                   False  \n",
       "8                   False  \n",
       "9                   False  "
      ]
     },
     "execution_count": 5,
     "metadata": {},
     "output_type": "execute_result"
    }
   ],
   "source": [
    "#Adding the information from stations.csv to the tube line information based on the naptanId\n",
    "df_og_si = pd.merge(df_og, df_si_nap, on='naptanId', how='left')\n",
    "\n",
    "df_og_si.head(10)\n"
   ]
  },
  {
   "cell_type": "code",
   "execution_count": 6,
   "metadata": {},
   "outputs": [
    {
     "name": "stdout",
     "output_type": "stream",
     "text": [
      "The dataset contains 16 rows and 9 columns.\n"
     ]
    }
   ],
   "source": [
    "#Checking if the merge has the right amount of rows\n",
    "print(f\"The dataset contains {df_og_si.shape[0]} rows and {df_og_si.shape[1]} columns.\")"
   ]
  },
  {
   "cell_type": "code",
   "execution_count": null,
   "metadata": {},
   "outputs": [],
   "source": []
  },
  {
   "cell_type": "code",
   "execution_count": 87,
   "metadata": {},
   "outputs": [
    {
     "data": {
      "text/html": [
       "<div>\n",
       "<style scoped>\n",
       "    .dataframe tbody tr th:only-of-type {\n",
       "        vertical-align: middle;\n",
       "    }\n",
       "\n",
       "    .dataframe tbody tr th {\n",
       "        vertical-align: top;\n",
       "    }\n",
       "\n",
       "    .dataframe thead th {\n",
       "        text-align: right;\n",
       "    }\n",
       "</style>\n",
       "<table border=\"1\" class=\"dataframe\">\n",
       "  <thead>\n",
       "    <tr style=\"text-align: right;\">\n",
       "      <th></th>\n",
       "      <th>naptanId</th>\n",
       "      <th>commonName</th>\n",
       "      <th>lat</th>\n",
       "      <th>lon</th>\n",
       "      <th>FareZones</th>\n",
       "      <th>Wifi</th>\n",
       "      <th>BlueBadgeCarParking</th>\n",
       "      <th>BlueBadgeCarParkSpaces</th>\n",
       "      <th>TaxiRanksOutsideStation</th>\n",
       "      <th>NumToilets</th>\n",
       "      <th>HasAccessibleToilets</th>\n",
       "    </tr>\n",
       "  </thead>\n",
       "  <tbody>\n",
       "    <tr>\n",
       "      <th>0</th>\n",
       "      <td>940GZZLUBLR</td>\n",
       "      <td>Blackhorse Road Underground Station</td>\n",
       "      <td>51.586919</td>\n",
       "      <td>-0.041150</td>\n",
       "      <td>NaN</td>\n",
       "      <td>NaN</td>\n",
       "      <td>NaN</td>\n",
       "      <td>NaN</td>\n",
       "      <td>NaN</td>\n",
       "      <td>NaN</td>\n",
       "      <td>NaN</td>\n",
       "    </tr>\n",
       "    <tr>\n",
       "      <th>1</th>\n",
       "      <td>940GZZLUBXN</td>\n",
       "      <td>Brixton Underground Station</td>\n",
       "      <td>51.462618</td>\n",
       "      <td>-0.114888</td>\n",
       "      <td>NaN</td>\n",
       "      <td>NaN</td>\n",
       "      <td>NaN</td>\n",
       "      <td>NaN</td>\n",
       "      <td>NaN</td>\n",
       "      <td>NaN</td>\n",
       "      <td>NaN</td>\n",
       "    </tr>\n",
       "    <tr>\n",
       "      <th>2</th>\n",
       "      <td>940GZZLUEUS</td>\n",
       "      <td>Euston Underground Station</td>\n",
       "      <td>51.527824</td>\n",
       "      <td>-0.131846</td>\n",
       "      <td>NaN</td>\n",
       "      <td>NaN</td>\n",
       "      <td>NaN</td>\n",
       "      <td>NaN</td>\n",
       "      <td>NaN</td>\n",
       "      <td>NaN</td>\n",
       "      <td>NaN</td>\n",
       "    </tr>\n",
       "    <tr>\n",
       "      <th>3</th>\n",
       "      <td>940GZZLUFPK</td>\n",
       "      <td>Finsbury Park Underground Station</td>\n",
       "      <td>51.564158</td>\n",
       "      <td>-0.106825</td>\n",
       "      <td>NaN</td>\n",
       "      <td>NaN</td>\n",
       "      <td>NaN</td>\n",
       "      <td>NaN</td>\n",
       "      <td>NaN</td>\n",
       "      <td>NaN</td>\n",
       "      <td>NaN</td>\n",
       "    </tr>\n",
       "    <tr>\n",
       "      <th>4</th>\n",
       "      <td>940GZZLUGPK</td>\n",
       "      <td>Green Park Underground Station</td>\n",
       "      <td>51.506947</td>\n",
       "      <td>-0.142787</td>\n",
       "      <td>1</td>\n",
       "      <td>True</td>\n",
       "      <td>False</td>\n",
       "      <td>NaN</td>\n",
       "      <td>False</td>\n",
       "      <td>2.0</td>\n",
       "      <td>False</td>\n",
       "    </tr>\n",
       "  </tbody>\n",
       "</table>\n",
       "</div>"
      ],
      "text/plain": [
       "      naptanId                           commonName        lat       lon  \\\n",
       "0  940GZZLUBLR  Blackhorse Road Underground Station  51.586919 -0.041150   \n",
       "1  940GZZLUBXN          Brixton Underground Station  51.462618 -0.114888   \n",
       "2  940GZZLUEUS           Euston Underground Station  51.527824 -0.131846   \n",
       "3  940GZZLUFPK    Finsbury Park Underground Station  51.564158 -0.106825   \n",
       "4  940GZZLUGPK       Green Park Underground Station  51.506947 -0.142787   \n",
       "\n",
       "  FareZones  Wifi BlueBadgeCarParking  BlueBadgeCarParkSpaces  \\\n",
       "0       NaN   NaN                 NaN                     NaN   \n",
       "1       NaN   NaN                 NaN                     NaN   \n",
       "2       NaN   NaN                 NaN                     NaN   \n",
       "3       NaN   NaN                 NaN                     NaN   \n",
       "4         1  True               False                     NaN   \n",
       "\n",
       "  TaxiRanksOutsideStation  NumToilets HasAccessibleToilets  \n",
       "0                     NaN         NaN                  NaN  \n",
       "1                     NaN         NaN                  NaN  \n",
       "2                     NaN         NaN                  NaN  \n",
       "3                     NaN         NaN                  NaN  \n",
       "4                   False         2.0                False  "
      ]
     },
     "execution_count": 87,
     "metadata": {},
     "output_type": "execute_result"
    }
   ],
   "source": [
    "#reading my custom toilet data csv file I created in TfLCSVs.ipynb\n",
    "df_Toilets = pd.read_csv(\"CustomTfLToilet.csv\")\n",
    "\n",
    "#merging my toilet data csv with the above data frame\n",
    "df_line_data = pd.merge(df_og_si, df_Toilets, on='naptanId', how='left')\n",
    "\n",
    "df_line_data.head()\n"
   ]
  },
  {
   "cell_type": "code",
   "execution_count": 97,
   "metadata": {},
   "outputs": [
    {
     "name": "stdout",
     "output_type": "stream",
     "text": [
      "5\n"
     ]
    }
   ],
   "source": []
  },
  {
   "cell_type": "code",
   "execution_count": 88,
   "metadata": {},
   "outputs": [
    {
     "data": {
      "text/html": [
       "<div>\n",
       "<style scoped>\n",
       "    .dataframe tbody tr th:only-of-type {\n",
       "        vertical-align: middle;\n",
       "    }\n",
       "\n",
       "    .dataframe tbody tr th {\n",
       "        vertical-align: top;\n",
       "    }\n",
       "\n",
       "    .dataframe thead th {\n",
       "        text-align: right;\n",
       "    }\n",
       "</style>\n",
       "<table border=\"1\" class=\"dataframe\">\n",
       "  <thead>\n",
       "    <tr style=\"text-align: right;\">\n",
       "      <th></th>\n",
       "      <th>naptanId</th>\n",
       "      <th>commonName</th>\n",
       "      <th>lat</th>\n",
       "      <th>lon</th>\n",
       "      <th>FareZones</th>\n",
       "      <th>Wifi</th>\n",
       "      <th>BlueBadgeCarParking</th>\n",
       "      <th>BlueBadgeCarParkSpaces</th>\n",
       "      <th>TaxiRanksOutsideStation</th>\n",
       "      <th>NumToilets</th>\n",
       "      <th>HasAccessibleToilets</th>\n",
       "    </tr>\n",
       "  </thead>\n",
       "  <tbody>\n",
       "    <tr>\n",
       "      <th>0</th>\n",
       "      <td>940GZZLUBLR</td>\n",
       "      <td>Blackhorse Road Underground Station</td>\n",
       "      <td>51.586919</td>\n",
       "      <td>-0.041150</td>\n",
       "      <td>n/a</td>\n",
       "      <td>n/a</td>\n",
       "      <td>n/a</td>\n",
       "      <td>n/a</td>\n",
       "      <td>n/a</td>\n",
       "      <td>n/a</td>\n",
       "      <td>n/a</td>\n",
       "    </tr>\n",
       "    <tr>\n",
       "      <th>1</th>\n",
       "      <td>940GZZLUBXN</td>\n",
       "      <td>Brixton Underground Station</td>\n",
       "      <td>51.462618</td>\n",
       "      <td>-0.114888</td>\n",
       "      <td>n/a</td>\n",
       "      <td>n/a</td>\n",
       "      <td>n/a</td>\n",
       "      <td>n/a</td>\n",
       "      <td>n/a</td>\n",
       "      <td>n/a</td>\n",
       "      <td>n/a</td>\n",
       "    </tr>\n",
       "    <tr>\n",
       "      <th>2</th>\n",
       "      <td>940GZZLUEUS</td>\n",
       "      <td>Euston Underground Station</td>\n",
       "      <td>51.527824</td>\n",
       "      <td>-0.131846</td>\n",
       "      <td>n/a</td>\n",
       "      <td>n/a</td>\n",
       "      <td>n/a</td>\n",
       "      <td>n/a</td>\n",
       "      <td>n/a</td>\n",
       "      <td>n/a</td>\n",
       "      <td>n/a</td>\n",
       "    </tr>\n",
       "    <tr>\n",
       "      <th>3</th>\n",
       "      <td>940GZZLUFPK</td>\n",
       "      <td>Finsbury Park Underground Station</td>\n",
       "      <td>51.564158</td>\n",
       "      <td>-0.106825</td>\n",
       "      <td>n/a</td>\n",
       "      <td>n/a</td>\n",
       "      <td>n/a</td>\n",
       "      <td>n/a</td>\n",
       "      <td>n/a</td>\n",
       "      <td>n/a</td>\n",
       "      <td>n/a</td>\n",
       "    </tr>\n",
       "    <tr>\n",
       "      <th>4</th>\n",
       "      <td>940GZZLUGPK</td>\n",
       "      <td>Green Park Underground Station</td>\n",
       "      <td>51.506947</td>\n",
       "      <td>-0.142787</td>\n",
       "      <td>1</td>\n",
       "      <td>Yes</td>\n",
       "      <td>None</td>\n",
       "      <td>n/a</td>\n",
       "      <td>None</td>\n",
       "      <td>2.0</td>\n",
       "      <td>None</td>\n",
       "    </tr>\n",
       "    <tr>\n",
       "      <th>5</th>\n",
       "      <td>940GZZLUHAI</td>\n",
       "      <td>Highbury &amp; Islington Underground Station</td>\n",
       "      <td>51.546350</td>\n",
       "      <td>-0.103324</td>\n",
       "      <td>n/a</td>\n",
       "      <td>n/a</td>\n",
       "      <td>n/a</td>\n",
       "      <td>n/a</td>\n",
       "      <td>n/a</td>\n",
       "      <td>n/a</td>\n",
       "      <td>n/a</td>\n",
       "    </tr>\n",
       "    <tr>\n",
       "      <th>6</th>\n",
       "      <td>940GZZLUKSX</td>\n",
       "      <td>King's Cross St. Pancras Underground Station</td>\n",
       "      <td>51.530663</td>\n",
       "      <td>-0.123194</td>\n",
       "      <td>n/a</td>\n",
       "      <td>n/a</td>\n",
       "      <td>n/a</td>\n",
       "      <td>n/a</td>\n",
       "      <td>n/a</td>\n",
       "      <td>n/a</td>\n",
       "      <td>n/a</td>\n",
       "    </tr>\n",
       "    <tr>\n",
       "      <th>7</th>\n",
       "      <td>940GZZLUOXC</td>\n",
       "      <td>Oxford Circus Underground Station</td>\n",
       "      <td>51.515224</td>\n",
       "      <td>-0.141903</td>\n",
       "      <td>1</td>\n",
       "      <td>Yes</td>\n",
       "      <td>None</td>\n",
       "      <td>n/a</td>\n",
       "      <td>None</td>\n",
       "      <td>n/a</td>\n",
       "      <td>n/a</td>\n",
       "    </tr>\n",
       "    <tr>\n",
       "      <th>8</th>\n",
       "      <td>940GZZLUPCO</td>\n",
       "      <td>Pimlico Underground Station</td>\n",
       "      <td>51.489097</td>\n",
       "      <td>-0.133761</td>\n",
       "      <td>1</td>\n",
       "      <td>Yes</td>\n",
       "      <td>None</td>\n",
       "      <td>n/a</td>\n",
       "      <td>None</td>\n",
       "      <td>n/a</td>\n",
       "      <td>n/a</td>\n",
       "    </tr>\n",
       "    <tr>\n",
       "      <th>9</th>\n",
       "      <td>940GZZLUSKW</td>\n",
       "      <td>Stockwell Underground Station</td>\n",
       "      <td>51.472184</td>\n",
       "      <td>-0.122644</td>\n",
       "      <td>2</td>\n",
       "      <td>Yes</td>\n",
       "      <td>None</td>\n",
       "      <td>n/a</td>\n",
       "      <td>None</td>\n",
       "      <td>n/a</td>\n",
       "      <td>n/a</td>\n",
       "    </tr>\n",
       "    <tr>\n",
       "      <th>10</th>\n",
       "      <td>940GZZLUSVS</td>\n",
       "      <td>Seven Sisters Underground Station</td>\n",
       "      <td>51.583330</td>\n",
       "      <td>-0.072584</td>\n",
       "      <td>n/a</td>\n",
       "      <td>n/a</td>\n",
       "      <td>n/a</td>\n",
       "      <td>n/a</td>\n",
       "      <td>n/a</td>\n",
       "      <td>n/a</td>\n",
       "      <td>n/a</td>\n",
       "    </tr>\n",
       "    <tr>\n",
       "      <th>11</th>\n",
       "      <td>940GZZLUTMH</td>\n",
       "      <td>Tottenham Hale Underground Station</td>\n",
       "      <td>51.588108</td>\n",
       "      <td>-0.060241</td>\n",
       "      <td>n/a</td>\n",
       "      <td>n/a</td>\n",
       "      <td>n/a</td>\n",
       "      <td>n/a</td>\n",
       "      <td>n/a</td>\n",
       "      <td>n/a</td>\n",
       "      <td>n/a</td>\n",
       "    </tr>\n",
       "    <tr>\n",
       "      <th>12</th>\n",
       "      <td>940GZZLUVIC</td>\n",
       "      <td>Victoria Underground Station</td>\n",
       "      <td>51.496359</td>\n",
       "      <td>-0.143102</td>\n",
       "      <td>n/a</td>\n",
       "      <td>n/a</td>\n",
       "      <td>n/a</td>\n",
       "      <td>n/a</td>\n",
       "      <td>n/a</td>\n",
       "      <td>n/a</td>\n",
       "      <td>n/a</td>\n",
       "    </tr>\n",
       "    <tr>\n",
       "      <th>13</th>\n",
       "      <td>940GZZLUVXL</td>\n",
       "      <td>Vauxhall Underground Station</td>\n",
       "      <td>51.485743</td>\n",
       "      <td>-0.124204</td>\n",
       "      <td>n/a</td>\n",
       "      <td>n/a</td>\n",
       "      <td>n/a</td>\n",
       "      <td>n/a</td>\n",
       "      <td>n/a</td>\n",
       "      <td>n/a</td>\n",
       "      <td>n/a</td>\n",
       "    </tr>\n",
       "    <tr>\n",
       "      <th>14</th>\n",
       "      <td>940GZZLUWRR</td>\n",
       "      <td>Warren Street Underground Station</td>\n",
       "      <td>51.524951</td>\n",
       "      <td>-0.138321</td>\n",
       "      <td>1</td>\n",
       "      <td>Yes</td>\n",
       "      <td>None</td>\n",
       "      <td>n/a</td>\n",
       "      <td>None</td>\n",
       "      <td>n/a</td>\n",
       "      <td>n/a</td>\n",
       "    </tr>\n",
       "    <tr>\n",
       "      <th>15</th>\n",
       "      <td>940GZZLUWWL</td>\n",
       "      <td>Walthamstow Central Underground Station</td>\n",
       "      <td>51.582965</td>\n",
       "      <td>-0.019885</td>\n",
       "      <td>n/a</td>\n",
       "      <td>n/a</td>\n",
       "      <td>n/a</td>\n",
       "      <td>n/a</td>\n",
       "      <td>n/a</td>\n",
       "      <td>n/a</td>\n",
       "      <td>n/a</td>\n",
       "    </tr>\n",
       "  </tbody>\n",
       "</table>\n",
       "</div>"
      ],
      "text/plain": [
       "       naptanId                                    commonName        lat  \\\n",
       "0   940GZZLUBLR           Blackhorse Road Underground Station  51.586919   \n",
       "1   940GZZLUBXN                   Brixton Underground Station  51.462618   \n",
       "2   940GZZLUEUS                    Euston Underground Station  51.527824   \n",
       "3   940GZZLUFPK             Finsbury Park Underground Station  51.564158   \n",
       "4   940GZZLUGPK                Green Park Underground Station  51.506947   \n",
       "5   940GZZLUHAI      Highbury & Islington Underground Station  51.546350   \n",
       "6   940GZZLUKSX  King's Cross St. Pancras Underground Station  51.530663   \n",
       "7   940GZZLUOXC             Oxford Circus Underground Station  51.515224   \n",
       "8   940GZZLUPCO                   Pimlico Underground Station  51.489097   \n",
       "9   940GZZLUSKW                 Stockwell Underground Station  51.472184   \n",
       "10  940GZZLUSVS             Seven Sisters Underground Station  51.583330   \n",
       "11  940GZZLUTMH            Tottenham Hale Underground Station  51.588108   \n",
       "12  940GZZLUVIC                  Victoria Underground Station  51.496359   \n",
       "13  940GZZLUVXL                  Vauxhall Underground Station  51.485743   \n",
       "14  940GZZLUWRR             Warren Street Underground Station  51.524951   \n",
       "15  940GZZLUWWL       Walthamstow Central Underground Station  51.582965   \n",
       "\n",
       "         lon FareZones Wifi BlueBadgeCarParking BlueBadgeCarParkSpaces  \\\n",
       "0  -0.041150       n/a  n/a                 n/a                    n/a   \n",
       "1  -0.114888       n/a  n/a                 n/a                    n/a   \n",
       "2  -0.131846       n/a  n/a                 n/a                    n/a   \n",
       "3  -0.106825       n/a  n/a                 n/a                    n/a   \n",
       "4  -0.142787         1  Yes                None                    n/a   \n",
       "5  -0.103324       n/a  n/a                 n/a                    n/a   \n",
       "6  -0.123194       n/a  n/a                 n/a                    n/a   \n",
       "7  -0.141903         1  Yes                None                    n/a   \n",
       "8  -0.133761         1  Yes                None                    n/a   \n",
       "9  -0.122644         2  Yes                None                    n/a   \n",
       "10 -0.072584       n/a  n/a                 n/a                    n/a   \n",
       "11 -0.060241       n/a  n/a                 n/a                    n/a   \n",
       "12 -0.143102       n/a  n/a                 n/a                    n/a   \n",
       "13 -0.124204       n/a  n/a                 n/a                    n/a   \n",
       "14 -0.138321         1  Yes                None                    n/a   \n",
       "15 -0.019885       n/a  n/a                 n/a                    n/a   \n",
       "\n",
       "   TaxiRanksOutsideStation NumToilets HasAccessibleToilets  \n",
       "0                      n/a        n/a                  n/a  \n",
       "1                      n/a        n/a                  n/a  \n",
       "2                      n/a        n/a                  n/a  \n",
       "3                      n/a        n/a                  n/a  \n",
       "4                     None        2.0                 None  \n",
       "5                      n/a        n/a                  n/a  \n",
       "6                      n/a        n/a                  n/a  \n",
       "7                     None        n/a                  n/a  \n",
       "8                     None        n/a                  n/a  \n",
       "9                     None        n/a                  n/a  \n",
       "10                     n/a        n/a                  n/a  \n",
       "11                     n/a        n/a                  n/a  \n",
       "12                     n/a        n/a                  n/a  \n",
       "13                     n/a        n/a                  n/a  \n",
       "14                    None        n/a                  n/a  \n",
       "15                     n/a        n/a                  n/a  "
      ]
     },
     "execution_count": 88,
     "metadata": {},
     "output_type": "execute_result"
    }
   ],
   "source": [
    "#replacing data values to show up in hover template\n",
    "\n",
    "df_line_data[\"FareZones\"] = df_line_data[\"FareZones\"].replace({np.nan: \"n/a\"})\n",
    "df_line_data['Wifi'] = df_line_data['Wifi'].replace([True, False, np.nan], [\"Yes\", \"No\",  \"n/a\"])\n",
    "df_line_data[\"BlueBadgeCarParking\"] = df_line_data[\"BlueBadgeCarParking\"].replace({True: \"Yes\", False: \"None\", np.nan: \"n/a\"})\n",
    "df_line_data[\"BlueBadgeCarParkSpaces\"] = df_line_data[\"BlueBadgeCarParkSpaces\"].replace({False: \"None\", np.nan: \"n/a\"})\n",
    "df_line_data[\"TaxiRanksOutsideStation\"] = df_line_data[\"TaxiRanksOutsideStation\"].replace({True: \"Yes\", False: \"None\", np.nan: \"n/a\"})\n",
    "df_line_data[\"NumToilets\"] = df_line_data[\"NumToilets\"].replace({True: \"Yes\", False: \"None\", np.nan: \"n/a\"})\n",
    "df_line_data[\"HasAccessibleToilets\"] = df_line_data[\"HasAccessibleToilets\"].replace({True: \"Yes\", False: \"None\", np.nan: \"n/a\"})\n",
    "\n",
    "df_line_data\n"
   ]
  },
  {
   "cell_type": "code",
   "execution_count": 98,
   "metadata": {},
   "outputs": [
    {
     "name": "stdout",
     "output_type": "stream",
     "text": [
      "5\n"
     ]
    }
   ],
   "source": [
    "#counting the number of stations with wifi using for loop\n",
    "wifi_count = 0\n",
    "for x in df_line_data[\"Wifi\"]:\n",
    "    if x == \"Yes\":\n",
    "        wifi_count += 1\n",
    "\n",
    "print(wifi_count)"
   ]
  },
  {
   "cell_type": "code",
   "execution_count": 108,
   "metadata": {},
   "outputs": [
    {
     "name": "stdout",
     "output_type": "stream",
     "text": [
      "5\n"
     ]
    }
   ],
   "source": [
    "#using the sum of the \"Yes\" values in the wifi column to count the number of stations with wifi\n",
    "wifi_count_3 = sum(x == \"Yes\" for x in df_line_data[\"Wifi\"])\n",
    "print(wifi_count_3)"
   ]
  },
  {
   "cell_type": "code",
   "execution_count": 109,
   "metadata": {},
   "outputs": [
    {
     "name": "stdout",
     "output_type": "stream",
     "text": [
      "0\n"
     ]
    }
   ],
   "source": [
    "#using the sum of the \"Yes\" values in the blue badge parking column to count the number of stations with blue badge parking\n",
    "bb_parking_count = sum(x == \"Yes\" for x in df_line_data[\"BlueBadgeCarParking\"])\n",
    "print(bb_parking_count)"
   ]
  },
  {
   "cell_type": "code",
   "execution_count": 114,
   "metadata": {},
   "outputs": [
    {
     "name": "stdout",
     "output_type": "stream",
     "text": [
      "1\n"
     ]
    }
   ],
   "source": [
    "#using not equal to to count the number of stations with toilets\n",
    "toilet_count = sum(x != \"n/a\" for x in df_line_data[\"NumToilets\"])\n",
    "print(toilet_count)"
   ]
  },
  {
   "cell_type": "code",
   "execution_count": 115,
   "metadata": {},
   "outputs": [
    {
     "name": "stdout",
     "output_type": "stream",
     "text": [
      "0\n"
     ]
    }
   ],
   "source": [
    "#using the sum of the \"Yes\" values to count the number of stations with accessible toilets\n",
    "acc_toilet_count = sum(x == \"Yes\" for x in df_line_data[\"HasAccessibleToilets\"])\n",
    "print(acc_toilet_count)"
   ]
  },
  {
   "cell_type": "code",
   "execution_count": 116,
   "metadata": {},
   "outputs": [
    {
     "name": "stdout",
     "output_type": "stream",
     "text": [
      "[False, True]\n"
     ]
    }
   ],
   "source": [
    "#checking the different values in the taxi rank column in the original csv because I was unsure if there were numbers or just true/false\n",
    "taxi_values_check = []\n",
    "\n",
    "for x in df_Station_Info[\"TaxiRanksOutsideStation\"]:\n",
    "    if x not in taxi_values_check:\n",
    "        taxi_values_check.append(x)\n",
    "\n",
    "print(taxi_values_check)"
   ]
  },
  {
   "cell_type": "code",
   "execution_count": 117,
   "metadata": {},
   "outputs": [
    {
     "name": "stdout",
     "output_type": "stream",
     "text": [
      "0\n"
     ]
    }
   ],
   "source": [
    "#Using the sum of the yes values to count the number of taxi ranks\n",
    "taxi_rank_count = sum(x == \"Yes\" for x in df_line_data[\"TaxiRanksOutsideStation\"])\n",
    "print(taxi_rank_count)"
   ]
  },
  {
   "cell_type": "code",
   "execution_count": 123,
   "metadata": {},
   "outputs": [
    {
     "name": "stdout",
     "output_type": "stream",
     "text": [
      "['1', '2']\n"
     ]
    }
   ],
   "source": [
    "#creating a list of the fare zones to be used later in an f string\n",
    "stop_zones = []\n",
    "\n",
    "for x in df_line_data[\"FareZones\"]:\n",
    "    if x not in stop_zones and x != \"n/a\":\n",
    "        stop_zones.append(x)\n",
    "\n",
    "print(stop_zones)"
   ]
  },
  {
   "cell_type": "code",
   "execution_count": 138,
   "metadata": {},
   "outputs": [
    {
     "name": "stdout",
     "output_type": "stream",
     "text": [
      "1, 2\n"
     ]
    }
   ],
   "source": [
    "#simplifying the for loop using list comprehension\n",
    "stop_zones_2 = []\n",
    "[stop_zones_2.append(x) for x in df_line_data[\"FareZones\"] if x not in stop_zones_2 and x != \"n/a\"]\n",
    "\n",
    "print(\", \".join(stop_zones_2))"
   ]
  },
  {
   "cell_type": "code",
   "execution_count": 160,
   "metadata": {},
   "outputs": [],
   "source": [
    "def line_stats(data_frame):\n",
    "    wifi_count = sum(x == \"Yes\" for x in data_frame[\"Wifi\"])\n",
    "    bb_parking_count = sum(x == \"Yes\" for x in data_frame[\"BlueBadgeCarParking\"])\n",
    "    toilet_count = sum(x != \"n/a\" for x in df_line_data[\"NumToilets\"])\n",
    "    acc_toilet_count = sum(x == \"Yes\" for x in df_line_data[\"HasAccessibleToilets\"])\n",
    "    taxi_rank_count = sum(x == \"Yes\" for x in df_line_data[\"TaxiRanksOutsideStation\"])\n",
    "    stop_zones_5 = []\n",
    "    [stop_zones_5.append(x) for x in df_line_data[\"FareZones\"] if x not in stop_zones_5 and x != \"n/a\"]\n",
    "\n",
    "    \n",
    "\n",
    "line_stats(df_line_data)"
   ]
  },
  {
   "cell_type": "code",
   "execution_count": null,
   "metadata": {},
   "outputs": [],
   "source": [
    "taxi_ranks = sum(x == \"Yes\" for x in df_line_data[\"BlueBadgeCarParkSpaces\"])"
   ]
  },
  {
   "cell_type": "code",
   "execution_count": null,
   "metadata": {},
   "outputs": [],
   "source": [
    "#try using 'df.method({col: value}, inplace=True)' or df[col] = df[col].method(value) instead, to perform the operation inplace on the original object.\n"
   ]
  },
  {
   "cell_type": "code",
   "execution_count": 159,
   "metadata": {},
   "outputs": [
    {
     "name": "stdout",
     "output_type": "stream",
     "text": [
      "The Victoria line has 16 stops.\n"
     ]
    },
    {
     "data": {
      "application/vnd.plotly.v1+json": {
       "config": {
        "plotlyServerURL": "https://plot.ly"
       },
       "data": [
        {
         "customdata": [
          [
           "Blackhorse Road Underground Station",
           "n/a",
           "n/a",
           "n/a",
           "n/a",
           "n/a",
           "n/a",
           "n/a"
          ],
          [
           "Brixton Underground Station",
           "n/a",
           "n/a",
           "n/a",
           "n/a",
           "n/a",
           "n/a",
           "n/a"
          ],
          [
           "Euston Underground Station",
           "n/a",
           "n/a",
           "n/a",
           "n/a",
           "n/a",
           "n/a",
           "n/a"
          ],
          [
           "Finsbury Park Underground Station",
           "n/a",
           "n/a",
           "n/a",
           "n/a",
           "n/a",
           "n/a",
           "n/a"
          ],
          [
           "Green Park Underground Station",
           "Yes",
           2,
           "None",
           "1",
           "None",
           "n/a",
           "None"
          ],
          [
           "Highbury & Islington Underground Station",
           "n/a",
           "n/a",
           "n/a",
           "n/a",
           "n/a",
           "n/a",
           "n/a"
          ],
          [
           "King's Cross St. Pancras Underground Station",
           "n/a",
           "n/a",
           "n/a",
           "n/a",
           "n/a",
           "n/a",
           "n/a"
          ],
          [
           "Oxford Circus Underground Station",
           "Yes",
           "n/a",
           "n/a",
           "1",
           "None",
           "n/a",
           "None"
          ],
          [
           "Pimlico Underground Station",
           "Yes",
           "n/a",
           "n/a",
           "1",
           "None",
           "n/a",
           "None"
          ],
          [
           "Stockwell Underground Station",
           "Yes",
           "n/a",
           "n/a",
           "2",
           "None",
           "n/a",
           "None"
          ],
          [
           "Seven Sisters Underground Station",
           "n/a",
           "n/a",
           "n/a",
           "n/a",
           "n/a",
           "n/a",
           "n/a"
          ],
          [
           "Tottenham Hale Underground Station",
           "n/a",
           "n/a",
           "n/a",
           "n/a",
           "n/a",
           "n/a",
           "n/a"
          ],
          [
           "Victoria Underground Station",
           "n/a",
           "n/a",
           "n/a",
           "n/a",
           "n/a",
           "n/a",
           "n/a"
          ],
          [
           "Vauxhall Underground Station",
           "n/a",
           "n/a",
           "n/a",
           "n/a",
           "n/a",
           "n/a",
           "n/a"
          ],
          [
           "Warren Street Underground Station",
           "Yes",
           "n/a",
           "n/a",
           "1",
           "None",
           "n/a",
           "None"
          ],
          [
           "Walthamstow Central Underground Station",
           "n/a",
           "n/a",
           "n/a",
           "n/a",
           "n/a",
           "n/a",
           "n/a"
          ]
         ],
         "hovertemplate": "<b>%{customdata[0]}</b><br><br><b>Wifi:</b> %{customdata[1]}<br><b>Toilets:</b> %{customdata[2]}<br><b>Accessible toilets:</b> %{customdata[3]}<br><b>Zone:</b> %{customdata[4]}<br><b>Accessible parking:</b> %{customdata[5]}<br><b>Accessible parking spaces:</b> %{customdata[6]}<br><b>Accessible Taxi rank:</b> %{customdata[7]}",
         "hovertext": [
          "Blackhorse Road Underground Station",
          "Brixton Underground Station",
          "Euston Underground Station",
          "Finsbury Park Underground Station",
          "Green Park Underground Station",
          "Highbury & Islington Underground Station",
          "King's Cross St. Pancras Underground Station",
          "Oxford Circus Underground Station",
          "Pimlico Underground Station",
          "Stockwell Underground Station",
          "Seven Sisters Underground Station",
          "Tottenham Hale Underground Station",
          "Victoria Underground Station",
          "Vauxhall Underground Station",
          "Warren Street Underground Station",
          "Walthamstow Central Underground Station"
         ],
         "lat": {
          "bdata": "VTNrKSDLSUA9RQ4RN7tJQJ8FobyPw0lAbeNPVDbISUAU56ij48BJQLUV+8vuxUlAPxnjw+zDSUCiDivc8sFJQC7JAbuavklA5Nh6hnC8SUBJY7SOqspJQAtCeR9Hy0lAogkUsYi/SUBmoZ3TLL5JQFKAKJgxw0lAONvcmJ7KSUA=",
          "dtype": "f8"
         },
         "legendgroup": "",
         "lon": {
          "bdata": "/fZ14JwRpb/Z7bPKTGm9v5PgDWlU4MC/1CtlGeJYu784oKUr2EbCv9JT5BBxc7q/jjwQWaSJv78cJhqk4CnCvwd5PZgUH8G/svUM4Zhlv79BfjZy3ZSyv0K1wYno166/JgD/lCpRwr9RSghW1cu/v1PNrKWAtMG/lE25wrtclL8=",
          "dtype": "f8"
         },
         "marker": {
          "color": "rgb(0, 160, 226)",
          "size": 9
         },
         "mode": "markers",
         "name": "",
         "showlegend": false,
         "subplot": "map",
         "type": "scattermap"
        }
       ],
       "layout": {
        "hoverlabel": {
         "bgcolor": "rgb(0, 25, 168)"
        },
        "hovermode": "closest",
        "legend": {
         "tracegroupgap": 0
        },
        "map": {
         "center": {
          "lat": 51.528965,
          "lon": -0.1075411875
         },
         "domain": {
          "x": [
           0,
           1
          ],
          "y": [
           0,
           1
          ]
         },
         "style": "light",
         "zoom": 9.5
        },
        "mapbox": {
         "center": {
          "lat": 51.528965,
          "lon": -0.1075411875
         },
         "zoom": 9.5
        },
        "margin": {
         "t": 60
        },
        "template": {
         "data": {
          "bar": [
           {
            "error_x": {
             "color": "#2a3f5f"
            },
            "error_y": {
             "color": "#2a3f5f"
            },
            "marker": {
             "line": {
              "color": "#E5ECF6",
              "width": 0.5
             },
             "pattern": {
              "fillmode": "overlay",
              "size": 10,
              "solidity": 0.2
             }
            },
            "type": "bar"
           }
          ],
          "barpolar": [
           {
            "marker": {
             "line": {
              "color": "#E5ECF6",
              "width": 0.5
             },
             "pattern": {
              "fillmode": "overlay",
              "size": 10,
              "solidity": 0.2
             }
            },
            "type": "barpolar"
           }
          ],
          "carpet": [
           {
            "aaxis": {
             "endlinecolor": "#2a3f5f",
             "gridcolor": "white",
             "linecolor": "white",
             "minorgridcolor": "white",
             "startlinecolor": "#2a3f5f"
            },
            "baxis": {
             "endlinecolor": "#2a3f5f",
             "gridcolor": "white",
             "linecolor": "white",
             "minorgridcolor": "white",
             "startlinecolor": "#2a3f5f"
            },
            "type": "carpet"
           }
          ],
          "choropleth": [
           {
            "colorbar": {
             "outlinewidth": 0,
             "ticks": ""
            },
            "type": "choropleth"
           }
          ],
          "contour": [
           {
            "colorbar": {
             "outlinewidth": 0,
             "ticks": ""
            },
            "colorscale": [
             [
              0,
              "#0d0887"
             ],
             [
              0.1111111111111111,
              "#46039f"
             ],
             [
              0.2222222222222222,
              "#7201a8"
             ],
             [
              0.3333333333333333,
              "#9c179e"
             ],
             [
              0.4444444444444444,
              "#bd3786"
             ],
             [
              0.5555555555555556,
              "#d8576b"
             ],
             [
              0.6666666666666666,
              "#ed7953"
             ],
             [
              0.7777777777777778,
              "#fb9f3a"
             ],
             [
              0.8888888888888888,
              "#fdca26"
             ],
             [
              1,
              "#f0f921"
             ]
            ],
            "type": "contour"
           }
          ],
          "contourcarpet": [
           {
            "colorbar": {
             "outlinewidth": 0,
             "ticks": ""
            },
            "type": "contourcarpet"
           }
          ],
          "heatmap": [
           {
            "colorbar": {
             "outlinewidth": 0,
             "ticks": ""
            },
            "colorscale": [
             [
              0,
              "#0d0887"
             ],
             [
              0.1111111111111111,
              "#46039f"
             ],
             [
              0.2222222222222222,
              "#7201a8"
             ],
             [
              0.3333333333333333,
              "#9c179e"
             ],
             [
              0.4444444444444444,
              "#bd3786"
             ],
             [
              0.5555555555555556,
              "#d8576b"
             ],
             [
              0.6666666666666666,
              "#ed7953"
             ],
             [
              0.7777777777777778,
              "#fb9f3a"
             ],
             [
              0.8888888888888888,
              "#fdca26"
             ],
             [
              1,
              "#f0f921"
             ]
            ],
            "type": "heatmap"
           }
          ],
          "histogram": [
           {
            "marker": {
             "pattern": {
              "fillmode": "overlay",
              "size": 10,
              "solidity": 0.2
             }
            },
            "type": "histogram"
           }
          ],
          "histogram2d": [
           {
            "colorbar": {
             "outlinewidth": 0,
             "ticks": ""
            },
            "colorscale": [
             [
              0,
              "#0d0887"
             ],
             [
              0.1111111111111111,
              "#46039f"
             ],
             [
              0.2222222222222222,
              "#7201a8"
             ],
             [
              0.3333333333333333,
              "#9c179e"
             ],
             [
              0.4444444444444444,
              "#bd3786"
             ],
             [
              0.5555555555555556,
              "#d8576b"
             ],
             [
              0.6666666666666666,
              "#ed7953"
             ],
             [
              0.7777777777777778,
              "#fb9f3a"
             ],
             [
              0.8888888888888888,
              "#fdca26"
             ],
             [
              1,
              "#f0f921"
             ]
            ],
            "type": "histogram2d"
           }
          ],
          "histogram2dcontour": [
           {
            "colorbar": {
             "outlinewidth": 0,
             "ticks": ""
            },
            "colorscale": [
             [
              0,
              "#0d0887"
             ],
             [
              0.1111111111111111,
              "#46039f"
             ],
             [
              0.2222222222222222,
              "#7201a8"
             ],
             [
              0.3333333333333333,
              "#9c179e"
             ],
             [
              0.4444444444444444,
              "#bd3786"
             ],
             [
              0.5555555555555556,
              "#d8576b"
             ],
             [
              0.6666666666666666,
              "#ed7953"
             ],
             [
              0.7777777777777778,
              "#fb9f3a"
             ],
             [
              0.8888888888888888,
              "#fdca26"
             ],
             [
              1,
              "#f0f921"
             ]
            ],
            "type": "histogram2dcontour"
           }
          ],
          "mesh3d": [
           {
            "colorbar": {
             "outlinewidth": 0,
             "ticks": ""
            },
            "type": "mesh3d"
           }
          ],
          "parcoords": [
           {
            "line": {
             "colorbar": {
              "outlinewidth": 0,
              "ticks": ""
             }
            },
            "type": "parcoords"
           }
          ],
          "pie": [
           {
            "automargin": true,
            "type": "pie"
           }
          ],
          "scatter": [
           {
            "fillpattern": {
             "fillmode": "overlay",
             "size": 10,
             "solidity": 0.2
            },
            "type": "scatter"
           }
          ],
          "scatter3d": [
           {
            "line": {
             "colorbar": {
              "outlinewidth": 0,
              "ticks": ""
             }
            },
            "marker": {
             "colorbar": {
              "outlinewidth": 0,
              "ticks": ""
             }
            },
            "type": "scatter3d"
           }
          ],
          "scattercarpet": [
           {
            "marker": {
             "colorbar": {
              "outlinewidth": 0,
              "ticks": ""
             }
            },
            "type": "scattercarpet"
           }
          ],
          "scattergeo": [
           {
            "marker": {
             "colorbar": {
              "outlinewidth": 0,
              "ticks": ""
             }
            },
            "type": "scattergeo"
           }
          ],
          "scattergl": [
           {
            "marker": {
             "colorbar": {
              "outlinewidth": 0,
              "ticks": ""
             }
            },
            "type": "scattergl"
           }
          ],
          "scattermap": [
           {
            "marker": {
             "colorbar": {
              "outlinewidth": 0,
              "ticks": ""
             }
            },
            "type": "scattermap"
           }
          ],
          "scattermapbox": [
           {
            "marker": {
             "colorbar": {
              "outlinewidth": 0,
              "ticks": ""
             }
            },
            "type": "scattermapbox"
           }
          ],
          "scatterpolar": [
           {
            "marker": {
             "colorbar": {
              "outlinewidth": 0,
              "ticks": ""
             }
            },
            "type": "scatterpolar"
           }
          ],
          "scatterpolargl": [
           {
            "marker": {
             "colorbar": {
              "outlinewidth": 0,
              "ticks": ""
             }
            },
            "type": "scatterpolargl"
           }
          ],
          "scatterternary": [
           {
            "marker": {
             "colorbar": {
              "outlinewidth": 0,
              "ticks": ""
             }
            },
            "type": "scatterternary"
           }
          ],
          "surface": [
           {
            "colorbar": {
             "outlinewidth": 0,
             "ticks": ""
            },
            "colorscale": [
             [
              0,
              "#0d0887"
             ],
             [
              0.1111111111111111,
              "#46039f"
             ],
             [
              0.2222222222222222,
              "#7201a8"
             ],
             [
              0.3333333333333333,
              "#9c179e"
             ],
             [
              0.4444444444444444,
              "#bd3786"
             ],
             [
              0.5555555555555556,
              "#d8576b"
             ],
             [
              0.6666666666666666,
              "#ed7953"
             ],
             [
              0.7777777777777778,
              "#fb9f3a"
             ],
             [
              0.8888888888888888,
              "#fdca26"
             ],
             [
              1,
              "#f0f921"
             ]
            ],
            "type": "surface"
           }
          ],
          "table": [
           {
            "cells": {
             "fill": {
              "color": "#EBF0F8"
             },
             "line": {
              "color": "white"
             }
            },
            "header": {
             "fill": {
              "color": "#C8D4E3"
             },
             "line": {
              "color": "white"
             }
            },
            "type": "table"
           }
          ]
         },
         "layout": {
          "annotationdefaults": {
           "arrowcolor": "#2a3f5f",
           "arrowhead": 0,
           "arrowwidth": 1
          },
          "autotypenumbers": "strict",
          "coloraxis": {
           "colorbar": {
            "outlinewidth": 0,
            "ticks": ""
           }
          },
          "colorscale": {
           "diverging": [
            [
             0,
             "#8e0152"
            ],
            [
             0.1,
             "#c51b7d"
            ],
            [
             0.2,
             "#de77ae"
            ],
            [
             0.3,
             "#f1b6da"
            ],
            [
             0.4,
             "#fde0ef"
            ],
            [
             0.5,
             "#f7f7f7"
            ],
            [
             0.6,
             "#e6f5d0"
            ],
            [
             0.7,
             "#b8e186"
            ],
            [
             0.8,
             "#7fbc41"
            ],
            [
             0.9,
             "#4d9221"
            ],
            [
             1,
             "#276419"
            ]
           ],
           "sequential": [
            [
             0,
             "#0d0887"
            ],
            [
             0.1111111111111111,
             "#46039f"
            ],
            [
             0.2222222222222222,
             "#7201a8"
            ],
            [
             0.3333333333333333,
             "#9c179e"
            ],
            [
             0.4444444444444444,
             "#bd3786"
            ],
            [
             0.5555555555555556,
             "#d8576b"
            ],
            [
             0.6666666666666666,
             "#ed7953"
            ],
            [
             0.7777777777777778,
             "#fb9f3a"
            ],
            [
             0.8888888888888888,
             "#fdca26"
            ],
            [
             1,
             "#f0f921"
            ]
           ],
           "sequentialminus": [
            [
             0,
             "#0d0887"
            ],
            [
             0.1111111111111111,
             "#46039f"
            ],
            [
             0.2222222222222222,
             "#7201a8"
            ],
            [
             0.3333333333333333,
             "#9c179e"
            ],
            [
             0.4444444444444444,
             "#bd3786"
            ],
            [
             0.5555555555555556,
             "#d8576b"
            ],
            [
             0.6666666666666666,
             "#ed7953"
            ],
            [
             0.7777777777777778,
             "#fb9f3a"
            ],
            [
             0.8888888888888888,
             "#fdca26"
            ],
            [
             1,
             "#f0f921"
            ]
           ]
          },
          "colorway": [
           "#636efa",
           "#EF553B",
           "#00cc96",
           "#ab63fa",
           "#FFA15A",
           "#19d3f3",
           "#FF6692",
           "#B6E880",
           "#FF97FF",
           "#FECB52"
          ],
          "font": {
           "color": "#2a3f5f"
          },
          "geo": {
           "bgcolor": "white",
           "lakecolor": "white",
           "landcolor": "#E5ECF6",
           "showlakes": true,
           "showland": true,
           "subunitcolor": "white"
          },
          "hoverlabel": {
           "align": "left"
          },
          "hovermode": "closest",
          "mapbox": {
           "style": "light"
          },
          "paper_bgcolor": "white",
          "plot_bgcolor": "#E5ECF6",
          "polar": {
           "angularaxis": {
            "gridcolor": "white",
            "linecolor": "white",
            "ticks": ""
           },
           "bgcolor": "#E5ECF6",
           "radialaxis": {
            "gridcolor": "white",
            "linecolor": "white",
            "ticks": ""
           }
          },
          "scene": {
           "xaxis": {
            "backgroundcolor": "#E5ECF6",
            "gridcolor": "white",
            "gridwidth": 2,
            "linecolor": "white",
            "showbackground": true,
            "ticks": "",
            "zerolinecolor": "white"
           },
           "yaxis": {
            "backgroundcolor": "#E5ECF6",
            "gridcolor": "white",
            "gridwidth": 2,
            "linecolor": "white",
            "showbackground": true,
            "ticks": "",
            "zerolinecolor": "white"
           },
           "zaxis": {
            "backgroundcolor": "#E5ECF6",
            "gridcolor": "white",
            "gridwidth": 2,
            "linecolor": "white",
            "showbackground": true,
            "ticks": "",
            "zerolinecolor": "white"
           }
          },
          "shapedefaults": {
           "line": {
            "color": "#2a3f5f"
           }
          },
          "ternary": {
           "aaxis": {
            "gridcolor": "white",
            "linecolor": "white",
            "ticks": ""
           },
           "baxis": {
            "gridcolor": "white",
            "linecolor": "white",
            "ticks": ""
           },
           "bgcolor": "#E5ECF6",
           "caxis": {
            "gridcolor": "white",
            "linecolor": "white",
            "ticks": ""
           }
          },
          "title": {
           "x": 0.05
          },
          "xaxis": {
           "automargin": true,
           "gridcolor": "white",
           "linecolor": "white",
           "ticks": "",
           "title": {
            "standoff": 15
           },
           "zerolinecolor": "white",
           "zerolinewidth": 2
          },
          "yaxis": {
           "automargin": true,
           "gridcolor": "white",
           "linecolor": "white",
           "ticks": "",
           "title": {
            "standoff": 15
           },
           "zerolinecolor": "white",
           "zerolinewidth": 2
          }
         }
        },
        "title": {
         "text": "Victoria line stations"
        }
       }
      }
     },
     "metadata": {},
     "output_type": "display_data"
    }
   ],
   "source": [
    "print(f\"The Victoria line has {df_line_data.shape[0]} stops.\")\n",
    "\n",
    "fig_ld2 = px.scatter_map(df_line_data, lat=\"lat\", lon=\"lon\", hover_name=\"commonName\", zoom=9.5, \n",
    "                         custom_data=['commonName', 'Wifi', 'NumToilets', 'HasAccessibleToilets', 'FareZones', 'BlueBadgeCarParking', 'BlueBadgeCarParkSpaces', 'TaxiRanksOutsideStation'])      \n",
    "fig_ld2.update_layout(title='Victoria line stations', hovermode='closest', map_style=\"light\", hoverlabel_bgcolor='rgb(0, 25, 168)')    \n",
    "fig_ld2.update_traces(marker=dict(color='rgb(0, 160, 226)', size=9))\n",
    "fig_ld2.update_traces(hovertemplate = \n",
    "                      \"<b>%{customdata[0]}</b><br>\" + \n",
    "                      \"<br><b>Wifi:</b> %{customdata[1]}\" + \n",
    "                      \"<br><b>Toilets:</b> %{customdata[2]}\" +\n",
    "                      \"<br><b>Accessible toilets:</b> %{customdata[3]}\" +\n",
    "                      \"<br><b>Zone:</b> %{customdata[4]}\" +\n",
    "                      \"<br><b>Accessible parking:</b> %{customdata[5]}\" +\n",
    "                      \"<br><b>Accessible parking spaces:</b> %{customdata[6]}\" +\n",
    "                      \"<br><b>Accessible Taxi rank:</b> %{customdata[7]}\")\n",
    "fig_ld2.show()\n",
    "\n",
    "\n"
   ]
  }
 ],
 "metadata": {
  "kernelspec": {
   "display_name": "Python 3",
   "language": "python",
   "name": "python3"
  },
  "language_info": {
   "codemirror_mode": {
    "name": "ipython",
    "version": 3
   },
   "file_extension": ".py",
   "mimetype": "text/x-python",
   "name": "python",
   "nbconvert_exporter": "python",
   "pygments_lexer": "ipython3",
   "version": "3.11.9"
  }
 },
 "nbformat": 4,
 "nbformat_minor": 2
}
