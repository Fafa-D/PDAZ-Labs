{
 "cells": [
  {
   "cell_type": "code",
   "execution_count": 1,
   "metadata": {},
   "outputs": [],
   "source": [
    "#import the libraries\n",
    "import spotipy\n",
    "from spotipy.oauth2 import SpotifyOAuth\n",
    "import pandas as pd\n",
    "import matplotlib.pyplot as plt"
   ]
  },
  {
   "cell_type": "code",
   "execution_count": 2,
   "metadata": {},
   "outputs": [],
   "source": [
    "SPOTIPY_CLIENT_ID = \"4989571fddd74e60ab2a52e2244b70f3\"\n",
    "SPOTIPY_CLIENT_SECRET = \"83bbadbcc14545f6a8bf1438f9d67b5a\"\n",
    "APP_REDIRECT_URI = \"http://localhost:8888/callback/\"\n",
    "\n",
    "sp = spotipy.Spotify(auth_manager=SpotifyOAuth(client_id=\"SPOTIPY_CLIENT_ID\",\n",
    "                                               client_secret=\"SPOTIPY_CLIENT_SECRET\",\n",
    "                                               redirect_uri=\"APP_REDIRECT_URI\",\n",
    "                                               scope=\"user-top-read\"))"
   ]
  },
  {
   "cell_type": "code",
   "execution_count": 10,
   "metadata": {},
   "outputs": [
    {
     "name": "stdout",
     "output_type": "stream",
     "text": [
      "My data:\n",
      "Name: fafadzide\n",
      "Followers: 1\n",
      "Link: https://open.spotify.com/user/fafadzide\n"
     ]
    }
   ],
   "source": [
    "user_data = sp.current_user()\n",
    "print('My data:')\n",
    "print('Name:', user_data['display_name'])\n",
    "print('Followers:', user_data['followers']['total'])\n",
    "print('Link:', user_data['external_urls']['spotify'])"
   ]
  },
  {
   "cell_type": "code",
   "execution_count": null,
   "metadata": {},
   "outputs": [],
   "source": [
    "track_data = sp.current_user_top_tracks()\n",
    "print('Track data:')\n",
    "print('Top 20:', track_data['tracks'])"
   ]
  }
 ],
 "metadata": {
  "kernelspec": {
   "display_name": "Python 3",
   "language": "python",
   "name": "python3"
  },
  "language_info": {
   "codemirror_mode": {
    "name": "ipython",
    "version": 3
   },
   "file_extension": ".py",
   "mimetype": "text/x-python",
   "name": "python",
   "nbconvert_exporter": "python",
   "pygments_lexer": "ipython3",
   "version": "3.11.9"
  }
 },
 "nbformat": 4,
 "nbformat_minor": 2
}
