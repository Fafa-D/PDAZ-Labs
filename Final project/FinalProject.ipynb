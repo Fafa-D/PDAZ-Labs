{
 "cells": [
  {
   "cell_type": "code",
   "execution_count": 118,
   "metadata": {},
   "outputs": [],
   "source": [
    "#Importing libraries\n",
    "import numpy as np\n",
    "import pandas as pd\n",
    "import plotly.express as px\n",
    "import requests"
   ]
  },
  {
   "cell_type": "code",
   "execution_count": 119,
   "metadata": {},
   "outputs": [],
   "source": [
    "#Accessing the TfL API with list of all lines of a given mode of transport, tube as the selected mode as specified in the url\n",
    "url_tube_lines = \"https://api.tfl.gov.uk/Line/Mode/tube\"\n",
    "response_tl = requests.get(url_tube_lines)\n",
    "data_tl = response_tl.json()\n",
    "\n",
    "#Creating data frame of the information\n",
    "df_tl = pd.DataFrame(data_tl)\n",
    "\n",
    "#creating a list of the tube lines from the dataframe by iterating through the id column\n",
    "TubeLines = []\n",
    "for i in df_tl.loc[:, \"id\"]:\n",
    "    TubeLines.append(i)\n",
    "\n",
    "#creating a list of colours in the same order as the TubeLines list\n",
    "tfl_colours = ['rgb(137, 78, 36)', 'rgb(220, 36, 31)', 'rgb(255, 206, 0)', 'rgb(0, 114, 41)', 'rgb(215, 153, 175)', 'rgb(134, 143, 152)', 'rgb(117, 16, 86)', 'rgb(0, 0, 0)', \n",
    "'rgb(0, 25, 168)', 'rgb(0, 160, 226)', 'rgb(118, 208, 189)']\n",
    "\n",
    "#Joining the two lists together to make a dictionary using zip, the colours will be used to plot the map\n",
    "colours_dict = {line:colour for (line,colour) in zip(TubeLines, tfl_colours)}\n",
    "\n"
   ]
  },
  {
   "cell_type": "code",
   "execution_count": 120,
   "metadata": {},
   "outputs": [],
   "source": [
    "#creating the function that will be used with the TubeLines list to print out data specific to that tube line\n",
    "\n",
    "def line_analysis(line):\n",
    "    #Accessing the TfL API showing tube stations on the specified line\n",
    "    url_stops = f\"https://api.tfl.gov.uk/Line/{line}/StopPoints\"\n",
    "    response_stops = requests.get(url_stops)\n",
    "    data_stops = response_stops.json()\n",
    "\n",
    "    #Creating data frame from the information from the API about the tube stations\n",
    "    df_stops = pd.DataFrame(data_stops)\n",
    "\n",
    "    #Creating a new data frame using only the columns I need for analysis\n",
    "    df_stops_merge = df_stops[[\"naptanId\", \"commonName\", \"lat\", \"lon\"]]\n",
    "\n",
    "    #Creating a data frame from the stations.csv - file from TfL containing information on stations\n",
    "    df_stations = pd.read_csv(\"Stations.csv\")  \n",
    "    \n",
    "    #Creating a new data frame using only the columns I need for analysis\n",
    "    df_stations_cond = df_stations[[\"UniqueId\", \"FareZones\", \"Wifi\", \"BlueBadgeCarParking\", \"BlueBadgeCarParkSpaces\", \"TaxiRanksOutsideStation\"]]\n",
    "    \n",
    "    #Renaming the UniqueId column to naptanId to match the tube stops data frame for a merge\n",
    "    df_stations_merge = df_stations_cond.rename(columns={'UniqueId': 'naptanId'})\n",
    "    \n",
    "    #Adding the columns from stations.csv to the tube stops data frame based on the naptanId\n",
    "    df_merge_1 = pd.merge(df_stops_merge, df_stations_merge, on='naptanId', how='left')\n",
    "    \n",
    "    #reading the toilet data csv file I created in TfLCSVs.ipynb using information from TfL's toilet csv\n",
    "    df_Toilets = pd.read_csv(\"CustomTfLToilet.csv\")\n",
    "    \n",
    "    #merging the toilet data csv with the previous data frame\n",
    "    df_tube_line_data = pd.merge(df_merge_1, df_Toilets, on='naptanId', how='left')\n",
    "    \n",
    "    #replacing values in specified columns to show up correctly in hover template on plotted map\n",
    "    df_tube_line_data[\"FareZones\"] = df_tube_line_data[\"FareZones\"].replace({np.nan: \"n/a\"})\n",
    "    df_tube_line_data['Wifi'] = df_tube_line_data['Wifi'].replace([True, False, np.nan], [\"Yes\", \"No\",  \"n/a\"])\n",
    "    df_tube_line_data[\"BlueBadgeCarParking\"] = df_tube_line_data[\"BlueBadgeCarParking\"].replace({True: \"Yes\", False: \"None\", np.nan: \"n/a\"})\n",
    "    df_tube_line_data[\"BlueBadgeCarParkSpaces\"] = df_tube_line_data[\"BlueBadgeCarParkSpaces\"].replace({False: \"None\", np.nan: \"n/a\"})\n",
    "    df_tube_line_data[\"TaxiRanksOutsideStation\"] = df_tube_line_data[\"TaxiRanksOutsideStation\"].replace({True: \"Yes\", False: \"None\", np.nan: \"n/a\"})\n",
    "    df_tube_line_data[\"NumToilets\"] = df_tube_line_data[\"NumToilets\"].replace({True: \"Yes\", False: \"None\", np.nan: \"n/a\"})\n",
    "    df_tube_line_data[\"HasAccessibleToilets\"] = df_tube_line_data[\"HasAccessibleToilets\"].replace({True: \"Yes\", False: \"None\", np.nan: \"n/a\"})\n",
    "    \n",
    "    \n",
    "    #plotting a scatter map using the data from the data frame, including a custom data list which will be shown on hover, as specified in the hover template\n",
    "    fig_tube_stops = px.scatter_map(df_tube_line_data, lat=\"lat\", lon=\"lon\", hover_name=\"commonName\", zoom=9.5, \n",
    "                         custom_data=['commonName', 'Wifi', 'NumToilets', 'HasAccessibleToilets', 'FareZones', 'BlueBadgeCarParking', 'BlueBadgeCarParkSpaces', 'TaxiRanksOutsideStation'])      \n",
    "    \n",
    "    #cutomising the appearance of the scatter map, adding a title and styling including tube line colour from the dictionary created earlier\n",
    "    fig_tube_stops.update_layout(title= f'{line.capitalize()} Line Stations', hovermode='closest', map_style=\"light\", hoverlabel_bgcolor='rgb(0, 25, 168)')    \n",
    "    fig_tube_stops.update_traces(marker=dict(color= colours_dict[f\"{line}\"], size=8.5))\n",
    "    \n",
    "    #creating a template for the text displayed when hovering over the station markers using the custom data\n",
    "    fig_tube_stops.update_traces(hovertemplate = \n",
    "                      \"<b>%{customdata[0]}</b><br>\" + \n",
    "                      \"<br><b>Wifi:</b> %{customdata[1]}\" + \n",
    "                      \"<br><b>Toilets:</b> %{customdata[2]}\" +\n",
    "                      \"<br><b>Accessible toilets:</b> %{customdata[3]}\" +\n",
    "                      \"<br><b>Zone:</b> %{customdata[4]}\" +\n",
    "                      \"<br><b>Accessible parking:</b> %{customdata[5]}\" +\n",
    "                      \"<br><b>Accessible parking spaces:</b> %{customdata[6]}\" +\n",
    "                      \"<br><b>Accessible Taxi rank:</b> %{customdata[7]}\")\n",
    "                      \n",
    "    #displaying the scatter map\n",
    "    fig_tube_stops.show()\n",
    "\n",
    "    #Using for loops to count how many stations have different amenities and get zone information\n",
    "    wifi_count = sum(x == \"Yes\" for x in df_tube_line_data[\"Wifi\"])\n",
    "    bb_parking_count = sum(x == \"Yes\" for x in df_tube_line_data[\"BlueBadgeCarParking\"])\n",
    "    toilet_count = sum(x != \"n/a\" for x in df_tube_line_data[\"NumToilets\"])\n",
    "    acc_toilet_count = sum(x == \"Yes\" for x in df_tube_line_data[\"HasAccessibleToilets\"])\n",
    "    taxi_rank_count = sum(x == \"Yes\" for x in df_tube_line_data[\"TaxiRanksOutsideStation\"])\n",
    "    stop_zones = []\n",
    "    [stop_zones.append(x) for x in df_tube_line_data[\"FareZones\"] if x not in stop_zones and x != \"n/a\"]\n",
    "\n",
    "\n",
    "    #printing information about the tube line using information from the data frame and the above for loops, with conditional statements for different numbers\n",
    "    print(\"From the available data, it has been found that:\")\n",
    "    print(f\"The {line.capitalize()} Line has {len(df_tube_line_data)} stops.\")\n",
    "    if stop_zones:\n",
    "        print(f\"The {line.capitalize()} Line goes through zones {', '.join(stop_zones[0:-1])} and {stop_zones[-1]}.\" if len(stop_zones) != 1 else f\"The {line.capitalize()} Line goes through zone {stop_zones[0]}.\")\n",
    "    else:\n",
    "        print(\"There is no zone data available.\")\n",
    "    print(f\"{wifi_count} stations have Wifi.\" if wifi_count != 1 else f\"{wifi_count} station has Wifi.\")\n",
    "    print(f\"{toilet_count} stations have toilets.\" if toilet_count != 1 else f\"{toilet_count} station has toilets.\")\n",
    "    print(f\"{acc_toilet_count} stations have accessible toilets.\" if acc_toilet_count != 1 else f\"{acc_toilet_count} station has accessible toilets.\")\n",
    "    print(f\"{bb_parking_count} stations have blue badge parking.\" if bb_parking_count != 1 else f\"{bb_parking_count} station has accessible toilets.\")\n",
    "    print(f\"{taxi_rank_count} stations have taxi ranks.\" if taxi_rank_count != 1 else f\"{taxi_rank_count} station has taxi ranks.\")\n",
    "\n"
   ]
  },
  {
   "cell_type": "code",
   "execution_count": 121,
   "metadata": {},
   "outputs": [
    {
     "name": "stdout",
     "output_type": "stream",
     "text": [
      "There are 11 tube lines in the TfL underground network.\n",
      "These lines are: Bakerloo, Central, Circle, District, Hammersmith-City, Jubilee, Metropolitan, Northern, Piccadilly, Victoria and Waterloo-City.\n"
     ]
    },
    {
     "data": {
      "application/vnd.plotly.v1+json": {
       "config": {
        "plotlyServerURL": "https://plot.ly"
       },
       "data": [
        {
         "customdata": [
          [
           "Baker Street Underground Station",
           "Yes",
           2,
           "None",
           "1",
           "None",
           "n/a",
           "None"
          ],
          [
           "Charing Cross Underground Station",
           "n/a",
           "n/a",
           "n/a",
           "n/a",
           "n/a",
           "n/a",
           "n/a"
          ],
          [
           "Elephant & Castle Underground Station",
           "n/a",
           "n/a",
           "n/a",
           "n/a",
           "n/a",
           "n/a",
           "n/a"
          ],
          [
           "Embankment Underground Station",
           "Yes",
           "n/a",
           "n/a",
           "1",
           "None",
           "n/a",
           "None"
          ],
          [
           "Edgware Road (Bakerloo) Underground Station",
           "Yes",
           "n/a",
           "n/a",
           "1",
           "None",
           "n/a",
           "None"
          ],
          [
           "Harrow & Wealdstone Underground Station",
           "n/a",
           "n/a",
           "n/a",
           "n/a",
           "n/a",
           "n/a",
           "n/a"
          ],
          [
           "Harlesden Underground Station",
           "n/a",
           "n/a",
           "n/a",
           "n/a",
           "n/a",
           "n/a",
           "n/a"
          ],
          [
           "Kenton Underground Station",
           "n/a",
           "n/a",
           "n/a",
           "n/a",
           "n/a",
           "n/a",
           "n/a"
          ],
          [
           "Kilburn Park Underground Station",
           "Yes",
           "n/a",
           "n/a",
           "2",
           "None",
           "n/a",
           "None"
          ],
          [
           "Kensal Green Underground Station",
           "n/a",
           "n/a",
           "n/a",
           "n/a",
           "n/a",
           "n/a",
           "n/a"
          ],
          [
           "Lambeth North Underground Station",
           "Yes",
           "n/a",
           "n/a",
           "1",
           "None",
           "n/a",
           "None"
          ],
          [
           "Maida Vale Underground Station",
           "Yes",
           "n/a",
           "n/a",
           "2",
           "None",
           "n/a",
           "None"
          ],
          [
           "Marylebone Underground Station",
           "n/a",
           "n/a",
           "n/a",
           "n/a",
           "n/a",
           "n/a",
           "n/a"
          ],
          [
           "North Wembley Underground Station",
           "n/a",
           "n/a",
           "n/a",
           "n/a",
           "n/a",
           "n/a",
           "n/a"
          ],
          [
           "Oxford Circus Underground Station",
           "Yes",
           "n/a",
           "n/a",
           "1",
           "None",
           "n/a",
           "None"
          ],
          [
           "Paddington Underground Station",
           "n/a",
           "n/a",
           "n/a",
           "n/a",
           "n/a",
           "n/a",
           "n/a"
          ],
          [
           "Piccadilly Circus Underground Station",
           "Yes",
           2,
           "None",
           "1",
           "None",
           "n/a",
           "None"
          ],
          [
           "Queen's Park Underground Station",
           "n/a",
           "n/a",
           "n/a",
           "n/a",
           "n/a",
           "n/a",
           "n/a"
          ],
          [
           "Regent's Park Underground Station",
           "Yes",
           "n/a",
           "n/a",
           "1",
           "None",
           "n/a",
           "None"
          ],
          [
           "Stonebridge Park Underground Station",
           "n/a",
           "n/a",
           "n/a",
           "n/a",
           "n/a",
           "n/a",
           "n/a"
          ],
          [
           "South Kenton Underground Station",
           "n/a",
           "n/a",
           "n/a",
           "n/a",
           "n/a",
           "n/a",
           "n/a"
          ],
          [
           "Willesden Junction Underground Station",
           "n/a",
           "n/a",
           "n/a",
           "n/a",
           "n/a",
           "n/a",
           "n/a"
          ],
          [
           "Warwick Avenue Underground Station",
           "Yes",
           "n/a",
           "n/a",
           "2",
           "None",
           "n/a",
           "None"
          ],
          [
           "Waterloo Underground Station",
           "n/a",
           "n/a",
           "n/a",
           "n/a",
           "n/a",
           "n/a",
           "n/a"
          ],
          [
           "Wembley Central Underground Station",
           "n/a",
           "n/a",
           "n/a",
           "n/a",
           "n/a",
           "n/a",
           "n/a"
          ]
         ],
         "hovertemplate": "<b>%{customdata[0]}</b><br><br><b>Wifi:</b> %{customdata[1]}<br><b>Toilets:</b> %{customdata[2]}<br><b>Accessible toilets:</b> %{customdata[3]}<br><b>Zone:</b> %{customdata[4]}<br><b>Accessible parking:</b> %{customdata[5]}<br><b>Accessible parking spaces:</b> %{customdata[6]}<br><b>Accessible Taxi rank:</b> %{customdata[7]}",
         "hovertext": [
          "Baker Street Underground Station",
          "Charing Cross Underground Station",
          "Elephant & Castle Underground Station",
          "Embankment Underground Station",
          "Edgware Road (Bakerloo) Underground Station",
          "Harrow & Wealdstone Underground Station",
          "Harlesden Underground Station",
          "Kenton Underground Station",
          "Kilburn Park Underground Station",
          "Kensal Green Underground Station",
          "Lambeth North Underground Station",
          "Maida Vale Underground Station",
          "Marylebone Underground Station",
          "North Wembley Underground Station",
          "Oxford Circus Underground Station",
          "Paddington Underground Station",
          "Piccadilly Circus Underground Station",
          "Queen's Park Underground Station",
          "Regent's Park Underground Station",
          "Stonebridge Park Underground Station",
          "South Kenton Underground Station",
          "Willesden Junction Underground Station",
          "Warwick Avenue Underground Station",
          "Waterloo Underground Station",
          "Wembley Central Underground Station"
         ],
         "lat": {
          "bdata": "M1GE1O3CSUDp1JXP8sBJQOpYpfRMv0lAbJbLRufASUAdkloomcJJQNE7FXDPy0lARkJbzqXESUA6IAn7dspJQP2FHjF6xElAUyCzs+jDSUDYfcfw2L9JQCWWlLvPw0lAnP2BctvCSUCCqtGrAchJQKIOK9zywUlAFF6CUx/CSUCTqYJRScFJQMlyEkpfxElAZ0eq7/zCSUC0rtFyoMVJQPuQt1z9yElANwAbECHESUB6GjBI+sJJQASOBBpswElAmbnA5bHGSUA=",
          "dtype": "f8"
         },
         "legendgroup": "",
         "lon": {
          "bdata": "sDic+dUcxL8VOUTcnErAv0IIyJdQwbm/VMVU+glnv78PC7WmecfFv/4LBAEydNW/hnDMsieB0L+An3HhQEjUvxEY6xuY3Mi/fNKJBFPNzL9UqdkDrcC8vwU1fAvrxse/BDi9i/fjxL/b+X5qvHTTvxwmGqTgKcK/OSuiJvp8xr8tliL5SiDBv99Szhd7L8q/pwNZT62+wr8UmE7rNqjRv3F1AMRdvdO/lwD8U6pEz78/x0eLM4bHvxghPNo4Yr2/6iPwh5//0r8=",
          "dtype": "f8"
         },
         "marker": {
          "color": "rgb(137, 78, 36)",
          "size": 8.5
         },
         "mode": "markers",
         "name": "",
         "showlegend": false,
         "subplot": "map",
         "type": "scattermap"
        }
       ],
       "layout": {
        "hoverlabel": {
         "bgcolor": "rgb(0, 25, 168)"
        },
        "hovermode": "closest",
        "legend": {
         "tracegroupgap": 0
        },
        "map": {
         "center": {
          "lat": 51.53064676000001,
          "lon": -0.19995192000000003
         },
         "domain": {
          "x": [
           0,
           1
          ],
          "y": [
           0,
           1
          ]
         },
         "style": "light",
         "zoom": 9.5
        },
        "mapbox": {
         "center": {
          "lat": 51.53064676000001,
          "lon": -0.19995192000000003
         },
         "zoom": 9.5
        },
        "margin": {
         "t": 60
        },
        "template": {
         "data": {
          "bar": [
           {
            "error_x": {
             "color": "#2a3f5f"
            },
            "error_y": {
             "color": "#2a3f5f"
            },
            "marker": {
             "line": {
              "color": "#E5ECF6",
              "width": 0.5
             },
             "pattern": {
              "fillmode": "overlay",
              "size": 10,
              "solidity": 0.2
             }
            },
            "type": "bar"
           }
          ],
          "barpolar": [
           {
            "marker": {
             "line": {
              "color": "#E5ECF6",
              "width": 0.5
             },
             "pattern": {
              "fillmode": "overlay",
              "size": 10,
              "solidity": 0.2
             }
            },
            "type": "barpolar"
           }
          ],
          "carpet": [
           {
            "aaxis": {
             "endlinecolor": "#2a3f5f",
             "gridcolor": "white",
             "linecolor": "white",
             "minorgridcolor": "white",
             "startlinecolor": "#2a3f5f"
            },
            "baxis": {
             "endlinecolor": "#2a3f5f",
             "gridcolor": "white",
             "linecolor": "white",
             "minorgridcolor": "white",
             "startlinecolor": "#2a3f5f"
            },
            "type": "carpet"
           }
          ],
          "choropleth": [
           {
            "colorbar": {
             "outlinewidth": 0,
             "ticks": ""
            },
            "type": "choropleth"
           }
          ],
          "contour": [
           {
            "colorbar": {
             "outlinewidth": 0,
             "ticks": ""
            },
            "colorscale": [
             [
              0,
              "#0d0887"
             ],
             [
              0.1111111111111111,
              "#46039f"
             ],
             [
              0.2222222222222222,
              "#7201a8"
             ],
             [
              0.3333333333333333,
              "#9c179e"
             ],
             [
              0.4444444444444444,
              "#bd3786"
             ],
             [
              0.5555555555555556,
              "#d8576b"
             ],
             [
              0.6666666666666666,
              "#ed7953"
             ],
             [
              0.7777777777777778,
              "#fb9f3a"
             ],
             [
              0.8888888888888888,
              "#fdca26"
             ],
             [
              1,
              "#f0f921"
             ]
            ],
            "type": "contour"
           }
          ],
          "contourcarpet": [
           {
            "colorbar": {
             "outlinewidth": 0,
             "ticks": ""
            },
            "type": "contourcarpet"
           }
          ],
          "heatmap": [
           {
            "colorbar": {
             "outlinewidth": 0,
             "ticks": ""
            },
            "colorscale": [
             [
              0,
              "#0d0887"
             ],
             [
              0.1111111111111111,
              "#46039f"
             ],
             [
              0.2222222222222222,
              "#7201a8"
             ],
             [
              0.3333333333333333,
              "#9c179e"
             ],
             [
              0.4444444444444444,
              "#bd3786"
             ],
             [
              0.5555555555555556,
              "#d8576b"
             ],
             [
              0.6666666666666666,
              "#ed7953"
             ],
             [
              0.7777777777777778,
              "#fb9f3a"
             ],
             [
              0.8888888888888888,
              "#fdca26"
             ],
             [
              1,
              "#f0f921"
             ]
            ],
            "type": "heatmap"
           }
          ],
          "histogram": [
           {
            "marker": {
             "pattern": {
              "fillmode": "overlay",
              "size": 10,
              "solidity": 0.2
             }
            },
            "type": "histogram"
           }
          ],
          "histogram2d": [
           {
            "colorbar": {
             "outlinewidth": 0,
             "ticks": ""
            },
            "colorscale": [
             [
              0,
              "#0d0887"
             ],
             [
              0.1111111111111111,
              "#46039f"
             ],
             [
              0.2222222222222222,
              "#7201a8"
             ],
             [
              0.3333333333333333,
              "#9c179e"
             ],
             [
              0.4444444444444444,
              "#bd3786"
             ],
             [
              0.5555555555555556,
              "#d8576b"
             ],
             [
              0.6666666666666666,
              "#ed7953"
             ],
             [
              0.7777777777777778,
              "#fb9f3a"
             ],
             [
              0.8888888888888888,
              "#fdca26"
             ],
             [
              1,
              "#f0f921"
             ]
            ],
            "type": "histogram2d"
           }
          ],
          "histogram2dcontour": [
           {
            "colorbar": {
             "outlinewidth": 0,
             "ticks": ""
            },
            "colorscale": [
             [
              0,
              "#0d0887"
             ],
             [
              0.1111111111111111,
              "#46039f"
             ],
             [
              0.2222222222222222,
              "#7201a8"
             ],
             [
              0.3333333333333333,
              "#9c179e"
             ],
             [
              0.4444444444444444,
              "#bd3786"
             ],
             [
              0.5555555555555556,
              "#d8576b"
             ],
             [
              0.6666666666666666,
              "#ed7953"
             ],
             [
              0.7777777777777778,
              "#fb9f3a"
             ],
             [
              0.8888888888888888,
              "#fdca26"
             ],
             [
              1,
              "#f0f921"
             ]
            ],
            "type": "histogram2dcontour"
           }
          ],
          "mesh3d": [
           {
            "colorbar": {
             "outlinewidth": 0,
             "ticks": ""
            },
            "type": "mesh3d"
           }
          ],
          "parcoords": [
           {
            "line": {
             "colorbar": {
              "outlinewidth": 0,
              "ticks": ""
             }
            },
            "type": "parcoords"
           }
          ],
          "pie": [
           {
            "automargin": true,
            "type": "pie"
           }
          ],
          "scatter": [
           {
            "fillpattern": {
             "fillmode": "overlay",
             "size": 10,
             "solidity": 0.2
            },
            "type": "scatter"
           }
          ],
          "scatter3d": [
           {
            "line": {
             "colorbar": {
              "outlinewidth": 0,
              "ticks": ""
             }
            },
            "marker": {
             "colorbar": {
              "outlinewidth": 0,
              "ticks": ""
             }
            },
            "type": "scatter3d"
           }
          ],
          "scattercarpet": [
           {
            "marker": {
             "colorbar": {
              "outlinewidth": 0,
              "ticks": ""
             }
            },
            "type": "scattercarpet"
           }
          ],
          "scattergeo": [
           {
            "marker": {
             "colorbar": {
              "outlinewidth": 0,
              "ticks": ""
             }
            },
            "type": "scattergeo"
           }
          ],
          "scattergl": [
           {
            "marker": {
             "colorbar": {
              "outlinewidth": 0,
              "ticks": ""
             }
            },
            "type": "scattergl"
           }
          ],
          "scattermap": [
           {
            "marker": {
             "colorbar": {
              "outlinewidth": 0,
              "ticks": ""
             }
            },
            "type": "scattermap"
           }
          ],
          "scattermapbox": [
           {
            "marker": {
             "colorbar": {
              "outlinewidth": 0,
              "ticks": ""
             }
            },
            "type": "scattermapbox"
           }
          ],
          "scatterpolar": [
           {
            "marker": {
             "colorbar": {
              "outlinewidth": 0,
              "ticks": ""
             }
            },
            "type": "scatterpolar"
           }
          ],
          "scatterpolargl": [
           {
            "marker": {
             "colorbar": {
              "outlinewidth": 0,
              "ticks": ""
             }
            },
            "type": "scatterpolargl"
           }
          ],
          "scatterternary": [
           {
            "marker": {
             "colorbar": {
              "outlinewidth": 0,
              "ticks": ""
             }
            },
            "type": "scatterternary"
           }
          ],
          "surface": [
           {
            "colorbar": {
             "outlinewidth": 0,
             "ticks": ""
            },
            "colorscale": [
             [
              0,
              "#0d0887"
             ],
             [
              0.1111111111111111,
              "#46039f"
             ],
             [
              0.2222222222222222,
              "#7201a8"
             ],
             [
              0.3333333333333333,
              "#9c179e"
             ],
             [
              0.4444444444444444,
              "#bd3786"
             ],
             [
              0.5555555555555556,
              "#d8576b"
             ],
             [
              0.6666666666666666,
              "#ed7953"
             ],
             [
              0.7777777777777778,
              "#fb9f3a"
             ],
             [
              0.8888888888888888,
              "#fdca26"
             ],
             [
              1,
              "#f0f921"
             ]
            ],
            "type": "surface"
           }
          ],
          "table": [
           {
            "cells": {
             "fill": {
              "color": "#EBF0F8"
             },
             "line": {
              "color": "white"
             }
            },
            "header": {
             "fill": {
              "color": "#C8D4E3"
             },
             "line": {
              "color": "white"
             }
            },
            "type": "table"
           }
          ]
         },
         "layout": {
          "annotationdefaults": {
           "arrowcolor": "#2a3f5f",
           "arrowhead": 0,
           "arrowwidth": 1
          },
          "autotypenumbers": "strict",
          "coloraxis": {
           "colorbar": {
            "outlinewidth": 0,
            "ticks": ""
           }
          },
          "colorscale": {
           "diverging": [
            [
             0,
             "#8e0152"
            ],
            [
             0.1,
             "#c51b7d"
            ],
            [
             0.2,
             "#de77ae"
            ],
            [
             0.3,
             "#f1b6da"
            ],
            [
             0.4,
             "#fde0ef"
            ],
            [
             0.5,
             "#f7f7f7"
            ],
            [
             0.6,
             "#e6f5d0"
            ],
            [
             0.7,
             "#b8e186"
            ],
            [
             0.8,
             "#7fbc41"
            ],
            [
             0.9,
             "#4d9221"
            ],
            [
             1,
             "#276419"
            ]
           ],
           "sequential": [
            [
             0,
             "#0d0887"
            ],
            [
             0.1111111111111111,
             "#46039f"
            ],
            [
             0.2222222222222222,
             "#7201a8"
            ],
            [
             0.3333333333333333,
             "#9c179e"
            ],
            [
             0.4444444444444444,
             "#bd3786"
            ],
            [
             0.5555555555555556,
             "#d8576b"
            ],
            [
             0.6666666666666666,
             "#ed7953"
            ],
            [
             0.7777777777777778,
             "#fb9f3a"
            ],
            [
             0.8888888888888888,
             "#fdca26"
            ],
            [
             1,
             "#f0f921"
            ]
           ],
           "sequentialminus": [
            [
             0,
             "#0d0887"
            ],
            [
             0.1111111111111111,
             "#46039f"
            ],
            [
             0.2222222222222222,
             "#7201a8"
            ],
            [
             0.3333333333333333,
             "#9c179e"
            ],
            [
             0.4444444444444444,
             "#bd3786"
            ],
            [
             0.5555555555555556,
             "#d8576b"
            ],
            [
             0.6666666666666666,
             "#ed7953"
            ],
            [
             0.7777777777777778,
             "#fb9f3a"
            ],
            [
             0.8888888888888888,
             "#fdca26"
            ],
            [
             1,
             "#f0f921"
            ]
           ]
          },
          "colorway": [
           "#636efa",
           "#EF553B",
           "#00cc96",
           "#ab63fa",
           "#FFA15A",
           "#19d3f3",
           "#FF6692",
           "#B6E880",
           "#FF97FF",
           "#FECB52"
          ],
          "font": {
           "color": "#2a3f5f"
          },
          "geo": {
           "bgcolor": "white",
           "lakecolor": "white",
           "landcolor": "#E5ECF6",
           "showlakes": true,
           "showland": true,
           "subunitcolor": "white"
          },
          "hoverlabel": {
           "align": "left"
          },
          "hovermode": "closest",
          "mapbox": {
           "style": "light"
          },
          "paper_bgcolor": "white",
          "plot_bgcolor": "#E5ECF6",
          "polar": {
           "angularaxis": {
            "gridcolor": "white",
            "linecolor": "white",
            "ticks": ""
           },
           "bgcolor": "#E5ECF6",
           "radialaxis": {
            "gridcolor": "white",
            "linecolor": "white",
            "ticks": ""
           }
          },
          "scene": {
           "xaxis": {
            "backgroundcolor": "#E5ECF6",
            "gridcolor": "white",
            "gridwidth": 2,
            "linecolor": "white",
            "showbackground": true,
            "ticks": "",
            "zerolinecolor": "white"
           },
           "yaxis": {
            "backgroundcolor": "#E5ECF6",
            "gridcolor": "white",
            "gridwidth": 2,
            "linecolor": "white",
            "showbackground": true,
            "ticks": "",
            "zerolinecolor": "white"
           },
           "zaxis": {
            "backgroundcolor": "#E5ECF6",
            "gridcolor": "white",
            "gridwidth": 2,
            "linecolor": "white",
            "showbackground": true,
            "ticks": "",
            "zerolinecolor": "white"
           }
          },
          "shapedefaults": {
           "line": {
            "color": "#2a3f5f"
           }
          },
          "ternary": {
           "aaxis": {
            "gridcolor": "white",
            "linecolor": "white",
            "ticks": ""
           },
           "baxis": {
            "gridcolor": "white",
            "linecolor": "white",
            "ticks": ""
           },
           "bgcolor": "#E5ECF6",
           "caxis": {
            "gridcolor": "white",
            "linecolor": "white",
            "ticks": ""
           }
          },
          "title": {
           "x": 0.05
          },
          "xaxis": {
           "automargin": true,
           "gridcolor": "white",
           "linecolor": "white",
           "ticks": "",
           "title": {
            "standoff": 15
           },
           "zerolinecolor": "white",
           "zerolinewidth": 2
          },
          "yaxis": {
           "automargin": true,
           "gridcolor": "white",
           "linecolor": "white",
           "ticks": "",
           "title": {
            "standoff": 15
           },
           "zerolinecolor": "white",
           "zerolinewidth": 2
          }
         }
        },
        "title": {
         "text": "Bakerloo Line Stations"
        }
       }
      }
     },
     "metadata": {},
     "output_type": "display_data"
    },
    {
     "name": "stdout",
     "output_type": "stream",
     "text": [
      "From the available data, it has been found that:\n",
      "The Bakerloo Line has 25 stops.\n",
      "The Bakerloo Line goes through zones 1 and 2.\n",
      "10 stations have Wifi.\n",
      "2 stations have toilets.\n",
      "0 stations have accessible toilets.\n",
      "0 stations have blue badge parking.\n",
      "0 stations have taxi ranks.\n"
     ]
    },
    {
     "data": {
      "application/vnd.plotly.v1+json": {
       "config": {
        "plotlyServerURL": "https://plot.ly"
       },
       "data": [
        {
         "customdata": [
          [
           "Barkingside Underground Station",
           "Yes",
           2,
           "None",
           "4",
           "Yes",
           2,
           "None"
          ],
          [
           "Buckhurst Hill Underground Station",
           "Yes",
           2,
           "None",
           "5",
           "Yes",
           "n/a",
           "None"
          ],
          [
           "Bethnal Green Underground Station",
           "Yes",
           "n/a",
           "n/a",
           "2",
           "None",
           "n/a",
           "None"
          ],
          [
           "Bond Street Underground Station",
           "n/a",
           "n/a",
           "n/a",
           "n/a",
           "n/a",
           "n/a",
           "n/a"
          ],
          [
           "Bank Underground Station",
           "n/a",
           "n/a",
           "n/a",
           "n/a",
           "n/a",
           "n/a",
           "n/a"
          ],
          [
           "Chancery Lane Underground Station",
           "Yes",
           "n/a",
           "n/a",
           "1",
           "None",
           "n/a",
           "None"
          ],
          [
           "Chigwell Underground Station",
           "Yes",
           2,
           "None",
           "4",
           "None",
           "n/a",
           "None"
          ],
          [
           "Debden Underground Station",
           "Yes",
           2,
           "None",
           "6",
           "Yes",
           3,
           "Yes"
          ],
          [
           "East Acton Underground Station",
           "Yes",
           "n/a",
           "n/a",
           "2",
           "None",
           "n/a",
           "None"
          ],
          [
           "Ealing Broadway Underground Station",
           "n/a",
           "n/a",
           "n/a",
           "n/a",
           "n/a",
           "n/a",
           "n/a"
          ],
          [
           "Epping Underground Station",
           "Yes",
           3,
           "Yes",
           "6",
           "Yes",
           6,
           "None"
          ],
          [
           "Fairlop Underground Station",
           "Yes",
           2,
           "None",
           "4",
           "None",
           "n/a",
           "None"
          ],
          [
           "Greenford Underground Station",
           "n/a",
           "n/a",
           "n/a",
           "n/a",
           "n/a",
           "n/a",
           "n/a"
          ],
          [
           "Grange Hill Underground Station",
           "Yes",
           2,
           "None",
           "4",
           "None",
           "n/a",
           "None"
          ],
          [
           "Gants Hill Underground Station",
           "Yes",
           "n/a",
           "n/a",
           "4",
           "None",
           "n/a",
           "None"
          ],
          [
           "Holborn Underground Station",
           "Yes",
           "n/a",
           "n/a",
           "1",
           "None",
           "n/a",
           "None"
          ],
          [
           "Hanger Lane Underground Station",
           "No",
           2,
           "None",
           "3",
           "None",
           "n/a",
           "None"
          ],
          [
           "Hainault Underground Station",
           "Yes",
           1,
           "Yes",
           "4",
           "Yes",
           4,
           "None"
          ],
          [
           "Holland Park Underground Station",
           "Yes",
           "n/a",
           "n/a",
           "2",
           "None",
           "n/a",
           "None"
          ],
          [
           "Loughton Underground Station",
           "Yes",
           2,
           "None",
           "6",
           "None",
           "n/a",
           "None"
          ],
          [
           "Lancaster Gate Underground Station",
           "Yes",
           "n/a",
           "n/a",
           "1",
           "None",
           "n/a",
           "None"
          ],
          [
           "Liverpool Street Underground Station",
           "n/a",
           "n/a",
           "n/a",
           "n/a",
           "n/a",
           "n/a",
           "n/a"
          ],
          [
           "Leyton Underground Station",
           "Yes",
           2,
           "None",
           "3",
           "None",
           "n/a",
           "None"
          ],
          [
           "Leytonstone Underground Station",
           "Yes",
           2,
           "None",
           "3|4",
           "None",
           "n/a",
           "None"
          ],
          [
           "Marble Arch Underground Station",
           "Yes",
           "n/a",
           "n/a",
           "1",
           "None",
           "n/a",
           "None"
          ],
          [
           "Mile End Underground Station",
           "Yes",
           "n/a",
           "n/a",
           "2",
           "None",
           "n/a",
           "None"
          ],
          [
           "North Acton Underground Station",
           "Yes",
           "n/a",
           "n/a",
           "2|3",
           "None",
           "n/a",
           "None"
          ],
          [
           "Newbury Park Underground Station",
           "Yes",
           2,
           "None",
           "4",
           "Yes",
           6,
           "Yes"
          ],
          [
           "Notting Hill Gate Underground Station",
           "Yes",
           "n/a",
           "n/a",
           "1|2",
           "None",
           "n/a",
           "None"
          ],
          [
           "Northolt Underground Station",
           "Yes",
           2,
           "None",
           "5",
           "None",
           "n/a",
           "None"
          ],
          [
           "Oxford Circus Underground Station",
           "Yes",
           "n/a",
           "n/a",
           "1",
           "None",
           "n/a",
           "None"
          ],
          [
           "Perivale Underground Station",
           "Yes",
           2,
           "None",
           "4",
           "None",
           "n/a",
           "None"
          ],
          [
           "Queensway Underground Station",
           "Yes",
           "n/a",
           "n/a",
           "1",
           "None",
           "n/a",
           "None"
          ],
          [
           "Redbridge Underground Station",
           "Yes",
           2,
           "None",
           "4",
           "None",
           "n/a",
           "None"
          ],
          [
           "Ruislip Gardens Underground Station",
           "No",
           1,
           "Yes",
           "5",
           "None",
           "n/a",
           "None"
          ],
          [
           "Roding Valley Underground Station",
           "Yes",
           2,
           "None",
           "4",
           "None",
           "n/a",
           "None"
          ],
          [
           "Shepherd's Bush (Central) Underground Station",
           "n/a",
           "n/a",
           "n/a",
           "n/a",
           "n/a",
           "n/a",
           "n/a"
          ],
          [
           "Snaresbrook Underground Station",
           "Yes",
           2,
           "None",
           "4",
           "None",
           "n/a",
           "None"
          ],
          [
           "St. Paul's Underground Station",
           "Yes",
           "n/a",
           "n/a",
           "1",
           "None",
           "n/a",
           "None"
          ],
          [
           "South Ruislip Underground Station",
           "n/a",
           "n/a",
           "n/a",
           "n/a",
           "n/a",
           "n/a",
           "n/a"
          ],
          [
           "Stratford Underground Station",
           "n/a",
           "n/a",
           "n/a",
           "n/a",
           "n/a",
           "n/a",
           "n/a"
          ],
          [
           "South Woodford Underground Station",
           "Yes",
           "n/a",
           "n/a",
           "4",
           "Yes",
           4,
           "Yes"
          ],
          [
           "Tottenham Court Road Underground Station",
           "n/a",
           "n/a",
           "n/a",
           "n/a",
           "n/a",
           "n/a",
           "n/a"
          ],
          [
           "Theydon Bois Underground Station",
           "Yes",
           2,
           "None",
           "6",
           "Yes",
           3,
           "None"
          ],
          [
           "White City Underground Station",
           "Yes",
           2,
           "None",
           "2",
           "None",
           "n/a",
           "None"
          ],
          [
           "Woodford Underground Station",
           "Yes",
           2,
           "None",
           "4",
           "Yes",
           10,
           "None"
          ],
          [
           "West Ruislip Underground Station",
           "n/a",
           "n/a",
           "n/a",
           "n/a",
           "n/a",
           "n/a",
           "n/a"
          ],
          [
           "Wanstead Underground Station",
           "Yes",
           "n/a",
           "n/a",
           "4",
           "None",
           "n/a",
           "None"
          ],
          [
           "West Acton Underground Station",
           "Yes",
           2,
           "None",
           "3",
           "None",
           "n/a",
           "None"
          ]
         ],
         "hovertemplate": "<b>%{customdata[0]}</b><br><br><b>Wifi:</b> %{customdata[1]}<br><b>Toilets:</b> %{customdata[2]}<br><b>Accessible toilets:</b> %{customdata[3]}<br><b>Zone:</b> %{customdata[4]}<br><b>Accessible parking:</b> %{customdata[5]}<br><b>Accessible parking spaces:</b> %{customdata[6]}<br><b>Accessible Taxi rank:</b> %{customdata[7]}",
         "hovertext": [
          "Barkingside Underground Station",
          "Buckhurst Hill Underground Station",
          "Bethnal Green Underground Station",
          "Bond Street Underground Station",
          "Bank Underground Station",
          "Chancery Lane Underground Station",
          "Chigwell Underground Station",
          "Debden Underground Station",
          "East Acton Underground Station",
          "Ealing Broadway Underground Station",
          "Epping Underground Station",
          "Fairlop Underground Station",
          "Greenford Underground Station",
          "Grange Hill Underground Station",
          "Gants Hill Underground Station",
          "Holborn Underground Station",
          "Hanger Lane Underground Station",
          "Hainault Underground Station",
          "Holland Park Underground Station",
          "Loughton Underground Station",
          "Lancaster Gate Underground Station",
          "Liverpool Street Underground Station",
          "Leyton Underground Station",
          "Leytonstone Underground Station",
          "Marble Arch Underground Station",
          "Mile End Underground Station",
          "North Acton Underground Station",
          "Newbury Park Underground Station",
          "Notting Hill Gate Underground Station",
          "Northolt Underground Station",
          "Oxford Circus Underground Station",
          "Perivale Underground Station",
          "Queensway Underground Station",
          "Redbridge Underground Station",
          "Ruislip Gardens Underground Station",
          "Roding Valley Underground Station",
          "Shepherd's Bush (Central) Underground Station",
          "Snaresbrook Underground Station",
          "St. Paul's Underground Station",
          "South Ruislip Underground Station",
          "Stratford Underground Station",
          "South Woodford Underground Station",
          "Tottenham Court Road Underground Station",
          "Theydon Bois Underground Station",
          "White City Underground Station",
          "Woodford Underground Station",
          "West Ruislip Underground Station",
          "Wanstead Underground Station",
          "West Acton Underground Station"
         ],
         "lat": {
          "bdata": "QFBu2/fKSUBKQbeXNNBJQKndrwJ8w0lA2xmmttTBSUBKmj+mtcFJQAQg7upVwklAa9YZ3xfPSUDspSkCnNJJQE9cjlcgwklAKPG5E+zBSUDU8ZiBythJQFh06zU9zElAYkhOJm7FSUD+Cpkrg85JQD5anDHMyUlAJ4i6D0DCSUCzCwbX3MNJQNF3t7JEzUlAmrLTD+rASUDDn+HNGtJJQDbOpiOAwUlA3e7lPjnCSUAcKPBOPsdJQBXEQNe+yElAon2s4LfBSUB/NJwyN8NJQOdVndUCw0lAfLq6Y7HJSUArvTYbK8FJQLQ+5ZgsxklAog4r3PLBSUCHGoUks8RJQNBgU+dRwUlAQ8ajVMLJSUBN2H4yxsdJQNwPeGAAz0lAk3GMZI/ASUDbwB2oU8pJQDvEP2zpwUlA+daH9UbHSUBnYyXmWcVJQAGjy5vDy0lA7WZGPxrCSUCX5esy/NVJQEnyXN+HwUlA0HzO3a7NSUA6dlCJ68hJQFzoSgSqyUlAzCVV203CSUA=",
          "dtype": "f8"
         },
         "legendgroup": "",
         "lon": {
          "bdata": "donqrYGttj9J2LeTiPCnP1irdk1Ia6y/xsA6jh8qw7+cqKW5FcK2vyEhyhe0kLy/VvDbEOM1sz8uVP61vHK1PyMuAI3Spc+/Dp4JTRJL078zMV2I1R+9P4ogzsMJTLc/ofgx5q4l1r9B0xIro5G3P8RafAqA8bA/SFD8GHPXvr/3ItqOqbvSv4vBw7Rv7rc/gqs8gbBTyr+0AG2rWWesP+91Ul+Wdsa/yqmdYWpLtb9ATwMGSZ92v+z4LxAEyIA/dPBMaJJYxL/wxKwXQzmhvx09fm/Tn9C/4lmCjIAKtz8+sU6V7xnJv4pYxLDDmNe/HCYapOApwr+2aAHaVrPUv1nEsMOY9Me/ttYXCW05pz9i+IiYEknavwEUI0vmWKY/Y0Z4exACzL/cEU4LXvSVP5M4K6Im+ri/1pC4x9KH2b9aLhud81Nsv6iPwB9+/ps/UyKJXkaxwL/5SbVPx2O6PwGjy5vDtcy/+BkXDoRkoT+UFFgAUwbcv4lDNpAuNp0/CCC1iZP70b8=",
          "dtype": "f8"
         },
         "marker": {
          "color": "rgb(220, 36, 31)",
          "size": 8.5
         },
         "mode": "markers",
         "name": "",
         "showlegend": false,
         "subplot": "map",
         "type": "scattermap"
        }
       ],
       "layout": {
        "hoverlabel": {
         "bgcolor": "rgb(0, 25, 168)"
        },
        "hovermode": "closest",
        "legend": {
         "tracegroupgap": 0
        },
        "map": {
         "center": {
          "lat": 51.55772220408163,
          "lon": -0.09894900000000001
         },
         "domain": {
          "x": [
           0,
           1
          ],
          "y": [
           0,
           1
          ]
         },
         "style": "light",
         "zoom": 9.5
        },
        "mapbox": {
         "center": {
          "lat": 51.55772220408163,
          "lon": -0.09894900000000001
         },
         "zoom": 9.5
        },
        "margin": {
         "t": 60
        },
        "template": {
         "data": {
          "bar": [
           {
            "error_x": {
             "color": "#2a3f5f"
            },
            "error_y": {
             "color": "#2a3f5f"
            },
            "marker": {
             "line": {
              "color": "#E5ECF6",
              "width": 0.5
             },
             "pattern": {
              "fillmode": "overlay",
              "size": 10,
              "solidity": 0.2
             }
            },
            "type": "bar"
           }
          ],
          "barpolar": [
           {
            "marker": {
             "line": {
              "color": "#E5ECF6",
              "width": 0.5
             },
             "pattern": {
              "fillmode": "overlay",
              "size": 10,
              "solidity": 0.2
             }
            },
            "type": "barpolar"
           }
          ],
          "carpet": [
           {
            "aaxis": {
             "endlinecolor": "#2a3f5f",
             "gridcolor": "white",
             "linecolor": "white",
             "minorgridcolor": "white",
             "startlinecolor": "#2a3f5f"
            },
            "baxis": {
             "endlinecolor": "#2a3f5f",
             "gridcolor": "white",
             "linecolor": "white",
             "minorgridcolor": "white",
             "startlinecolor": "#2a3f5f"
            },
            "type": "carpet"
           }
          ],
          "choropleth": [
           {
            "colorbar": {
             "outlinewidth": 0,
             "ticks": ""
            },
            "type": "choropleth"
           }
          ],
          "contour": [
           {
            "colorbar": {
             "outlinewidth": 0,
             "ticks": ""
            },
            "colorscale": [
             [
              0,
              "#0d0887"
             ],
             [
              0.1111111111111111,
              "#46039f"
             ],
             [
              0.2222222222222222,
              "#7201a8"
             ],
             [
              0.3333333333333333,
              "#9c179e"
             ],
             [
              0.4444444444444444,
              "#bd3786"
             ],
             [
              0.5555555555555556,
              "#d8576b"
             ],
             [
              0.6666666666666666,
              "#ed7953"
             ],
             [
              0.7777777777777778,
              "#fb9f3a"
             ],
             [
              0.8888888888888888,
              "#fdca26"
             ],
             [
              1,
              "#f0f921"
             ]
            ],
            "type": "contour"
           }
          ],
          "contourcarpet": [
           {
            "colorbar": {
             "outlinewidth": 0,
             "ticks": ""
            },
            "type": "contourcarpet"
           }
          ],
          "heatmap": [
           {
            "colorbar": {
             "outlinewidth": 0,
             "ticks": ""
            },
            "colorscale": [
             [
              0,
              "#0d0887"
             ],
             [
              0.1111111111111111,
              "#46039f"
             ],
             [
              0.2222222222222222,
              "#7201a8"
             ],
             [
              0.3333333333333333,
              "#9c179e"
             ],
             [
              0.4444444444444444,
              "#bd3786"
             ],
             [
              0.5555555555555556,
              "#d8576b"
             ],
             [
              0.6666666666666666,
              "#ed7953"
             ],
             [
              0.7777777777777778,
              "#fb9f3a"
             ],
             [
              0.8888888888888888,
              "#fdca26"
             ],
             [
              1,
              "#f0f921"
             ]
            ],
            "type": "heatmap"
           }
          ],
          "histogram": [
           {
            "marker": {
             "pattern": {
              "fillmode": "overlay",
              "size": 10,
              "solidity": 0.2
             }
            },
            "type": "histogram"
           }
          ],
          "histogram2d": [
           {
            "colorbar": {
             "outlinewidth": 0,
             "ticks": ""
            },
            "colorscale": [
             [
              0,
              "#0d0887"
             ],
             [
              0.1111111111111111,
              "#46039f"
             ],
             [
              0.2222222222222222,
              "#7201a8"
             ],
             [
              0.3333333333333333,
              "#9c179e"
             ],
             [
              0.4444444444444444,
              "#bd3786"
             ],
             [
              0.5555555555555556,
              "#d8576b"
             ],
             [
              0.6666666666666666,
              "#ed7953"
             ],
             [
              0.7777777777777778,
              "#fb9f3a"
             ],
             [
              0.8888888888888888,
              "#fdca26"
             ],
             [
              1,
              "#f0f921"
             ]
            ],
            "type": "histogram2d"
           }
          ],
          "histogram2dcontour": [
           {
            "colorbar": {
             "outlinewidth": 0,
             "ticks": ""
            },
            "colorscale": [
             [
              0,
              "#0d0887"
             ],
             [
              0.1111111111111111,
              "#46039f"
             ],
             [
              0.2222222222222222,
              "#7201a8"
             ],
             [
              0.3333333333333333,
              "#9c179e"
             ],
             [
              0.4444444444444444,
              "#bd3786"
             ],
             [
              0.5555555555555556,
              "#d8576b"
             ],
             [
              0.6666666666666666,
              "#ed7953"
             ],
             [
              0.7777777777777778,
              "#fb9f3a"
             ],
             [
              0.8888888888888888,
              "#fdca26"
             ],
             [
              1,
              "#f0f921"
             ]
            ],
            "type": "histogram2dcontour"
           }
          ],
          "mesh3d": [
           {
            "colorbar": {
             "outlinewidth": 0,
             "ticks": ""
            },
            "type": "mesh3d"
           }
          ],
          "parcoords": [
           {
            "line": {
             "colorbar": {
              "outlinewidth": 0,
              "ticks": ""
             }
            },
            "type": "parcoords"
           }
          ],
          "pie": [
           {
            "automargin": true,
            "type": "pie"
           }
          ],
          "scatter": [
           {
            "fillpattern": {
             "fillmode": "overlay",
             "size": 10,
             "solidity": 0.2
            },
            "type": "scatter"
           }
          ],
          "scatter3d": [
           {
            "line": {
             "colorbar": {
              "outlinewidth": 0,
              "ticks": ""
             }
            },
            "marker": {
             "colorbar": {
              "outlinewidth": 0,
              "ticks": ""
             }
            },
            "type": "scatter3d"
           }
          ],
          "scattercarpet": [
           {
            "marker": {
             "colorbar": {
              "outlinewidth": 0,
              "ticks": ""
             }
            },
            "type": "scattercarpet"
           }
          ],
          "scattergeo": [
           {
            "marker": {
             "colorbar": {
              "outlinewidth": 0,
              "ticks": ""
             }
            },
            "type": "scattergeo"
           }
          ],
          "scattergl": [
           {
            "marker": {
             "colorbar": {
              "outlinewidth": 0,
              "ticks": ""
             }
            },
            "type": "scattergl"
           }
          ],
          "scattermap": [
           {
            "marker": {
             "colorbar": {
              "outlinewidth": 0,
              "ticks": ""
             }
            },
            "type": "scattermap"
           }
          ],
          "scattermapbox": [
           {
            "marker": {
             "colorbar": {
              "outlinewidth": 0,
              "ticks": ""
             }
            },
            "type": "scattermapbox"
           }
          ],
          "scatterpolar": [
           {
            "marker": {
             "colorbar": {
              "outlinewidth": 0,
              "ticks": ""
             }
            },
            "type": "scatterpolar"
           }
          ],
          "scatterpolargl": [
           {
            "marker": {
             "colorbar": {
              "outlinewidth": 0,
              "ticks": ""
             }
            },
            "type": "scatterpolargl"
           }
          ],
          "scatterternary": [
           {
            "marker": {
             "colorbar": {
              "outlinewidth": 0,
              "ticks": ""
             }
            },
            "type": "scatterternary"
           }
          ],
          "surface": [
           {
            "colorbar": {
             "outlinewidth": 0,
             "ticks": ""
            },
            "colorscale": [
             [
              0,
              "#0d0887"
             ],
             [
              0.1111111111111111,
              "#46039f"
             ],
             [
              0.2222222222222222,
              "#7201a8"
             ],
             [
              0.3333333333333333,
              "#9c179e"
             ],
             [
              0.4444444444444444,
              "#bd3786"
             ],
             [
              0.5555555555555556,
              "#d8576b"
             ],
             [
              0.6666666666666666,
              "#ed7953"
             ],
             [
              0.7777777777777778,
              "#fb9f3a"
             ],
             [
              0.8888888888888888,
              "#fdca26"
             ],
             [
              1,
              "#f0f921"
             ]
            ],
            "type": "surface"
           }
          ],
          "table": [
           {
            "cells": {
             "fill": {
              "color": "#EBF0F8"
             },
             "line": {
              "color": "white"
             }
            },
            "header": {
             "fill": {
              "color": "#C8D4E3"
             },
             "line": {
              "color": "white"
             }
            },
            "type": "table"
           }
          ]
         },
         "layout": {
          "annotationdefaults": {
           "arrowcolor": "#2a3f5f",
           "arrowhead": 0,
           "arrowwidth": 1
          },
          "autotypenumbers": "strict",
          "coloraxis": {
           "colorbar": {
            "outlinewidth": 0,
            "ticks": ""
           }
          },
          "colorscale": {
           "diverging": [
            [
             0,
             "#8e0152"
            ],
            [
             0.1,
             "#c51b7d"
            ],
            [
             0.2,
             "#de77ae"
            ],
            [
             0.3,
             "#f1b6da"
            ],
            [
             0.4,
             "#fde0ef"
            ],
            [
             0.5,
             "#f7f7f7"
            ],
            [
             0.6,
             "#e6f5d0"
            ],
            [
             0.7,
             "#b8e186"
            ],
            [
             0.8,
             "#7fbc41"
            ],
            [
             0.9,
             "#4d9221"
            ],
            [
             1,
             "#276419"
            ]
           ],
           "sequential": [
            [
             0,
             "#0d0887"
            ],
            [
             0.1111111111111111,
             "#46039f"
            ],
            [
             0.2222222222222222,
             "#7201a8"
            ],
            [
             0.3333333333333333,
             "#9c179e"
            ],
            [
             0.4444444444444444,
             "#bd3786"
            ],
            [
             0.5555555555555556,
             "#d8576b"
            ],
            [
             0.6666666666666666,
             "#ed7953"
            ],
            [
             0.7777777777777778,
             "#fb9f3a"
            ],
            [
             0.8888888888888888,
             "#fdca26"
            ],
            [
             1,
             "#f0f921"
            ]
           ],
           "sequentialminus": [
            [
             0,
             "#0d0887"
            ],
            [
             0.1111111111111111,
             "#46039f"
            ],
            [
             0.2222222222222222,
             "#7201a8"
            ],
            [
             0.3333333333333333,
             "#9c179e"
            ],
            [
             0.4444444444444444,
             "#bd3786"
            ],
            [
             0.5555555555555556,
             "#d8576b"
            ],
            [
             0.6666666666666666,
             "#ed7953"
            ],
            [
             0.7777777777777778,
             "#fb9f3a"
            ],
            [
             0.8888888888888888,
             "#fdca26"
            ],
            [
             1,
             "#f0f921"
            ]
           ]
          },
          "colorway": [
           "#636efa",
           "#EF553B",
           "#00cc96",
           "#ab63fa",
           "#FFA15A",
           "#19d3f3",
           "#FF6692",
           "#B6E880",
           "#FF97FF",
           "#FECB52"
          ],
          "font": {
           "color": "#2a3f5f"
          },
          "geo": {
           "bgcolor": "white",
           "lakecolor": "white",
           "landcolor": "#E5ECF6",
           "showlakes": true,
           "showland": true,
           "subunitcolor": "white"
          },
          "hoverlabel": {
           "align": "left"
          },
          "hovermode": "closest",
          "mapbox": {
           "style": "light"
          },
          "paper_bgcolor": "white",
          "plot_bgcolor": "#E5ECF6",
          "polar": {
           "angularaxis": {
            "gridcolor": "white",
            "linecolor": "white",
            "ticks": ""
           },
           "bgcolor": "#E5ECF6",
           "radialaxis": {
            "gridcolor": "white",
            "linecolor": "white",
            "ticks": ""
           }
          },
          "scene": {
           "xaxis": {
            "backgroundcolor": "#E5ECF6",
            "gridcolor": "white",
            "gridwidth": 2,
            "linecolor": "white",
            "showbackground": true,
            "ticks": "",
            "zerolinecolor": "white"
           },
           "yaxis": {
            "backgroundcolor": "#E5ECF6",
            "gridcolor": "white",
            "gridwidth": 2,
            "linecolor": "white",
            "showbackground": true,
            "ticks": "",
            "zerolinecolor": "white"
           },
           "zaxis": {
            "backgroundcolor": "#E5ECF6",
            "gridcolor": "white",
            "gridwidth": 2,
            "linecolor": "white",
            "showbackground": true,
            "ticks": "",
            "zerolinecolor": "white"
           }
          },
          "shapedefaults": {
           "line": {
            "color": "#2a3f5f"
           }
          },
          "ternary": {
           "aaxis": {
            "gridcolor": "white",
            "linecolor": "white",
            "ticks": ""
           },
           "baxis": {
            "gridcolor": "white",
            "linecolor": "white",
            "ticks": ""
           },
           "bgcolor": "#E5ECF6",
           "caxis": {
            "gridcolor": "white",
            "linecolor": "white",
            "ticks": ""
           }
          },
          "title": {
           "x": 0.05
          },
          "xaxis": {
           "automargin": true,
           "gridcolor": "white",
           "linecolor": "white",
           "ticks": "",
           "title": {
            "standoff": 15
           },
           "zerolinecolor": "white",
           "zerolinewidth": 2
          },
          "yaxis": {
           "automargin": true,
           "gridcolor": "white",
           "linecolor": "white",
           "ticks": "",
           "title": {
            "standoff": 15
           },
           "zerolinecolor": "white",
           "zerolinewidth": 2
          }
         }
        },
        "title": {
         "text": "Central Line Stations"
        }
       }
      }
     },
     "metadata": {},
     "output_type": "display_data"
    },
    {
     "name": "stdout",
     "output_type": "stream",
     "text": [
      "From the available data, it has been found that:\n",
      "The Central Line has 49 stops.\n",
      "The Central Line goes through zones 4, 5, 2, 1, 6, 3, 3|4, 2|3 and 1|2.\n",
      "37 stations have Wifi.\n",
      "23 stations have toilets.\n",
      "3 stations have accessible toilets.\n",
      "9 stations have blue badge parking.\n",
      "3 stations have taxi ranks.\n"
     ]
    },
    {
     "data": {
      "application/vnd.plotly.v1+json": {
       "config": {
        "plotlyServerURL": "https://plot.ly"
       },
       "data": [
        {
         "customdata": [
          [
           "Aldgate Underground Station",
           "Yes",
           "n/a",
           "n/a",
           "1",
           "None",
           "n/a",
           "None"
          ],
          [
           "Barbican Underground Station",
           "Yes",
           "n/a",
           "n/a",
           "1",
           "None",
           "n/a",
           "None"
          ],
          [
           "Blackfriars Underground Station",
           "n/a",
           "n/a",
           "n/a",
           "n/a",
           "n/a",
           "n/a",
           "n/a"
          ],
          [
           "Baker Street Underground Station",
           "Yes",
           2,
           "None",
           "1",
           "None",
           "n/a",
           "None"
          ],
          [
           "Bayswater Underground Station",
           "Yes",
           "n/a",
           "n/a",
           "1",
           "None",
           "n/a",
           "None"
          ],
          [
           "Cannon Street Underground Station",
           "n/a",
           "n/a",
           "n/a",
           "n/a",
           "n/a",
           "n/a",
           "n/a"
          ],
          [
           "Embankment Underground Station",
           "Yes",
           "n/a",
           "n/a",
           "1",
           "None",
           "n/a",
           "None"
          ],
          [
           "Edgware Road (Circle Line) Underground Station",
           "Yes",
           "n/a",
           "n/a",
           "1",
           "None",
           "n/a",
           "None"
          ],
          [
           "Euston Square Underground Station",
           "Yes",
           "n/a",
           "n/a",
           "1",
           "None",
           "n/a",
           "None"
          ],
          [
           "Farringdon Underground Station",
           "n/a",
           "n/a",
           "n/a",
           "n/a",
           "n/a",
           "n/a",
           "n/a"
          ],
          [
           "Goldhawk Road Underground Station",
           "Yes",
           "n/a",
           "n/a",
           "2",
           "None",
           "n/a",
           "None"
          ],
          [
           "Great Portland Street Underground Station",
           "Yes",
           "n/a",
           "n/a",
           "1",
           "None",
           "n/a",
           "None"
          ],
          [
           "Gloucester Road Underground Station",
           "Yes",
           "n/a",
           "n/a",
           "1",
           "None",
           "n/a",
           "None"
          ],
          [
           "Hammersmith (H&C Line) Underground Station",
           "n/a",
           "n/a",
           "n/a",
           "n/a",
           "n/a",
           "n/a",
           "n/a"
          ],
          [
           "High Street Kensington Underground Station",
           "Yes",
           "n/a",
           "n/a",
           "1",
           "None",
           "n/a",
           "None"
          ],
          [
           "King's Cross St. Pancras Underground Station",
           "n/a",
           "n/a",
           "n/a",
           "n/a",
           "n/a",
           "n/a",
           "n/a"
          ],
          [
           "Ladbroke Grove Underground Station",
           "Yes",
           "n/a",
           "n/a",
           "2",
           "None",
           "n/a",
           "None"
          ],
          [
           "Latimer Road Underground Station",
           "Yes",
           "n/a",
           "n/a",
           "2",
           "None",
           "n/a",
           "None"
          ],
          [
           "Liverpool Street Underground Station",
           "n/a",
           "n/a",
           "n/a",
           "n/a",
           "n/a",
           "n/a",
           "n/a"
          ],
          [
           "Moorgate Underground Station",
           "n/a",
           "n/a",
           "n/a",
           "n/a",
           "n/a",
           "n/a",
           "n/a"
          ],
          [
           "Monument Underground Station",
           "Yes",
           "n/a",
           "n/a",
           "1",
           "None",
           "n/a",
           "None"
          ],
          [
           "Mansion House Underground Station",
           "Yes",
           "n/a",
           "n/a",
           "1",
           "None",
           "n/a",
           "None"
          ],
          [
           "Notting Hill Gate Underground Station",
           "Yes",
           "n/a",
           "n/a",
           "1|2",
           "None",
           "n/a",
           "None"
          ],
          [
           "Paddington Underground Station",
           "n/a",
           "n/a",
           "n/a",
           "n/a",
           "n/a",
           "n/a",
           "n/a"
          ],
          [
           "Paddington (H&C Line)-Underground",
           "n/a",
           "n/a",
           "n/a",
           "n/a",
           "n/a",
           "n/a",
           "n/a"
          ],
          [
           "Royal Oak Underground Station",
           "Yes",
           "n/a",
           "n/a",
           "2",
           "None",
           "n/a",
           "None"
          ],
          [
           "Shepherd's Bush Market Underground Station",
           "Yes",
           "n/a",
           "n/a",
           "2",
           "None",
           "n/a",
           "None"
          ],
          [
           "St. James's Park Underground Station",
           "Yes",
           "n/a",
           "n/a",
           "1",
           "None",
           "n/a",
           "None"
          ],
          [
           "South Kensington Underground Station",
           "Yes",
           "n/a",
           "n/a",
           "1",
           "None",
           "n/a",
           "None"
          ],
          [
           "Sloane Square Underground Station",
           "Yes",
           "n/a",
           "n/a",
           "1",
           "None",
           "n/a",
           "None"
          ],
          [
           "Temple Underground Station",
           "Yes",
           "n/a",
           "n/a",
           "1",
           "None",
           "n/a",
           "None"
          ],
          [
           "Tower Hill Underground Station",
           "Yes",
           "n/a",
           "n/a",
           "1",
           "None",
           "n/a",
           "None"
          ],
          [
           "Victoria Underground Station",
           "n/a",
           "n/a",
           "n/a",
           "n/a",
           "n/a",
           "n/a",
           "n/a"
          ],
          [
           "Wood Lane Underground Station",
           "Yes",
           1,
           "Yes",
           "2",
           "None",
           "n/a",
           "None"
          ],
          [
           "Westminster Underground Station",
           "n/a",
           "n/a",
           "n/a",
           "n/a",
           "n/a",
           "n/a",
           "n/a"
          ],
          [
           "Westbourne Park Underground Station",
           "Yes",
           "n/a",
           "n/a",
           "2",
           "None",
           "n/a",
           "None"
          ]
         ],
         "hovertemplate": "<b>%{customdata[0]}</b><br><br><b>Wifi:</b> %{customdata[1]}<br><b>Toilets:</b> %{customdata[2]}<br><b>Accessible toilets:</b> %{customdata[3]}<br><b>Zone:</b> %{customdata[4]}<br><b>Accessible parking:</b> %{customdata[5]}<br><b>Accessible parking spaces:</b> %{customdata[6]}<br><b>Accessible Taxi rank:</b> %{customdata[7]}",
         "hovertext": [
          "Aldgate Underground Station",
          "Barbican Underground Station",
          "Blackfriars Underground Station",
          "Baker Street Underground Station",
          "Bayswater Underground Station",
          "Cannon Street Underground Station",
          "Embankment Underground Station",
          "Edgware Road (Circle Line) Underground Station",
          "Euston Square Underground Station",
          "Farringdon Underground Station",
          "Goldhawk Road Underground Station",
          "Great Portland Street Underground Station",
          "Gloucester Road Underground Station",
          "Hammersmith (H&C Line) Underground Station",
          "High Street Kensington Underground Station",
          "King's Cross St. Pancras Underground Station",
          "Ladbroke Grove Underground Station",
          "Latimer Road Underground Station",
          "Liverpool Street Underground Station",
          "Moorgate Underground Station",
          "Monument Underground Station",
          "Mansion House Underground Station",
          "Notting Hill Gate Underground Station",
          "Paddington Underground Station",
          "Paddington (H&C Line)-Underground",
          "Royal Oak Underground Station",
          "Shepherd's Bush Market Underground Station",
          "St. James's Park Underground Station",
          "South Kensington Underground Station",
          "Sloane Square Underground Station",
          "Temple Underground Station",
          "Tower Hill Underground Station",
          "Victoria Underground Station",
          "Wood Lane Underground Station",
          "Westminster Underground Station",
          "Westbourne Park Underground Station"
         ],
         "lat": {
          "bdata": "pgwc0NLBSUCU9gZfmMJJQKMgeHx7wUlAM1GE1O3CSUDNIamFksFJQNrJ4Ch5wUlAbJbLRufASUAwSPq0isJJQMpS6/1Gw0lA3NYWnpfCSUDYtiizQcBJQBcrajANw0lA3PEmv0W/SUAXZTbIJL9JQKc/+5EiwElAPxnjw+zDSUCILNLEO8JJQCWQEru2wUlA3e7lPjnCSUA6yVaXU8JJQJoIG55ewUlA4lzDDI3BSUArvTYbK8FJQBReglMfwklALhud81PCSUDX9nZLcsJJQK5FC9C2wElA3nTLDvG/SUAtk+F4Pr9JQKVmD7QCv0lApwcFpWjBSUBHdM+6RsFJQKIJFLGIv0lAfGRz1TzBSUBVavZAK8BJQC3Pg7uzwklA",
          "dtype": "f8"
         },
         "legendgroup": "",
         "lon": {
          "bdata": "2Lyqs1pgs79Qpzy6ERa5v+Sh725libq/sDic+dUcxL+ie9Y1Wg7IvwsKgzKNJre/VMVU+glnv79pc5zbhHvFv9mXbDzYYsG/Dt3sD5Tbur8wnkFD/wTNv1QcB14td8K/gCctXFZhx78SFD/G3LXMv2UYd4Norci/jjwQWaSJv7/QtS+gF+7KvxX+DG/W4Mu/yqmdYWpLtb+PboRFRZy2v2NGeHsQAra/D5iHTPkQuL8+sU6V7xnJvzkroib6fMa/HR1XI7vSxr9zu5f75CjIv2Dl0CLb+cy/qvI9IxEawb8b1H5rJ0rGvyBdbFopBMS/jq89syRAvb/gvaPGhJizvyYA/5QqUcK/zEV8J2a9zL84vYv34/a/vwZkr3d/vMm/",
          "dtype": "f8"
         },
         "marker": {
          "color": "rgb(255, 206, 0)",
          "size": 8.5
         },
         "mode": "markers",
         "name": "",
         "showlegend": false,
         "subplot": "map",
         "type": "scattermap"
        }
       ],
       "layout": {
        "hoverlabel": {
         "bgcolor": "rgb(0, 25, 168)"
        },
        "hovermode": "closest",
        "legend": {
         "tracegroupgap": 0
        },
        "map": {
         "center": {
          "lat": 51.51121872222222,
          "lon": -0.15087174999999997
         },
         "domain": {
          "x": [
           0,
           1
          ],
          "y": [
           0,
           1
          ]
         },
         "style": "light",
         "zoom": 9.5
        },
        "mapbox": {
         "center": {
          "lat": 51.51121872222222,
          "lon": -0.15087174999999997
         },
         "zoom": 9.5
        },
        "margin": {
         "t": 60
        },
        "template": {
         "data": {
          "bar": [
           {
            "error_x": {
             "color": "#2a3f5f"
            },
            "error_y": {
             "color": "#2a3f5f"
            },
            "marker": {
             "line": {
              "color": "#E5ECF6",
              "width": 0.5
             },
             "pattern": {
              "fillmode": "overlay",
              "size": 10,
              "solidity": 0.2
             }
            },
            "type": "bar"
           }
          ],
          "barpolar": [
           {
            "marker": {
             "line": {
              "color": "#E5ECF6",
              "width": 0.5
             },
             "pattern": {
              "fillmode": "overlay",
              "size": 10,
              "solidity": 0.2
             }
            },
            "type": "barpolar"
           }
          ],
          "carpet": [
           {
            "aaxis": {
             "endlinecolor": "#2a3f5f",
             "gridcolor": "white",
             "linecolor": "white",
             "minorgridcolor": "white",
             "startlinecolor": "#2a3f5f"
            },
            "baxis": {
             "endlinecolor": "#2a3f5f",
             "gridcolor": "white",
             "linecolor": "white",
             "minorgridcolor": "white",
             "startlinecolor": "#2a3f5f"
            },
            "type": "carpet"
           }
          ],
          "choropleth": [
           {
            "colorbar": {
             "outlinewidth": 0,
             "ticks": ""
            },
            "type": "choropleth"
           }
          ],
          "contour": [
           {
            "colorbar": {
             "outlinewidth": 0,
             "ticks": ""
            },
            "colorscale": [
             [
              0,
              "#0d0887"
             ],
             [
              0.1111111111111111,
              "#46039f"
             ],
             [
              0.2222222222222222,
              "#7201a8"
             ],
             [
              0.3333333333333333,
              "#9c179e"
             ],
             [
              0.4444444444444444,
              "#bd3786"
             ],
             [
              0.5555555555555556,
              "#d8576b"
             ],
             [
              0.6666666666666666,
              "#ed7953"
             ],
             [
              0.7777777777777778,
              "#fb9f3a"
             ],
             [
              0.8888888888888888,
              "#fdca26"
             ],
             [
              1,
              "#f0f921"
             ]
            ],
            "type": "contour"
           }
          ],
          "contourcarpet": [
           {
            "colorbar": {
             "outlinewidth": 0,
             "ticks": ""
            },
            "type": "contourcarpet"
           }
          ],
          "heatmap": [
           {
            "colorbar": {
             "outlinewidth": 0,
             "ticks": ""
            },
            "colorscale": [
             [
              0,
              "#0d0887"
             ],
             [
              0.1111111111111111,
              "#46039f"
             ],
             [
              0.2222222222222222,
              "#7201a8"
             ],
             [
              0.3333333333333333,
              "#9c179e"
             ],
             [
              0.4444444444444444,
              "#bd3786"
             ],
             [
              0.5555555555555556,
              "#d8576b"
             ],
             [
              0.6666666666666666,
              "#ed7953"
             ],
             [
              0.7777777777777778,
              "#fb9f3a"
             ],
             [
              0.8888888888888888,
              "#fdca26"
             ],
             [
              1,
              "#f0f921"
             ]
            ],
            "type": "heatmap"
           }
          ],
          "histogram": [
           {
            "marker": {
             "pattern": {
              "fillmode": "overlay",
              "size": 10,
              "solidity": 0.2
             }
            },
            "type": "histogram"
           }
          ],
          "histogram2d": [
           {
            "colorbar": {
             "outlinewidth": 0,
             "ticks": ""
            },
            "colorscale": [
             [
              0,
              "#0d0887"
             ],
             [
              0.1111111111111111,
              "#46039f"
             ],
             [
              0.2222222222222222,
              "#7201a8"
             ],
             [
              0.3333333333333333,
              "#9c179e"
             ],
             [
              0.4444444444444444,
              "#bd3786"
             ],
             [
              0.5555555555555556,
              "#d8576b"
             ],
             [
              0.6666666666666666,
              "#ed7953"
             ],
             [
              0.7777777777777778,
              "#fb9f3a"
             ],
             [
              0.8888888888888888,
              "#fdca26"
             ],
             [
              1,
              "#f0f921"
             ]
            ],
            "type": "histogram2d"
           }
          ],
          "histogram2dcontour": [
           {
            "colorbar": {
             "outlinewidth": 0,
             "ticks": ""
            },
            "colorscale": [
             [
              0,
              "#0d0887"
             ],
             [
              0.1111111111111111,
              "#46039f"
             ],
             [
              0.2222222222222222,
              "#7201a8"
             ],
             [
              0.3333333333333333,
              "#9c179e"
             ],
             [
              0.4444444444444444,
              "#bd3786"
             ],
             [
              0.5555555555555556,
              "#d8576b"
             ],
             [
              0.6666666666666666,
              "#ed7953"
             ],
             [
              0.7777777777777778,
              "#fb9f3a"
             ],
             [
              0.8888888888888888,
              "#fdca26"
             ],
             [
              1,
              "#f0f921"
             ]
            ],
            "type": "histogram2dcontour"
           }
          ],
          "mesh3d": [
           {
            "colorbar": {
             "outlinewidth": 0,
             "ticks": ""
            },
            "type": "mesh3d"
           }
          ],
          "parcoords": [
           {
            "line": {
             "colorbar": {
              "outlinewidth": 0,
              "ticks": ""
             }
            },
            "type": "parcoords"
           }
          ],
          "pie": [
           {
            "automargin": true,
            "type": "pie"
           }
          ],
          "scatter": [
           {
            "fillpattern": {
             "fillmode": "overlay",
             "size": 10,
             "solidity": 0.2
            },
            "type": "scatter"
           }
          ],
          "scatter3d": [
           {
            "line": {
             "colorbar": {
              "outlinewidth": 0,
              "ticks": ""
             }
            },
            "marker": {
             "colorbar": {
              "outlinewidth": 0,
              "ticks": ""
             }
            },
            "type": "scatter3d"
           }
          ],
          "scattercarpet": [
           {
            "marker": {
             "colorbar": {
              "outlinewidth": 0,
              "ticks": ""
             }
            },
            "type": "scattercarpet"
           }
          ],
          "scattergeo": [
           {
            "marker": {
             "colorbar": {
              "outlinewidth": 0,
              "ticks": ""
             }
            },
            "type": "scattergeo"
           }
          ],
          "scattergl": [
           {
            "marker": {
             "colorbar": {
              "outlinewidth": 0,
              "ticks": ""
             }
            },
            "type": "scattergl"
           }
          ],
          "scattermap": [
           {
            "marker": {
             "colorbar": {
              "outlinewidth": 0,
              "ticks": ""
             }
            },
            "type": "scattermap"
           }
          ],
          "scattermapbox": [
           {
            "marker": {
             "colorbar": {
              "outlinewidth": 0,
              "ticks": ""
             }
            },
            "type": "scattermapbox"
           }
          ],
          "scatterpolar": [
           {
            "marker": {
             "colorbar": {
              "outlinewidth": 0,
              "ticks": ""
             }
            },
            "type": "scatterpolar"
           }
          ],
          "scatterpolargl": [
           {
            "marker": {
             "colorbar": {
              "outlinewidth": 0,
              "ticks": ""
             }
            },
            "type": "scatterpolargl"
           }
          ],
          "scatterternary": [
           {
            "marker": {
             "colorbar": {
              "outlinewidth": 0,
              "ticks": ""
             }
            },
            "type": "scatterternary"
           }
          ],
          "surface": [
           {
            "colorbar": {
             "outlinewidth": 0,
             "ticks": ""
            },
            "colorscale": [
             [
              0,
              "#0d0887"
             ],
             [
              0.1111111111111111,
              "#46039f"
             ],
             [
              0.2222222222222222,
              "#7201a8"
             ],
             [
              0.3333333333333333,
              "#9c179e"
             ],
             [
              0.4444444444444444,
              "#bd3786"
             ],
             [
              0.5555555555555556,
              "#d8576b"
             ],
             [
              0.6666666666666666,
              "#ed7953"
             ],
             [
              0.7777777777777778,
              "#fb9f3a"
             ],
             [
              0.8888888888888888,
              "#fdca26"
             ],
             [
              1,
              "#f0f921"
             ]
            ],
            "type": "surface"
           }
          ],
          "table": [
           {
            "cells": {
             "fill": {
              "color": "#EBF0F8"
             },
             "line": {
              "color": "white"
             }
            },
            "header": {
             "fill": {
              "color": "#C8D4E3"
             },
             "line": {
              "color": "white"
             }
            },
            "type": "table"
           }
          ]
         },
         "layout": {
          "annotationdefaults": {
           "arrowcolor": "#2a3f5f",
           "arrowhead": 0,
           "arrowwidth": 1
          },
          "autotypenumbers": "strict",
          "coloraxis": {
           "colorbar": {
            "outlinewidth": 0,
            "ticks": ""
           }
          },
          "colorscale": {
           "diverging": [
            [
             0,
             "#8e0152"
            ],
            [
             0.1,
             "#c51b7d"
            ],
            [
             0.2,
             "#de77ae"
            ],
            [
             0.3,
             "#f1b6da"
            ],
            [
             0.4,
             "#fde0ef"
            ],
            [
             0.5,
             "#f7f7f7"
            ],
            [
             0.6,
             "#e6f5d0"
            ],
            [
             0.7,
             "#b8e186"
            ],
            [
             0.8,
             "#7fbc41"
            ],
            [
             0.9,
             "#4d9221"
            ],
            [
             1,
             "#276419"
            ]
           ],
           "sequential": [
            [
             0,
             "#0d0887"
            ],
            [
             0.1111111111111111,
             "#46039f"
            ],
            [
             0.2222222222222222,
             "#7201a8"
            ],
            [
             0.3333333333333333,
             "#9c179e"
            ],
            [
             0.4444444444444444,
             "#bd3786"
            ],
            [
             0.5555555555555556,
             "#d8576b"
            ],
            [
             0.6666666666666666,
             "#ed7953"
            ],
            [
             0.7777777777777778,
             "#fb9f3a"
            ],
            [
             0.8888888888888888,
             "#fdca26"
            ],
            [
             1,
             "#f0f921"
            ]
           ],
           "sequentialminus": [
            [
             0,
             "#0d0887"
            ],
            [
             0.1111111111111111,
             "#46039f"
            ],
            [
             0.2222222222222222,
             "#7201a8"
            ],
            [
             0.3333333333333333,
             "#9c179e"
            ],
            [
             0.4444444444444444,
             "#bd3786"
            ],
            [
             0.5555555555555556,
             "#d8576b"
            ],
            [
             0.6666666666666666,
             "#ed7953"
            ],
            [
             0.7777777777777778,
             "#fb9f3a"
            ],
            [
             0.8888888888888888,
             "#fdca26"
            ],
            [
             1,
             "#f0f921"
            ]
           ]
          },
          "colorway": [
           "#636efa",
           "#EF553B",
           "#00cc96",
           "#ab63fa",
           "#FFA15A",
           "#19d3f3",
           "#FF6692",
           "#B6E880",
           "#FF97FF",
           "#FECB52"
          ],
          "font": {
           "color": "#2a3f5f"
          },
          "geo": {
           "bgcolor": "white",
           "lakecolor": "white",
           "landcolor": "#E5ECF6",
           "showlakes": true,
           "showland": true,
           "subunitcolor": "white"
          },
          "hoverlabel": {
           "align": "left"
          },
          "hovermode": "closest",
          "mapbox": {
           "style": "light"
          },
          "paper_bgcolor": "white",
          "plot_bgcolor": "#E5ECF6",
          "polar": {
           "angularaxis": {
            "gridcolor": "white",
            "linecolor": "white",
            "ticks": ""
           },
           "bgcolor": "#E5ECF6",
           "radialaxis": {
            "gridcolor": "white",
            "linecolor": "white",
            "ticks": ""
           }
          },
          "scene": {
           "xaxis": {
            "backgroundcolor": "#E5ECF6",
            "gridcolor": "white",
            "gridwidth": 2,
            "linecolor": "white",
            "showbackground": true,
            "ticks": "",
            "zerolinecolor": "white"
           },
           "yaxis": {
            "backgroundcolor": "#E5ECF6",
            "gridcolor": "white",
            "gridwidth": 2,
            "linecolor": "white",
            "showbackground": true,
            "ticks": "",
            "zerolinecolor": "white"
           },
           "zaxis": {
            "backgroundcolor": "#E5ECF6",
            "gridcolor": "white",
            "gridwidth": 2,
            "linecolor": "white",
            "showbackground": true,
            "ticks": "",
            "zerolinecolor": "white"
           }
          },
          "shapedefaults": {
           "line": {
            "color": "#2a3f5f"
           }
          },
          "ternary": {
           "aaxis": {
            "gridcolor": "white",
            "linecolor": "white",
            "ticks": ""
           },
           "baxis": {
            "gridcolor": "white",
            "linecolor": "white",
            "ticks": ""
           },
           "bgcolor": "#E5ECF6",
           "caxis": {
            "gridcolor": "white",
            "linecolor": "white",
            "ticks": ""
           }
          },
          "title": {
           "x": 0.05
          },
          "xaxis": {
           "automargin": true,
           "gridcolor": "white",
           "linecolor": "white",
           "ticks": "",
           "title": {
            "standoff": 15
           },
           "zerolinecolor": "white",
           "zerolinewidth": 2
          },
          "yaxis": {
           "automargin": true,
           "gridcolor": "white",
           "linecolor": "white",
           "ticks": "",
           "title": {
            "standoff": 15
           },
           "zerolinecolor": "white",
           "zerolinewidth": 2
          }
         }
        },
        "title": {
         "text": "Circle Line Stations"
        }
       }
      }
     },
     "metadata": {},
     "output_type": "display_data"
    },
    {
     "name": "stdout",
     "output_type": "stream",
     "text": [
      "From the available data, it has been found that:\n",
      "The Circle Line has 36 stops.\n",
      "The Circle Line goes through zones 1, 2 and 1|2.\n",
      "25 stations have Wifi.\n",
      "2 stations have toilets.\n",
      "1 station has accessible toilets.\n",
      "0 stations have blue badge parking.\n",
      "0 stations have taxi ranks.\n"
     ]
    },
    {
     "data": {
      "application/vnd.plotly.v1+json": {
       "config": {
        "plotlyServerURL": "https://plot.ly"
       },
       "data": [
        {
         "customdata": [
          [
           "Acton Town Underground Station",
           "Yes",
           3,
           "Yes",
           "3",
           "None",
           "n/a",
           "None"
          ],
          [
           "Aldgate East Underground Station",
           "Yes",
           "n/a",
           "n/a",
           "1",
           "None",
           "n/a",
           "None"
          ],
          [
           "Bromley-by-Bow Underground Station",
           "Yes",
           "n/a",
           "n/a",
           "2|3",
           "None",
           "n/a",
           "None"
          ],
          [
           "Becontree Underground Station",
           "Yes",
           2,
           "None",
           "5",
           "None",
           "n/a",
           "None"
          ],
          [
           "Blackfriars Underground Station",
           "n/a",
           "n/a",
           "n/a",
           "n/a",
           "n/a",
           "n/a",
           "n/a"
          ],
          [
           "Barking Underground Station",
           "n/a",
           "n/a",
           "n/a",
           "n/a",
           "n/a",
           "n/a",
           "n/a"
          ],
          [
           "Barons Court Underground Station",
           "Yes",
           2,
           "None",
           "2",
           "None",
           "n/a",
           "None"
          ],
          [
           "Bow Road Underground Station",
           "No",
           "n/a",
           "n/a",
           "2",
           "None",
           "n/a",
           "None"
          ],
          [
           "Bayswater Underground Station",
           "Yes",
           "n/a",
           "n/a",
           "1",
           "None",
           "n/a",
           "None"
          ],
          [
           "Cannon Street Underground Station",
           "n/a",
           "n/a",
           "n/a",
           "n/a",
           "n/a",
           "n/a",
           "n/a"
          ],
          [
           "Chiswick Park Underground Station",
           "Yes",
           "n/a",
           "n/a",
           "3",
           "None",
           "n/a",
           "None"
          ],
          [
           "Dagenham East Underground Station",
           "Yes",
           2,
           "None",
           "5",
           "None",
           "n/a",
           "None"
          ],
          [
           "Dagenham Heathway Underground Station",
           "Yes",
           3,
           "Yes",
           "5",
           "None",
           "n/a",
           "None"
          ],
          [
           "Ealing Broadway Underground Station",
           "n/a",
           "n/a",
           "n/a",
           "n/a",
           "n/a",
           "n/a",
           "n/a"
          ],
          [
           "Ealing Common Underground Station",
           "Yes",
           2,
           "None",
           "3",
           "None",
           "n/a",
           "None"
          ],
          [
           "Earl's Court Underground Station",
           "Yes",
           "n/a",
           "n/a",
           "1|2",
           "None",
           "n/a",
           "None"
          ],
          [
           "East Ham Underground Station",
           "Yes",
           "n/a",
           "n/a",
           "3|4",
           "None",
           "n/a",
           "None"
          ],
          [
           "Embankment Underground Station",
           "Yes",
           "n/a",
           "n/a",
           "1",
           "None",
           "n/a",
           "None"
          ],
          [
           "Elm Park Underground Station",
           "Yes",
           3,
           "Yes",
           "6",
           "None",
           "n/a",
           "Yes"
          ],
          [
           "East Putney Underground Station",
           "Yes",
           "n/a",
           "n/a",
           "2|3",
           "None",
           "n/a",
           "None"
          ],
          [
           "Edgware Road (Circle Line) Underground Station",
           "Yes",
           "n/a",
           "n/a",
           "1",
           "None",
           "n/a",
           "None"
          ],
          [
           "Fulham Broadway Underground Station",
           "Yes",
           "n/a",
           "n/a",
           "2",
           "None",
           "n/a",
           "None"
          ],
          [
           "Gunnersbury Underground Station",
           "n/a",
           "n/a",
           "n/a",
           "n/a",
           "n/a",
           "n/a",
           "n/a"
          ],
          [
           "Gloucester Road Underground Station",
           "Yes",
           "n/a",
           "n/a",
           "1",
           "None",
           "n/a",
           "None"
          ],
          [
           "Hornchurch Underground Station",
           "Yes",
           2,
           "None",
           "6",
           "None",
           "n/a",
           "None"
          ],
          [
           "Hammersmith (Dist&Picc Line) Underground Station",
           "n/a",
           "n/a",
           "n/a",
           "n/a",
           "n/a",
           "n/a",
           "n/a"
          ],
          [
           "High Street Kensington Underground Station",
           "Yes",
           "n/a",
           "n/a",
           "1",
           "None",
           "n/a",
           "None"
          ],
          [
           "Kensington (Olympia) Underground Station",
           "n/a",
           "n/a",
           "n/a",
           "n/a",
           "n/a",
           "n/a",
           "n/a"
          ],
          [
           "Kew Gardens Underground Station",
           "n/a",
           "n/a",
           "n/a",
           "n/a",
           "n/a",
           "n/a",
           "n/a"
          ],
          [
           "Mile End Underground Station",
           "Yes",
           "n/a",
           "n/a",
           "2",
           "None",
           "n/a",
           "None"
          ],
          [
           "Monument Underground Station",
           "Yes",
           "n/a",
           "n/a",
           "1",
           "None",
           "n/a",
           "None"
          ],
          [
           "Mansion House Underground Station",
           "Yes",
           "n/a",
           "n/a",
           "1",
           "None",
           "n/a",
           "None"
          ],
          [
           "Notting Hill Gate Underground Station",
           "Yes",
           "n/a",
           "n/a",
           "1|2",
           "None",
           "n/a",
           "None"
          ],
          [
           "Paddington Underground Station",
           "n/a",
           "n/a",
           "n/a",
           "n/a",
           "n/a",
           "n/a",
           "n/a"
          ],
          [
           "Plaistow Underground Station",
           "Yes",
           "n/a",
           "n/a",
           "3",
           "None",
           "n/a",
           "None"
          ],
          [
           "Parsons Green Underground Station",
           "Yes",
           "n/a",
           "n/a",
           "2",
           "None",
           "n/a",
           "None"
          ],
          [
           "Putney Bridge Underground Station",
           "No",
           "n/a",
           "n/a",
           "2",
           "None",
           "n/a",
           "None"
          ],
          [
           "Richmond Underground Station",
           "n/a",
           "n/a",
           "n/a",
           "n/a",
           "n/a",
           "n/a",
           "n/a"
          ],
          [
           "Ravenscourt Park Underground Station",
           "Yes",
           "n/a",
           "n/a",
           "2",
           "None",
           "n/a",
           "None"
          ],
          [
           "Stamford Brook Underground Station",
           "Yes",
           2,
           "None",
           "2",
           "None",
           "n/a",
           "None"
          ],
          [
           "Southfields Underground Station",
           "Yes",
           "n/a",
           "n/a",
           "3",
           "None",
           "n/a",
           "Yes"
          ],
          [
           "Stepney Green Underground Station",
           "Yes",
           "n/a",
           "n/a",
           "2",
           "None",
           "n/a",
           "None"
          ],
          [
           "St. James's Park Underground Station",
           "Yes",
           "n/a",
           "n/a",
           "1",
           "None",
           "n/a",
           "None"
          ],
          [
           "South Kensington Underground Station",
           "Yes",
           "n/a",
           "n/a",
           "1",
           "None",
           "n/a",
           "None"
          ],
          [
           "Sloane Square Underground Station",
           "Yes",
           "n/a",
           "n/a",
           "1",
           "None",
           "n/a",
           "None"
          ],
          [
           "Temple Underground Station",
           "Yes",
           "n/a",
           "n/a",
           "1",
           "None",
           "n/a",
           "None"
          ],
          [
           "Turnham Green Underground Station",
           "Yes",
           "n/a",
           "n/a",
           "2|3",
           "None",
           "n/a",
           "None"
          ],
          [
           "Tower Hill Underground Station",
           "Yes",
           "n/a",
           "n/a",
           "1",
           "None",
           "n/a",
           "None"
          ],
          [
           "Upminster Bridge Underground Station",
           "Yes",
           2,
           "None",
           "6",
           "None",
           "n/a",
           "None"
          ],
          [
           "Upton Park Underground Station",
           "Yes",
           "n/a",
           "n/a",
           "3",
           "None",
           "n/a",
           "None"
          ],
          [
           "Upminster Underground Station",
           "n/a",
           "n/a",
           "n/a",
           "n/a",
           "n/a",
           "n/a",
           "n/a"
          ],
          [
           "Upney Underground Station",
           "Yes",
           2,
           "None",
           "4",
           "None",
           "n/a",
           "None"
          ],
          [
           "Victoria Underground Station",
           "n/a",
           "n/a",
           "n/a",
           "n/a",
           "n/a",
           "n/a",
           "n/a"
          ],
          [
           "West Brompton Underground Station",
           "n/a",
           "n/a",
           "n/a",
           "n/a",
           "n/a",
           "n/a",
           "n/a"
          ],
          [
           "West Ham Underground Station",
           "n/a",
           "n/a",
           "n/a",
           "n/a",
           "n/a",
           "n/a",
           "n/a"
          ],
          [
           "Wimbledon Underground Station",
           "n/a",
           "n/a",
           "n/a",
           "n/a",
           "n/a",
           "n/a",
           "n/a"
          ],
          [
           "Wimbledon Park Underground Station",
           "Yes",
           "n/a",
           "n/a",
           "3",
           "None",
           "n/a",
           "None"
          ],
          [
           "West Kensington Underground Station",
           "Yes",
           "n/a",
           "n/a",
           "2",
           "None",
           "n/a",
           "None"
          ],
          [
           "Whitechapel Underground Station",
           "n/a",
           "n/a",
           "n/a",
           "n/a",
           "n/a",
           "n/a",
           "n/a"
          ],
          [
           "Westminster Underground Station",
           "n/a",
           "n/a",
           "n/a",
           "n/a",
           "n/a",
           "n/a",
           "n/a"
          ]
         ],
         "hovertemplate": "<b>%{customdata[0]}</b><br><br><b>Wifi:</b> %{customdata[1]}<br><b>Toilets:</b> %{customdata[2]}<br><b>Accessible toilets:</b> %{customdata[3]}<br><b>Zone:</b> %{customdata[4]}<br><b>Accessible parking:</b> %{customdata[5]}<br><b>Accessible parking spaces:</b> %{customdata[6]}<br><b>Accessible Taxi rank:</b> %{customdata[7]}",
         "hovertext": [
          "Acton Town Underground Station",
          "Aldgate East Underground Station",
          "Bromley-by-Bow Underground Station",
          "Becontree Underground Station",
          "Blackfriars Underground Station",
          "Barking Underground Station",
          "Barons Court Underground Station",
          "Bow Road Underground Station",
          "Bayswater Underground Station",
          "Cannon Street Underground Station",
          "Chiswick Park Underground Station",
          "Dagenham East Underground Station",
          "Dagenham Heathway Underground Station",
          "Ealing Broadway Underground Station",
          "Ealing Common Underground Station",
          "Earl's Court Underground Station",
          "East Ham Underground Station",
          "Embankment Underground Station",
          "Elm Park Underground Station",
          "East Putney Underground Station",
          "Edgware Road (Circle Line) Underground Station",
          "Fulham Broadway Underground Station",
          "Gunnersbury Underground Station",
          "Gloucester Road Underground Station",
          "Hornchurch Underground Station",
          "Hammersmith (Dist&Picc Line) Underground Station",
          "High Street Kensington Underground Station",
          "Kensington (Olympia) Underground Station",
          "Kew Gardens Underground Station",
          "Mile End Underground Station",
          "Monument Underground Station",
          "Mansion House Underground Station",
          "Notting Hill Gate Underground Station",
          "Paddington Underground Station",
          "Plaistow Underground Station",
          "Parsons Green Underground Station",
          "Putney Bridge Underground Station",
          "Richmond Underground Station",
          "Ravenscourt Park Underground Station",
          "Stamford Brook Underground Station",
          "Southfields Underground Station",
          "Stepney Green Underground Station",
          "St. James's Park Underground Station",
          "South Kensington Underground Station",
          "Sloane Square Underground Station",
          "Temple Underground Station",
          "Turnham Green Underground Station",
          "Tower Hill Underground Station",
          "Upminster Bridge Underground Station",
          "Upton Park Underground Station",
          "Upminster Underground Station",
          "Upney Underground Station",
          "Victoria Underground Station",
          "West Brompton Underground Station",
          "West Ham Underground Station",
          "Wimbledon Underground Station",
          "Wimbledon Park Underground Station",
          "West Kensington Underground Station",
          "Whitechapel Underground Station",
          "Westminster Underground Station"
         ],
         "lat": {
          "bdata": "DoP5K2TASUBvnX+77MFJQCpVouwtw0lA6wHzkCnFSUCjIHh8e8FJQOSFdHgIxUlAPe/GgsK+SUAlehnFcsNJQM0hqYWSwUlA2sngKHnBSUD7WwLwT79JQDXxDvCkxUlAfJ4/bVTFSUAo8bkT7MFJQNMwfERMwUlALEme6/u+SUBPH4E//MRJQGyWy0bnwElARpT2Bl/GSUBwlLw6x7pJQDBI+rSKwklAKjdRS3O9SUCPiZRm875JQNzxJr9Fv0lApfj4hOzGSUAQ6bevA79JQKc/+5EiwElANNqqJLK/SUDIJY48EL1JQH80nDI3w0lAmggbnl7BSUDiXMMMjcFJQCu9NhsrwUlAFF6CUx/CSUAQA137AsRJQD/FceDVvElA0/pbAvC7SUAJpppZS7tJQPcdw2M/v0lAAp60cFm/SUCTqu0m+LhJQPeTMT7MwklA3nTLDvG/SUAtk+F4Pr9JQKVmD7QCv0lApwcFpWjBSUAEV3kCYb9JQEd0z7pGwUlASG3i5H7HSUDNHmgFhsRJQKuzWmCPx0lAg4qqX+nESUCiCRSxiL9JQJQxPsxevklAjuvf9ZnDSUBT7Ggc6rVJQMBcixagt0lAsoNKXMe+SUB319mQf8JJQFVq9kArwElA",
          "dtype": "f8"
         },
         "legendgroup": "",
         "lon": {
          "bdata": "AFRx4xbz0b8g8MAAwoeyv2Q8SiU8oYe/V8wIbw9CwD/koe9uZYm6v80gPrDjv7Q/l6yKcJNRy791BduIJ7uZv6J71jVaDsi/CwqDMo0mt7/6mA8IdCbRv30+yogLQMU/eXQjLCriwj8OnglNEkvTv1A25QrvctK/ngjiPJzAyL9HrwYoDTWqP1TFVPoJZ7+/W7bWFwltyT81XrpJDALLv2lznNuEe8W/6Z51jZYDyb8Jwap6+Z3Rv4AnLVxWYce/DeIDO/4LzD9zol2FlJ/Mv2UYd4Norci/NrBVgsXhyr8PnZ53Y0HSv/DErBdDOaG/Y0Z4exACtr8PmIdM+RC4vz6xTpXvGcm/OSuiJvp8xr+iRiHJrN6RP1XZd0Xwv8m/+KdUibK3yr+P4EbKFknTvyC3Xz5ZMc6/g4k/ijpzz79646Qw73HKv3SzP1Bu26e/qvI9IxEawb8b1H5rJ0rGvyBdbFopBMS/jq89syRAvb9CIQIOoUrQv+C9o8aEmLO/ih2NQ/0uzj+6h4Tv/Q2iP7PsSWBzDtA/5xiQvd79uT8mAP+UKlHCv82tEFZjCcm/24XmOo20dD8sSZ7r+3DKv8HlsWZkkMm/jo8WZwxzyr+AtWrXhLSuvzi9i/fj9r+/",
          "dtype": "f8"
         },
         "marker": {
          "color": "rgb(0, 114, 41)",
          "size": 8.5
         },
         "mode": "markers",
         "name": "",
         "showlegend": false,
         "subplot": "map",
         "type": "scattermap"
        }
       ],
       "layout": {
        "hoverlabel": {
         "bgcolor": "rgb(0, 25, 168)"
        },
        "hovermode": "closest",
        "legend": {
         "tracegroupgap": 0
        },
        "map": {
         "center": {
          "lat": 51.506265166666665,
          "lon": -0.1090564
         },
         "domain": {
          "x": [
           0,
           1
          ],
          "y": [
           0,
           1
          ]
         },
         "style": "light",
         "zoom": 9.5
        },
        "mapbox": {
         "center": {
          "lat": 51.506265166666665,
          "lon": -0.1090564
         },
         "zoom": 9.5
        },
        "margin": {
         "t": 60
        },
        "template": {
         "data": {
          "bar": [
           {
            "error_x": {
             "color": "#2a3f5f"
            },
            "error_y": {
             "color": "#2a3f5f"
            },
            "marker": {
             "line": {
              "color": "#E5ECF6",
              "width": 0.5
             },
             "pattern": {
              "fillmode": "overlay",
              "size": 10,
              "solidity": 0.2
             }
            },
            "type": "bar"
           }
          ],
          "barpolar": [
           {
            "marker": {
             "line": {
              "color": "#E5ECF6",
              "width": 0.5
             },
             "pattern": {
              "fillmode": "overlay",
              "size": 10,
              "solidity": 0.2
             }
            },
            "type": "barpolar"
           }
          ],
          "carpet": [
           {
            "aaxis": {
             "endlinecolor": "#2a3f5f",
             "gridcolor": "white",
             "linecolor": "white",
             "minorgridcolor": "white",
             "startlinecolor": "#2a3f5f"
            },
            "baxis": {
             "endlinecolor": "#2a3f5f",
             "gridcolor": "white",
             "linecolor": "white",
             "minorgridcolor": "white",
             "startlinecolor": "#2a3f5f"
            },
            "type": "carpet"
           }
          ],
          "choropleth": [
           {
            "colorbar": {
             "outlinewidth": 0,
             "ticks": ""
            },
            "type": "choropleth"
           }
          ],
          "contour": [
           {
            "colorbar": {
             "outlinewidth": 0,
             "ticks": ""
            },
            "colorscale": [
             [
              0,
              "#0d0887"
             ],
             [
              0.1111111111111111,
              "#46039f"
             ],
             [
              0.2222222222222222,
              "#7201a8"
             ],
             [
              0.3333333333333333,
              "#9c179e"
             ],
             [
              0.4444444444444444,
              "#bd3786"
             ],
             [
              0.5555555555555556,
              "#d8576b"
             ],
             [
              0.6666666666666666,
              "#ed7953"
             ],
             [
              0.7777777777777778,
              "#fb9f3a"
             ],
             [
              0.8888888888888888,
              "#fdca26"
             ],
             [
              1,
              "#f0f921"
             ]
            ],
            "type": "contour"
           }
          ],
          "contourcarpet": [
           {
            "colorbar": {
             "outlinewidth": 0,
             "ticks": ""
            },
            "type": "contourcarpet"
           }
          ],
          "heatmap": [
           {
            "colorbar": {
             "outlinewidth": 0,
             "ticks": ""
            },
            "colorscale": [
             [
              0,
              "#0d0887"
             ],
             [
              0.1111111111111111,
              "#46039f"
             ],
             [
              0.2222222222222222,
              "#7201a8"
             ],
             [
              0.3333333333333333,
              "#9c179e"
             ],
             [
              0.4444444444444444,
              "#bd3786"
             ],
             [
              0.5555555555555556,
              "#d8576b"
             ],
             [
              0.6666666666666666,
              "#ed7953"
             ],
             [
              0.7777777777777778,
              "#fb9f3a"
             ],
             [
              0.8888888888888888,
              "#fdca26"
             ],
             [
              1,
              "#f0f921"
             ]
            ],
            "type": "heatmap"
           }
          ],
          "histogram": [
           {
            "marker": {
             "pattern": {
              "fillmode": "overlay",
              "size": 10,
              "solidity": 0.2
             }
            },
            "type": "histogram"
           }
          ],
          "histogram2d": [
           {
            "colorbar": {
             "outlinewidth": 0,
             "ticks": ""
            },
            "colorscale": [
             [
              0,
              "#0d0887"
             ],
             [
              0.1111111111111111,
              "#46039f"
             ],
             [
              0.2222222222222222,
              "#7201a8"
             ],
             [
              0.3333333333333333,
              "#9c179e"
             ],
             [
              0.4444444444444444,
              "#bd3786"
             ],
             [
              0.5555555555555556,
              "#d8576b"
             ],
             [
              0.6666666666666666,
              "#ed7953"
             ],
             [
              0.7777777777777778,
              "#fb9f3a"
             ],
             [
              0.8888888888888888,
              "#fdca26"
             ],
             [
              1,
              "#f0f921"
             ]
            ],
            "type": "histogram2d"
           }
          ],
          "histogram2dcontour": [
           {
            "colorbar": {
             "outlinewidth": 0,
             "ticks": ""
            },
            "colorscale": [
             [
              0,
              "#0d0887"
             ],
             [
              0.1111111111111111,
              "#46039f"
             ],
             [
              0.2222222222222222,
              "#7201a8"
             ],
             [
              0.3333333333333333,
              "#9c179e"
             ],
             [
              0.4444444444444444,
              "#bd3786"
             ],
             [
              0.5555555555555556,
              "#d8576b"
             ],
             [
              0.6666666666666666,
              "#ed7953"
             ],
             [
              0.7777777777777778,
              "#fb9f3a"
             ],
             [
              0.8888888888888888,
              "#fdca26"
             ],
             [
              1,
              "#f0f921"
             ]
            ],
            "type": "histogram2dcontour"
           }
          ],
          "mesh3d": [
           {
            "colorbar": {
             "outlinewidth": 0,
             "ticks": ""
            },
            "type": "mesh3d"
           }
          ],
          "parcoords": [
           {
            "line": {
             "colorbar": {
              "outlinewidth": 0,
              "ticks": ""
             }
            },
            "type": "parcoords"
           }
          ],
          "pie": [
           {
            "automargin": true,
            "type": "pie"
           }
          ],
          "scatter": [
           {
            "fillpattern": {
             "fillmode": "overlay",
             "size": 10,
             "solidity": 0.2
            },
            "type": "scatter"
           }
          ],
          "scatter3d": [
           {
            "line": {
             "colorbar": {
              "outlinewidth": 0,
              "ticks": ""
             }
            },
            "marker": {
             "colorbar": {
              "outlinewidth": 0,
              "ticks": ""
             }
            },
            "type": "scatter3d"
           }
          ],
          "scattercarpet": [
           {
            "marker": {
             "colorbar": {
              "outlinewidth": 0,
              "ticks": ""
             }
            },
            "type": "scattercarpet"
           }
          ],
          "scattergeo": [
           {
            "marker": {
             "colorbar": {
              "outlinewidth": 0,
              "ticks": ""
             }
            },
            "type": "scattergeo"
           }
          ],
          "scattergl": [
           {
            "marker": {
             "colorbar": {
              "outlinewidth": 0,
              "ticks": ""
             }
            },
            "type": "scattergl"
           }
          ],
          "scattermap": [
           {
            "marker": {
             "colorbar": {
              "outlinewidth": 0,
              "ticks": ""
             }
            },
            "type": "scattermap"
           }
          ],
          "scattermapbox": [
           {
            "marker": {
             "colorbar": {
              "outlinewidth": 0,
              "ticks": ""
             }
            },
            "type": "scattermapbox"
           }
          ],
          "scatterpolar": [
           {
            "marker": {
             "colorbar": {
              "outlinewidth": 0,
              "ticks": ""
             }
            },
            "type": "scatterpolar"
           }
          ],
          "scatterpolargl": [
           {
            "marker": {
             "colorbar": {
              "outlinewidth": 0,
              "ticks": ""
             }
            },
            "type": "scatterpolargl"
           }
          ],
          "scatterternary": [
           {
            "marker": {
             "colorbar": {
              "outlinewidth": 0,
              "ticks": ""
             }
            },
            "type": "scatterternary"
           }
          ],
          "surface": [
           {
            "colorbar": {
             "outlinewidth": 0,
             "ticks": ""
            },
            "colorscale": [
             [
              0,
              "#0d0887"
             ],
             [
              0.1111111111111111,
              "#46039f"
             ],
             [
              0.2222222222222222,
              "#7201a8"
             ],
             [
              0.3333333333333333,
              "#9c179e"
             ],
             [
              0.4444444444444444,
              "#bd3786"
             ],
             [
              0.5555555555555556,
              "#d8576b"
             ],
             [
              0.6666666666666666,
              "#ed7953"
             ],
             [
              0.7777777777777778,
              "#fb9f3a"
             ],
             [
              0.8888888888888888,
              "#fdca26"
             ],
             [
              1,
              "#f0f921"
             ]
            ],
            "type": "surface"
           }
          ],
          "table": [
           {
            "cells": {
             "fill": {
              "color": "#EBF0F8"
             },
             "line": {
              "color": "white"
             }
            },
            "header": {
             "fill": {
              "color": "#C8D4E3"
             },
             "line": {
              "color": "white"
             }
            },
            "type": "table"
           }
          ]
         },
         "layout": {
          "annotationdefaults": {
           "arrowcolor": "#2a3f5f",
           "arrowhead": 0,
           "arrowwidth": 1
          },
          "autotypenumbers": "strict",
          "coloraxis": {
           "colorbar": {
            "outlinewidth": 0,
            "ticks": ""
           }
          },
          "colorscale": {
           "diverging": [
            [
             0,
             "#8e0152"
            ],
            [
             0.1,
             "#c51b7d"
            ],
            [
             0.2,
             "#de77ae"
            ],
            [
             0.3,
             "#f1b6da"
            ],
            [
             0.4,
             "#fde0ef"
            ],
            [
             0.5,
             "#f7f7f7"
            ],
            [
             0.6,
             "#e6f5d0"
            ],
            [
             0.7,
             "#b8e186"
            ],
            [
             0.8,
             "#7fbc41"
            ],
            [
             0.9,
             "#4d9221"
            ],
            [
             1,
             "#276419"
            ]
           ],
           "sequential": [
            [
             0,
             "#0d0887"
            ],
            [
             0.1111111111111111,
             "#46039f"
            ],
            [
             0.2222222222222222,
             "#7201a8"
            ],
            [
             0.3333333333333333,
             "#9c179e"
            ],
            [
             0.4444444444444444,
             "#bd3786"
            ],
            [
             0.5555555555555556,
             "#d8576b"
            ],
            [
             0.6666666666666666,
             "#ed7953"
            ],
            [
             0.7777777777777778,
             "#fb9f3a"
            ],
            [
             0.8888888888888888,
             "#fdca26"
            ],
            [
             1,
             "#f0f921"
            ]
           ],
           "sequentialminus": [
            [
             0,
             "#0d0887"
            ],
            [
             0.1111111111111111,
             "#46039f"
            ],
            [
             0.2222222222222222,
             "#7201a8"
            ],
            [
             0.3333333333333333,
             "#9c179e"
            ],
            [
             0.4444444444444444,
             "#bd3786"
            ],
            [
             0.5555555555555556,
             "#d8576b"
            ],
            [
             0.6666666666666666,
             "#ed7953"
            ],
            [
             0.7777777777777778,
             "#fb9f3a"
            ],
            [
             0.8888888888888888,
             "#fdca26"
            ],
            [
             1,
             "#f0f921"
            ]
           ]
          },
          "colorway": [
           "#636efa",
           "#EF553B",
           "#00cc96",
           "#ab63fa",
           "#FFA15A",
           "#19d3f3",
           "#FF6692",
           "#B6E880",
           "#FF97FF",
           "#FECB52"
          ],
          "font": {
           "color": "#2a3f5f"
          },
          "geo": {
           "bgcolor": "white",
           "lakecolor": "white",
           "landcolor": "#E5ECF6",
           "showlakes": true,
           "showland": true,
           "subunitcolor": "white"
          },
          "hoverlabel": {
           "align": "left"
          },
          "hovermode": "closest",
          "mapbox": {
           "style": "light"
          },
          "paper_bgcolor": "white",
          "plot_bgcolor": "#E5ECF6",
          "polar": {
           "angularaxis": {
            "gridcolor": "white",
            "linecolor": "white",
            "ticks": ""
           },
           "bgcolor": "#E5ECF6",
           "radialaxis": {
            "gridcolor": "white",
            "linecolor": "white",
            "ticks": ""
           }
          },
          "scene": {
           "xaxis": {
            "backgroundcolor": "#E5ECF6",
            "gridcolor": "white",
            "gridwidth": 2,
            "linecolor": "white",
            "showbackground": true,
            "ticks": "",
            "zerolinecolor": "white"
           },
           "yaxis": {
            "backgroundcolor": "#E5ECF6",
            "gridcolor": "white",
            "gridwidth": 2,
            "linecolor": "white",
            "showbackground": true,
            "ticks": "",
            "zerolinecolor": "white"
           },
           "zaxis": {
            "backgroundcolor": "#E5ECF6",
            "gridcolor": "white",
            "gridwidth": 2,
            "linecolor": "white",
            "showbackground": true,
            "ticks": "",
            "zerolinecolor": "white"
           }
          },
          "shapedefaults": {
           "line": {
            "color": "#2a3f5f"
           }
          },
          "ternary": {
           "aaxis": {
            "gridcolor": "white",
            "linecolor": "white",
            "ticks": ""
           },
           "baxis": {
            "gridcolor": "white",
            "linecolor": "white",
            "ticks": ""
           },
           "bgcolor": "#E5ECF6",
           "caxis": {
            "gridcolor": "white",
            "linecolor": "white",
            "ticks": ""
           }
          },
          "title": {
           "x": 0.05
          },
          "xaxis": {
           "automargin": true,
           "gridcolor": "white",
           "linecolor": "white",
           "ticks": "",
           "title": {
            "standoff": 15
           },
           "zerolinecolor": "white",
           "zerolinewidth": 2
          },
          "yaxis": {
           "automargin": true,
           "gridcolor": "white",
           "linecolor": "white",
           "ticks": "",
           "title": {
            "standoff": 15
           },
           "zerolinecolor": "white",
           "zerolinewidth": 2
          }
         }
        },
        "title": {
         "text": "District Line Stations"
        }
       }
      }
     },
     "metadata": {},
     "output_type": "display_data"
    },
    {
     "name": "stdout",
     "output_type": "stream",
     "text": [
      "From the available data, it has been found that:\n",
      "The District Line has 60 stops.\n",
      "The District Line goes through zones 3, 1, 2|3, 5, 2, 1|2, 3|4, 6 and 4.\n",
      "41 stations have Wifi.\n",
      "11 stations have toilets.\n",
      "3 stations have accessible toilets.\n",
      "0 stations have blue badge parking.\n",
      "2 stations have taxi ranks.\n"
     ]
    },
    {
     "data": {
      "application/vnd.plotly.v1+json": {
       "config": {
        "plotlyServerURL": "https://plot.ly"
       },
       "data": [
        {
         "customdata": [
          [
           "Aldgate East Underground Station",
           "Yes",
           "n/a",
           "n/a",
           "1",
           "None",
           "n/a",
           "None"
          ],
          [
           "Bromley-by-Bow Underground Station",
           "Yes",
           "n/a",
           "n/a",
           "2|3",
           "None",
           "n/a",
           "None"
          ],
          [
           "Barbican Underground Station",
           "Yes",
           "n/a",
           "n/a",
           "1",
           "None",
           "n/a",
           "None"
          ],
          [
           "Barking Underground Station",
           "n/a",
           "n/a",
           "n/a",
           "n/a",
           "n/a",
           "n/a",
           "n/a"
          ],
          [
           "Baker Street Underground Station",
           "Yes",
           2,
           "None",
           "1",
           "None",
           "n/a",
           "None"
          ],
          [
           "Bow Road Underground Station",
           "No",
           "n/a",
           "n/a",
           "2",
           "None",
           "n/a",
           "None"
          ],
          [
           "East Ham Underground Station",
           "Yes",
           "n/a",
           "n/a",
           "3|4",
           "None",
           "n/a",
           "None"
          ],
          [
           "Edgware Road (Circle Line) Underground Station",
           "Yes",
           "n/a",
           "n/a",
           "1",
           "None",
           "n/a",
           "None"
          ],
          [
           "Euston Square Underground Station",
           "Yes",
           "n/a",
           "n/a",
           "1",
           "None",
           "n/a",
           "None"
          ],
          [
           "Farringdon Underground Station",
           "n/a",
           "n/a",
           "n/a",
           "n/a",
           "n/a",
           "n/a",
           "n/a"
          ],
          [
           "Goldhawk Road Underground Station",
           "Yes",
           "n/a",
           "n/a",
           "2",
           "None",
           "n/a",
           "None"
          ],
          [
           "Great Portland Street Underground Station",
           "Yes",
           "n/a",
           "n/a",
           "1",
           "None",
           "n/a",
           "None"
          ],
          [
           "Hammersmith (H&C Line) Underground Station",
           "n/a",
           "n/a",
           "n/a",
           "n/a",
           "n/a",
           "n/a",
           "n/a"
          ],
          [
           "King's Cross St. Pancras Underground Station",
           "n/a",
           "n/a",
           "n/a",
           "n/a",
           "n/a",
           "n/a",
           "n/a"
          ],
          [
           "Ladbroke Grove Underground Station",
           "Yes",
           "n/a",
           "n/a",
           "2",
           "None",
           "n/a",
           "None"
          ],
          [
           "Latimer Road Underground Station",
           "Yes",
           "n/a",
           "n/a",
           "2",
           "None",
           "n/a",
           "None"
          ],
          [
           "Liverpool Street Underground Station",
           "n/a",
           "n/a",
           "n/a",
           "n/a",
           "n/a",
           "n/a",
           "n/a"
          ],
          [
           "Mile End Underground Station",
           "Yes",
           "n/a",
           "n/a",
           "2",
           "None",
           "n/a",
           "None"
          ],
          [
           "Moorgate Underground Station",
           "n/a",
           "n/a",
           "n/a",
           "n/a",
           "n/a",
           "n/a",
           "n/a"
          ],
          [
           "Paddington (H&C Line)-Underground",
           "n/a",
           "n/a",
           "n/a",
           "n/a",
           "n/a",
           "n/a",
           "n/a"
          ],
          [
           "Plaistow Underground Station",
           "Yes",
           "n/a",
           "n/a",
           "3",
           "None",
           "n/a",
           "None"
          ],
          [
           "Royal Oak Underground Station",
           "Yes",
           "n/a",
           "n/a",
           "2",
           "None",
           "n/a",
           "None"
          ],
          [
           "Shepherd's Bush Market Underground Station",
           "Yes",
           "n/a",
           "n/a",
           "2",
           "None",
           "n/a",
           "None"
          ],
          [
           "Stepney Green Underground Station",
           "Yes",
           "n/a",
           "n/a",
           "2",
           "None",
           "n/a",
           "None"
          ],
          [
           "Upton Park Underground Station",
           "Yes",
           "n/a",
           "n/a",
           "3",
           "None",
           "n/a",
           "None"
          ],
          [
           "West Ham Underground Station",
           "n/a",
           "n/a",
           "n/a",
           "n/a",
           "n/a",
           "n/a",
           "n/a"
          ],
          [
           "Wood Lane Underground Station",
           "Yes",
           1,
           "Yes",
           "2",
           "None",
           "n/a",
           "None"
          ],
          [
           "Whitechapel Underground Station",
           "n/a",
           "n/a",
           "n/a",
           "n/a",
           "n/a",
           "n/a",
           "n/a"
          ],
          [
           "Westbourne Park Underground Station",
           "Yes",
           "n/a",
           "n/a",
           "2",
           "None",
           "n/a",
           "None"
          ]
         ],
         "hovertemplate": "<b>%{customdata[0]}</b><br><br><b>Wifi:</b> %{customdata[1]}<br><b>Toilets:</b> %{customdata[2]}<br><b>Accessible toilets:</b> %{customdata[3]}<br><b>Zone:</b> %{customdata[4]}<br><b>Accessible parking:</b> %{customdata[5]}<br><b>Accessible parking spaces:</b> %{customdata[6]}<br><b>Accessible Taxi rank:</b> %{customdata[7]}",
         "hovertext": [
          "Aldgate East Underground Station",
          "Bromley-by-Bow Underground Station",
          "Barbican Underground Station",
          "Barking Underground Station",
          "Baker Street Underground Station",
          "Bow Road Underground Station",
          "East Ham Underground Station",
          "Edgware Road (Circle Line) Underground Station",
          "Euston Square Underground Station",
          "Farringdon Underground Station",
          "Goldhawk Road Underground Station",
          "Great Portland Street Underground Station",
          "Hammersmith (H&C Line) Underground Station",
          "King's Cross St. Pancras Underground Station",
          "Ladbroke Grove Underground Station",
          "Latimer Road Underground Station",
          "Liverpool Street Underground Station",
          "Mile End Underground Station",
          "Moorgate Underground Station",
          "Paddington (H&C Line)-Underground",
          "Plaistow Underground Station",
          "Royal Oak Underground Station",
          "Shepherd's Bush Market Underground Station",
          "Stepney Green Underground Station",
          "Upton Park Underground Station",
          "West Ham Underground Station",
          "Wood Lane Underground Station",
          "Whitechapel Underground Station",
          "Westbourne Park Underground Station"
         ],
         "lat": {
          "bdata": "b51/u+zBSUAqVaLsLcNJQJT2Bl+YwklA5IV0eAjFSUAzUYTU7cJJQCV6GcVyw0lATx+BP/zESUAwSPq0isJJQMpS6/1Gw0lA3NYWnpfCSUDYtiizQcBJQBcrajANw0lAF2U2yCS/SUA/GePD7MNJQIgs0sQ7wklAJZASu7bBSUDd7uU+OcJJQH80nDI3w0lAOslWl1PCSUAuG53zU8JJQBADXfsCxElA1/Z2S3LCSUCuRQvQtsBJQPeTMT7MwklAzR5oBYbESUCO69/1mcNJQHxkc9U8wUlAd9fZkH/CSUAtz4O7s8JJQA==",
          "dtype": "f8"
         },
         "legendgroup": "",
         "lon": {
          "bdata": "IPDAAMKHsr9kPEolPKGHv1CnPLoRFrm/zSA+sOO/tD+wOJz51RzEv3UF24gnu5m/R68GKA01qj9pc5zbhHvFv9mXbDzYYsG/Dt3sD5Tbur8wnkFD/wTNv1QcB14td8K/EhQ/xty1zL+OPBBZpIm/v9C1L6AX7sq/Ff4Mb9bgy7/KqZ1haku1v/DErBdDOaG/j26ERUWctr8dHVcju9LGv6JGIcms3pE/c7uX++QoyL9g5dAi2/nMv3SzP1Bu26e/uoeE7/0Noj/bheY6jbR0P8xFfCdmvcy/gLVq14S0rr8GZK93f7zJvw==",
          "dtype": "f8"
         },
         "marker": {
          "color": "rgb(215, 153, 175)",
          "size": 8.5
         },
         "mode": "markers",
         "name": "",
         "showlegend": false,
         "subplot": "map",
         "type": "scattermap"
        }
       ],
       "layout": {
        "hoverlabel": {
         "bgcolor": "rgb(0, 25, 168)"
        },
        "hovermode": "closest",
        "legend": {
         "tracegroupgap": 0
        },
        "map": {
         "center": {
          "lat": 51.520866689655165,
          "lon": -0.10552189655172413
         },
         "domain": {
          "x": [
           0,
           1
          ],
          "y": [
           0,
           1
          ]
         },
         "style": "light",
         "zoom": 9.5
        },
        "mapbox": {
         "center": {
          "lat": 51.520866689655165,
          "lon": -0.10552189655172413
         },
         "zoom": 9.5
        },
        "margin": {
         "t": 60
        },
        "template": {
         "data": {
          "bar": [
           {
            "error_x": {
             "color": "#2a3f5f"
            },
            "error_y": {
             "color": "#2a3f5f"
            },
            "marker": {
             "line": {
              "color": "#E5ECF6",
              "width": 0.5
             },
             "pattern": {
              "fillmode": "overlay",
              "size": 10,
              "solidity": 0.2
             }
            },
            "type": "bar"
           }
          ],
          "barpolar": [
           {
            "marker": {
             "line": {
              "color": "#E5ECF6",
              "width": 0.5
             },
             "pattern": {
              "fillmode": "overlay",
              "size": 10,
              "solidity": 0.2
             }
            },
            "type": "barpolar"
           }
          ],
          "carpet": [
           {
            "aaxis": {
             "endlinecolor": "#2a3f5f",
             "gridcolor": "white",
             "linecolor": "white",
             "minorgridcolor": "white",
             "startlinecolor": "#2a3f5f"
            },
            "baxis": {
             "endlinecolor": "#2a3f5f",
             "gridcolor": "white",
             "linecolor": "white",
             "minorgridcolor": "white",
             "startlinecolor": "#2a3f5f"
            },
            "type": "carpet"
           }
          ],
          "choropleth": [
           {
            "colorbar": {
             "outlinewidth": 0,
             "ticks": ""
            },
            "type": "choropleth"
           }
          ],
          "contour": [
           {
            "colorbar": {
             "outlinewidth": 0,
             "ticks": ""
            },
            "colorscale": [
             [
              0,
              "#0d0887"
             ],
             [
              0.1111111111111111,
              "#46039f"
             ],
             [
              0.2222222222222222,
              "#7201a8"
             ],
             [
              0.3333333333333333,
              "#9c179e"
             ],
             [
              0.4444444444444444,
              "#bd3786"
             ],
             [
              0.5555555555555556,
              "#d8576b"
             ],
             [
              0.6666666666666666,
              "#ed7953"
             ],
             [
              0.7777777777777778,
              "#fb9f3a"
             ],
             [
              0.8888888888888888,
              "#fdca26"
             ],
             [
              1,
              "#f0f921"
             ]
            ],
            "type": "contour"
           }
          ],
          "contourcarpet": [
           {
            "colorbar": {
             "outlinewidth": 0,
             "ticks": ""
            },
            "type": "contourcarpet"
           }
          ],
          "heatmap": [
           {
            "colorbar": {
             "outlinewidth": 0,
             "ticks": ""
            },
            "colorscale": [
             [
              0,
              "#0d0887"
             ],
             [
              0.1111111111111111,
              "#46039f"
             ],
             [
              0.2222222222222222,
              "#7201a8"
             ],
             [
              0.3333333333333333,
              "#9c179e"
             ],
             [
              0.4444444444444444,
              "#bd3786"
             ],
             [
              0.5555555555555556,
              "#d8576b"
             ],
             [
              0.6666666666666666,
              "#ed7953"
             ],
             [
              0.7777777777777778,
              "#fb9f3a"
             ],
             [
              0.8888888888888888,
              "#fdca26"
             ],
             [
              1,
              "#f0f921"
             ]
            ],
            "type": "heatmap"
           }
          ],
          "histogram": [
           {
            "marker": {
             "pattern": {
              "fillmode": "overlay",
              "size": 10,
              "solidity": 0.2
             }
            },
            "type": "histogram"
           }
          ],
          "histogram2d": [
           {
            "colorbar": {
             "outlinewidth": 0,
             "ticks": ""
            },
            "colorscale": [
             [
              0,
              "#0d0887"
             ],
             [
              0.1111111111111111,
              "#46039f"
             ],
             [
              0.2222222222222222,
              "#7201a8"
             ],
             [
              0.3333333333333333,
              "#9c179e"
             ],
             [
              0.4444444444444444,
              "#bd3786"
             ],
             [
              0.5555555555555556,
              "#d8576b"
             ],
             [
              0.6666666666666666,
              "#ed7953"
             ],
             [
              0.7777777777777778,
              "#fb9f3a"
             ],
             [
              0.8888888888888888,
              "#fdca26"
             ],
             [
              1,
              "#f0f921"
             ]
            ],
            "type": "histogram2d"
           }
          ],
          "histogram2dcontour": [
           {
            "colorbar": {
             "outlinewidth": 0,
             "ticks": ""
            },
            "colorscale": [
             [
              0,
              "#0d0887"
             ],
             [
              0.1111111111111111,
              "#46039f"
             ],
             [
              0.2222222222222222,
              "#7201a8"
             ],
             [
              0.3333333333333333,
              "#9c179e"
             ],
             [
              0.4444444444444444,
              "#bd3786"
             ],
             [
              0.5555555555555556,
              "#d8576b"
             ],
             [
              0.6666666666666666,
              "#ed7953"
             ],
             [
              0.7777777777777778,
              "#fb9f3a"
             ],
             [
              0.8888888888888888,
              "#fdca26"
             ],
             [
              1,
              "#f0f921"
             ]
            ],
            "type": "histogram2dcontour"
           }
          ],
          "mesh3d": [
           {
            "colorbar": {
             "outlinewidth": 0,
             "ticks": ""
            },
            "type": "mesh3d"
           }
          ],
          "parcoords": [
           {
            "line": {
             "colorbar": {
              "outlinewidth": 0,
              "ticks": ""
             }
            },
            "type": "parcoords"
           }
          ],
          "pie": [
           {
            "automargin": true,
            "type": "pie"
           }
          ],
          "scatter": [
           {
            "fillpattern": {
             "fillmode": "overlay",
             "size": 10,
             "solidity": 0.2
            },
            "type": "scatter"
           }
          ],
          "scatter3d": [
           {
            "line": {
             "colorbar": {
              "outlinewidth": 0,
              "ticks": ""
             }
            },
            "marker": {
             "colorbar": {
              "outlinewidth": 0,
              "ticks": ""
             }
            },
            "type": "scatter3d"
           }
          ],
          "scattercarpet": [
           {
            "marker": {
             "colorbar": {
              "outlinewidth": 0,
              "ticks": ""
             }
            },
            "type": "scattercarpet"
           }
          ],
          "scattergeo": [
           {
            "marker": {
             "colorbar": {
              "outlinewidth": 0,
              "ticks": ""
             }
            },
            "type": "scattergeo"
           }
          ],
          "scattergl": [
           {
            "marker": {
             "colorbar": {
              "outlinewidth": 0,
              "ticks": ""
             }
            },
            "type": "scattergl"
           }
          ],
          "scattermap": [
           {
            "marker": {
             "colorbar": {
              "outlinewidth": 0,
              "ticks": ""
             }
            },
            "type": "scattermap"
           }
          ],
          "scattermapbox": [
           {
            "marker": {
             "colorbar": {
              "outlinewidth": 0,
              "ticks": ""
             }
            },
            "type": "scattermapbox"
           }
          ],
          "scatterpolar": [
           {
            "marker": {
             "colorbar": {
              "outlinewidth": 0,
              "ticks": ""
             }
            },
            "type": "scatterpolar"
           }
          ],
          "scatterpolargl": [
           {
            "marker": {
             "colorbar": {
              "outlinewidth": 0,
              "ticks": ""
             }
            },
            "type": "scatterpolargl"
           }
          ],
          "scatterternary": [
           {
            "marker": {
             "colorbar": {
              "outlinewidth": 0,
              "ticks": ""
             }
            },
            "type": "scatterternary"
           }
          ],
          "surface": [
           {
            "colorbar": {
             "outlinewidth": 0,
             "ticks": ""
            },
            "colorscale": [
             [
              0,
              "#0d0887"
             ],
             [
              0.1111111111111111,
              "#46039f"
             ],
             [
              0.2222222222222222,
              "#7201a8"
             ],
             [
              0.3333333333333333,
              "#9c179e"
             ],
             [
              0.4444444444444444,
              "#bd3786"
             ],
             [
              0.5555555555555556,
              "#d8576b"
             ],
             [
              0.6666666666666666,
              "#ed7953"
             ],
             [
              0.7777777777777778,
              "#fb9f3a"
             ],
             [
              0.8888888888888888,
              "#fdca26"
             ],
             [
              1,
              "#f0f921"
             ]
            ],
            "type": "surface"
           }
          ],
          "table": [
           {
            "cells": {
             "fill": {
              "color": "#EBF0F8"
             },
             "line": {
              "color": "white"
             }
            },
            "header": {
             "fill": {
              "color": "#C8D4E3"
             },
             "line": {
              "color": "white"
             }
            },
            "type": "table"
           }
          ]
         },
         "layout": {
          "annotationdefaults": {
           "arrowcolor": "#2a3f5f",
           "arrowhead": 0,
           "arrowwidth": 1
          },
          "autotypenumbers": "strict",
          "coloraxis": {
           "colorbar": {
            "outlinewidth": 0,
            "ticks": ""
           }
          },
          "colorscale": {
           "diverging": [
            [
             0,
             "#8e0152"
            ],
            [
             0.1,
             "#c51b7d"
            ],
            [
             0.2,
             "#de77ae"
            ],
            [
             0.3,
             "#f1b6da"
            ],
            [
             0.4,
             "#fde0ef"
            ],
            [
             0.5,
             "#f7f7f7"
            ],
            [
             0.6,
             "#e6f5d0"
            ],
            [
             0.7,
             "#b8e186"
            ],
            [
             0.8,
             "#7fbc41"
            ],
            [
             0.9,
             "#4d9221"
            ],
            [
             1,
             "#276419"
            ]
           ],
           "sequential": [
            [
             0,
             "#0d0887"
            ],
            [
             0.1111111111111111,
             "#46039f"
            ],
            [
             0.2222222222222222,
             "#7201a8"
            ],
            [
             0.3333333333333333,
             "#9c179e"
            ],
            [
             0.4444444444444444,
             "#bd3786"
            ],
            [
             0.5555555555555556,
             "#d8576b"
            ],
            [
             0.6666666666666666,
             "#ed7953"
            ],
            [
             0.7777777777777778,
             "#fb9f3a"
            ],
            [
             0.8888888888888888,
             "#fdca26"
            ],
            [
             1,
             "#f0f921"
            ]
           ],
           "sequentialminus": [
            [
             0,
             "#0d0887"
            ],
            [
             0.1111111111111111,
             "#46039f"
            ],
            [
             0.2222222222222222,
             "#7201a8"
            ],
            [
             0.3333333333333333,
             "#9c179e"
            ],
            [
             0.4444444444444444,
             "#bd3786"
            ],
            [
             0.5555555555555556,
             "#d8576b"
            ],
            [
             0.6666666666666666,
             "#ed7953"
            ],
            [
             0.7777777777777778,
             "#fb9f3a"
            ],
            [
             0.8888888888888888,
             "#fdca26"
            ],
            [
             1,
             "#f0f921"
            ]
           ]
          },
          "colorway": [
           "#636efa",
           "#EF553B",
           "#00cc96",
           "#ab63fa",
           "#FFA15A",
           "#19d3f3",
           "#FF6692",
           "#B6E880",
           "#FF97FF",
           "#FECB52"
          ],
          "font": {
           "color": "#2a3f5f"
          },
          "geo": {
           "bgcolor": "white",
           "lakecolor": "white",
           "landcolor": "#E5ECF6",
           "showlakes": true,
           "showland": true,
           "subunitcolor": "white"
          },
          "hoverlabel": {
           "align": "left"
          },
          "hovermode": "closest",
          "mapbox": {
           "style": "light"
          },
          "paper_bgcolor": "white",
          "plot_bgcolor": "#E5ECF6",
          "polar": {
           "angularaxis": {
            "gridcolor": "white",
            "linecolor": "white",
            "ticks": ""
           },
           "bgcolor": "#E5ECF6",
           "radialaxis": {
            "gridcolor": "white",
            "linecolor": "white",
            "ticks": ""
           }
          },
          "scene": {
           "xaxis": {
            "backgroundcolor": "#E5ECF6",
            "gridcolor": "white",
            "gridwidth": 2,
            "linecolor": "white",
            "showbackground": true,
            "ticks": "",
            "zerolinecolor": "white"
           },
           "yaxis": {
            "backgroundcolor": "#E5ECF6",
            "gridcolor": "white",
            "gridwidth": 2,
            "linecolor": "white",
            "showbackground": true,
            "ticks": "",
            "zerolinecolor": "white"
           },
           "zaxis": {
            "backgroundcolor": "#E5ECF6",
            "gridcolor": "white",
            "gridwidth": 2,
            "linecolor": "white",
            "showbackground": true,
            "ticks": "",
            "zerolinecolor": "white"
           }
          },
          "shapedefaults": {
           "line": {
            "color": "#2a3f5f"
           }
          },
          "ternary": {
           "aaxis": {
            "gridcolor": "white",
            "linecolor": "white",
            "ticks": ""
           },
           "baxis": {
            "gridcolor": "white",
            "linecolor": "white",
            "ticks": ""
           },
           "bgcolor": "#E5ECF6",
           "caxis": {
            "gridcolor": "white",
            "linecolor": "white",
            "ticks": ""
           }
          },
          "title": {
           "x": 0.05
          },
          "xaxis": {
           "automargin": true,
           "gridcolor": "white",
           "linecolor": "white",
           "ticks": "",
           "title": {
            "standoff": 15
           },
           "zerolinecolor": "white",
           "zerolinewidth": 2
          },
          "yaxis": {
           "automargin": true,
           "gridcolor": "white",
           "linecolor": "white",
           "ticks": "",
           "title": {
            "standoff": 15
           },
           "zerolinecolor": "white",
           "zerolinewidth": 2
          }
         }
        },
        "title": {
         "text": "Hammersmith-city Line Stations"
        }
       }
      }
     },
     "metadata": {},
     "output_type": "display_data"
    },
    {
     "name": "stdout",
     "output_type": "stream",
     "text": [
      "From the available data, it has been found that:\n",
      "The Hammersmith-city Line has 29 stops.\n",
      "The Hammersmith-city Line goes through zones 1, 2|3, 2, 3|4 and 3.\n",
      "19 stations have Wifi.\n",
      "2 stations have toilets.\n",
      "1 station has accessible toilets.\n",
      "0 stations have blue badge parking.\n",
      "0 stations have taxi ranks.\n"
     ]
    },
    {
     "data": {
      "application/vnd.plotly.v1+json": {
       "config": {
        "plotlyServerURL": "https://plot.ly"
       },
       "data": [
        {
         "customdata": [
          [
           "Bermondsey Underground Station",
           "Yes",
           "n/a",
           "n/a",
           "2",
           "None",
           "n/a",
           "None"
          ],
          [
           "Bond Street Underground Station",
           "n/a",
           "n/a",
           "n/a",
           "n/a",
           "n/a",
           "n/a",
           "n/a"
          ],
          [
           "Baker Street Underground Station",
           "Yes",
           2,
           "None",
           "1",
           "None",
           "n/a",
           "None"
          ],
          [
           "Canning Town Underground Station",
           "n/a",
           "n/a",
           "n/a",
           "n/a",
           "n/a",
           "n/a",
           "n/a"
          ],
          [
           "Canons Park Underground Station",
           "Yes",
           3,
           "Yes",
           "5",
           "None",
           "n/a",
           "None"
          ],
          [
           "Canada Water Underground Station",
           "n/a",
           "n/a",
           "n/a",
           "n/a",
           "n/a",
           "n/a",
           "n/a"
          ],
          [
           "Canary Wharf Underground Station",
           "n/a",
           "n/a",
           "n/a",
           "n/a",
           "n/a",
           "n/a",
           "n/a"
          ],
          [
           "Dollis Hill Underground Station",
           "No",
           3,
           "Yes",
           "3",
           "None",
           "n/a",
           "None"
          ],
          [
           "Finchley Road Underground Station",
           "No",
           2,
           "Yes",
           "2",
           "None",
           "n/a",
           "None"
          ],
          [
           "Green Park Underground Station",
           "Yes",
           2,
           "None",
           "1",
           "None",
           "n/a",
           "None"
          ],
          [
           "Kilburn Underground Station",
           "Yes",
           3,
           "Yes",
           "2",
           "None",
           "n/a",
           "None"
          ],
          [
           "Kingsbury Underground Station",
           "Yes",
           3,
           "Yes",
           "4",
           "None",
           "n/a",
           "None"
          ],
          [
           "London Bridge Underground Station",
           "n/a",
           "n/a",
           "n/a",
           "n/a",
           "n/a",
           "n/a",
           "n/a"
          ],
          [
           "Neasden Underground Station",
           "Yes",
           "n/a",
           "n/a",
           "3",
           "None",
           "n/a",
           "None"
          ],
          [
           "North Greenwich Underground Station",
           "Yes",
           "n/a",
           "n/a",
           "2|3",
           "Yes",
           19,
           "Yes"
          ],
          [
           "Queensbury Underground Station",
           "Yes",
           3,
           "Yes",
           "4",
           "None",
           "n/a",
           "None"
          ],
          [
           "St. John's Wood Underground Station",
           "Yes",
           3,
           "Yes",
           "2",
           "None",
           "n/a",
           "None"
          ],
          [
           "Stratford Underground Station",
           "n/a",
           "n/a",
           "n/a",
           "n/a",
           "n/a",
           "n/a",
           "n/a"
          ],
          [
           "Stanmore Underground Station",
           "Yes",
           3,
           "Yes",
           "5",
           "Yes",
           6,
           "None"
          ],
          [
           "Swiss Cottage Underground Station",
           "Yes",
           "n/a",
           "n/a",
           "2",
           "None",
           "n/a",
           "None"
          ],
          [
           "Southwark Underground Station",
           "Yes",
           "n/a",
           "n/a",
           "1",
           "None",
           "n/a",
           "None"
          ],
          [
           "West Ham Underground Station",
           "n/a",
           "n/a",
           "n/a",
           "n/a",
           "n/a",
           "n/a",
           "n/a"
          ],
          [
           "West Hampstead Underground Station",
           "Yes",
           "n/a",
           "n/a",
           "2",
           "None",
           "n/a",
           "None"
          ],
          [
           "Willesden Green Underground Station",
           "Yes",
           2,
           "Yes",
           "2|3",
           "None",
           "n/a",
           "None"
          ],
          [
           "Waterloo Underground Station",
           "n/a",
           "n/a",
           "n/a",
           "n/a",
           "n/a",
           "n/a",
           "n/a"
          ],
          [
           "Westminster Underground Station",
           "n/a",
           "n/a",
           "n/a",
           "n/a",
           "n/a",
           "n/a",
           "n/a"
          ],
          [
           "Wembley Park Underground Station",
           "Yes",
           3,
           "Yes",
           "4",
           "Yes",
           6,
           "None"
          ]
         ],
         "hovertemplate": "<b>%{customdata[0]}</b><br><br><b>Wifi:</b> %{customdata[1]}<br><b>Toilets:</b> %{customdata[2]}<br><b>Accessible toilets:</b> %{customdata[3]}<br><b>Zone:</b> %{customdata[4]}<br><b>Accessible parking:</b> %{customdata[5]}<br><b>Accessible parking spaces:</b> %{customdata[6]}<br><b>Accessible Taxi rank:</b> %{customdata[7]}",
         "hovertext": [
          "Bermondsey Underground Station",
          "Bond Street Underground Station",
          "Baker Street Underground Station",
          "Canning Town Underground Station",
          "Canons Park Underground Station",
          "Canada Water Underground Station",
          "Canary Wharf Underground Station",
          "Dollis Hill Underground Station",
          "Finchley Road Underground Station",
          "Green Park Underground Station",
          "Kilburn Underground Station",
          "Kingsbury Underground Station",
          "London Bridge Underground Station",
          "Neasden Underground Station",
          "North Greenwich Underground Station",
          "Queensbury Underground Station",
          "St. John's Wood Underground Station",
          "Stratford Underground Station",
          "Stanmore Underground Station",
          "Swiss Cottage Underground Station",
          "Southwark Underground Station",
          "West Ham Underground Station",
          "West Hampstead Underground Station",
          "Willesden Green Underground Station",
          "Waterloo Underground Station",
          "Westminster Underground Station",
          "Wembley Park Underground Station"
         ],
         "lat": {
          "bdata": "wcqhRba/SUDbGaa21MFJQDNRhNTtwklA29/ZHr3BSUCNX3glyc1JQBFV+DO8v0lA1/Z2S3LASUCN7iB2psZJQE7RkVz+xUlAFOeoo+PASUCt9rAXCsZJQFQdcjPcyklAQfM5d7vASUCPOGQD6cZJQIdQpWYPwElAfNY1Wg7MSUA6AyMva8RJQGdjJeZZxUlAhuRk4lbPSUBxOslWl8VJQE0tW+uLwElAjuvf9ZnDSUAcYOY7+MVJQFddh2pKxklABI4EGmzASUBVavZAK8BJQBiWP98WyElA",
          "dtype": "f8"
         },
         "legendgroup": "",
         "lon": {
          "bdata": "AkUsYthhsL/GwDqOHyrDv7A4nPnVHMS/otCy7h8LgT9WDFcHQNzSv+uLhLacS6m/hJohVRSvkr+Ok8K8x5nOv/evrDQpBce/OKClK9hGwr8J/yJozCTKv/LqHAOy19G/IVZ/hGHAtr8VViqoqPrPv1FpxMw+j3E/0Joff2lR0r+YMJqV7UPGv1ouG53zU2y/c0f/y7Vo07+8ICI17WLGvxtGQfD49rq/24XmOo20dD+doE0On3TIv01O7QxTW8y/GCE82jhivb84vYv34/a/v87+QLlt39G/",
          "dtype": "f8"
         },
         "marker": {
          "color": "rgb(134, 143, 152)",
          "size": 8.5
         },
         "mode": "markers",
         "name": "",
         "showlegend": false,
         "subplot": "map",
         "type": "scattermap"
        }
       ],
       "layout": {
        "hoverlabel": {
         "bgcolor": "rgb(0, 25, 168)"
        },
        "hovermode": "closest",
        "legend": {
         "tracegroupgap": 0
        },
        "map": {
         "center": {
          "lat": 51.53650425925926,
          "lon": -0.15102181481481483
         },
         "domain": {
          "x": [
           0,
           1
          ],
          "y": [
           0,
           1
          ]
         },
         "style": "light",
         "zoom": 9.5
        },
        "mapbox": {
         "center": {
          "lat": 51.53650425925926,
          "lon": -0.15102181481481483
         },
         "zoom": 9.5
        },
        "margin": {
         "t": 60
        },
        "template": {
         "data": {
          "bar": [
           {
            "error_x": {
             "color": "#2a3f5f"
            },
            "error_y": {
             "color": "#2a3f5f"
            },
            "marker": {
             "line": {
              "color": "#E5ECF6",
              "width": 0.5
             },
             "pattern": {
              "fillmode": "overlay",
              "size": 10,
              "solidity": 0.2
             }
            },
            "type": "bar"
           }
          ],
          "barpolar": [
           {
            "marker": {
             "line": {
              "color": "#E5ECF6",
              "width": 0.5
             },
             "pattern": {
              "fillmode": "overlay",
              "size": 10,
              "solidity": 0.2
             }
            },
            "type": "barpolar"
           }
          ],
          "carpet": [
           {
            "aaxis": {
             "endlinecolor": "#2a3f5f",
             "gridcolor": "white",
             "linecolor": "white",
             "minorgridcolor": "white",
             "startlinecolor": "#2a3f5f"
            },
            "baxis": {
             "endlinecolor": "#2a3f5f",
             "gridcolor": "white",
             "linecolor": "white",
             "minorgridcolor": "white",
             "startlinecolor": "#2a3f5f"
            },
            "type": "carpet"
           }
          ],
          "choropleth": [
           {
            "colorbar": {
             "outlinewidth": 0,
             "ticks": ""
            },
            "type": "choropleth"
           }
          ],
          "contour": [
           {
            "colorbar": {
             "outlinewidth": 0,
             "ticks": ""
            },
            "colorscale": [
             [
              0,
              "#0d0887"
             ],
             [
              0.1111111111111111,
              "#46039f"
             ],
             [
              0.2222222222222222,
              "#7201a8"
             ],
             [
              0.3333333333333333,
              "#9c179e"
             ],
             [
              0.4444444444444444,
              "#bd3786"
             ],
             [
              0.5555555555555556,
              "#d8576b"
             ],
             [
              0.6666666666666666,
              "#ed7953"
             ],
             [
              0.7777777777777778,
              "#fb9f3a"
             ],
             [
              0.8888888888888888,
              "#fdca26"
             ],
             [
              1,
              "#f0f921"
             ]
            ],
            "type": "contour"
           }
          ],
          "contourcarpet": [
           {
            "colorbar": {
             "outlinewidth": 0,
             "ticks": ""
            },
            "type": "contourcarpet"
           }
          ],
          "heatmap": [
           {
            "colorbar": {
             "outlinewidth": 0,
             "ticks": ""
            },
            "colorscale": [
             [
              0,
              "#0d0887"
             ],
             [
              0.1111111111111111,
              "#46039f"
             ],
             [
              0.2222222222222222,
              "#7201a8"
             ],
             [
              0.3333333333333333,
              "#9c179e"
             ],
             [
              0.4444444444444444,
              "#bd3786"
             ],
             [
              0.5555555555555556,
              "#d8576b"
             ],
             [
              0.6666666666666666,
              "#ed7953"
             ],
             [
              0.7777777777777778,
              "#fb9f3a"
             ],
             [
              0.8888888888888888,
              "#fdca26"
             ],
             [
              1,
              "#f0f921"
             ]
            ],
            "type": "heatmap"
           }
          ],
          "histogram": [
           {
            "marker": {
             "pattern": {
              "fillmode": "overlay",
              "size": 10,
              "solidity": 0.2
             }
            },
            "type": "histogram"
           }
          ],
          "histogram2d": [
           {
            "colorbar": {
             "outlinewidth": 0,
             "ticks": ""
            },
            "colorscale": [
             [
              0,
              "#0d0887"
             ],
             [
              0.1111111111111111,
              "#46039f"
             ],
             [
              0.2222222222222222,
              "#7201a8"
             ],
             [
              0.3333333333333333,
              "#9c179e"
             ],
             [
              0.4444444444444444,
              "#bd3786"
             ],
             [
              0.5555555555555556,
              "#d8576b"
             ],
             [
              0.6666666666666666,
              "#ed7953"
             ],
             [
              0.7777777777777778,
              "#fb9f3a"
             ],
             [
              0.8888888888888888,
              "#fdca26"
             ],
             [
              1,
              "#f0f921"
             ]
            ],
            "type": "histogram2d"
           }
          ],
          "histogram2dcontour": [
           {
            "colorbar": {
             "outlinewidth": 0,
             "ticks": ""
            },
            "colorscale": [
             [
              0,
              "#0d0887"
             ],
             [
              0.1111111111111111,
              "#46039f"
             ],
             [
              0.2222222222222222,
              "#7201a8"
             ],
             [
              0.3333333333333333,
              "#9c179e"
             ],
             [
              0.4444444444444444,
              "#bd3786"
             ],
             [
              0.5555555555555556,
              "#d8576b"
             ],
             [
              0.6666666666666666,
              "#ed7953"
             ],
             [
              0.7777777777777778,
              "#fb9f3a"
             ],
             [
              0.8888888888888888,
              "#fdca26"
             ],
             [
              1,
              "#f0f921"
             ]
            ],
            "type": "histogram2dcontour"
           }
          ],
          "mesh3d": [
           {
            "colorbar": {
             "outlinewidth": 0,
             "ticks": ""
            },
            "type": "mesh3d"
           }
          ],
          "parcoords": [
           {
            "line": {
             "colorbar": {
              "outlinewidth": 0,
              "ticks": ""
             }
            },
            "type": "parcoords"
           }
          ],
          "pie": [
           {
            "automargin": true,
            "type": "pie"
           }
          ],
          "scatter": [
           {
            "fillpattern": {
             "fillmode": "overlay",
             "size": 10,
             "solidity": 0.2
            },
            "type": "scatter"
           }
          ],
          "scatter3d": [
           {
            "line": {
             "colorbar": {
              "outlinewidth": 0,
              "ticks": ""
             }
            },
            "marker": {
             "colorbar": {
              "outlinewidth": 0,
              "ticks": ""
             }
            },
            "type": "scatter3d"
           }
          ],
          "scattercarpet": [
           {
            "marker": {
             "colorbar": {
              "outlinewidth": 0,
              "ticks": ""
             }
            },
            "type": "scattercarpet"
           }
          ],
          "scattergeo": [
           {
            "marker": {
             "colorbar": {
              "outlinewidth": 0,
              "ticks": ""
             }
            },
            "type": "scattergeo"
           }
          ],
          "scattergl": [
           {
            "marker": {
             "colorbar": {
              "outlinewidth": 0,
              "ticks": ""
             }
            },
            "type": "scattergl"
           }
          ],
          "scattermap": [
           {
            "marker": {
             "colorbar": {
              "outlinewidth": 0,
              "ticks": ""
             }
            },
            "type": "scattermap"
           }
          ],
          "scattermapbox": [
           {
            "marker": {
             "colorbar": {
              "outlinewidth": 0,
              "ticks": ""
             }
            },
            "type": "scattermapbox"
           }
          ],
          "scatterpolar": [
           {
            "marker": {
             "colorbar": {
              "outlinewidth": 0,
              "ticks": ""
             }
            },
            "type": "scatterpolar"
           }
          ],
          "scatterpolargl": [
           {
            "marker": {
             "colorbar": {
              "outlinewidth": 0,
              "ticks": ""
             }
            },
            "type": "scatterpolargl"
           }
          ],
          "scatterternary": [
           {
            "marker": {
             "colorbar": {
              "outlinewidth": 0,
              "ticks": ""
             }
            },
            "type": "scatterternary"
           }
          ],
          "surface": [
           {
            "colorbar": {
             "outlinewidth": 0,
             "ticks": ""
            },
            "colorscale": [
             [
              0,
              "#0d0887"
             ],
             [
              0.1111111111111111,
              "#46039f"
             ],
             [
              0.2222222222222222,
              "#7201a8"
             ],
             [
              0.3333333333333333,
              "#9c179e"
             ],
             [
              0.4444444444444444,
              "#bd3786"
             ],
             [
              0.5555555555555556,
              "#d8576b"
             ],
             [
              0.6666666666666666,
              "#ed7953"
             ],
             [
              0.7777777777777778,
              "#fb9f3a"
             ],
             [
              0.8888888888888888,
              "#fdca26"
             ],
             [
              1,
              "#f0f921"
             ]
            ],
            "type": "surface"
           }
          ],
          "table": [
           {
            "cells": {
             "fill": {
              "color": "#EBF0F8"
             },
             "line": {
              "color": "white"
             }
            },
            "header": {
             "fill": {
              "color": "#C8D4E3"
             },
             "line": {
              "color": "white"
             }
            },
            "type": "table"
           }
          ]
         },
         "layout": {
          "annotationdefaults": {
           "arrowcolor": "#2a3f5f",
           "arrowhead": 0,
           "arrowwidth": 1
          },
          "autotypenumbers": "strict",
          "coloraxis": {
           "colorbar": {
            "outlinewidth": 0,
            "ticks": ""
           }
          },
          "colorscale": {
           "diverging": [
            [
             0,
             "#8e0152"
            ],
            [
             0.1,
             "#c51b7d"
            ],
            [
             0.2,
             "#de77ae"
            ],
            [
             0.3,
             "#f1b6da"
            ],
            [
             0.4,
             "#fde0ef"
            ],
            [
             0.5,
             "#f7f7f7"
            ],
            [
             0.6,
             "#e6f5d0"
            ],
            [
             0.7,
             "#b8e186"
            ],
            [
             0.8,
             "#7fbc41"
            ],
            [
             0.9,
             "#4d9221"
            ],
            [
             1,
             "#276419"
            ]
           ],
           "sequential": [
            [
             0,
             "#0d0887"
            ],
            [
             0.1111111111111111,
             "#46039f"
            ],
            [
             0.2222222222222222,
             "#7201a8"
            ],
            [
             0.3333333333333333,
             "#9c179e"
            ],
            [
             0.4444444444444444,
             "#bd3786"
            ],
            [
             0.5555555555555556,
             "#d8576b"
            ],
            [
             0.6666666666666666,
             "#ed7953"
            ],
            [
             0.7777777777777778,
             "#fb9f3a"
            ],
            [
             0.8888888888888888,
             "#fdca26"
            ],
            [
             1,
             "#f0f921"
            ]
           ],
           "sequentialminus": [
            [
             0,
             "#0d0887"
            ],
            [
             0.1111111111111111,
             "#46039f"
            ],
            [
             0.2222222222222222,
             "#7201a8"
            ],
            [
             0.3333333333333333,
             "#9c179e"
            ],
            [
             0.4444444444444444,
             "#bd3786"
            ],
            [
             0.5555555555555556,
             "#d8576b"
            ],
            [
             0.6666666666666666,
             "#ed7953"
            ],
            [
             0.7777777777777778,
             "#fb9f3a"
            ],
            [
             0.8888888888888888,
             "#fdca26"
            ],
            [
             1,
             "#f0f921"
            ]
           ]
          },
          "colorway": [
           "#636efa",
           "#EF553B",
           "#00cc96",
           "#ab63fa",
           "#FFA15A",
           "#19d3f3",
           "#FF6692",
           "#B6E880",
           "#FF97FF",
           "#FECB52"
          ],
          "font": {
           "color": "#2a3f5f"
          },
          "geo": {
           "bgcolor": "white",
           "lakecolor": "white",
           "landcolor": "#E5ECF6",
           "showlakes": true,
           "showland": true,
           "subunitcolor": "white"
          },
          "hoverlabel": {
           "align": "left"
          },
          "hovermode": "closest",
          "mapbox": {
           "style": "light"
          },
          "paper_bgcolor": "white",
          "plot_bgcolor": "#E5ECF6",
          "polar": {
           "angularaxis": {
            "gridcolor": "white",
            "linecolor": "white",
            "ticks": ""
           },
           "bgcolor": "#E5ECF6",
           "radialaxis": {
            "gridcolor": "white",
            "linecolor": "white",
            "ticks": ""
           }
          },
          "scene": {
           "xaxis": {
            "backgroundcolor": "#E5ECF6",
            "gridcolor": "white",
            "gridwidth": 2,
            "linecolor": "white",
            "showbackground": true,
            "ticks": "",
            "zerolinecolor": "white"
           },
           "yaxis": {
            "backgroundcolor": "#E5ECF6",
            "gridcolor": "white",
            "gridwidth": 2,
            "linecolor": "white",
            "showbackground": true,
            "ticks": "",
            "zerolinecolor": "white"
           },
           "zaxis": {
            "backgroundcolor": "#E5ECF6",
            "gridcolor": "white",
            "gridwidth": 2,
            "linecolor": "white",
            "showbackground": true,
            "ticks": "",
            "zerolinecolor": "white"
           }
          },
          "shapedefaults": {
           "line": {
            "color": "#2a3f5f"
           }
          },
          "ternary": {
           "aaxis": {
            "gridcolor": "white",
            "linecolor": "white",
            "ticks": ""
           },
           "baxis": {
            "gridcolor": "white",
            "linecolor": "white",
            "ticks": ""
           },
           "bgcolor": "#E5ECF6",
           "caxis": {
            "gridcolor": "white",
            "linecolor": "white",
            "ticks": ""
           }
          },
          "title": {
           "x": 0.05
          },
          "xaxis": {
           "automargin": true,
           "gridcolor": "white",
           "linecolor": "white",
           "ticks": "",
           "title": {
            "standoff": 15
           },
           "zerolinecolor": "white",
           "zerolinewidth": 2
          },
          "yaxis": {
           "automargin": true,
           "gridcolor": "white",
           "linecolor": "white",
           "ticks": "",
           "title": {
            "standoff": 15
           },
           "zerolinecolor": "white",
           "zerolinewidth": 2
          }
         }
        },
        "title": {
         "text": "Jubilee Line Stations"
        }
       }
      }
     },
     "metadata": {},
     "output_type": "display_data"
    },
    {
     "name": "stdout",
     "output_type": "stream",
     "text": [
      "From the available data, it has been found that:\n",
      "The Jubilee Line has 27 stops.\n",
      "The Jubilee Line goes through zones 2, 1, 5, 3, 4 and 2|3.\n",
      "16 stations have Wifi.\n",
      "12 stations have toilets.\n",
      "10 stations have accessible toilets.\n",
      "3 stations have blue badge parking.\n",
      "1 station has taxi ranks.\n"
     ]
    },
    {
     "data": {
      "application/vnd.plotly.v1+json": {
       "config": {
        "plotlyServerURL": "https://plot.ly"
       },
       "data": [
        {
         "customdata": [
          [
           "Aldgate Underground Station",
           "Yes",
           "n/a",
           "n/a",
           "1",
           "None",
           "n/a",
           "None"
          ],
          [
           "Amersham Underground Station",
           "n/a",
           "n/a",
           "n/a",
           "n/a",
           "n/a",
           "n/a",
           "n/a"
          ],
          [
           "Barbican Underground Station",
           "Yes",
           "n/a",
           "n/a",
           "1",
           "None",
           "n/a",
           "None"
          ],
          [
           "Baker Street Underground Station",
           "Yes",
           2,
           "None",
           "1",
           "None",
           "n/a",
           "None"
          ],
          [
           "Chalfont & Latimer Underground Station",
           "n/a",
           "n/a",
           "n/a",
           "n/a",
           "n/a",
           "n/a",
           "n/a"
          ],
          [
           "Chesham Underground Station",
           "Yes",
           2,
           "None",
           "9",
           "Yes",
           4,
           "None"
          ],
          [
           "Croxley Underground Station",
           "Yes",
           2,
           "None",
           "7",
           "None",
           "n/a",
           "None"
          ],
          [
           "Chorleywood Underground Station",
           "n/a",
           "n/a",
           "n/a",
           "n/a",
           "n/a",
           "n/a",
           "n/a"
          ],
          [
           "Eastcote Underground Station",
           "No",
           "n/a",
           "n/a",
           "5",
           "None",
           "n/a",
           "None"
          ],
          [
           "Euston Square Underground Station",
           "Yes",
           "n/a",
           "n/a",
           "1",
           "None",
           "n/a",
           "None"
          ],
          [
           "Farringdon Underground Station",
           "n/a",
           "n/a",
           "n/a",
           "n/a",
           "n/a",
           "n/a",
           "n/a"
          ],
          [
           "Finchley Road Underground Station",
           "No",
           2,
           "Yes",
           "2",
           "None",
           "n/a",
           "None"
          ],
          [
           "Great Portland Street Underground Station",
           "Yes",
           "n/a",
           "n/a",
           "1",
           "None",
           "n/a",
           "None"
          ],
          [
           "Hillingdon Underground Station",
           "Yes",
           3,
           "Yes",
           "6",
           "Yes",
           6,
           "None"
          ],
          [
           "Harrow-on-the-Hill Underground Station",
           "n/a",
           "n/a",
           "n/a",
           "n/a",
           "n/a",
           "n/a",
           "n/a"
          ],
          [
           "Ickenham Underground Station",
           "Yes",
           "n/a",
           "n/a",
           "6",
           "None",
           "n/a",
           "None"
          ],
          [
           "King's Cross St. Pancras Underground Station",
           "n/a",
           "n/a",
           "n/a",
           "n/a",
           "n/a",
           "n/a",
           "n/a"
          ],
          [
           "Liverpool Street Underground Station",
           "n/a",
           "n/a",
           "n/a",
           "n/a",
           "n/a",
           "n/a",
           "n/a"
          ],
          [
           "Moorgate Underground Station",
           "n/a",
           "n/a",
           "n/a",
           "n/a",
           "n/a",
           "n/a",
           "n/a"
          ],
          [
           "Moor Park Underground Station",
           "Yes",
           2,
           "None",
           "6|7",
           "None",
           "n/a",
           "None"
          ],
          [
           "North Harrow Underground Station",
           "Yes",
           2,
           "None",
           "5",
           "None",
           "n/a",
           "None"
          ],
          [
           "Northwick Park Underground Station",
           "Yes",
           2,
           "None",
           "4",
           "None",
           "n/a",
           "None"
          ],
          [
           "Northwood Underground Station",
           "Yes",
           2,
           "None",
           "6",
           "None",
           "n/a",
           "None"
          ],
          [
           "Northwood Hills Underground Station",
           "Yes",
           2,
           "None",
           "6",
           "None",
           "n/a",
           "None"
          ],
          [
           "Pinner Underground Station",
           "Yes",
           3,
           "Yes",
           "5",
           "None",
           "n/a",
           "None"
          ],
          [
           "Preston Road Underground Station",
           "Yes",
           2,
           "None",
           "4",
           "None",
           "n/a",
           "None"
          ],
          [
           "Rickmansworth Underground Station",
           "n/a",
           "n/a",
           "n/a",
           "n/a",
           "n/a",
           "n/a",
           "n/a"
          ],
          [
           "Ruislip Manor Underground Station",
           "Yes",
           2,
           "None",
           "6",
           "None",
           "n/a",
           "None"
          ],
          [
           "Ruislip Underground Station",
           "Yes",
           2,
           "None",
           "6",
           "Yes",
           4,
           "None"
          ],
          [
           "Rayners Lane Underground Station",
           "Yes",
           "n/a",
           "n/a",
           "5",
           "Yes",
           6,
           "None"
          ],
          [
           "Uxbridge Underground Station",
           "Yes",
           3,
           "Yes",
           "6",
           "None",
           "n/a",
           "None"
          ],
          [
           "Watford Underground Station",
           "No",
           2,
           "None",
           "7",
           "None",
           "n/a",
           "None"
          ],
          [
           "West Harrow Underground Station",
           "Yes",
           3,
           "Yes",
           "5",
           "None",
           "n/a",
           "None"
          ],
          [
           "Wembley Park Underground Station",
           "Yes",
           3,
           "Yes",
           "4",
           "Yes",
           6,
           "None"
          ]
         ],
         "hovertemplate": "<b>%{customdata[0]}</b><br><br><b>Wifi:</b> %{customdata[1]}<br><b>Toilets:</b> %{customdata[2]}<br><b>Accessible toilets:</b> %{customdata[3]}<br><b>Zone:</b> %{customdata[4]}<br><b>Accessible parking:</b> %{customdata[5]}<br><b>Accessible parking spaces:</b> %{customdata[6]}<br><b>Accessible Taxi rank:</b> %{customdata[7]}",
         "hovertext": [
          "Aldgate Underground Station",
          "Amersham Underground Station",
          "Barbican Underground Station",
          "Baker Street Underground Station",
          "Chalfont & Latimer Underground Station",
          "Chesham Underground Station",
          "Croxley Underground Station",
          "Chorleywood Underground Station",
          "Eastcote Underground Station",
          "Euston Square Underground Station",
          "Farringdon Underground Station",
          "Finchley Road Underground Station",
          "Great Portland Street Underground Station",
          "Hillingdon Underground Station",
          "Harrow-on-the-Hill Underground Station",
          "Ickenham Underground Station",
          "King's Cross St. Pancras Underground Station",
          "Liverpool Street Underground Station",
          "Moorgate Underground Station",
          "Moor Park Underground Station",
          "North Harrow Underground Station",
          "Northwick Park Underground Station",
          "Northwood Underground Station",
          "Northwood Hills Underground Station",
          "Pinner Underground Station",
          "Preston Road Underground Station",
          "Rickmansworth Underground Station",
          "Ruislip Manor Underground Station",
          "Ruislip Underground Station",
          "Rayners Lane Underground Station",
          "Uxbridge Underground Station",
          "Watford Underground Station",
          "West Harrow Underground Station",
          "Wembley Park Underground Station"
         ],
         "lat": {
          "bdata": "pgwc0NLBSUAQscHCSdZJQJT2Bl+YwklAM1GE1O3CSUD6m1CIgNVJQFRweEFE2klAWYl5VtLSSUAg8MAAwtNJQFH51/LKyUlAylLr/UbDSUDc1hael8JJQE7RkVz+xUlAFytqMA3DSUD+JhQi4MZJQNyAzw8jyklAFR3J5T/ISUA/GePD7MNJQN3u5T45wklAOslWl1PCSUBKRs7CntBJQE0s8BXdyklAvi1YqgvKSUC0jxX8Ns5JQFhyFYvfzElAAmISLuTLSUAmHeVgNslJQMvVj03y0UlAOwDirl7JSUAqOLwgIslJQD6yuWqeyUlAshGI1/XFSUBpccYwJ9RJQAOV8e8zyklAGJY/3xbISUA=",
          "dtype": "f8"
         },
         "legendgroup": "",
         "lon": {
          "bdata": "2Lyqs1pgs79zSGqhZHLjv1CnPLoRFrm/sDic+dUcxL8gQ8cOKvHhv0vmWN5Vj+O/Y30DkxtF3L/tC+iFO5fgv+AO1CmPbtm/2ZdsPNhiwb8O3ewPlNu6v/evrDQpBce/VBwHXi13wr8+zjRh+8ncv74wmSoYldW/5EnSNZNv3L+OPBBZpIm/v8qpnWFqS7W/j26ERUWctr+Cj8GKU63bv9vC81KxMde/GvuSjQdb1L8oK4arAyDbvwPrOH6oNNq/l65gG/Fk2L/khXR4COPSv/gXQWMmUd6/b2JITiZu2r8W3A94YADbv+hn6nWLwNe/VfoJZ7eW3r/ekEYFTrbav3UCmggbnta/zv5AuW3f0b8=",
          "dtype": "f8"
         },
         "marker": {
          "color": "rgb(117, 16, 86)",
          "size": 8.5
         },
         "mode": "markers",
         "name": "",
         "showlegend": false,
         "subplot": "map",
         "type": "scattermap"
        }
       ],
       "layout": {
        "hoverlabel": {
         "bgcolor": "rgb(0, 25, 168)"
        },
        "hovermode": "closest",
        "legend": {
         "tracegroupgap": 0
        },
        "map": {
         "center": {
          "lat": 51.58056611764706,
          "lon": -0.33497329411764704
         },
         "domain": {
          "x": [
           0,
           1
          ],
          "y": [
           0,
           1
          ]
         },
         "style": "light",
         "zoom": 9.5
        },
        "mapbox": {
         "center": {
          "lat": 51.58056611764706,
          "lon": -0.33497329411764704
         },
         "zoom": 9.5
        },
        "margin": {
         "t": 60
        },
        "template": {
         "data": {
          "bar": [
           {
            "error_x": {
             "color": "#2a3f5f"
            },
            "error_y": {
             "color": "#2a3f5f"
            },
            "marker": {
             "line": {
              "color": "#E5ECF6",
              "width": 0.5
             },
             "pattern": {
              "fillmode": "overlay",
              "size": 10,
              "solidity": 0.2
             }
            },
            "type": "bar"
           }
          ],
          "barpolar": [
           {
            "marker": {
             "line": {
              "color": "#E5ECF6",
              "width": 0.5
             },
             "pattern": {
              "fillmode": "overlay",
              "size": 10,
              "solidity": 0.2
             }
            },
            "type": "barpolar"
           }
          ],
          "carpet": [
           {
            "aaxis": {
             "endlinecolor": "#2a3f5f",
             "gridcolor": "white",
             "linecolor": "white",
             "minorgridcolor": "white",
             "startlinecolor": "#2a3f5f"
            },
            "baxis": {
             "endlinecolor": "#2a3f5f",
             "gridcolor": "white",
             "linecolor": "white",
             "minorgridcolor": "white",
             "startlinecolor": "#2a3f5f"
            },
            "type": "carpet"
           }
          ],
          "choropleth": [
           {
            "colorbar": {
             "outlinewidth": 0,
             "ticks": ""
            },
            "type": "choropleth"
           }
          ],
          "contour": [
           {
            "colorbar": {
             "outlinewidth": 0,
             "ticks": ""
            },
            "colorscale": [
             [
              0,
              "#0d0887"
             ],
             [
              0.1111111111111111,
              "#46039f"
             ],
             [
              0.2222222222222222,
              "#7201a8"
             ],
             [
              0.3333333333333333,
              "#9c179e"
             ],
             [
              0.4444444444444444,
              "#bd3786"
             ],
             [
              0.5555555555555556,
              "#d8576b"
             ],
             [
              0.6666666666666666,
              "#ed7953"
             ],
             [
              0.7777777777777778,
              "#fb9f3a"
             ],
             [
              0.8888888888888888,
              "#fdca26"
             ],
             [
              1,
              "#f0f921"
             ]
            ],
            "type": "contour"
           }
          ],
          "contourcarpet": [
           {
            "colorbar": {
             "outlinewidth": 0,
             "ticks": ""
            },
            "type": "contourcarpet"
           }
          ],
          "heatmap": [
           {
            "colorbar": {
             "outlinewidth": 0,
             "ticks": ""
            },
            "colorscale": [
             [
              0,
              "#0d0887"
             ],
             [
              0.1111111111111111,
              "#46039f"
             ],
             [
              0.2222222222222222,
              "#7201a8"
             ],
             [
              0.3333333333333333,
              "#9c179e"
             ],
             [
              0.4444444444444444,
              "#bd3786"
             ],
             [
              0.5555555555555556,
              "#d8576b"
             ],
             [
              0.6666666666666666,
              "#ed7953"
             ],
             [
              0.7777777777777778,
              "#fb9f3a"
             ],
             [
              0.8888888888888888,
              "#fdca26"
             ],
             [
              1,
              "#f0f921"
             ]
            ],
            "type": "heatmap"
           }
          ],
          "histogram": [
           {
            "marker": {
             "pattern": {
              "fillmode": "overlay",
              "size": 10,
              "solidity": 0.2
             }
            },
            "type": "histogram"
           }
          ],
          "histogram2d": [
           {
            "colorbar": {
             "outlinewidth": 0,
             "ticks": ""
            },
            "colorscale": [
             [
              0,
              "#0d0887"
             ],
             [
              0.1111111111111111,
              "#46039f"
             ],
             [
              0.2222222222222222,
              "#7201a8"
             ],
             [
              0.3333333333333333,
              "#9c179e"
             ],
             [
              0.4444444444444444,
              "#bd3786"
             ],
             [
              0.5555555555555556,
              "#d8576b"
             ],
             [
              0.6666666666666666,
              "#ed7953"
             ],
             [
              0.7777777777777778,
              "#fb9f3a"
             ],
             [
              0.8888888888888888,
              "#fdca26"
             ],
             [
              1,
              "#f0f921"
             ]
            ],
            "type": "histogram2d"
           }
          ],
          "histogram2dcontour": [
           {
            "colorbar": {
             "outlinewidth": 0,
             "ticks": ""
            },
            "colorscale": [
             [
              0,
              "#0d0887"
             ],
             [
              0.1111111111111111,
              "#46039f"
             ],
             [
              0.2222222222222222,
              "#7201a8"
             ],
             [
              0.3333333333333333,
              "#9c179e"
             ],
             [
              0.4444444444444444,
              "#bd3786"
             ],
             [
              0.5555555555555556,
              "#d8576b"
             ],
             [
              0.6666666666666666,
              "#ed7953"
             ],
             [
              0.7777777777777778,
              "#fb9f3a"
             ],
             [
              0.8888888888888888,
              "#fdca26"
             ],
             [
              1,
              "#f0f921"
             ]
            ],
            "type": "histogram2dcontour"
           }
          ],
          "mesh3d": [
           {
            "colorbar": {
             "outlinewidth": 0,
             "ticks": ""
            },
            "type": "mesh3d"
           }
          ],
          "parcoords": [
           {
            "line": {
             "colorbar": {
              "outlinewidth": 0,
              "ticks": ""
             }
            },
            "type": "parcoords"
           }
          ],
          "pie": [
           {
            "automargin": true,
            "type": "pie"
           }
          ],
          "scatter": [
           {
            "fillpattern": {
             "fillmode": "overlay",
             "size": 10,
             "solidity": 0.2
            },
            "type": "scatter"
           }
          ],
          "scatter3d": [
           {
            "line": {
             "colorbar": {
              "outlinewidth": 0,
              "ticks": ""
             }
            },
            "marker": {
             "colorbar": {
              "outlinewidth": 0,
              "ticks": ""
             }
            },
            "type": "scatter3d"
           }
          ],
          "scattercarpet": [
           {
            "marker": {
             "colorbar": {
              "outlinewidth": 0,
              "ticks": ""
             }
            },
            "type": "scattercarpet"
           }
          ],
          "scattergeo": [
           {
            "marker": {
             "colorbar": {
              "outlinewidth": 0,
              "ticks": ""
             }
            },
            "type": "scattergeo"
           }
          ],
          "scattergl": [
           {
            "marker": {
             "colorbar": {
              "outlinewidth": 0,
              "ticks": ""
             }
            },
            "type": "scattergl"
           }
          ],
          "scattermap": [
           {
            "marker": {
             "colorbar": {
              "outlinewidth": 0,
              "ticks": ""
             }
            },
            "type": "scattermap"
           }
          ],
          "scattermapbox": [
           {
            "marker": {
             "colorbar": {
              "outlinewidth": 0,
              "ticks": ""
             }
            },
            "type": "scattermapbox"
           }
          ],
          "scatterpolar": [
           {
            "marker": {
             "colorbar": {
              "outlinewidth": 0,
              "ticks": ""
             }
            },
            "type": "scatterpolar"
           }
          ],
          "scatterpolargl": [
           {
            "marker": {
             "colorbar": {
              "outlinewidth": 0,
              "ticks": ""
             }
            },
            "type": "scatterpolargl"
           }
          ],
          "scatterternary": [
           {
            "marker": {
             "colorbar": {
              "outlinewidth": 0,
              "ticks": ""
             }
            },
            "type": "scatterternary"
           }
          ],
          "surface": [
           {
            "colorbar": {
             "outlinewidth": 0,
             "ticks": ""
            },
            "colorscale": [
             [
              0,
              "#0d0887"
             ],
             [
              0.1111111111111111,
              "#46039f"
             ],
             [
              0.2222222222222222,
              "#7201a8"
             ],
             [
              0.3333333333333333,
              "#9c179e"
             ],
             [
              0.4444444444444444,
              "#bd3786"
             ],
             [
              0.5555555555555556,
              "#d8576b"
             ],
             [
              0.6666666666666666,
              "#ed7953"
             ],
             [
              0.7777777777777778,
              "#fb9f3a"
             ],
             [
              0.8888888888888888,
              "#fdca26"
             ],
             [
              1,
              "#f0f921"
             ]
            ],
            "type": "surface"
           }
          ],
          "table": [
           {
            "cells": {
             "fill": {
              "color": "#EBF0F8"
             },
             "line": {
              "color": "white"
             }
            },
            "header": {
             "fill": {
              "color": "#C8D4E3"
             },
             "line": {
              "color": "white"
             }
            },
            "type": "table"
           }
          ]
         },
         "layout": {
          "annotationdefaults": {
           "arrowcolor": "#2a3f5f",
           "arrowhead": 0,
           "arrowwidth": 1
          },
          "autotypenumbers": "strict",
          "coloraxis": {
           "colorbar": {
            "outlinewidth": 0,
            "ticks": ""
           }
          },
          "colorscale": {
           "diverging": [
            [
             0,
             "#8e0152"
            ],
            [
             0.1,
             "#c51b7d"
            ],
            [
             0.2,
             "#de77ae"
            ],
            [
             0.3,
             "#f1b6da"
            ],
            [
             0.4,
             "#fde0ef"
            ],
            [
             0.5,
             "#f7f7f7"
            ],
            [
             0.6,
             "#e6f5d0"
            ],
            [
             0.7,
             "#b8e186"
            ],
            [
             0.8,
             "#7fbc41"
            ],
            [
             0.9,
             "#4d9221"
            ],
            [
             1,
             "#276419"
            ]
           ],
           "sequential": [
            [
             0,
             "#0d0887"
            ],
            [
             0.1111111111111111,
             "#46039f"
            ],
            [
             0.2222222222222222,
             "#7201a8"
            ],
            [
             0.3333333333333333,
             "#9c179e"
            ],
            [
             0.4444444444444444,
             "#bd3786"
            ],
            [
             0.5555555555555556,
             "#d8576b"
            ],
            [
             0.6666666666666666,
             "#ed7953"
            ],
            [
             0.7777777777777778,
             "#fb9f3a"
            ],
            [
             0.8888888888888888,
             "#fdca26"
            ],
            [
             1,
             "#f0f921"
            ]
           ],
           "sequentialminus": [
            [
             0,
             "#0d0887"
            ],
            [
             0.1111111111111111,
             "#46039f"
            ],
            [
             0.2222222222222222,
             "#7201a8"
            ],
            [
             0.3333333333333333,
             "#9c179e"
            ],
            [
             0.4444444444444444,
             "#bd3786"
            ],
            [
             0.5555555555555556,
             "#d8576b"
            ],
            [
             0.6666666666666666,
             "#ed7953"
            ],
            [
             0.7777777777777778,
             "#fb9f3a"
            ],
            [
             0.8888888888888888,
             "#fdca26"
            ],
            [
             1,
             "#f0f921"
            ]
           ]
          },
          "colorway": [
           "#636efa",
           "#EF553B",
           "#00cc96",
           "#ab63fa",
           "#FFA15A",
           "#19d3f3",
           "#FF6692",
           "#B6E880",
           "#FF97FF",
           "#FECB52"
          ],
          "font": {
           "color": "#2a3f5f"
          },
          "geo": {
           "bgcolor": "white",
           "lakecolor": "white",
           "landcolor": "#E5ECF6",
           "showlakes": true,
           "showland": true,
           "subunitcolor": "white"
          },
          "hoverlabel": {
           "align": "left"
          },
          "hovermode": "closest",
          "mapbox": {
           "style": "light"
          },
          "paper_bgcolor": "white",
          "plot_bgcolor": "#E5ECF6",
          "polar": {
           "angularaxis": {
            "gridcolor": "white",
            "linecolor": "white",
            "ticks": ""
           },
           "bgcolor": "#E5ECF6",
           "radialaxis": {
            "gridcolor": "white",
            "linecolor": "white",
            "ticks": ""
           }
          },
          "scene": {
           "xaxis": {
            "backgroundcolor": "#E5ECF6",
            "gridcolor": "white",
            "gridwidth": 2,
            "linecolor": "white",
            "showbackground": true,
            "ticks": "",
            "zerolinecolor": "white"
           },
           "yaxis": {
            "backgroundcolor": "#E5ECF6",
            "gridcolor": "white",
            "gridwidth": 2,
            "linecolor": "white",
            "showbackground": true,
            "ticks": "",
            "zerolinecolor": "white"
           },
           "zaxis": {
            "backgroundcolor": "#E5ECF6",
            "gridcolor": "white",
            "gridwidth": 2,
            "linecolor": "white",
            "showbackground": true,
            "ticks": "",
            "zerolinecolor": "white"
           }
          },
          "shapedefaults": {
           "line": {
            "color": "#2a3f5f"
           }
          },
          "ternary": {
           "aaxis": {
            "gridcolor": "white",
            "linecolor": "white",
            "ticks": ""
           },
           "baxis": {
            "gridcolor": "white",
            "linecolor": "white",
            "ticks": ""
           },
           "bgcolor": "#E5ECF6",
           "caxis": {
            "gridcolor": "white",
            "linecolor": "white",
            "ticks": ""
           }
          },
          "title": {
           "x": 0.05
          },
          "xaxis": {
           "automargin": true,
           "gridcolor": "white",
           "linecolor": "white",
           "ticks": "",
           "title": {
            "standoff": 15
           },
           "zerolinecolor": "white",
           "zerolinewidth": 2
          },
          "yaxis": {
           "automargin": true,
           "gridcolor": "white",
           "linecolor": "white",
           "ticks": "",
           "title": {
            "standoff": 15
           },
           "zerolinecolor": "white",
           "zerolinewidth": 2
          }
         }
        },
        "title": {
         "text": "Metropolitan Line Stations"
        }
       }
      }
     },
     "metadata": {},
     "output_type": "display_data"
    },
    {
     "name": "stdout",
     "output_type": "stream",
     "text": [
      "From the available data, it has been found that:\n",
      "The Metropolitan Line has 34 stops.\n",
      "The Metropolitan Line goes through zones 1, 9, 7, 5, 2, 6, 6|7 and 4.\n",
      "22 stations have Wifi.\n",
      "18 stations have toilets.\n",
      "6 stations have accessible toilets.\n",
      "5 stations have blue badge parking.\n",
      "0 stations have taxi ranks.\n"
     ]
    },
    {
     "data": {
      "application/vnd.plotly.v1+json": {
       "config": {
        "plotlyServerURL": "https://plot.ly"
       },
       "data": [
        {
         "customdata": [
          [
           "Battersea Power Station Underground Station",
           "Yes",
           1,
           "Yes",
           "1",
           "None",
           "n/a",
           "None"
          ],
          [
           "Archway Underground Station",
           "Yes",
           "n/a",
           "n/a",
           "2|3",
           "None",
           "n/a",
           "None"
          ],
          [
           "Angel Underground Station",
           "Yes",
           "n/a",
           "n/a",
           "1",
           "None",
           "n/a",
           "None"
          ],
          [
           "Balham Underground Station",
           "n/a",
           "n/a",
           "n/a",
           "n/a",
           "n/a",
           "n/a",
           "n/a"
          ],
          [
           "Bank Underground Station",
           "n/a",
           "n/a",
           "n/a",
           "n/a",
           "n/a",
           "n/a",
           "n/a"
          ],
          [
           "Borough Underground Station",
           "Yes",
           "n/a",
           "n/a",
           "1",
           "None",
           "n/a",
           "None"
          ],
          [
           "Burnt Oak Underground Station",
           "Yes",
           "n/a",
           "n/a",
           "4",
           "None",
           "n/a",
           "None"
          ],
          [
           "Brent Cross Underground Station",
           "Yes",
           "n/a",
           "n/a",
           "3",
           "None",
           "n/a",
           "None"
          ],
          [
           "Belsize Park Underground Station",
           "Yes",
           "n/a",
           "n/a",
           "2",
           "None",
           "n/a",
           "None"
          ],
          [
           "Chalk Farm Underground Station",
           "Yes",
           "n/a",
           "n/a",
           "2",
           "None",
           "n/a",
           "None"
          ],
          [
           "Charing Cross Underground Station",
           "n/a",
           "n/a",
           "n/a",
           "n/a",
           "n/a",
           "n/a",
           "n/a"
          ],
          [
           "Colindale Underground Station",
           "Yes",
           "n/a",
           "n/a",
           "4",
           "None",
           "n/a",
           "None"
          ],
          [
           "Clapham Common Underground Station",
           "Yes",
           "n/a",
           "n/a",
           "2",
           "None",
           "n/a",
           "None"
          ],
          [
           "Clapham North Underground Station",
           "Yes",
           "n/a",
           "n/a",
           "2",
           "None",
           "n/a",
           "None"
          ],
          [
           "Clapham South Underground Station",
           "Yes",
           "n/a",
           "n/a",
           "2|3",
           "None",
           "n/a",
           "None"
          ],
          [
           "Colliers Wood Underground Station",
           "Yes",
           "n/a",
           "n/a",
           "3",
           "None",
           "n/a",
           "None"
          ],
          [
           "Camden Town Underground Station",
           "Yes",
           "n/a",
           "n/a",
           "2",
           "None",
           "n/a",
           "None"
          ],
          [
           "Elephant & Castle Underground Station",
           "n/a",
           "n/a",
           "n/a",
           "n/a",
           "n/a",
           "n/a",
           "n/a"
          ],
          [
           "East Finchley Underground Station",
           "Yes",
           "n/a",
           "n/a",
           "3",
           "None",
           "n/a",
           "None"
          ],
          [
           "Edgware Underground Station",
           "Yes",
           "n/a",
           "n/a",
           "5",
           "None",
           "n/a",
           "Yes"
          ],
          [
           "Embankment Underground Station",
           "Yes",
           "n/a",
           "n/a",
           "1",
           "None",
           "n/a",
           "None"
          ],
          [
           "Euston Underground Station",
           "n/a",
           "n/a",
           "n/a",
           "n/a",
           "n/a",
           "n/a",
           "n/a"
          ],
          [
           "Finchley Central Underground Station",
           "Yes",
           1,
           "Yes",
           "4",
           "Yes",
           6,
           "None"
          ],
          [
           "Goodge Street Underground Station",
           "Yes",
           "n/a",
           "n/a",
           "1",
           "None",
           "n/a",
           "None"
          ],
          [
           "Golders Green Underground Station",
           "Yes",
           "n/a",
           "n/a",
           "3",
           "None",
           "n/a",
           "None"
          ],
          [
           "High Barnet Underground Station",
           "Yes",
           3,
           "Yes",
           "5",
           "Yes",
           5,
           "None"
          ],
          [
           "Hendon Central Underground Station",
           "Yes",
           1,
           "Yes",
           "3|4",
           "None",
           "n/a",
           "None"
          ],
          [
           "Highgate Underground Station",
           "Yes",
           "n/a",
           "n/a",
           "3",
           "None",
           "n/a",
           "None"
          ],
          [
           "Hampstead Underground Station",
           "Yes",
           "n/a",
           "n/a",
           "2|3",
           "None",
           "n/a",
           "None"
          ],
          [
           "Kennington Underground Station",
           "Yes",
           "n/a",
           "n/a",
           "1|2",
           "None",
           "n/a",
           "None"
          ],
          [
           "Kentish Town Underground Station",
           "n/a",
           "n/a",
           "n/a",
           "n/a",
           "n/a",
           "n/a",
           "n/a"
          ],
          [
           "King's Cross St. Pancras Underground Station",
           "n/a",
           "n/a",
           "n/a",
           "n/a",
           "n/a",
           "n/a",
           "n/a"
          ],
          [
           "London Bridge Underground Station",
           "n/a",
           "n/a",
           "n/a",
           "n/a",
           "n/a",
           "n/a",
           "n/a"
          ],
          [
           "Leicester Square Underground Station",
           "Yes",
           "n/a",
           "n/a",
           "1",
           "None",
           "n/a",
           "None"
          ],
          [
           "Morden Underground Station",
           "Yes",
           "n/a",
           "n/a",
           "4",
           "None",
           "n/a",
           "None"
          ],
          [
           "Moorgate Underground Station",
           "n/a",
           "n/a",
           "n/a",
           "n/a",
           "n/a",
           "n/a",
           "n/a"
          ],
          [
           "Mill Hill East Underground Station",
           "Yes",
           "n/a",
           "n/a",
           "4",
           "None",
           "n/a",
           "None"
          ],
          [
           "Mornington Crescent Underground Station",
           "Yes",
           "n/a",
           "n/a",
           "2",
           "None",
           "n/a",
           "None"
          ],
          [
           "Old Street Underground Station",
           "n/a",
           "n/a",
           "n/a",
           "n/a",
           "n/a",
           "n/a",
           "n/a"
          ],
          [
           "Oval Underground Station",
           "Yes",
           "n/a",
           "n/a",
           "2",
           "None",
           "n/a",
           "None"
          ],
          [
           "Stockwell Underground Station",
           "Yes",
           "n/a",
           "n/a",
           "2",
           "None",
           "n/a",
           "None"
          ],
          [
           "South Wimbledon Underground Station",
           "Yes",
           "n/a",
           "n/a",
           "3|4",
           "None",
           "n/a",
           "None"
          ],
          [
           "Totteridge & Whetstone Underground Station",
           "Yes",
           2,
           "None",
           "4",
           "None",
           "n/a",
           "None"
          ],
          [
           "Tooting Bec Underground Station",
           "Yes",
           "n/a",
           "n/a",
           "3",
           "None",
           "n/a",
           "None"
          ],
          [
           "Tooting Broadway Underground Station",
           "Yes",
           "n/a",
           "n/a",
           "3",
           "None",
           "n/a",
           "None"
          ],
          [
           "Tottenham Court Road Underground Station",
           "n/a",
           "n/a",
           "n/a",
           "n/a",
           "n/a",
           "n/a",
           "n/a"
          ],
          [
           "Tufnell Park Underground Station",
           "Yes",
           "n/a",
           "n/a",
           "2",
           "None",
           "n/a",
           "None"
          ],
          [
           "West Finchley Underground Station",
           "Yes",
           2,
           "None",
           "4",
           "None",
           "n/a",
           "None"
          ],
          [
           "Waterloo Underground Station",
           "n/a",
           "n/a",
           "n/a",
           "n/a",
           "n/a",
           "n/a",
           "n/a"
          ],
          [
           "Woodside Park Underground Station",
           "Yes",
           2,
           "None",
           "4",
           "Yes",
           5,
           "None"
          ],
          [
           "Warren Street Underground Station",
           "Yes",
           "n/a",
           "n/a",
           "1",
           "None",
           "n/a",
           "None"
          ],
          [
           "Nine Elms Underground Station",
           "Yes",
           1,
           "Yes",
           "1",
           "None",
           "n/a",
           "None"
          ]
         ],
         "hovertemplate": "<b>%{customdata[0]}</b><br><br><b>Wifi:</b> %{customdata[1]}<br><b>Toilets:</b> %{customdata[2]}<br><b>Accessible toilets:</b> %{customdata[3]}<br><b>Zone:</b> %{customdata[4]}<br><b>Accessible parking:</b> %{customdata[5]}<br><b>Accessible parking spaces:</b> %{customdata[6]}<br><b>Accessible Taxi rank:</b> %{customdata[7]}",
         "hovertext": [
          "Battersea Power Station Underground Station",
          "Archway Underground Station",
          "Angel Underground Station",
          "Balham Underground Station",
          "Bank Underground Station",
          "Borough Underground Station",
          "Burnt Oak Underground Station",
          "Brent Cross Underground Station",
          "Belsize Park Underground Station",
          "Chalk Farm Underground Station",
          "Charing Cross Underground Station",
          "Colindale Underground Station",
          "Clapham Common Underground Station",
          "Clapham North Underground Station",
          "Clapham South Underground Station",
          "Colliers Wood Underground Station",
          "Camden Town Underground Station",
          "Elephant & Castle Underground Station",
          "East Finchley Underground Station",
          "Edgware Underground Station",
          "Embankment Underground Station",
          "Euston Underground Station",
          "Finchley Central Underground Station",
          "Goodge Street Underground Station",
          "Golders Green Underground Station",
          "High Barnet Underground Station",
          "Hendon Central Underground Station",
          "Highgate Underground Station",
          "Hampstead Underground Station",
          "Kennington Underground Station",
          "Kentish Town Underground Station",
          "King's Cross St. Pancras Underground Station",
          "London Bridge Underground Station",
          "Leicester Square Underground Station",
          "Morden Underground Station",
          "Moorgate Underground Station",
          "Mill Hill East Underground Station",
          "Mornington Crescent Underground Station",
          "Old Street Underground Station",
          "Oval Underground Station",
          "Stockwell Underground Station",
          "South Wimbledon Underground Station",
          "Totteridge & Whetstone Underground Station",
          "Tooting Bec Underground Station",
          "Tooting Broadway Underground Station",
          "Tottenham Court Road Underground Station",
          "Tufnell Park Underground Station",
          "West Finchley Underground Station",
          "Waterloo Underground Station",
          "Woodside Park Underground Station",
          "Warren Street Underground Station",
          "Nine Elms Underground Station"
         ],
         "lat": {
          "bdata": "5SZqaW69SUDCTUaVYchJQEiI8gUtxElAyVpDqb24SUBKmj+mtcFJQNrk8EknwElAhnDMsifNSUCEns2qz8lJQIXQQZdwxklAHJWbqKXFSUDp1JXP8sBJQHOgh9o2zElARpiiXBq7SUDLnC6LibtJQKkz95DwuUlAaD9SRIa1SUBKfy+FB8VJQOpYpfRMv0lA4LvNGyfLSUDQC3cujM5JQGyWy0bnwElAnwWhvI/DSUBkPbX66sxJQEeq7/yiwklAvOtsyD/JSUCD2m/tRNNJQK9cb5upyklAXTKOkezJSUA/4ezWMsdJQKA2qtOBvklAVUyln3DGSUA/GePD7MNJQEHzOXe7wElA7tCwGHXBSUCMLJljebNJQDrJVpdTwklASb2nctrNSUDSbYlccMRJQGYS9YJPw0lA78nDQq29SUDk2HqGcLxJQANeZtgotUlAVfoJZ7fQSUAZy/RLxLdJQO1kcJS8tklA7WZGPxrCSUC+2HvxRcdJQIKq0asBzklABI4EGmzASUAuPC8VG89JQFKAKJgxw0lAnnqkwW29SUA=",
          "dtype": "f8"
         },
         "legendgroup": "",
         "lon": {
          "bdata": "CKuxhLUxwr/3kPC9v0HBvw05tp4hHLu/Hmyx22eVw7+cqKW5FcK2v/NxbagY57e/078klSnm0L/hYdo391fLvwsIrYcvE8W/DafMzTeiw78VOUTcnErAvzgT04VY/c+/54u9F1+0wb9TdvpBXaTAvwQ4vYv348K/8Q7wpIXLxr+FX+rnTUXCv0IIyJdQwbm/Ykm5+xwfxb/PTDCca5jRv1TFVPoJZ7+/k+ANaVTgwL88akyIuaTIvzrObcK9MsG/fQOTG0XWyL+Fz9bBwd7Iv8nGgy12+8y/E0NyMnGrwr/u0RvuI7fGvz4HliNkILu/YOY7+IkDwr+OPBBZpIm/vyFWf4RhwLa/W2H6XkNwwL/BH37+e/DIv49uhEVFnLa/6BVPPdLgyr+eswWE1sPBv0fmkT8YeLa/c4HLY83IvL+y9QzhmGW/v8GQ1a2ek8i/Vd6OcFrwxr+sNv+vOnLEv/+Tv3tHjcW/UyKJXkaxwL8f9dcrLLjBv0uS5/o+HMi/GCE82jhivb/rHAOy17vHv1PNrKWAtMG/HxMpzeZxwL8=",
          "dtype": "f8"
         },
         "marker": {
          "color": "rgb(0, 0, 0)",
          "size": 8.5
         },
         "mode": "markers",
         "name": "",
         "showlegend": false,
         "subplot": "map",
         "type": "scattermap"
        }
       ],
       "layout": {
        "hoverlabel": {
         "bgcolor": "rgb(0, 25, 168)"
        },
        "hovermode": "closest",
        "legend": {
         "tracegroupgap": 0
        },
        "map": {
         "center": {
          "lat": 51.526706692307684,
          "lon": -0.15294809615384616
         },
         "domain": {
          "x": [
           0,
           1
          ],
          "y": [
           0,
           1
          ]
         },
         "style": "light",
         "zoom": 9.5
        },
        "mapbox": {
         "center": {
          "lat": 51.526706692307684,
          "lon": -0.15294809615384616
         },
         "zoom": 9.5
        },
        "margin": {
         "t": 60
        },
        "template": {
         "data": {
          "bar": [
           {
            "error_x": {
             "color": "#2a3f5f"
            },
            "error_y": {
             "color": "#2a3f5f"
            },
            "marker": {
             "line": {
              "color": "#E5ECF6",
              "width": 0.5
             },
             "pattern": {
              "fillmode": "overlay",
              "size": 10,
              "solidity": 0.2
             }
            },
            "type": "bar"
           }
          ],
          "barpolar": [
           {
            "marker": {
             "line": {
              "color": "#E5ECF6",
              "width": 0.5
             },
             "pattern": {
              "fillmode": "overlay",
              "size": 10,
              "solidity": 0.2
             }
            },
            "type": "barpolar"
           }
          ],
          "carpet": [
           {
            "aaxis": {
             "endlinecolor": "#2a3f5f",
             "gridcolor": "white",
             "linecolor": "white",
             "minorgridcolor": "white",
             "startlinecolor": "#2a3f5f"
            },
            "baxis": {
             "endlinecolor": "#2a3f5f",
             "gridcolor": "white",
             "linecolor": "white",
             "minorgridcolor": "white",
             "startlinecolor": "#2a3f5f"
            },
            "type": "carpet"
           }
          ],
          "choropleth": [
           {
            "colorbar": {
             "outlinewidth": 0,
             "ticks": ""
            },
            "type": "choropleth"
           }
          ],
          "contour": [
           {
            "colorbar": {
             "outlinewidth": 0,
             "ticks": ""
            },
            "colorscale": [
             [
              0,
              "#0d0887"
             ],
             [
              0.1111111111111111,
              "#46039f"
             ],
             [
              0.2222222222222222,
              "#7201a8"
             ],
             [
              0.3333333333333333,
              "#9c179e"
             ],
             [
              0.4444444444444444,
              "#bd3786"
             ],
             [
              0.5555555555555556,
              "#d8576b"
             ],
             [
              0.6666666666666666,
              "#ed7953"
             ],
             [
              0.7777777777777778,
              "#fb9f3a"
             ],
             [
              0.8888888888888888,
              "#fdca26"
             ],
             [
              1,
              "#f0f921"
             ]
            ],
            "type": "contour"
           }
          ],
          "contourcarpet": [
           {
            "colorbar": {
             "outlinewidth": 0,
             "ticks": ""
            },
            "type": "contourcarpet"
           }
          ],
          "heatmap": [
           {
            "colorbar": {
             "outlinewidth": 0,
             "ticks": ""
            },
            "colorscale": [
             [
              0,
              "#0d0887"
             ],
             [
              0.1111111111111111,
              "#46039f"
             ],
             [
              0.2222222222222222,
              "#7201a8"
             ],
             [
              0.3333333333333333,
              "#9c179e"
             ],
             [
              0.4444444444444444,
              "#bd3786"
             ],
             [
              0.5555555555555556,
              "#d8576b"
             ],
             [
              0.6666666666666666,
              "#ed7953"
             ],
             [
              0.7777777777777778,
              "#fb9f3a"
             ],
             [
              0.8888888888888888,
              "#fdca26"
             ],
             [
              1,
              "#f0f921"
             ]
            ],
            "type": "heatmap"
           }
          ],
          "histogram": [
           {
            "marker": {
             "pattern": {
              "fillmode": "overlay",
              "size": 10,
              "solidity": 0.2
             }
            },
            "type": "histogram"
           }
          ],
          "histogram2d": [
           {
            "colorbar": {
             "outlinewidth": 0,
             "ticks": ""
            },
            "colorscale": [
             [
              0,
              "#0d0887"
             ],
             [
              0.1111111111111111,
              "#46039f"
             ],
             [
              0.2222222222222222,
              "#7201a8"
             ],
             [
              0.3333333333333333,
              "#9c179e"
             ],
             [
              0.4444444444444444,
              "#bd3786"
             ],
             [
              0.5555555555555556,
              "#d8576b"
             ],
             [
              0.6666666666666666,
              "#ed7953"
             ],
             [
              0.7777777777777778,
              "#fb9f3a"
             ],
             [
              0.8888888888888888,
              "#fdca26"
             ],
             [
              1,
              "#f0f921"
             ]
            ],
            "type": "histogram2d"
           }
          ],
          "histogram2dcontour": [
           {
            "colorbar": {
             "outlinewidth": 0,
             "ticks": ""
            },
            "colorscale": [
             [
              0,
              "#0d0887"
             ],
             [
              0.1111111111111111,
              "#46039f"
             ],
             [
              0.2222222222222222,
              "#7201a8"
             ],
             [
              0.3333333333333333,
              "#9c179e"
             ],
             [
              0.4444444444444444,
              "#bd3786"
             ],
             [
              0.5555555555555556,
              "#d8576b"
             ],
             [
              0.6666666666666666,
              "#ed7953"
             ],
             [
              0.7777777777777778,
              "#fb9f3a"
             ],
             [
              0.8888888888888888,
              "#fdca26"
             ],
             [
              1,
              "#f0f921"
             ]
            ],
            "type": "histogram2dcontour"
           }
          ],
          "mesh3d": [
           {
            "colorbar": {
             "outlinewidth": 0,
             "ticks": ""
            },
            "type": "mesh3d"
           }
          ],
          "parcoords": [
           {
            "line": {
             "colorbar": {
              "outlinewidth": 0,
              "ticks": ""
             }
            },
            "type": "parcoords"
           }
          ],
          "pie": [
           {
            "automargin": true,
            "type": "pie"
           }
          ],
          "scatter": [
           {
            "fillpattern": {
             "fillmode": "overlay",
             "size": 10,
             "solidity": 0.2
            },
            "type": "scatter"
           }
          ],
          "scatter3d": [
           {
            "line": {
             "colorbar": {
              "outlinewidth": 0,
              "ticks": ""
             }
            },
            "marker": {
             "colorbar": {
              "outlinewidth": 0,
              "ticks": ""
             }
            },
            "type": "scatter3d"
           }
          ],
          "scattercarpet": [
           {
            "marker": {
             "colorbar": {
              "outlinewidth": 0,
              "ticks": ""
             }
            },
            "type": "scattercarpet"
           }
          ],
          "scattergeo": [
           {
            "marker": {
             "colorbar": {
              "outlinewidth": 0,
              "ticks": ""
             }
            },
            "type": "scattergeo"
           }
          ],
          "scattergl": [
           {
            "marker": {
             "colorbar": {
              "outlinewidth": 0,
              "ticks": ""
             }
            },
            "type": "scattergl"
           }
          ],
          "scattermap": [
           {
            "marker": {
             "colorbar": {
              "outlinewidth": 0,
              "ticks": ""
             }
            },
            "type": "scattermap"
           }
          ],
          "scattermapbox": [
           {
            "marker": {
             "colorbar": {
              "outlinewidth": 0,
              "ticks": ""
             }
            },
            "type": "scattermapbox"
           }
          ],
          "scatterpolar": [
           {
            "marker": {
             "colorbar": {
              "outlinewidth": 0,
              "ticks": ""
             }
            },
            "type": "scatterpolar"
           }
          ],
          "scatterpolargl": [
           {
            "marker": {
             "colorbar": {
              "outlinewidth": 0,
              "ticks": ""
             }
            },
            "type": "scatterpolargl"
           }
          ],
          "scatterternary": [
           {
            "marker": {
             "colorbar": {
              "outlinewidth": 0,
              "ticks": ""
             }
            },
            "type": "scatterternary"
           }
          ],
          "surface": [
           {
            "colorbar": {
             "outlinewidth": 0,
             "ticks": ""
            },
            "colorscale": [
             [
              0,
              "#0d0887"
             ],
             [
              0.1111111111111111,
              "#46039f"
             ],
             [
              0.2222222222222222,
              "#7201a8"
             ],
             [
              0.3333333333333333,
              "#9c179e"
             ],
             [
              0.4444444444444444,
              "#bd3786"
             ],
             [
              0.5555555555555556,
              "#d8576b"
             ],
             [
              0.6666666666666666,
              "#ed7953"
             ],
             [
              0.7777777777777778,
              "#fb9f3a"
             ],
             [
              0.8888888888888888,
              "#fdca26"
             ],
             [
              1,
              "#f0f921"
             ]
            ],
            "type": "surface"
           }
          ],
          "table": [
           {
            "cells": {
             "fill": {
              "color": "#EBF0F8"
             },
             "line": {
              "color": "white"
             }
            },
            "header": {
             "fill": {
              "color": "#C8D4E3"
             },
             "line": {
              "color": "white"
             }
            },
            "type": "table"
           }
          ]
         },
         "layout": {
          "annotationdefaults": {
           "arrowcolor": "#2a3f5f",
           "arrowhead": 0,
           "arrowwidth": 1
          },
          "autotypenumbers": "strict",
          "coloraxis": {
           "colorbar": {
            "outlinewidth": 0,
            "ticks": ""
           }
          },
          "colorscale": {
           "diverging": [
            [
             0,
             "#8e0152"
            ],
            [
             0.1,
             "#c51b7d"
            ],
            [
             0.2,
             "#de77ae"
            ],
            [
             0.3,
             "#f1b6da"
            ],
            [
             0.4,
             "#fde0ef"
            ],
            [
             0.5,
             "#f7f7f7"
            ],
            [
             0.6,
             "#e6f5d0"
            ],
            [
             0.7,
             "#b8e186"
            ],
            [
             0.8,
             "#7fbc41"
            ],
            [
             0.9,
             "#4d9221"
            ],
            [
             1,
             "#276419"
            ]
           ],
           "sequential": [
            [
             0,
             "#0d0887"
            ],
            [
             0.1111111111111111,
             "#46039f"
            ],
            [
             0.2222222222222222,
             "#7201a8"
            ],
            [
             0.3333333333333333,
             "#9c179e"
            ],
            [
             0.4444444444444444,
             "#bd3786"
            ],
            [
             0.5555555555555556,
             "#d8576b"
            ],
            [
             0.6666666666666666,
             "#ed7953"
            ],
            [
             0.7777777777777778,
             "#fb9f3a"
            ],
            [
             0.8888888888888888,
             "#fdca26"
            ],
            [
             1,
             "#f0f921"
            ]
           ],
           "sequentialminus": [
            [
             0,
             "#0d0887"
            ],
            [
             0.1111111111111111,
             "#46039f"
            ],
            [
             0.2222222222222222,
             "#7201a8"
            ],
            [
             0.3333333333333333,
             "#9c179e"
            ],
            [
             0.4444444444444444,
             "#bd3786"
            ],
            [
             0.5555555555555556,
             "#d8576b"
            ],
            [
             0.6666666666666666,
             "#ed7953"
            ],
            [
             0.7777777777777778,
             "#fb9f3a"
            ],
            [
             0.8888888888888888,
             "#fdca26"
            ],
            [
             1,
             "#f0f921"
            ]
           ]
          },
          "colorway": [
           "#636efa",
           "#EF553B",
           "#00cc96",
           "#ab63fa",
           "#FFA15A",
           "#19d3f3",
           "#FF6692",
           "#B6E880",
           "#FF97FF",
           "#FECB52"
          ],
          "font": {
           "color": "#2a3f5f"
          },
          "geo": {
           "bgcolor": "white",
           "lakecolor": "white",
           "landcolor": "#E5ECF6",
           "showlakes": true,
           "showland": true,
           "subunitcolor": "white"
          },
          "hoverlabel": {
           "align": "left"
          },
          "hovermode": "closest",
          "mapbox": {
           "style": "light"
          },
          "paper_bgcolor": "white",
          "plot_bgcolor": "#E5ECF6",
          "polar": {
           "angularaxis": {
            "gridcolor": "white",
            "linecolor": "white",
            "ticks": ""
           },
           "bgcolor": "#E5ECF6",
           "radialaxis": {
            "gridcolor": "white",
            "linecolor": "white",
            "ticks": ""
           }
          },
          "scene": {
           "xaxis": {
            "backgroundcolor": "#E5ECF6",
            "gridcolor": "white",
            "gridwidth": 2,
            "linecolor": "white",
            "showbackground": true,
            "ticks": "",
            "zerolinecolor": "white"
           },
           "yaxis": {
            "backgroundcolor": "#E5ECF6",
            "gridcolor": "white",
            "gridwidth": 2,
            "linecolor": "white",
            "showbackground": true,
            "ticks": "",
            "zerolinecolor": "white"
           },
           "zaxis": {
            "backgroundcolor": "#E5ECF6",
            "gridcolor": "white",
            "gridwidth": 2,
            "linecolor": "white",
            "showbackground": true,
            "ticks": "",
            "zerolinecolor": "white"
           }
          },
          "shapedefaults": {
           "line": {
            "color": "#2a3f5f"
           }
          },
          "ternary": {
           "aaxis": {
            "gridcolor": "white",
            "linecolor": "white",
            "ticks": ""
           },
           "baxis": {
            "gridcolor": "white",
            "linecolor": "white",
            "ticks": ""
           },
           "bgcolor": "#E5ECF6",
           "caxis": {
            "gridcolor": "white",
            "linecolor": "white",
            "ticks": ""
           }
          },
          "title": {
           "x": 0.05
          },
          "xaxis": {
           "automargin": true,
           "gridcolor": "white",
           "linecolor": "white",
           "ticks": "",
           "title": {
            "standoff": 15
           },
           "zerolinecolor": "white",
           "zerolinewidth": 2
          },
          "yaxis": {
           "automargin": true,
           "gridcolor": "white",
           "linecolor": "white",
           "ticks": "",
           "title": {
            "standoff": 15
           },
           "zerolinecolor": "white",
           "zerolinewidth": 2
          }
         }
        },
        "title": {
         "text": "Northern Line Stations"
        }
       }
      }
     },
     "metadata": {},
     "output_type": "display_data"
    },
    {
     "name": "stdout",
     "output_type": "stream",
     "text": [
      "From the available data, it has been found that:\n",
      "The Northern Line has 52 stops.\n",
      "The Northern Line goes through zones 1, 2|3, 4, 3, 2, 5, 3|4 and 1|2.\n",
      "40 stations have Wifi.\n",
      "8 stations have toilets.\n",
      "5 stations have accessible toilets.\n",
      "3 stations have blue badge parking.\n",
      "1 station has taxi ranks.\n"
     ]
    },
    {
     "data": {
      "application/vnd.plotly.v1+json": {
       "config": {
        "plotlyServerURL": "https://plot.ly"
       },
       "data": [
        {
         "customdata": [
          [
           "Acton Town Underground Station",
           "Yes",
           3,
           "Yes",
           "3",
           "None",
           "n/a",
           "None"
          ],
          [
           "Alperton Underground Station",
           "Yes",
           2,
           "None",
           "4",
           "None",
           "n/a",
           "None"
          ],
          [
           "Arnos Grove Underground Station",
           "Yes",
           "n/a",
           "n/a",
           "4",
           "None",
           "n/a",
           "None"
          ],
          [
           "Arsenal Underground Station",
           "Yes",
           "n/a",
           "n/a",
           "2",
           "None",
           "n/a",
           "None"
          ],
          [
           "Bounds Green Underground Station",
           "Yes",
           "n/a",
           "n/a",
           "3|4",
           "None",
           "n/a",
           "None"
          ],
          [
           "Boston Manor Underground Station",
           "Yes",
           2,
           "None",
           "4",
           "None",
           "n/a",
           "None"
          ],
          [
           "Barons Court Underground Station",
           "Yes",
           2,
           "None",
           "2",
           "None",
           "n/a",
           "None"
          ],
          [
           "Caledonian Road Underground Station",
           "Yes",
           "n/a",
           "n/a",
           "2",
           "None",
           "n/a",
           "None"
          ],
          [
           "Covent Garden Underground Station",
           "Yes",
           "n/a",
           "n/a",
           "1",
           "None",
           "n/a",
           "None"
          ],
          [
           "Cockfosters Underground Station",
           "Yes",
           2,
           "None",
           "5",
           "None",
           "n/a",
           "None"
          ],
          [
           "Eastcote Underground Station",
           "No",
           "n/a",
           "n/a",
           "5",
           "None",
           "n/a",
           "None"
          ],
          [
           "Ealing Common Underground Station",
           "Yes",
           2,
           "None",
           "3",
           "None",
           "n/a",
           "None"
          ],
          [
           "Earl's Court Underground Station",
           "Yes",
           "n/a",
           "n/a",
           "1|2",
           "None",
           "n/a",
           "None"
          ],
          [
           "Finsbury Park Underground Station",
           "n/a",
           "n/a",
           "n/a",
           "n/a",
           "n/a",
           "n/a",
           "n/a"
          ],
          [
           "Green Park Underground Station",
           "Yes",
           2,
           "None",
           "1",
           "None",
           "n/a",
           "None"
          ],
          [
           "Gloucester Road Underground Station",
           "Yes",
           "n/a",
           "n/a",
           "1",
           "None",
           "n/a",
           "None"
          ],
          [
           "Holborn Underground Station",
           "Yes",
           "n/a",
           "n/a",
           "1",
           "None",
           "n/a",
           "None"
          ],
          [
           "Hillingdon Underground Station",
           "Yes",
           3,
           "Yes",
           "6",
           "Yes",
           6,
           "None"
          ],
          [
           "Hatton Cross Underground Station",
           "Yes",
           "n/a",
           "n/a",
           "5|6",
           "None",
           "n/a",
           "None"
          ],
          [
           "Hyde Park Corner Underground Station",
           "Yes",
           "n/a",
           "n/a",
           "1",
           "None",
           "n/a",
           "None"
          ],
          [
           "Heathrow Terminal 4 Underground Station",
           "n/a",
           "n/a",
           "n/a",
           "n/a",
           "n/a",
           "n/a",
           "n/a"
          ],
          [
           "Heathrow Terminal 5 Underground Station",
           "n/a",
           "n/a",
           "n/a",
           "n/a",
           "n/a",
           "n/a",
           "n/a"
          ],
          [
           "Heathrow Terminals 2 & 3 Underground Station",
           "n/a",
           "n/a",
           "n/a",
           "n/a",
           "n/a",
           "n/a",
           "n/a"
          ],
          [
           "Hammersmith (Dist&Picc Line) Underground Station",
           "n/a",
           "n/a",
           "n/a",
           "n/a",
           "n/a",
           "n/a",
           "n/a"
          ],
          [
           "Hounslow Central Underground Station",
           "Yes",
           2,
           "None",
           "4",
           "None",
           "n/a",
           "None"
          ],
          [
           "Hounslow East Underground Station",
           "Yes",
           1,
           "Yes",
           "4",
           "Yes",
           2,
           "None"
          ],
          [
           "Hounslow West Underground Station",
           "Yes",
           "n/a",
           "n/a",
           "5",
           "Yes",
           10,
           "None"
          ],
          [
           "Holloway Road Underground Station",
           "Yes",
           "n/a",
           "n/a",
           "2",
           "None",
           "n/a",
           "None"
          ],
          [
           "Ickenham Underground Station",
           "Yes",
           "n/a",
           "n/a",
           "6",
           "None",
           "n/a",
           "None"
          ],
          [
           "Knightsbridge Underground Station",
           "Yes",
           "n/a",
           "n/a",
           "1",
           "None",
           "n/a",
           "None"
          ],
          [
           "King's Cross St. Pancras Underground Station",
           "n/a",
           "n/a",
           "n/a",
           "n/a",
           "n/a",
           "n/a",
           "n/a"
          ],
          [
           "Leicester Square Underground Station",
           "Yes",
           "n/a",
           "n/a",
           "1",
           "None",
           "n/a",
           "None"
          ],
          [
           "Manor House Underground Station",
           "Yes",
           "n/a",
           "n/a",
           "2|3",
           "None",
           "n/a",
           "None"
          ],
          [
           "North Ealing Underground Station",
           "Yes",
           2,
           "None",
           "3",
           "None",
           "n/a",
           "None"
          ],
          [
           "Northfields Underground Station",
           "Yes",
           2,
           "None",
           "3",
           "None",
           "n/a",
           "None"
          ],
          [
           "Oakwood Underground Station",
           "Yes",
           2,
           "None",
           "5",
           "Yes",
           6,
           "None"
          ],
          [
           "Osterley Underground Station",
           "Yes",
           2,
           "None",
           "4",
           "None",
           "n/a",
           "None"
          ],
          [
           "Piccadilly Circus Underground Station",
           "Yes",
           2,
           "None",
           "1",
           "None",
           "n/a",
           "None"
          ],
          [
           "Park Royal Underground Station",
           "Yes",
           2,
           "None",
           "3",
           "None",
           "n/a",
           "None"
          ],
          [
           "Ruislip Manor Underground Station",
           "Yes",
           2,
           "None",
           "6",
           "None",
           "n/a",
           "None"
          ],
          [
           "Ruislip Underground Station",
           "Yes",
           2,
           "None",
           "6",
           "Yes",
           4,
           "None"
          ],
          [
           "Russell Square Underground Station",
           "Yes",
           "n/a",
           "n/a",
           "1",
           "None",
           "n/a",
           "None"
          ],
          [
           "Rayners Lane Underground Station",
           "Yes",
           "n/a",
           "n/a",
           "5",
           "Yes",
           6,
           "None"
          ],
          [
           "South Ealing Underground Station",
           "Yes",
           "n/a",
           "n/a",
           "3",
           "None",
           "n/a",
           "None"
          ],
          [
           "Southgate Underground Station",
           "Yes",
           "n/a",
           "n/a",
           "4",
           "None",
           "n/a",
           "None"
          ],
          [
           "South Harrow Underground Station",
           "Yes",
           "n/a",
           "n/a",
           "5",
           "None",
           "n/a",
           "None"
          ],
          [
           "South Kensington Underground Station",
           "Yes",
           "n/a",
           "n/a",
           "1",
           "None",
           "n/a",
           "None"
          ],
          [
           "Sudbury Hill Underground Station",
           "Yes",
           2,
           "None",
           "4",
           "None",
           "n/a",
           "None"
          ],
          [
           "Sudbury Town Underground Station",
           "Yes",
           2,
           "None",
           "4",
           "Yes",
           3,
           "None"
          ],
          [
           "Turnham Green Underground Station",
           "Yes",
           "n/a",
           "n/a",
           "2|3",
           "None",
           "n/a",
           "None"
          ],
          [
           "Turnpike Lane Underground Station",
           "Yes",
           "n/a",
           "n/a",
           "3",
           "None",
           "n/a",
           "None"
          ],
          [
           "Uxbridge Underground Station",
           "Yes",
           3,
           "Yes",
           "6",
           "None",
           "n/a",
           "None"
          ],
          [
           "Wood Green Underground Station",
           "Yes",
           "n/a",
           "n/a",
           "3",
           "None",
           "n/a",
           "None"
          ]
         ],
         "hovertemplate": "<b>%{customdata[0]}</b><br><br><b>Wifi:</b> %{customdata[1]}<br><b>Toilets:</b> %{customdata[2]}<br><b>Accessible toilets:</b> %{customdata[3]}<br><b>Zone:</b> %{customdata[4]}<br><b>Accessible parking:</b> %{customdata[5]}<br><b>Accessible parking spaces:</b> %{customdata[6]}<br><b>Accessible Taxi rank:</b> %{customdata[7]}",
         "hovertext": [
          "Acton Town Underground Station",
          "Alperton Underground Station",
          "Arnos Grove Underground Station",
          "Arsenal Underground Station",
          "Bounds Green Underground Station",
          "Boston Manor Underground Station",
          "Barons Court Underground Station",
          "Caledonian Road Underground Station",
          "Covent Garden Underground Station",
          "Cockfosters Underground Station",
          "Eastcote Underground Station",
          "Ealing Common Underground Station",
          "Earl's Court Underground Station",
          "Finsbury Park Underground Station",
          "Green Park Underground Station",
          "Gloucester Road Underground Station",
          "Holborn Underground Station",
          "Hillingdon Underground Station",
          "Hatton Cross Underground Station",
          "Hyde Park Corner Underground Station",
          "Heathrow Terminal 4 Underground Station",
          "Heathrow Terminal 5 Underground Station",
          "Heathrow Terminals 2 & 3 Underground Station",
          "Hammersmith (Dist&Picc Line) Underground Station",
          "Hounslow Central Underground Station",
          "Hounslow East Underground Station",
          "Hounslow West Underground Station",
          "Holloway Road Underground Station",
          "Ickenham Underground Station",
          "Knightsbridge Underground Station",
          "King's Cross St. Pancras Underground Station",
          "Leicester Square Underground Station",
          "Manor House Underground Station",
          "North Ealing Underground Station",
          "Northfields Underground Station",
          "Oakwood Underground Station",
          "Osterley Underground Station",
          "Piccadilly Circus Underground Station",
          "Park Royal Underground Station",
          "Ruislip Manor Underground Station",
          "Ruislip Underground Station",
          "Russell Square Underground Station",
          "Rayners Lane Underground Station",
          "South Ealing Underground Station",
          "Southgate Underground Station",
          "South Harrow Underground Station",
          "South Kensington Underground Station",
          "Sudbury Hill Underground Station",
          "Sudbury Town Underground Station",
          "Turnham Green Underground Station",
          "Turnpike Lane Underground Station",
          "Uxbridge Underground Station",
          "Wood Green Underground Station"
         ],
         "lat": {
          "bdata": "DoP5K2TASUDUKvpDM8VJQAHg2LPnzklAml/NAYLHSUCwx0RKs81JQGHgufdwv0lAPe/GgsK+SUAIHt/eNcZJQDxnCwitwUlAT1jiAWXTSUBR+dfyyslJQNMwfERMwUlALEme6/u+SUBt409UNshJQBTnqKPjwElA3PEmv0W/SUAniLoPQMJJQP4mFCLgxklAyECeXb67SUAm32xzY8BJQC43GOqwuklAr7X3qSq8SUCD3bBtUbxJQBDpt68Dv0lAWOIBZVO8SUBihVs+krxJQL1V16GavElAdcx5xr7GSUAVHcnlP8hJQGE1lrA2wElAPxnjw+zDSUDu0LAYdcFJQM9KWvENyUlAHEKVmj3CSUC+oluv6b9JQGtiga/o0klAIjXtYpq9SUCTqYJRScFJQBb8NsR4w0lAOwDirl7JSUAqOLwgIslJQNY1Wg70wklAPrK5ap7JSUBUGcbdIMBJQJfiqrLv0ElAkfP+P07ISUAtk+F4Pr9JQKvRqwFKx0lAuJIdG4HGSUAEV3kCYb9JQEzfawiOy0lAshGI1/XFSUD9hR4xesxJQA==",
          "dtype": "f8"
         },
         "legendgroup": "",
         "lon": {
          "bdata": "AFRx4xbz0b/pfeNrzyzTv6iQK/UsCMG/9uy5TE2Cu79ZwARu3c2/v/Z5jPLMy9S/l6yKcJNRy7/DD86njlW+vzHvcaYJ27+/onxBCwkYw7/gDtQpj27Zv1A25QrvctK/ngjiPJzAyL/UK2UZ4li7vzigpSvYRsK/gCctXFZhx79IUPwYc9e+vz7ONGH7ydy/zok9tI8V27+O5sjKL4PDv3VVoBaDh9y/2nIuxVVl3781Bwjm6PHcv3OiXYWUn8y/t7dbkgN217+Z9PdSeNDWv/TCnQsjvdi/h913DI/9vL/kSdI1k2/cv/2IX7GGi8S/jjwQWaSJv79bYfpeQ3DAv9WSjnIwm7i/chk3NdB80r89ghspWyTUv/dXj/tW68C/hnE3iNaK1r8tliL5SiDBvyld+pekMtK/b2JITiZu2r8W3A94YADbv+IjYkok0b+/6GfqdYvA178tWoC21azTv5vo81FGXMC/JIEGmzqP1r8b1H5rJ0rGv2O0jqomiNW/hQg4hCo11L9CIQIOoUrQvytsBrggW7q/VfoJZ7eW3r8ly0kofSG8vw==",
          "dtype": "f8"
         },
         "marker": {
          "color": "rgb(0, 25, 168)",
          "size": 8.5
         },
         "mode": "markers",
         "name": "",
         "showlegend": false,
         "subplot": "map",
         "type": "scattermap"
        }
       ],
       "layout": {
        "hoverlabel": {
         "bgcolor": "rgb(0, 25, 168)"
        },
        "hovermode": "closest",
        "legend": {
         "tracegroupgap": 0
        },
        "map": {
         "center": {
          "lat": 51.532209301886795,
          "lon": -0.2550176037735849
         },
         "domain": {
          "x": [
           0,
           1
          ],
          "y": [
           0,
           1
          ]
         },
         "style": "light",
         "zoom": 9.5
        },
        "mapbox": {
         "center": {
          "lat": 51.532209301886795,
          "lon": -0.2550176037735849
         },
         "zoom": 9.5
        },
        "margin": {
         "t": 60
        },
        "template": {
         "data": {
          "bar": [
           {
            "error_x": {
             "color": "#2a3f5f"
            },
            "error_y": {
             "color": "#2a3f5f"
            },
            "marker": {
             "line": {
              "color": "#E5ECF6",
              "width": 0.5
             },
             "pattern": {
              "fillmode": "overlay",
              "size": 10,
              "solidity": 0.2
             }
            },
            "type": "bar"
           }
          ],
          "barpolar": [
           {
            "marker": {
             "line": {
              "color": "#E5ECF6",
              "width": 0.5
             },
             "pattern": {
              "fillmode": "overlay",
              "size": 10,
              "solidity": 0.2
             }
            },
            "type": "barpolar"
           }
          ],
          "carpet": [
           {
            "aaxis": {
             "endlinecolor": "#2a3f5f",
             "gridcolor": "white",
             "linecolor": "white",
             "minorgridcolor": "white",
             "startlinecolor": "#2a3f5f"
            },
            "baxis": {
             "endlinecolor": "#2a3f5f",
             "gridcolor": "white",
             "linecolor": "white",
             "minorgridcolor": "white",
             "startlinecolor": "#2a3f5f"
            },
            "type": "carpet"
           }
          ],
          "choropleth": [
           {
            "colorbar": {
             "outlinewidth": 0,
             "ticks": ""
            },
            "type": "choropleth"
           }
          ],
          "contour": [
           {
            "colorbar": {
             "outlinewidth": 0,
             "ticks": ""
            },
            "colorscale": [
             [
              0,
              "#0d0887"
             ],
             [
              0.1111111111111111,
              "#46039f"
             ],
             [
              0.2222222222222222,
              "#7201a8"
             ],
             [
              0.3333333333333333,
              "#9c179e"
             ],
             [
              0.4444444444444444,
              "#bd3786"
             ],
             [
              0.5555555555555556,
              "#d8576b"
             ],
             [
              0.6666666666666666,
              "#ed7953"
             ],
             [
              0.7777777777777778,
              "#fb9f3a"
             ],
             [
              0.8888888888888888,
              "#fdca26"
             ],
             [
              1,
              "#f0f921"
             ]
            ],
            "type": "contour"
           }
          ],
          "contourcarpet": [
           {
            "colorbar": {
             "outlinewidth": 0,
             "ticks": ""
            },
            "type": "contourcarpet"
           }
          ],
          "heatmap": [
           {
            "colorbar": {
             "outlinewidth": 0,
             "ticks": ""
            },
            "colorscale": [
             [
              0,
              "#0d0887"
             ],
             [
              0.1111111111111111,
              "#46039f"
             ],
             [
              0.2222222222222222,
              "#7201a8"
             ],
             [
              0.3333333333333333,
              "#9c179e"
             ],
             [
              0.4444444444444444,
              "#bd3786"
             ],
             [
              0.5555555555555556,
              "#d8576b"
             ],
             [
              0.6666666666666666,
              "#ed7953"
             ],
             [
              0.7777777777777778,
              "#fb9f3a"
             ],
             [
              0.8888888888888888,
              "#fdca26"
             ],
             [
              1,
              "#f0f921"
             ]
            ],
            "type": "heatmap"
           }
          ],
          "histogram": [
           {
            "marker": {
             "pattern": {
              "fillmode": "overlay",
              "size": 10,
              "solidity": 0.2
             }
            },
            "type": "histogram"
           }
          ],
          "histogram2d": [
           {
            "colorbar": {
             "outlinewidth": 0,
             "ticks": ""
            },
            "colorscale": [
             [
              0,
              "#0d0887"
             ],
             [
              0.1111111111111111,
              "#46039f"
             ],
             [
              0.2222222222222222,
              "#7201a8"
             ],
             [
              0.3333333333333333,
              "#9c179e"
             ],
             [
              0.4444444444444444,
              "#bd3786"
             ],
             [
              0.5555555555555556,
              "#d8576b"
             ],
             [
              0.6666666666666666,
              "#ed7953"
             ],
             [
              0.7777777777777778,
              "#fb9f3a"
             ],
             [
              0.8888888888888888,
              "#fdca26"
             ],
             [
              1,
              "#f0f921"
             ]
            ],
            "type": "histogram2d"
           }
          ],
          "histogram2dcontour": [
           {
            "colorbar": {
             "outlinewidth": 0,
             "ticks": ""
            },
            "colorscale": [
             [
              0,
              "#0d0887"
             ],
             [
              0.1111111111111111,
              "#46039f"
             ],
             [
              0.2222222222222222,
              "#7201a8"
             ],
             [
              0.3333333333333333,
              "#9c179e"
             ],
             [
              0.4444444444444444,
              "#bd3786"
             ],
             [
              0.5555555555555556,
              "#d8576b"
             ],
             [
              0.6666666666666666,
              "#ed7953"
             ],
             [
              0.7777777777777778,
              "#fb9f3a"
             ],
             [
              0.8888888888888888,
              "#fdca26"
             ],
             [
              1,
              "#f0f921"
             ]
            ],
            "type": "histogram2dcontour"
           }
          ],
          "mesh3d": [
           {
            "colorbar": {
             "outlinewidth": 0,
             "ticks": ""
            },
            "type": "mesh3d"
           }
          ],
          "parcoords": [
           {
            "line": {
             "colorbar": {
              "outlinewidth": 0,
              "ticks": ""
             }
            },
            "type": "parcoords"
           }
          ],
          "pie": [
           {
            "automargin": true,
            "type": "pie"
           }
          ],
          "scatter": [
           {
            "fillpattern": {
             "fillmode": "overlay",
             "size": 10,
             "solidity": 0.2
            },
            "type": "scatter"
           }
          ],
          "scatter3d": [
           {
            "line": {
             "colorbar": {
              "outlinewidth": 0,
              "ticks": ""
             }
            },
            "marker": {
             "colorbar": {
              "outlinewidth": 0,
              "ticks": ""
             }
            },
            "type": "scatter3d"
           }
          ],
          "scattercarpet": [
           {
            "marker": {
             "colorbar": {
              "outlinewidth": 0,
              "ticks": ""
             }
            },
            "type": "scattercarpet"
           }
          ],
          "scattergeo": [
           {
            "marker": {
             "colorbar": {
              "outlinewidth": 0,
              "ticks": ""
             }
            },
            "type": "scattergeo"
           }
          ],
          "scattergl": [
           {
            "marker": {
             "colorbar": {
              "outlinewidth": 0,
              "ticks": ""
             }
            },
            "type": "scattergl"
           }
          ],
          "scattermap": [
           {
            "marker": {
             "colorbar": {
              "outlinewidth": 0,
              "ticks": ""
             }
            },
            "type": "scattermap"
           }
          ],
          "scattermapbox": [
           {
            "marker": {
             "colorbar": {
              "outlinewidth": 0,
              "ticks": ""
             }
            },
            "type": "scattermapbox"
           }
          ],
          "scatterpolar": [
           {
            "marker": {
             "colorbar": {
              "outlinewidth": 0,
              "ticks": ""
             }
            },
            "type": "scatterpolar"
           }
          ],
          "scatterpolargl": [
           {
            "marker": {
             "colorbar": {
              "outlinewidth": 0,
              "ticks": ""
             }
            },
            "type": "scatterpolargl"
           }
          ],
          "scatterternary": [
           {
            "marker": {
             "colorbar": {
              "outlinewidth": 0,
              "ticks": ""
             }
            },
            "type": "scatterternary"
           }
          ],
          "surface": [
           {
            "colorbar": {
             "outlinewidth": 0,
             "ticks": ""
            },
            "colorscale": [
             [
              0,
              "#0d0887"
             ],
             [
              0.1111111111111111,
              "#46039f"
             ],
             [
              0.2222222222222222,
              "#7201a8"
             ],
             [
              0.3333333333333333,
              "#9c179e"
             ],
             [
              0.4444444444444444,
              "#bd3786"
             ],
             [
              0.5555555555555556,
              "#d8576b"
             ],
             [
              0.6666666666666666,
              "#ed7953"
             ],
             [
              0.7777777777777778,
              "#fb9f3a"
             ],
             [
              0.8888888888888888,
              "#fdca26"
             ],
             [
              1,
              "#f0f921"
             ]
            ],
            "type": "surface"
           }
          ],
          "table": [
           {
            "cells": {
             "fill": {
              "color": "#EBF0F8"
             },
             "line": {
              "color": "white"
             }
            },
            "header": {
             "fill": {
              "color": "#C8D4E3"
             },
             "line": {
              "color": "white"
             }
            },
            "type": "table"
           }
          ]
         },
         "layout": {
          "annotationdefaults": {
           "arrowcolor": "#2a3f5f",
           "arrowhead": 0,
           "arrowwidth": 1
          },
          "autotypenumbers": "strict",
          "coloraxis": {
           "colorbar": {
            "outlinewidth": 0,
            "ticks": ""
           }
          },
          "colorscale": {
           "diverging": [
            [
             0,
             "#8e0152"
            ],
            [
             0.1,
             "#c51b7d"
            ],
            [
             0.2,
             "#de77ae"
            ],
            [
             0.3,
             "#f1b6da"
            ],
            [
             0.4,
             "#fde0ef"
            ],
            [
             0.5,
             "#f7f7f7"
            ],
            [
             0.6,
             "#e6f5d0"
            ],
            [
             0.7,
             "#b8e186"
            ],
            [
             0.8,
             "#7fbc41"
            ],
            [
             0.9,
             "#4d9221"
            ],
            [
             1,
             "#276419"
            ]
           ],
           "sequential": [
            [
             0,
             "#0d0887"
            ],
            [
             0.1111111111111111,
             "#46039f"
            ],
            [
             0.2222222222222222,
             "#7201a8"
            ],
            [
             0.3333333333333333,
             "#9c179e"
            ],
            [
             0.4444444444444444,
             "#bd3786"
            ],
            [
             0.5555555555555556,
             "#d8576b"
            ],
            [
             0.6666666666666666,
             "#ed7953"
            ],
            [
             0.7777777777777778,
             "#fb9f3a"
            ],
            [
             0.8888888888888888,
             "#fdca26"
            ],
            [
             1,
             "#f0f921"
            ]
           ],
           "sequentialminus": [
            [
             0,
             "#0d0887"
            ],
            [
             0.1111111111111111,
             "#46039f"
            ],
            [
             0.2222222222222222,
             "#7201a8"
            ],
            [
             0.3333333333333333,
             "#9c179e"
            ],
            [
             0.4444444444444444,
             "#bd3786"
            ],
            [
             0.5555555555555556,
             "#d8576b"
            ],
            [
             0.6666666666666666,
             "#ed7953"
            ],
            [
             0.7777777777777778,
             "#fb9f3a"
            ],
            [
             0.8888888888888888,
             "#fdca26"
            ],
            [
             1,
             "#f0f921"
            ]
           ]
          },
          "colorway": [
           "#636efa",
           "#EF553B",
           "#00cc96",
           "#ab63fa",
           "#FFA15A",
           "#19d3f3",
           "#FF6692",
           "#B6E880",
           "#FF97FF",
           "#FECB52"
          ],
          "font": {
           "color": "#2a3f5f"
          },
          "geo": {
           "bgcolor": "white",
           "lakecolor": "white",
           "landcolor": "#E5ECF6",
           "showlakes": true,
           "showland": true,
           "subunitcolor": "white"
          },
          "hoverlabel": {
           "align": "left"
          },
          "hovermode": "closest",
          "mapbox": {
           "style": "light"
          },
          "paper_bgcolor": "white",
          "plot_bgcolor": "#E5ECF6",
          "polar": {
           "angularaxis": {
            "gridcolor": "white",
            "linecolor": "white",
            "ticks": ""
           },
           "bgcolor": "#E5ECF6",
           "radialaxis": {
            "gridcolor": "white",
            "linecolor": "white",
            "ticks": ""
           }
          },
          "scene": {
           "xaxis": {
            "backgroundcolor": "#E5ECF6",
            "gridcolor": "white",
            "gridwidth": 2,
            "linecolor": "white",
            "showbackground": true,
            "ticks": "",
            "zerolinecolor": "white"
           },
           "yaxis": {
            "backgroundcolor": "#E5ECF6",
            "gridcolor": "white",
            "gridwidth": 2,
            "linecolor": "white",
            "showbackground": true,
            "ticks": "",
            "zerolinecolor": "white"
           },
           "zaxis": {
            "backgroundcolor": "#E5ECF6",
            "gridcolor": "white",
            "gridwidth": 2,
            "linecolor": "white",
            "showbackground": true,
            "ticks": "",
            "zerolinecolor": "white"
           }
          },
          "shapedefaults": {
           "line": {
            "color": "#2a3f5f"
           }
          },
          "ternary": {
           "aaxis": {
            "gridcolor": "white",
            "linecolor": "white",
            "ticks": ""
           },
           "baxis": {
            "gridcolor": "white",
            "linecolor": "white",
            "ticks": ""
           },
           "bgcolor": "#E5ECF6",
           "caxis": {
            "gridcolor": "white",
            "linecolor": "white",
            "ticks": ""
           }
          },
          "title": {
           "x": 0.05
          },
          "xaxis": {
           "automargin": true,
           "gridcolor": "white",
           "linecolor": "white",
           "ticks": "",
           "title": {
            "standoff": 15
           },
           "zerolinecolor": "white",
           "zerolinewidth": 2
          },
          "yaxis": {
           "automargin": true,
           "gridcolor": "white",
           "linecolor": "white",
           "ticks": "",
           "title": {
            "standoff": 15
           },
           "zerolinecolor": "white",
           "zerolinewidth": 2
          }
         }
        },
        "title": {
         "text": "Piccadilly Line Stations"
        }
       }
      }
     },
     "metadata": {},
     "output_type": "display_data"
    },
    {
     "name": "stdout",
     "output_type": "stream",
     "text": [
      "From the available data, it has been found that:\n",
      "The Piccadilly Line has 53 stops.\n",
      "The Piccadilly Line goes through zones 3, 4, 2, 3|4, 1, 5, 1|2, 6, 5|6 and 2|3.\n",
      "46 stations have Wifi.\n",
      "21 stations have toilets.\n",
      "4 stations have accessible toilets.\n",
      "7 stations have blue badge parking.\n",
      "0 stations have taxi ranks.\n"
     ]
    },
    {
     "data": {
      "application/vnd.plotly.v1+json": {
       "config": {
        "plotlyServerURL": "https://plot.ly"
       },
       "data": [
        {
         "customdata": [
          [
           "Blackhorse Road Underground Station",
           "n/a",
           "n/a",
           "n/a",
           "n/a",
           "n/a",
           "n/a",
           "n/a"
          ],
          [
           "Brixton Underground Station",
           "n/a",
           "n/a",
           "n/a",
           "n/a",
           "n/a",
           "n/a",
           "n/a"
          ],
          [
           "Euston Underground Station",
           "n/a",
           "n/a",
           "n/a",
           "n/a",
           "n/a",
           "n/a",
           "n/a"
          ],
          [
           "Finsbury Park Underground Station",
           "n/a",
           "n/a",
           "n/a",
           "n/a",
           "n/a",
           "n/a",
           "n/a"
          ],
          [
           "Green Park Underground Station",
           "Yes",
           2,
           "None",
           "1",
           "None",
           "n/a",
           "None"
          ],
          [
           "Highbury & Islington Underground Station",
           "n/a",
           "n/a",
           "n/a",
           "n/a",
           "n/a",
           "n/a",
           "n/a"
          ],
          [
           "King's Cross St. Pancras Underground Station",
           "n/a",
           "n/a",
           "n/a",
           "n/a",
           "n/a",
           "n/a",
           "n/a"
          ],
          [
           "Oxford Circus Underground Station",
           "Yes",
           "n/a",
           "n/a",
           "1",
           "None",
           "n/a",
           "None"
          ],
          [
           "Pimlico Underground Station",
           "Yes",
           "n/a",
           "n/a",
           "1",
           "None",
           "n/a",
           "None"
          ],
          [
           "Stockwell Underground Station",
           "Yes",
           "n/a",
           "n/a",
           "2",
           "None",
           "n/a",
           "None"
          ],
          [
           "Seven Sisters Underground Station",
           "n/a",
           "n/a",
           "n/a",
           "n/a",
           "n/a",
           "n/a",
           "n/a"
          ],
          [
           "Tottenham Hale Underground Station",
           "n/a",
           "n/a",
           "n/a",
           "n/a",
           "n/a",
           "n/a",
           "n/a"
          ],
          [
           "Victoria Underground Station",
           "n/a",
           "n/a",
           "n/a",
           "n/a",
           "n/a",
           "n/a",
           "n/a"
          ],
          [
           "Vauxhall Underground Station",
           "n/a",
           "n/a",
           "n/a",
           "n/a",
           "n/a",
           "n/a",
           "n/a"
          ],
          [
           "Warren Street Underground Station",
           "Yes",
           "n/a",
           "n/a",
           "1",
           "None",
           "n/a",
           "None"
          ],
          [
           "Walthamstow Central Underground Station",
           "n/a",
           "n/a",
           "n/a",
           "n/a",
           "n/a",
           "n/a",
           "n/a"
          ]
         ],
         "hovertemplate": "<b>%{customdata[0]}</b><br><br><b>Wifi:</b> %{customdata[1]}<br><b>Toilets:</b> %{customdata[2]}<br><b>Accessible toilets:</b> %{customdata[3]}<br><b>Zone:</b> %{customdata[4]}<br><b>Accessible parking:</b> %{customdata[5]}<br><b>Accessible parking spaces:</b> %{customdata[6]}<br><b>Accessible Taxi rank:</b> %{customdata[7]}",
         "hovertext": [
          "Blackhorse Road Underground Station",
          "Brixton Underground Station",
          "Euston Underground Station",
          "Finsbury Park Underground Station",
          "Green Park Underground Station",
          "Highbury & Islington Underground Station",
          "King's Cross St. Pancras Underground Station",
          "Oxford Circus Underground Station",
          "Pimlico Underground Station",
          "Stockwell Underground Station",
          "Seven Sisters Underground Station",
          "Tottenham Hale Underground Station",
          "Victoria Underground Station",
          "Vauxhall Underground Station",
          "Warren Street Underground Station",
          "Walthamstow Central Underground Station"
         ],
         "lat": {
          "bdata": "VTNrKSDLSUA9RQ4RN7tJQJ8FobyPw0lAbeNPVDbISUAU56ij48BJQLUV+8vuxUlAPxnjw+zDSUCiDivc8sFJQC7JAbuavklA5Nh6hnC8SUBJY7SOqspJQAtCeR9Hy0lAogkUsYi/SUBmoZ3TLL5JQFKAKJgxw0lAONvcmJ7KSUA=",
          "dtype": "f8"
         },
         "legendgroup": "",
         "lon": {
          "bdata": "/fZ14JwRpb/Z7bPKTGm9v5PgDWlU4MC/1CtlGeJYu784oKUr2EbCv9JT5BBxc7q/jjwQWaSJv78cJhqk4CnCvwd5PZgUH8G/svUM4Zhlv79BfjZy3ZSyv0K1wYno166/JgD/lCpRwr9RSghW1cu/v1PNrKWAtMG/lE25wrtclL8=",
          "dtype": "f8"
         },
         "marker": {
          "color": "rgb(0, 160, 226)",
          "size": 8.5
         },
         "mode": "markers",
         "name": "",
         "showlegend": false,
         "subplot": "map",
         "type": "scattermap"
        }
       ],
       "layout": {
        "hoverlabel": {
         "bgcolor": "rgb(0, 25, 168)"
        },
        "hovermode": "closest",
        "legend": {
         "tracegroupgap": 0
        },
        "map": {
         "center": {
          "lat": 51.528965,
          "lon": -0.1075411875
         },
         "domain": {
          "x": [
           0,
           1
          ],
          "y": [
           0,
           1
          ]
         },
         "style": "light",
         "zoom": 9.5
        },
        "mapbox": {
         "center": {
          "lat": 51.528965,
          "lon": -0.1075411875
         },
         "zoom": 9.5
        },
        "margin": {
         "t": 60
        },
        "template": {
         "data": {
          "bar": [
           {
            "error_x": {
             "color": "#2a3f5f"
            },
            "error_y": {
             "color": "#2a3f5f"
            },
            "marker": {
             "line": {
              "color": "#E5ECF6",
              "width": 0.5
             },
             "pattern": {
              "fillmode": "overlay",
              "size": 10,
              "solidity": 0.2
             }
            },
            "type": "bar"
           }
          ],
          "barpolar": [
           {
            "marker": {
             "line": {
              "color": "#E5ECF6",
              "width": 0.5
             },
             "pattern": {
              "fillmode": "overlay",
              "size": 10,
              "solidity": 0.2
             }
            },
            "type": "barpolar"
           }
          ],
          "carpet": [
           {
            "aaxis": {
             "endlinecolor": "#2a3f5f",
             "gridcolor": "white",
             "linecolor": "white",
             "minorgridcolor": "white",
             "startlinecolor": "#2a3f5f"
            },
            "baxis": {
             "endlinecolor": "#2a3f5f",
             "gridcolor": "white",
             "linecolor": "white",
             "minorgridcolor": "white",
             "startlinecolor": "#2a3f5f"
            },
            "type": "carpet"
           }
          ],
          "choropleth": [
           {
            "colorbar": {
             "outlinewidth": 0,
             "ticks": ""
            },
            "type": "choropleth"
           }
          ],
          "contour": [
           {
            "colorbar": {
             "outlinewidth": 0,
             "ticks": ""
            },
            "colorscale": [
             [
              0,
              "#0d0887"
             ],
             [
              0.1111111111111111,
              "#46039f"
             ],
             [
              0.2222222222222222,
              "#7201a8"
             ],
             [
              0.3333333333333333,
              "#9c179e"
             ],
             [
              0.4444444444444444,
              "#bd3786"
             ],
             [
              0.5555555555555556,
              "#d8576b"
             ],
             [
              0.6666666666666666,
              "#ed7953"
             ],
             [
              0.7777777777777778,
              "#fb9f3a"
             ],
             [
              0.8888888888888888,
              "#fdca26"
             ],
             [
              1,
              "#f0f921"
             ]
            ],
            "type": "contour"
           }
          ],
          "contourcarpet": [
           {
            "colorbar": {
             "outlinewidth": 0,
             "ticks": ""
            },
            "type": "contourcarpet"
           }
          ],
          "heatmap": [
           {
            "colorbar": {
             "outlinewidth": 0,
             "ticks": ""
            },
            "colorscale": [
             [
              0,
              "#0d0887"
             ],
             [
              0.1111111111111111,
              "#46039f"
             ],
             [
              0.2222222222222222,
              "#7201a8"
             ],
             [
              0.3333333333333333,
              "#9c179e"
             ],
             [
              0.4444444444444444,
              "#bd3786"
             ],
             [
              0.5555555555555556,
              "#d8576b"
             ],
             [
              0.6666666666666666,
              "#ed7953"
             ],
             [
              0.7777777777777778,
              "#fb9f3a"
             ],
             [
              0.8888888888888888,
              "#fdca26"
             ],
             [
              1,
              "#f0f921"
             ]
            ],
            "type": "heatmap"
           }
          ],
          "histogram": [
           {
            "marker": {
             "pattern": {
              "fillmode": "overlay",
              "size": 10,
              "solidity": 0.2
             }
            },
            "type": "histogram"
           }
          ],
          "histogram2d": [
           {
            "colorbar": {
             "outlinewidth": 0,
             "ticks": ""
            },
            "colorscale": [
             [
              0,
              "#0d0887"
             ],
             [
              0.1111111111111111,
              "#46039f"
             ],
             [
              0.2222222222222222,
              "#7201a8"
             ],
             [
              0.3333333333333333,
              "#9c179e"
             ],
             [
              0.4444444444444444,
              "#bd3786"
             ],
             [
              0.5555555555555556,
              "#d8576b"
             ],
             [
              0.6666666666666666,
              "#ed7953"
             ],
             [
              0.7777777777777778,
              "#fb9f3a"
             ],
             [
              0.8888888888888888,
              "#fdca26"
             ],
             [
              1,
              "#f0f921"
             ]
            ],
            "type": "histogram2d"
           }
          ],
          "histogram2dcontour": [
           {
            "colorbar": {
             "outlinewidth": 0,
             "ticks": ""
            },
            "colorscale": [
             [
              0,
              "#0d0887"
             ],
             [
              0.1111111111111111,
              "#46039f"
             ],
             [
              0.2222222222222222,
              "#7201a8"
             ],
             [
              0.3333333333333333,
              "#9c179e"
             ],
             [
              0.4444444444444444,
              "#bd3786"
             ],
             [
              0.5555555555555556,
              "#d8576b"
             ],
             [
              0.6666666666666666,
              "#ed7953"
             ],
             [
              0.7777777777777778,
              "#fb9f3a"
             ],
             [
              0.8888888888888888,
              "#fdca26"
             ],
             [
              1,
              "#f0f921"
             ]
            ],
            "type": "histogram2dcontour"
           }
          ],
          "mesh3d": [
           {
            "colorbar": {
             "outlinewidth": 0,
             "ticks": ""
            },
            "type": "mesh3d"
           }
          ],
          "parcoords": [
           {
            "line": {
             "colorbar": {
              "outlinewidth": 0,
              "ticks": ""
             }
            },
            "type": "parcoords"
           }
          ],
          "pie": [
           {
            "automargin": true,
            "type": "pie"
           }
          ],
          "scatter": [
           {
            "fillpattern": {
             "fillmode": "overlay",
             "size": 10,
             "solidity": 0.2
            },
            "type": "scatter"
           }
          ],
          "scatter3d": [
           {
            "line": {
             "colorbar": {
              "outlinewidth": 0,
              "ticks": ""
             }
            },
            "marker": {
             "colorbar": {
              "outlinewidth": 0,
              "ticks": ""
             }
            },
            "type": "scatter3d"
           }
          ],
          "scattercarpet": [
           {
            "marker": {
             "colorbar": {
              "outlinewidth": 0,
              "ticks": ""
             }
            },
            "type": "scattercarpet"
           }
          ],
          "scattergeo": [
           {
            "marker": {
             "colorbar": {
              "outlinewidth": 0,
              "ticks": ""
             }
            },
            "type": "scattergeo"
           }
          ],
          "scattergl": [
           {
            "marker": {
             "colorbar": {
              "outlinewidth": 0,
              "ticks": ""
             }
            },
            "type": "scattergl"
           }
          ],
          "scattermap": [
           {
            "marker": {
             "colorbar": {
              "outlinewidth": 0,
              "ticks": ""
             }
            },
            "type": "scattermap"
           }
          ],
          "scattermapbox": [
           {
            "marker": {
             "colorbar": {
              "outlinewidth": 0,
              "ticks": ""
             }
            },
            "type": "scattermapbox"
           }
          ],
          "scatterpolar": [
           {
            "marker": {
             "colorbar": {
              "outlinewidth": 0,
              "ticks": ""
             }
            },
            "type": "scatterpolar"
           }
          ],
          "scatterpolargl": [
           {
            "marker": {
             "colorbar": {
              "outlinewidth": 0,
              "ticks": ""
             }
            },
            "type": "scatterpolargl"
           }
          ],
          "scatterternary": [
           {
            "marker": {
             "colorbar": {
              "outlinewidth": 0,
              "ticks": ""
             }
            },
            "type": "scatterternary"
           }
          ],
          "surface": [
           {
            "colorbar": {
             "outlinewidth": 0,
             "ticks": ""
            },
            "colorscale": [
             [
              0,
              "#0d0887"
             ],
             [
              0.1111111111111111,
              "#46039f"
             ],
             [
              0.2222222222222222,
              "#7201a8"
             ],
             [
              0.3333333333333333,
              "#9c179e"
             ],
             [
              0.4444444444444444,
              "#bd3786"
             ],
             [
              0.5555555555555556,
              "#d8576b"
             ],
             [
              0.6666666666666666,
              "#ed7953"
             ],
             [
              0.7777777777777778,
              "#fb9f3a"
             ],
             [
              0.8888888888888888,
              "#fdca26"
             ],
             [
              1,
              "#f0f921"
             ]
            ],
            "type": "surface"
           }
          ],
          "table": [
           {
            "cells": {
             "fill": {
              "color": "#EBF0F8"
             },
             "line": {
              "color": "white"
             }
            },
            "header": {
             "fill": {
              "color": "#C8D4E3"
             },
             "line": {
              "color": "white"
             }
            },
            "type": "table"
           }
          ]
         },
         "layout": {
          "annotationdefaults": {
           "arrowcolor": "#2a3f5f",
           "arrowhead": 0,
           "arrowwidth": 1
          },
          "autotypenumbers": "strict",
          "coloraxis": {
           "colorbar": {
            "outlinewidth": 0,
            "ticks": ""
           }
          },
          "colorscale": {
           "diverging": [
            [
             0,
             "#8e0152"
            ],
            [
             0.1,
             "#c51b7d"
            ],
            [
             0.2,
             "#de77ae"
            ],
            [
             0.3,
             "#f1b6da"
            ],
            [
             0.4,
             "#fde0ef"
            ],
            [
             0.5,
             "#f7f7f7"
            ],
            [
             0.6,
             "#e6f5d0"
            ],
            [
             0.7,
             "#b8e186"
            ],
            [
             0.8,
             "#7fbc41"
            ],
            [
             0.9,
             "#4d9221"
            ],
            [
             1,
             "#276419"
            ]
           ],
           "sequential": [
            [
             0,
             "#0d0887"
            ],
            [
             0.1111111111111111,
             "#46039f"
            ],
            [
             0.2222222222222222,
             "#7201a8"
            ],
            [
             0.3333333333333333,
             "#9c179e"
            ],
            [
             0.4444444444444444,
             "#bd3786"
            ],
            [
             0.5555555555555556,
             "#d8576b"
            ],
            [
             0.6666666666666666,
             "#ed7953"
            ],
            [
             0.7777777777777778,
             "#fb9f3a"
            ],
            [
             0.8888888888888888,
             "#fdca26"
            ],
            [
             1,
             "#f0f921"
            ]
           ],
           "sequentialminus": [
            [
             0,
             "#0d0887"
            ],
            [
             0.1111111111111111,
             "#46039f"
            ],
            [
             0.2222222222222222,
             "#7201a8"
            ],
            [
             0.3333333333333333,
             "#9c179e"
            ],
            [
             0.4444444444444444,
             "#bd3786"
            ],
            [
             0.5555555555555556,
             "#d8576b"
            ],
            [
             0.6666666666666666,
             "#ed7953"
            ],
            [
             0.7777777777777778,
             "#fb9f3a"
            ],
            [
             0.8888888888888888,
             "#fdca26"
            ],
            [
             1,
             "#f0f921"
            ]
           ]
          },
          "colorway": [
           "#636efa",
           "#EF553B",
           "#00cc96",
           "#ab63fa",
           "#FFA15A",
           "#19d3f3",
           "#FF6692",
           "#B6E880",
           "#FF97FF",
           "#FECB52"
          ],
          "font": {
           "color": "#2a3f5f"
          },
          "geo": {
           "bgcolor": "white",
           "lakecolor": "white",
           "landcolor": "#E5ECF6",
           "showlakes": true,
           "showland": true,
           "subunitcolor": "white"
          },
          "hoverlabel": {
           "align": "left"
          },
          "hovermode": "closest",
          "mapbox": {
           "style": "light"
          },
          "paper_bgcolor": "white",
          "plot_bgcolor": "#E5ECF6",
          "polar": {
           "angularaxis": {
            "gridcolor": "white",
            "linecolor": "white",
            "ticks": ""
           },
           "bgcolor": "#E5ECF6",
           "radialaxis": {
            "gridcolor": "white",
            "linecolor": "white",
            "ticks": ""
           }
          },
          "scene": {
           "xaxis": {
            "backgroundcolor": "#E5ECF6",
            "gridcolor": "white",
            "gridwidth": 2,
            "linecolor": "white",
            "showbackground": true,
            "ticks": "",
            "zerolinecolor": "white"
           },
           "yaxis": {
            "backgroundcolor": "#E5ECF6",
            "gridcolor": "white",
            "gridwidth": 2,
            "linecolor": "white",
            "showbackground": true,
            "ticks": "",
            "zerolinecolor": "white"
           },
           "zaxis": {
            "backgroundcolor": "#E5ECF6",
            "gridcolor": "white",
            "gridwidth": 2,
            "linecolor": "white",
            "showbackground": true,
            "ticks": "",
            "zerolinecolor": "white"
           }
          },
          "shapedefaults": {
           "line": {
            "color": "#2a3f5f"
           }
          },
          "ternary": {
           "aaxis": {
            "gridcolor": "white",
            "linecolor": "white",
            "ticks": ""
           },
           "baxis": {
            "gridcolor": "white",
            "linecolor": "white",
            "ticks": ""
           },
           "bgcolor": "#E5ECF6",
           "caxis": {
            "gridcolor": "white",
            "linecolor": "white",
            "ticks": ""
           }
          },
          "title": {
           "x": 0.05
          },
          "xaxis": {
           "automargin": true,
           "gridcolor": "white",
           "linecolor": "white",
           "ticks": "",
           "title": {
            "standoff": 15
           },
           "zerolinecolor": "white",
           "zerolinewidth": 2
          },
          "yaxis": {
           "automargin": true,
           "gridcolor": "white",
           "linecolor": "white",
           "ticks": "",
           "title": {
            "standoff": 15
           },
           "zerolinecolor": "white",
           "zerolinewidth": 2
          }
         }
        },
        "title": {
         "text": "Victoria Line Stations"
        }
       }
      }
     },
     "metadata": {},
     "output_type": "display_data"
    },
    {
     "name": "stdout",
     "output_type": "stream",
     "text": [
      "From the available data, it has been found that:\n",
      "The Victoria Line has 16 stops.\n",
      "The Victoria Line goes through zones 1 and 2.\n",
      "5 stations have Wifi.\n",
      "1 station has toilets.\n",
      "0 stations have accessible toilets.\n",
      "0 stations have blue badge parking.\n",
      "0 stations have taxi ranks.\n"
     ]
    },
    {
     "data": {
      "application/vnd.plotly.v1+json": {
       "config": {
        "plotlyServerURL": "https://plot.ly"
       },
       "data": [
        {
         "customdata": [
          [
           "Bank Underground Station",
           "n/a",
           "n/a",
           "n/a",
           "n/a",
           "n/a",
           "n/a",
           "n/a"
          ],
          [
           "Waterloo Underground Station",
           "n/a",
           "n/a",
           "n/a",
           "n/a",
           "n/a",
           "n/a",
           "n/a"
          ]
         ],
         "hovertemplate": "<b>%{customdata[0]}</b><br><br><b>Wifi:</b> %{customdata[1]}<br><b>Toilets:</b> %{customdata[2]}<br><b>Accessible toilets:</b> %{customdata[3]}<br><b>Zone:</b> %{customdata[4]}<br><b>Accessible parking:</b> %{customdata[5]}<br><b>Accessible parking spaces:</b> %{customdata[6]}<br><b>Accessible Taxi rank:</b> %{customdata[7]}",
         "hovertext": [
          "Bank Underground Station",
          "Waterloo Underground Station"
         ],
         "lat": {
          "bdata": "Spo/prXBSUAEjgQabMBJQA==",
          "dtype": "f8"
         },
         "legendgroup": "",
         "lon": {
          "bdata": "nKiluRXCtr8YITzaOGK9vw==",
          "dtype": "f8"
         },
         "marker": {
          "color": "rgb(118, 208, 189)",
          "size": 8.5
         },
         "mode": "markers",
         "name": "",
         "showlegend": false,
         "subplot": "map",
         "type": "scattermap"
        }
       ],
       "layout": {
        "hoverlabel": {
         "bgcolor": "rgb(0, 25, 168)"
        },
        "hovermode": "closest",
        "legend": {
         "tracegroupgap": 0
        },
        "map": {
         "center": {
          "lat": 51.5083275,
          "lon": -0.1018395
         },
         "domain": {
          "x": [
           0,
           1
          ],
          "y": [
           0,
           1
          ]
         },
         "style": "light",
         "zoom": 9.5
        },
        "mapbox": {
         "center": {
          "lat": 51.5083275,
          "lon": -0.1018395
         },
         "zoom": 9.5
        },
        "margin": {
         "t": 60
        },
        "template": {
         "data": {
          "bar": [
           {
            "error_x": {
             "color": "#2a3f5f"
            },
            "error_y": {
             "color": "#2a3f5f"
            },
            "marker": {
             "line": {
              "color": "#E5ECF6",
              "width": 0.5
             },
             "pattern": {
              "fillmode": "overlay",
              "size": 10,
              "solidity": 0.2
             }
            },
            "type": "bar"
           }
          ],
          "barpolar": [
           {
            "marker": {
             "line": {
              "color": "#E5ECF6",
              "width": 0.5
             },
             "pattern": {
              "fillmode": "overlay",
              "size": 10,
              "solidity": 0.2
             }
            },
            "type": "barpolar"
           }
          ],
          "carpet": [
           {
            "aaxis": {
             "endlinecolor": "#2a3f5f",
             "gridcolor": "white",
             "linecolor": "white",
             "minorgridcolor": "white",
             "startlinecolor": "#2a3f5f"
            },
            "baxis": {
             "endlinecolor": "#2a3f5f",
             "gridcolor": "white",
             "linecolor": "white",
             "minorgridcolor": "white",
             "startlinecolor": "#2a3f5f"
            },
            "type": "carpet"
           }
          ],
          "choropleth": [
           {
            "colorbar": {
             "outlinewidth": 0,
             "ticks": ""
            },
            "type": "choropleth"
           }
          ],
          "contour": [
           {
            "colorbar": {
             "outlinewidth": 0,
             "ticks": ""
            },
            "colorscale": [
             [
              0,
              "#0d0887"
             ],
             [
              0.1111111111111111,
              "#46039f"
             ],
             [
              0.2222222222222222,
              "#7201a8"
             ],
             [
              0.3333333333333333,
              "#9c179e"
             ],
             [
              0.4444444444444444,
              "#bd3786"
             ],
             [
              0.5555555555555556,
              "#d8576b"
             ],
             [
              0.6666666666666666,
              "#ed7953"
             ],
             [
              0.7777777777777778,
              "#fb9f3a"
             ],
             [
              0.8888888888888888,
              "#fdca26"
             ],
             [
              1,
              "#f0f921"
             ]
            ],
            "type": "contour"
           }
          ],
          "contourcarpet": [
           {
            "colorbar": {
             "outlinewidth": 0,
             "ticks": ""
            },
            "type": "contourcarpet"
           }
          ],
          "heatmap": [
           {
            "colorbar": {
             "outlinewidth": 0,
             "ticks": ""
            },
            "colorscale": [
             [
              0,
              "#0d0887"
             ],
             [
              0.1111111111111111,
              "#46039f"
             ],
             [
              0.2222222222222222,
              "#7201a8"
             ],
             [
              0.3333333333333333,
              "#9c179e"
             ],
             [
              0.4444444444444444,
              "#bd3786"
             ],
             [
              0.5555555555555556,
              "#d8576b"
             ],
             [
              0.6666666666666666,
              "#ed7953"
             ],
             [
              0.7777777777777778,
              "#fb9f3a"
             ],
             [
              0.8888888888888888,
              "#fdca26"
             ],
             [
              1,
              "#f0f921"
             ]
            ],
            "type": "heatmap"
           }
          ],
          "histogram": [
           {
            "marker": {
             "pattern": {
              "fillmode": "overlay",
              "size": 10,
              "solidity": 0.2
             }
            },
            "type": "histogram"
           }
          ],
          "histogram2d": [
           {
            "colorbar": {
             "outlinewidth": 0,
             "ticks": ""
            },
            "colorscale": [
             [
              0,
              "#0d0887"
             ],
             [
              0.1111111111111111,
              "#46039f"
             ],
             [
              0.2222222222222222,
              "#7201a8"
             ],
             [
              0.3333333333333333,
              "#9c179e"
             ],
             [
              0.4444444444444444,
              "#bd3786"
             ],
             [
              0.5555555555555556,
              "#d8576b"
             ],
             [
              0.6666666666666666,
              "#ed7953"
             ],
             [
              0.7777777777777778,
              "#fb9f3a"
             ],
             [
              0.8888888888888888,
              "#fdca26"
             ],
             [
              1,
              "#f0f921"
             ]
            ],
            "type": "histogram2d"
           }
          ],
          "histogram2dcontour": [
           {
            "colorbar": {
             "outlinewidth": 0,
             "ticks": ""
            },
            "colorscale": [
             [
              0,
              "#0d0887"
             ],
             [
              0.1111111111111111,
              "#46039f"
             ],
             [
              0.2222222222222222,
              "#7201a8"
             ],
             [
              0.3333333333333333,
              "#9c179e"
             ],
             [
              0.4444444444444444,
              "#bd3786"
             ],
             [
              0.5555555555555556,
              "#d8576b"
             ],
             [
              0.6666666666666666,
              "#ed7953"
             ],
             [
              0.7777777777777778,
              "#fb9f3a"
             ],
             [
              0.8888888888888888,
              "#fdca26"
             ],
             [
              1,
              "#f0f921"
             ]
            ],
            "type": "histogram2dcontour"
           }
          ],
          "mesh3d": [
           {
            "colorbar": {
             "outlinewidth": 0,
             "ticks": ""
            },
            "type": "mesh3d"
           }
          ],
          "parcoords": [
           {
            "line": {
             "colorbar": {
              "outlinewidth": 0,
              "ticks": ""
             }
            },
            "type": "parcoords"
           }
          ],
          "pie": [
           {
            "automargin": true,
            "type": "pie"
           }
          ],
          "scatter": [
           {
            "fillpattern": {
             "fillmode": "overlay",
             "size": 10,
             "solidity": 0.2
            },
            "type": "scatter"
           }
          ],
          "scatter3d": [
           {
            "line": {
             "colorbar": {
              "outlinewidth": 0,
              "ticks": ""
             }
            },
            "marker": {
             "colorbar": {
              "outlinewidth": 0,
              "ticks": ""
             }
            },
            "type": "scatter3d"
           }
          ],
          "scattercarpet": [
           {
            "marker": {
             "colorbar": {
              "outlinewidth": 0,
              "ticks": ""
             }
            },
            "type": "scattercarpet"
           }
          ],
          "scattergeo": [
           {
            "marker": {
             "colorbar": {
              "outlinewidth": 0,
              "ticks": ""
             }
            },
            "type": "scattergeo"
           }
          ],
          "scattergl": [
           {
            "marker": {
             "colorbar": {
              "outlinewidth": 0,
              "ticks": ""
             }
            },
            "type": "scattergl"
           }
          ],
          "scattermap": [
           {
            "marker": {
             "colorbar": {
              "outlinewidth": 0,
              "ticks": ""
             }
            },
            "type": "scattermap"
           }
          ],
          "scattermapbox": [
           {
            "marker": {
             "colorbar": {
              "outlinewidth": 0,
              "ticks": ""
             }
            },
            "type": "scattermapbox"
           }
          ],
          "scatterpolar": [
           {
            "marker": {
             "colorbar": {
              "outlinewidth": 0,
              "ticks": ""
             }
            },
            "type": "scatterpolar"
           }
          ],
          "scatterpolargl": [
           {
            "marker": {
             "colorbar": {
              "outlinewidth": 0,
              "ticks": ""
             }
            },
            "type": "scatterpolargl"
           }
          ],
          "scatterternary": [
           {
            "marker": {
             "colorbar": {
              "outlinewidth": 0,
              "ticks": ""
             }
            },
            "type": "scatterternary"
           }
          ],
          "surface": [
           {
            "colorbar": {
             "outlinewidth": 0,
             "ticks": ""
            },
            "colorscale": [
             [
              0,
              "#0d0887"
             ],
             [
              0.1111111111111111,
              "#46039f"
             ],
             [
              0.2222222222222222,
              "#7201a8"
             ],
             [
              0.3333333333333333,
              "#9c179e"
             ],
             [
              0.4444444444444444,
              "#bd3786"
             ],
             [
              0.5555555555555556,
              "#d8576b"
             ],
             [
              0.6666666666666666,
              "#ed7953"
             ],
             [
              0.7777777777777778,
              "#fb9f3a"
             ],
             [
              0.8888888888888888,
              "#fdca26"
             ],
             [
              1,
              "#f0f921"
             ]
            ],
            "type": "surface"
           }
          ],
          "table": [
           {
            "cells": {
             "fill": {
              "color": "#EBF0F8"
             },
             "line": {
              "color": "white"
             }
            },
            "header": {
             "fill": {
              "color": "#C8D4E3"
             },
             "line": {
              "color": "white"
             }
            },
            "type": "table"
           }
          ]
         },
         "layout": {
          "annotationdefaults": {
           "arrowcolor": "#2a3f5f",
           "arrowhead": 0,
           "arrowwidth": 1
          },
          "autotypenumbers": "strict",
          "coloraxis": {
           "colorbar": {
            "outlinewidth": 0,
            "ticks": ""
           }
          },
          "colorscale": {
           "diverging": [
            [
             0,
             "#8e0152"
            ],
            [
             0.1,
             "#c51b7d"
            ],
            [
             0.2,
             "#de77ae"
            ],
            [
             0.3,
             "#f1b6da"
            ],
            [
             0.4,
             "#fde0ef"
            ],
            [
             0.5,
             "#f7f7f7"
            ],
            [
             0.6,
             "#e6f5d0"
            ],
            [
             0.7,
             "#b8e186"
            ],
            [
             0.8,
             "#7fbc41"
            ],
            [
             0.9,
             "#4d9221"
            ],
            [
             1,
             "#276419"
            ]
           ],
           "sequential": [
            [
             0,
             "#0d0887"
            ],
            [
             0.1111111111111111,
             "#46039f"
            ],
            [
             0.2222222222222222,
             "#7201a8"
            ],
            [
             0.3333333333333333,
             "#9c179e"
            ],
            [
             0.4444444444444444,
             "#bd3786"
            ],
            [
             0.5555555555555556,
             "#d8576b"
            ],
            [
             0.6666666666666666,
             "#ed7953"
            ],
            [
             0.7777777777777778,
             "#fb9f3a"
            ],
            [
             0.8888888888888888,
             "#fdca26"
            ],
            [
             1,
             "#f0f921"
            ]
           ],
           "sequentialminus": [
            [
             0,
             "#0d0887"
            ],
            [
             0.1111111111111111,
             "#46039f"
            ],
            [
             0.2222222222222222,
             "#7201a8"
            ],
            [
             0.3333333333333333,
             "#9c179e"
            ],
            [
             0.4444444444444444,
             "#bd3786"
            ],
            [
             0.5555555555555556,
             "#d8576b"
            ],
            [
             0.6666666666666666,
             "#ed7953"
            ],
            [
             0.7777777777777778,
             "#fb9f3a"
            ],
            [
             0.8888888888888888,
             "#fdca26"
            ],
            [
             1,
             "#f0f921"
            ]
           ]
          },
          "colorway": [
           "#636efa",
           "#EF553B",
           "#00cc96",
           "#ab63fa",
           "#FFA15A",
           "#19d3f3",
           "#FF6692",
           "#B6E880",
           "#FF97FF",
           "#FECB52"
          ],
          "font": {
           "color": "#2a3f5f"
          },
          "geo": {
           "bgcolor": "white",
           "lakecolor": "white",
           "landcolor": "#E5ECF6",
           "showlakes": true,
           "showland": true,
           "subunitcolor": "white"
          },
          "hoverlabel": {
           "align": "left"
          },
          "hovermode": "closest",
          "mapbox": {
           "style": "light"
          },
          "paper_bgcolor": "white",
          "plot_bgcolor": "#E5ECF6",
          "polar": {
           "angularaxis": {
            "gridcolor": "white",
            "linecolor": "white",
            "ticks": ""
           },
           "bgcolor": "#E5ECF6",
           "radialaxis": {
            "gridcolor": "white",
            "linecolor": "white",
            "ticks": ""
           }
          },
          "scene": {
           "xaxis": {
            "backgroundcolor": "#E5ECF6",
            "gridcolor": "white",
            "gridwidth": 2,
            "linecolor": "white",
            "showbackground": true,
            "ticks": "",
            "zerolinecolor": "white"
           },
           "yaxis": {
            "backgroundcolor": "#E5ECF6",
            "gridcolor": "white",
            "gridwidth": 2,
            "linecolor": "white",
            "showbackground": true,
            "ticks": "",
            "zerolinecolor": "white"
           },
           "zaxis": {
            "backgroundcolor": "#E5ECF6",
            "gridcolor": "white",
            "gridwidth": 2,
            "linecolor": "white",
            "showbackground": true,
            "ticks": "",
            "zerolinecolor": "white"
           }
          },
          "shapedefaults": {
           "line": {
            "color": "#2a3f5f"
           }
          },
          "ternary": {
           "aaxis": {
            "gridcolor": "white",
            "linecolor": "white",
            "ticks": ""
           },
           "baxis": {
            "gridcolor": "white",
            "linecolor": "white",
            "ticks": ""
           },
           "bgcolor": "#E5ECF6",
           "caxis": {
            "gridcolor": "white",
            "linecolor": "white",
            "ticks": ""
           }
          },
          "title": {
           "x": 0.05
          },
          "xaxis": {
           "automargin": true,
           "gridcolor": "white",
           "linecolor": "white",
           "ticks": "",
           "title": {
            "standoff": 15
           },
           "zerolinecolor": "white",
           "zerolinewidth": 2
          },
          "yaxis": {
           "automargin": true,
           "gridcolor": "white",
           "linecolor": "white",
           "ticks": "",
           "title": {
            "standoff": 15
           },
           "zerolinecolor": "white",
           "zerolinewidth": 2
          }
         }
        },
        "title": {
         "text": "Waterloo-city Line Stations"
        }
       }
      }
     },
     "metadata": {},
     "output_type": "display_data"
    },
    {
     "name": "stdout",
     "output_type": "stream",
     "text": [
      "From the available data, it has been found that:\n",
      "The Waterloo-city Line has 2 stops.\n",
      "There is no zone data available.\n",
      "0 stations have Wifi.\n",
      "0 stations have toilets.\n",
      "0 stations have accessible toilets.\n",
      "0 stations have blue badge parking.\n",
      "0 stations have taxi ranks.\n"
     ]
    }
   ],
   "source": [
    "#printing basic information found about the tube lines from the tube lines API using string formatting\n",
    "print(f\"There are {len(TubeLines)} tube lines in the TfL underground network.\")\n",
    "print(f\"These lines are: {', '.join([x.title() for x in TubeLines[0:-1]])} and {TubeLines[-1].title()}.\")\n",
    "\n",
    "for x in TubeLines:\n",
    "    line_analysis(x)"
   ]
  }
 ],
 "metadata": {
  "kernelspec": {
   "display_name": "Python 3",
   "language": "python",
   "name": "python3"
  },
  "language_info": {
   "codemirror_mode": {
    "name": "ipython",
    "version": 3
   },
   "file_extension": ".py",
   "mimetype": "text/x-python",
   "name": "python",
   "nbconvert_exporter": "python",
   "pygments_lexer": "ipython3",
   "version": "3.11.9"
  }
 },
 "nbformat": 4,
 "nbformat_minor": 2
}
