{
 "cells": [
  {
   "cell_type": "markdown",
   "metadata": {},
   "source": [
    "#### Before you start, create a repository for this session, as you will be doing code reviews of your exercises, add your team as collaborators\n",
    "✅✅✅✅"
   ]
  },
  {
   "cell_type": "markdown",
   "metadata": {},
   "source": [
    "#### Exercise 1: import necessary libraries to carry out analysis using pandas and to visualise the dataset [brazilian_amazon_fires_1999_2019.csv](brazilian_amazon_fires_1999_2019.csv)"
   ]
  },
  {
   "cell_type": "code",
   "execution_count": null,
   "metadata": {},
   "outputs": [],
   "source": [
    "import pandas as pd\n",
    "import matplotlib.pyplot as plt\n",
    "from pandas.plotting import register_matplotlib_converters"
   ]
  },
  {
   "cell_type": "markdown",
   "metadata": {},
   "source": [
    "#### Exercise 2: Load the data and display the first few rows\n"
   ]
  },
  {
   "cell_type": "code",
   "execution_count": 3,
   "metadata": {},
   "outputs": [
    {
     "data": {
      "text/html": [
       "<div>\n",
       "<style scoped>\n",
       "    .dataframe tbody tr th:only-of-type {\n",
       "        vertical-align: middle;\n",
       "    }\n",
       "\n",
       "    .dataframe tbody tr th {\n",
       "        vertical-align: top;\n",
       "    }\n",
       "\n",
       "    .dataframe thead th {\n",
       "        text-align: right;\n",
       "    }\n",
       "</style>\n",
       "<table border=\"1\" class=\"dataframe\">\n",
       "  <thead>\n",
       "    <tr style=\"text-align: right;\">\n",
       "      <th></th>\n",
       "      <th>year</th>\n",
       "      <th>month</th>\n",
       "      <th>state</th>\n",
       "      <th>latitude</th>\n",
       "      <th>longitude</th>\n",
       "      <th>firespots</th>\n",
       "    </tr>\n",
       "  </thead>\n",
       "  <tbody>\n",
       "    <tr>\n",
       "      <th>0</th>\n",
       "      <td>1999</td>\n",
       "      <td>1</td>\n",
       "      <td>AMAZONAS</td>\n",
       "      <td>-2.371113</td>\n",
       "      <td>-59.899933</td>\n",
       "      <td>3</td>\n",
       "    </tr>\n",
       "    <tr>\n",
       "      <th>1</th>\n",
       "      <td>1999</td>\n",
       "      <td>1</td>\n",
       "      <td>MARANHAO</td>\n",
       "      <td>-2.257395</td>\n",
       "      <td>-45.487831</td>\n",
       "      <td>36</td>\n",
       "    </tr>\n",
       "    <tr>\n",
       "      <th>2</th>\n",
       "      <td>1999</td>\n",
       "      <td>1</td>\n",
       "      <td>MATO GROSSO</td>\n",
       "      <td>-12.660633</td>\n",
       "      <td>-55.057989</td>\n",
       "      <td>18</td>\n",
       "    </tr>\n",
       "    <tr>\n",
       "      <th>3</th>\n",
       "      <td>1999</td>\n",
       "      <td>1</td>\n",
       "      <td>PARA</td>\n",
       "      <td>-2.474820</td>\n",
       "      <td>-48.546967</td>\n",
       "      <td>87</td>\n",
       "    </tr>\n",
       "    <tr>\n",
       "      <th>4</th>\n",
       "      <td>1999</td>\n",
       "      <td>1</td>\n",
       "      <td>RONDONIA</td>\n",
       "      <td>-12.861700</td>\n",
       "      <td>-60.513100</td>\n",
       "      <td>1</td>\n",
       "    </tr>\n",
       "  </tbody>\n",
       "</table>\n",
       "</div>"
      ],
      "text/plain": [
       "   year  month        state   latitude  longitude  firespots\n",
       "0  1999      1     AMAZONAS  -2.371113 -59.899933          3\n",
       "1  1999      1     MARANHAO  -2.257395 -45.487831         36\n",
       "2  1999      1  MATO GROSSO -12.660633 -55.057989         18\n",
       "3  1999      1         PARA  -2.474820 -48.546967         87\n",
       "4  1999      1     RONDONIA -12.861700 -60.513100          1"
      ]
     },
     "execution_count": 3,
     "metadata": {},
     "output_type": "execute_result"
    }
   ],
   "source": [
    "import pandas as pd\n",
    "\n",
    "df = pd.read_csv('brazilian_amazon_fires_1999_2019.csv')     #read the csv file\n",
    "\n",
    "df.head()                                                    #print the first few rows of the data frame\n"
   ]
  },
  {
   "cell_type": "markdown",
   "metadata": {},
   "source": [
    "#### Exercise 3: Display basic summary statistics and check for missing values\n",
    "\n",
    " tip: [check the documentation](https://pandas.pydata.org/docs/getting_started/intro_tutorials/06_calculate_statistics.html)"
   ]
  },
  {
   "cell_type": "code",
   "execution_count": 18,
   "metadata": {},
   "outputs": [
    {
     "name": "stdout",
     "output_type": "stream",
     "text": [
      "Missing values in each column:\n",
      "year         0\n",
      "month        0\n",
      "state        0\n",
      "latitude     0\n",
      "longitude    0\n",
      "firespots    0\n",
      "dtype: int64\n",
      "The dataset contains 2104 rows and 6 columns.\n"
     ]
    },
    {
     "data": {
      "text/plain": [
       "np.float64(121.0)"
      ]
     },
     "execution_count": 18,
     "metadata": {},
     "output_type": "execute_result"
    }
   ],
   "source": [
    "import pandas as pd\n",
    "\n",
    "df = pd.read_csv('brazilian_amazon_fires_1999_2019.csv')   #read the csv file\n",
    "\n",
    "print(\"Missing values in each column:\")\n",
    "print(df.isnull().sum())\n",
    "\n",
    "df.describe()\n",
    "\n",
    "print(f\"The dataset contains {df.shape[0]} rows and {df.shape[1]} columns.\")\n",
    "\n",
    "\n",
    "df[\"firespots\"].median()\n"
   ]
  },
  {
   "cell_type": "markdown",
   "metadata": {},
   "source": [
    "#### Exercise 4: Exploratory Data Analysis - Count of firespots by state\n",
    "\n",
    "- Analyze the distribution of firespots across different states."
   ]
  },
  {
   "cell_type": "code",
   "execution_count": 27,
   "metadata": {},
   "outputs": [
    {
     "name": "stdout",
     "output_type": "stream",
     "text": [
      "             firespots\n",
      "state                 \n",
      "PARA            942283\n",
      "MATO GROSSO     595378\n",
      "RONDONIA        340517\n",
      "AMAZONAS        188483\n",
      "MARANHAO        160543\n",
      "ACRE            126471\n",
      "RORAIMA          46981\n",
      "AMAPA            39337\n",
      "TOCANTINS        16254\n"
     ]
    }
   ],
   "source": [
    "import pandas as pd\n",
    "df = pd.read_csv('brazilian_amazon_fires_1999_2019.csv')\n",
    "\n",
    "#grouping the data by 'state' and sum the number of 'firespots'\n",
    "state_firespots = df[[\"state\", \"firespots\"]].groupby(\"state\").sum()\n",
    "\n",
    "\n",
    "#sorting the results by the number of firespots in descending order\n",
    "sorted_state_firespots = state_fireposts.sort_values(by=\"firespots\", ascending = False)\n",
    "print(sorted_state_firespots)\n",
    "\n",
    "#plot the results using a bar plot\n",
    "#remember in the lecture example we used plt.plot for a basic line plot but now we need a bar , follow that example to set color too\n",
    "\n",
    "\n",
    "\n",
    "\n",
    "#show your plot"
   ]
  },
  {
   "cell_type": "code",
   "execution_count": null,
   "metadata": {},
   "outputs": [
    {
     "name": "stdout",
     "output_type": "stream",
     "text": [
      "             firespots\n",
      "state                 \n",
      "PARA            942283\n",
      "MATO GROSSO     595378\n",
      "RONDONIA        340517\n",
      "AMAZONAS        188483\n",
      "MARANHAO        160543\n",
      "ACRE            126471\n",
      "RORAIMA          46981\n",
      "AMAPA            39337\n",
      "TOCANTINS        16254\n"
     ]
    },
    {
     "data": {
      "text/plain": [
       "<function matplotlib.pyplot.show(close=None, block=None)>"
      ]
     },
     "execution_count": 31,
     "metadata": {},
     "output_type": "execute_result"
    },
    {
     "data": {
      "image/png": "[encoded data removed]",
      "text/plain": [
       "<Figure size 1200x500 with 1 Axes>"
      ]
     },
     "metadata": {},
     "output_type": "display_data"
    }
   ],
   "source": [
    "import pandas as pd\n",
    "import matplotlib.pyplot as plt\n",
    "from pandas.plotting import register_matplotlib_converters\n",
    "\n",
    "df = pd.read_csv('brazilian_amazon_fires_1999_2019.csv')\n",
    "\n",
    "#grouping the data by 'state' and sum the number of 'firespots'\n",
    "state_firespots = df[[\"state\", \"firespots\"]].groupby(\"state\").sum()\n",
    "\n",
    "\n",
    "#sorting the results by the number of firespots in descending order\n",
    "sorted_state_firespots = state_fireposts.sort_values(by=\"firespots\", ascending = False)\n",
    "print(sorted_state_firespots)\n",
    "\n",
    "#plot the results using a bar plot\n",
    "#remember in the lecture example we used plt.plot for a basic line plot but now we need a bar , follow that example to set color too\n",
    "plt.figure(figsize=(12, 5))\n",
    "plt.bar(sorted_state_firespots.index, sorted_state_firespots['firespots'], color='orange')\n",
    "\n",
    "\n",
    "#show your plot\n",
    "plt.show"
   ]
  },
  {
   "cell_type": "markdown",
   "metadata": {},
   "source": [
    "### Exercise 5: Code Review your analysis and plot\n",
    "- use github to do this, you can do this on someone else's repository but you will need to **fork** it or be added as collaborator\n",
    "\n",
    "This is a very useful post:\n",
    "\n",
    "[code review on github](https://linearb.io/blog/code-review-on-github)\n",
    "\n",
    "\n",
    "##### Forking a Repository\n",
    "\n",
    "What is Forking? Forking creates a personal copy of someone else's repository under your Git account. It's typically used when you want to contribute to a project that you don't have direct write access to.\n",
    "\n",
    "When to Fork: Contributing to Open Source Projects: If you're contributing to an open-source project or any repository where you don't have write permissions, you'll fork the repository to create your own version that you can work on. Personal Changes: If you want to experiment with or make personal changes to someone else's project without affecting the original project, you fork it.\n",
    "\n",
    "How to Fork: On GitHub (or similar platforms), navigate to the repository you want to contribute to and click the “Fork” button. This creates a copy of the repository under your account.\n",
    "\n",
    "Next Steps After Forking: Clone the Forked Repository: Once you've forked the repository, clone it to your local machine to start working on it.\n",
    "\n",
    "git clone https://github.com/your-username/forked-repo.git\n",
    "\n",
    "\n",
    "Make Changes: After cloning, you can create branches, make changes, and commit them as you would with any other repository.\n",
    "\n",
    "Submit a Pull Request: Once your changes are ready, you can submit a pull request from your forked repository back to the original repository to propose your changes.\n",
    "\n",
    "\n",
    "##### **github code review**\n",
    "\n",
    "**Create a New Branch:**\n",
    "- Start by creating a new branch from your main branch (usually main or master).\n",
    "- Make your changes or implement the new feature in this branch.\n",
    "\n",
    "\n",
    "`git checkout -b my-feature-branch\n",
    "`     \n",
    "\n",
    "**Commit Your Changes:**\n",
    "\n",
    "After making the necessary changes, commit them to your branch.\n",
    "\n",
    "`git add .`\n",
    "`git commit -m \"Implemented feature X\"`\n",
    "\n",
    "     \n",
    "**Push the Branch to Your Repository:**\n",
    "**Push the new branch to your remote repository.**\n",
    "\n",
    "`git push origin my-feature-branch\n",
    "`\n",
    "     \n",
    "**Create a Pull Request:**\n",
    "\n",
    "- Go to your repository on GitHub.\n",
    "- You’ll see an option to create a pull request for the branch you just pushed. Click on it and fill in the PR details.\n",
    "\n",
    "**Review your code:\n",
    "**\n",
    "Once the pull request is created, you can review your changes in the PR interface. This allows you to see a diff of your changes, add comments, and reflect on the code as if you were a reviewer.\n",
    "\n",
    "- explore the code\n",
    "\n",
    "- is there anything you are particularly interested in? they used a different color? you dont understand something? you would like to know more about their choices?\n",
    "\n",
    "You can also take advantage of any automated tests, linting, or CI/CD pipelines you have set up to validate your changes.\n",
    "\n",
    "**Approve and merge the PR:\n",
    "**\n",
    "If you’re satisfied with the review, you can approve and merge the pull request. Alternatively, you can make further changes by pushing additional commits to the same branch.\n",
    "\n",
    "After merging, you can delete the branch if it’s no longer needed.\n",
    "\n",
    "\n",
    "\n",
    "\n"
   ]
  },
  {
   "cell_type": "markdown",
   "metadata": {},
   "source": [
    "#### Exercise 6: Pair programming \n",
    "\n",
    "The task is to show firespost on a map using plotly with OpenStreetMap\n",
    "\n",
    "- with the same dataset, now show the firesposts in a map\n",
    "- you already have access to the data latitude and longitud\n",
    "- since we want to show the data on a map, you will need to use a library that lets you do this in an easy, straighfoward way - matplotlib has geopandas but there are also other libraries \n",
    "- let's use plotly.express   > particularly useful for generating quick, interactive plots with minimal code.\n",
    "- you will need to install plotly\n",
    "\n",
    "- check the documentation for guide \n",
    "[https://plotly.com/python/mapbox-density-heatmaps/](https://plotly.com/python/mapbox-density-heatmaps/)\n"
   ]
  },
  {
   "cell_type": "code",
   "execution_count": null,
   "metadata": {},
   "outputs": [],
   "source": [
    "#import libraries\n",
    "\n",
    "\n",
    "#load data\n",
    "\n",
    "#create density mapbox\n",
    "\n",
    "\n",
    "#display map"
   ]
  },
  {
   "cell_type": "markdown",
   "metadata": {},
   "source": []
  }
 ],
 "metadata": {
  "kernelspec": {
   "display_name": "Python 3",
   "language": "python",
   "name": "python3"
  },
  "language_info": {
   "codemirror_mode": {
    "name": "ipython",
    "version": 3
   },
   "file_extension": ".py",
   "mimetype": "text/x-python",
   "name": "python",
   "nbconvert_exporter": "python",
   "pygments_lexer": "ipython3",
   "version": "3.11.9"
  }
 },
 "nbformat": 4,
 "nbformat_minor": 2
}
